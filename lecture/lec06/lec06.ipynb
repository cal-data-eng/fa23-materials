{
 "cells": [
  {
   "cell_type": "markdown",
   "id": "ef67ff30",
   "metadata": {},
   "source": [
    "# Lecture 06"
   ]
  },
  {
   "cell_type": "code",
   "execution_count": 1,
   "id": "14aae7e8",
   "metadata": {},
   "outputs": [],
   "source": [
    "# Run this cell to set up imports\n",
    "import numpy as np\n",
    "import pandas as pd"
   ]
  },
  {
   "cell_type": "code",
   "execution_count": 2,
   "id": "37af279c",
   "metadata": {},
   "outputs": [
    {
     "name": "stdout",
     "output_type": "stream",
     "text": [
      "\u001b[33mThere's a new jupysql version available (0.10.1), you're running 0.10.0. To upgrade: pip install jupysql --upgrade\u001b[0m\n"
     ]
    }
   ],
   "source": [
    "%reload_ext sql"
   ]
  },
  {
   "cell_type": "code",
   "execution_count": 3,
   "id": "83c8ef18",
   "metadata": {},
   "outputs": [],
   "source": [
    "%sql postgresql://127.0.0.1:5432/postgres"
   ]
  },
  {
   "cell_type": "markdown",
   "id": "3af27072",
   "metadata": {},
   "source": [
    "# Manager demo"
   ]
  },
  {
   "cell_type": "markdown",
   "id": "2f894bf4",
   "metadata": {},
   "source": [
    "Creating the manager relation"
   ]
  },
  {
   "cell_type": "code",
   "execution_count": 4,
   "id": "810671a3",
   "metadata": {},
   "outputs": [
    {
     "data": {
      "text/html": [
       "<span style=\"None\">Running query in &#x27;postgresql://127.0.0.1:5432/postgres&#x27;</span>"
      ],
      "text/plain": [
       "Running query in 'postgresql://127.0.0.1:5432/postgres'"
      ]
     },
     "metadata": {},
     "output_type": "display_data"
    },
    {
     "data": {
      "text/html": [
       "<table>\n",
       "    <thead>\n",
       "        <tr>\n",
       "        </tr>\n",
       "    </thead>\n",
       "    <tbody>\n",
       "    </tbody>\n",
       "</table>"
      ],
      "text/plain": [
       "++\n",
       "||\n",
       "++\n",
       "++"
      ]
     },
     "execution_count": 4,
     "metadata": {},
     "output_type": "execute_result"
    }
   ],
   "source": [
    "%sql DROP TABLE IF EXISTS Manager;"
   ]
  },
  {
   "cell_type": "code",
   "execution_count": 5,
   "id": "4d61639c",
   "metadata": {},
   "outputs": [
    {
     "data": {
      "text/html": [
       "<span style=\"None\">Running query in &#x27;postgresql://127.0.0.1:5432/postgres&#x27;</span>"
      ],
      "text/plain": [
       "Running query in 'postgresql://127.0.0.1:5432/postgres'"
      ]
     },
     "metadata": {},
     "output_type": "display_data"
    },
    {
     "data": {
      "text/html": [
       "<table>\n",
       "    <thead>\n",
       "        <tr>\n",
       "            <th>manager_name</th>\n",
       "            <th>age</th>\n",
       "            <th>manager_id</th>\n",
       "        </tr>\n",
       "    </thead>\n",
       "    <tbody>\n",
       "    </tbody>\n",
       "</table>"
      ],
      "text/plain": [
       "+--------------+-----+------------+\n",
       "| manager_name | age | manager_id |\n",
       "+--------------+-----+------------+\n",
       "+--------------+-----+------------+"
      ]
     },
     "execution_count": 5,
     "metadata": {},
     "output_type": "execute_result"
    }
   ],
   "source": [
    "%%sql\n",
    "CREATE TABLE Manager (\n",
    "    manager_name VARCHAR(20),\n",
    "    age INTEGER DEFAULT 50,\n",
    "    manager_id CHAR(4),\n",
    "    PRIMARY KEY (manager_id),\n",
    "    UNIQUE (manager_name)\n",
    ");\n",
    "\n",
    "\n",
    "/***********/\n",
    "SELECT * FROM Manager;"
   ]
  },
  {
   "cell_type": "markdown",
   "id": "d21cd8d4",
   "metadata": {},
   "source": [
    "<br/><br/><br/>\n",
    "\n",
    "Add a tuple (success)"
   ]
  },
  {
   "cell_type": "code",
   "execution_count": null,
   "id": "426986ff",
   "metadata": {},
   "outputs": [],
   "source": [
    "%%sql\n",
    "INSERT INTO Manager\n",
    "    (age, manager_id)\n",
    "VALUES\n",
    "    (23, 'sd45')\n",
    ";\n",
    "\n",
    "/***********/\n",
    "SELECT * FROM Manager;"
   ]
  },
  {
   "cell_type": "markdown",
   "id": "096c1fe8",
   "metadata": {},
   "source": [
    "<br/><br/><br/>\n",
    "\n",
    "Add a tuple (failure)"
   ]
  },
  {
   "cell_type": "code",
   "execution_count": null,
   "id": "4664c6f3",
   "metadata": {},
   "outputs": [],
   "source": [
    "%%sql\n",
    "INSERT INTO Manager\n",
    "    (manager_name, age)\n",
    "VALUES\n",
    "    ('John Smith', 123);\n",
    "    \n",
    "/***********/\n",
    "SELECT * FROM Manager;"
   ]
  },
  {
   "cell_type": "markdown",
   "id": "61969288",
   "metadata": {},
   "source": [
    "<br/><br/><br/>\n",
    "\n",
    "Change schema: add attributes"
   ]
  },
  {
   "cell_type": "code",
   "execution_count": null,
   "id": "eab4abff",
   "metadata": {},
   "outputs": [],
   "source": [
    "%%sql\n",
    "ALTER TABLE Manager \n",
    "ADD address VARCHAR (20),\n",
    "ADD income REAL DEFAULT 10000.0;\n",
    "\n",
    "/***********/\n",
    "SELECT * FROM Manager;"
   ]
  },
  {
   "cell_type": "markdown",
   "id": "91648cfe",
   "metadata": {},
   "source": [
    "<br/><br/><br/>\n",
    "\n",
    "Change schema: drop attributes"
   ]
  },
  {
   "cell_type": "code",
   "execution_count": null,
   "id": "b39b1f19",
   "metadata": {},
   "outputs": [],
   "source": [
    "%%sql\n",
    "ALTER TABLE Manager\n",
    "DROP address,\n",
    "DROP income;\n",
    "\n",
    "/***********/\n",
    "SELECT * FROM Manager;"
   ]
  },
  {
   "cell_type": "markdown",
   "id": "69f6701d",
   "metadata": {},
   "source": [
    "<br/><br/><br/>\n",
    "\n",
    "Delete the relation entirely"
   ]
  },
  {
   "cell_type": "code",
   "execution_count": null,
   "id": "0716a1de",
   "metadata": {},
   "outputs": [],
   "source": [
    "%%sql\n",
    "DROP TABLE Manager;"
   ]
  },
  {
   "cell_type": "code",
   "execution_count": null,
   "id": "e02e5451",
   "metadata": {},
   "outputs": [],
   "source": [
    "%sql\n",
    "/***********/\n",
    "SELECT * FROM Manager;"
   ]
  },
  {
   "cell_type": "code",
   "execution_count": null,
   "id": "8c0940ee",
   "metadata": {},
   "outputs": [],
   "source": [
    "%%sql\n",
    "DROP TABLE IF EXISTS Stops;\n",
    "CREATE TABLE Stops(\n",
    "  stopID BIGSERIAL,\n",
    "  personID INTEGER,\n",
    "  stopTime TIMESTAMP, \n",
    "  race VARCHAR(10),\n",
    "  location VARCHAR(20), \n",
    "  age INTEGER, \n",
    "  PRIMARY KEY (stopID),\n",
    "  UNIQUE (personID, stopTime)\n",
    ");\n"
   ]
  },
  {
   "cell_type": "code",
   "execution_count": null,
   "id": "3ecb9758",
   "metadata": {},
   "outputs": [],
   "source": [
    "%%sql\n",
    "INSERT INTO Stops\n",
    "    (personID, stopTime)\n",
    "VALUES\n",
    "    (NULL, NULL)\n",
    ";\n",
    "SELECT * FROM Stops;"
   ]
  },
  {
   "cell_type": "markdown",
   "id": "251e2c06",
   "metadata": {},
   "source": [
    "## Actor/Cast_info"
   ]
  },
  {
   "cell_type": "code",
   "execution_count": null,
   "id": "e7ec09fd",
   "metadata": {},
   "outputs": [],
   "source": [
    "%reload_ext sql"
   ]
  },
  {
   "cell_type": "code",
   "execution_count": null,
   "id": "02f2cc64",
   "metadata": {},
   "outputs": [],
   "source": [
    "%sql postgresql://127.0.0.1:5432/postgres"
   ]
  },
  {
   "cell_type": "code",
   "execution_count": null,
   "id": "55fae2dc",
   "metadata": {},
   "outputs": [],
   "source": [
    "%%sql\n",
    "DROP TABLE IF EXISTS Actor CASCADE;\n",
    "DROP TABLE IF EXISTS Movie CASCADE;\n",
    "DROP TABLE IF EXISTS Cast_info;\n",
    "\n",
    "CREATE TABLE Actor (\n",
    "  id INTEGER,\n",
    "  name TEXT,\n",
    "  PRIMARY KEY(id)\n",
    "); \n",
    "\n",
    "CREATE TABLE Movie (\n",
    "  id INTEGER,\n",
    "  title TEXT,\n",
    "  PRIMARY KEY(id)\n",
    "); \n",
    "\n",
    "CREATE TABLE Cast_info (\n",
    "  person_id INTEGER,\n",
    "  movie_id INTEGER, \n",
    "  FOREIGN KEY (person_id)\n",
    "    REFERENCES Actor (id)\n",
    "    ON DELETE SET NULL\n",
    "    ON UPDATE CASCADE,\n",
    "  FOREIGN KEY (movie_id)\n",
    "    REFERENCES Movie (id)\n",
    "    ON DELETE SET NULL);\n",
    "\n",
    "INSERT INTO Actor VALUES\n",
    "    (1, 'Tom Hanks'),\n",
    "    (3, 'Michelle Yeoh')\n",
    ";\n",
    "\n",
    "INSERT INTO Movie VALUES\n",
    "    (23, 'Forrest Gump'),\n",
    "    (45, 'Tomorrow Never Dies')\n",
    ";\n",
    "\n",
    "INSERT INTO Cast_info VALUES\n",
    "    (1, 23),\n",
    "    (3, 45)\n",
    ";"
   ]
  },
  {
   "cell_type": "code",
   "execution_count": null,
   "id": "d9f0e146",
   "metadata": {},
   "outputs": [],
   "source": [
    "%%sql\n",
    "SELECT * FROM Cast_info;"
   ]
  },
  {
   "cell_type": "markdown",
   "id": "a69a6867",
   "metadata": {},
   "source": [
    "A. What if we… Delete a tuple from Actor corresponding to id = 1?"
   ]
  },
  {
   "cell_type": "code",
   "execution_count": null,
   "id": "a66d8768",
   "metadata": {},
   "outputs": [],
   "source": [
    "%%sql\n",
    "DELETE FROM Actor\n",
    "WHERE id = 1;"
   ]
  },
  {
   "cell_type": "code",
   "execution_count": null,
   "id": "c55b1108",
   "metadata": {},
   "outputs": [],
   "source": [
    "%%sql\n",
    "SELECT * FROM Cast_info;"
   ]
  },
  {
   "cell_type": "markdown",
   "id": "e6f75f12",
   "metadata": {},
   "source": [
    "(note: reset table layout for each choice)\n",
    "\n",
    "B. Change a tuple in Actor from id = 1 to id = 2?"
   ]
  },
  {
   "cell_type": "code",
   "execution_count": null,
   "id": "ba7734f8",
   "metadata": {},
   "outputs": [],
   "source": [
    "%%sql\n",
    "UPDATE Actor\n",
    "SET id = 2\n",
    "WHERE id = 1;"
   ]
  },
  {
   "cell_type": "code",
   "execution_count": null,
   "id": "de674270",
   "metadata": {},
   "outputs": [],
   "source": [
    "%%sql\n",
    "SELECT * FROM Actor;"
   ]
  },
  {
   "cell_type": "code",
   "execution_count": null,
   "id": "a6e152e6",
   "metadata": {},
   "outputs": [],
   "source": [
    "%%sql\n",
    "SELECT * FROM Cast_info;"
   ]
  },
  {
   "cell_type": "markdown",
   "id": "1cef07ec",
   "metadata": {},
   "source": [
    "C. Delete a tuple from Movie corresponding to id = 23?"
   ]
  },
  {
   "cell_type": "code",
   "execution_count": null,
   "id": "5c4a2519",
   "metadata": {},
   "outputs": [],
   "source": [
    "%%sql\n",
    "DELETE FROM Movie\n",
    "WHERE id = 23;"
   ]
  },
  {
   "cell_type": "code",
   "execution_count": null,
   "id": "69a709c3",
   "metadata": {},
   "outputs": [],
   "source": [
    "%%sql\n",
    "SELECT * FROM Cast_info;"
   ]
  },
  {
   "cell_type": "markdown",
   "id": "c2f011a2",
   "metadata": {},
   "source": [
    "D. Change a tuple in Movie from id = 23 to id = 24?"
   ]
  },
  {
   "cell_type": "code",
   "execution_count": null,
   "id": "6584534a",
   "metadata": {},
   "outputs": [],
   "source": [
    "%%sql\n",
    "UPDATE Movie\n",
    "SET id = 24\n",
    "WHERE id = 23;"
   ]
  },
  {
   "cell_type": "markdown",
   "id": "a473564f",
   "metadata": {},
   "source": [
    "E. Insert a tuple into Cast_info that adds a new person_id not found in Actor?"
   ]
  },
  {
   "cell_type": "code",
   "execution_count": null,
   "id": "00ceb3a0",
   "metadata": {},
   "outputs": [],
   "source": [
    "%%sql\n",
    "INSERT INTO Cast_info VALUES\n",
    "    (467, 23)\n",
    ";"
   ]
  },
  {
   "cell_type": "code",
   "execution_count": null,
   "id": "e811d58b",
   "metadata": {},
   "outputs": [],
   "source": []
  }
 ],
 "metadata": {
  "kernelspec": {
   "display_name": "Python 3 (ipykernel)",
   "language": "python",
   "name": "python3"
  },
  "language_info": {
   "codemirror_mode": {
    "name": "ipython",
    "version": 3
   },
   "file_extension": ".py",
   "mimetype": "text/x-python",
   "name": "python",
   "nbconvert_exporter": "python",
   "pygments_lexer": "ipython3",
   "version": "3.11.0"
  }
 },
 "nbformat": 4,
 "nbformat_minor": 5
}
