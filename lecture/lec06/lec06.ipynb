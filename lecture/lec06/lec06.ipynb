{
 "cells": [
  {
   "cell_type": "markdown",
   "id": "ef67ff30",
   "metadata": {},
   "source": [
    "# Lecture 06"
   ]
  },
  {
   "cell_type": "code",
   "execution_count": 1,
   "id": "14aae7e8",
   "metadata": {},
   "outputs": [],
   "source": [
    "# Run this cell to set up imports\n",
    "import numpy as np\n",
    "import pandas as pd"
   ]
  },
  {
   "cell_type": "code",
   "execution_count": 2,
   "id": "37af279c",
   "metadata": {},
   "outputs": [],
   "source": [
    "%reload_ext sql"
   ]
  },
  {
   "cell_type": "code",
   "execution_count": 3,
   "id": "83c8ef18",
   "metadata": {},
   "outputs": [],
   "source": [
    "%sql postgresql://127.0.0.1:5432/postgres"
   ]
  },
  {
   "cell_type": "markdown",
   "id": "3af27072",
   "metadata": {},
   "source": [
    "# Manager demo"
   ]
  },
  {
   "cell_type": "markdown",
   "id": "2f894bf4",
   "metadata": {},
   "source": [
    "Creating the manager relation"
   ]
  },
  {
   "cell_type": "code",
   "execution_count": 3,
   "id": "810671a3",
   "metadata": {},
   "outputs": [
    {
     "data": {
      "text/html": [
       "<span style=\"None\">Running query in &#x27;postgresql://127.0.0.1:5432/postgres&#x27;</span>"
      ],
      "text/plain": [
       "Running query in 'postgresql://127.0.0.1:5432/postgres'"
      ]
     },
     "metadata": {},
     "output_type": "display_data"
    },
    {
     "data": {
      "text/html": [
       "<table>\n",
       "    <thead>\n",
       "        <tr>\n",
       "        </tr>\n",
       "    </thead>\n",
       "    <tbody>\n",
       "    </tbody>\n",
       "</table>"
      ],
      "text/plain": [
       "++\n",
       "||\n",
       "++\n",
       "++"
      ]
     },
     "execution_count": 3,
     "metadata": {},
     "output_type": "execute_result"
    }
   ],
   "source": [
    "%sql DROP TABLE IF EXISTS Manager;"
   ]
  },
  {
   "cell_type": "code",
   "execution_count": 5,
   "id": "4d61639c",
   "metadata": {},
   "outputs": [
    {
     "data": {
      "text/html": [
       "<span style=\"None\">Running query in &#x27;postgresql://127.0.0.1:5432/postgres&#x27;</span>"
      ],
      "text/plain": [
       "Running query in 'postgresql://127.0.0.1:5432/postgres'"
      ]
     },
     "metadata": {},
     "output_type": "display_data"
    },
    {
     "data": {
      "text/html": [
       "<table>\n",
       "    <thead>\n",
       "        <tr>\n",
       "            <th>manager_name</th>\n",
       "            <th>age</th>\n",
       "            <th>manager_id</th>\n",
       "        </tr>\n",
       "    </thead>\n",
       "    <tbody>\n",
       "    </tbody>\n",
       "</table>"
      ],
      "text/plain": [
       "+--------------+-----+------------+\n",
       "| manager_name | age | manager_id |\n",
       "+--------------+-----+------------+\n",
       "+--------------+-----+------------+"
      ]
     },
     "execution_count": 5,
     "metadata": {},
     "output_type": "execute_result"
    }
   ],
   "source": [
    "%%sql\n",
    "CREATE TABLE Manager (\n",
    "    manager_name VARCHAR(20),\n",
    "    age INTEGER DEFAULT 50,\n",
    "    manager_id CHAR(4),\n",
    "    PRIMARY KEY (manager_id),\n",
    "    UNIQUE (manager_name)\n",
    ");\n",
    "\n",
    "\n",
    "/***********/\n",
    "SELECT * FROM Manager;"
   ]
  },
  {
   "cell_type": "markdown",
   "id": "d21cd8d4",
   "metadata": {},
   "source": [
    "<br/><br/><br/>\n",
    "\n",
    "Add a tuple (success)"
   ]
  },
  {
   "cell_type": "code",
   "execution_count": 7,
   "id": "426986ff",
   "metadata": {},
   "outputs": [
    {
     "data": {
      "text/html": [
       "<span style=\"None\">Running query in &#x27;postgresql://127.0.0.1:5432/postgres&#x27;</span>"
      ],
      "text/plain": [
       "Running query in 'postgresql://127.0.0.1:5432/postgres'"
      ]
     },
     "metadata": {},
     "output_type": "display_data"
    },
    {
     "data": {
      "text/html": [
       "<span style=\"color: green\">2 rows affected.</span>"
      ],
      "text/plain": [
       "2 rows affected."
      ]
     },
     "metadata": {},
     "output_type": "display_data"
    },
    {
     "data": {
      "text/html": [
       "<span style=\"color: green\">2 rows affected.</span>"
      ],
      "text/plain": [
       "2 rows affected."
      ]
     },
     "metadata": {},
     "output_type": "display_data"
    },
    {
     "data": {
      "text/html": [
       "<table>\n",
       "    <thead>\n",
       "        <tr>\n",
       "            <th>manager_name</th>\n",
       "            <th>age</th>\n",
       "            <th>manager_id</th>\n",
       "        </tr>\n",
       "    </thead>\n",
       "    <tbody>\n",
       "        <tr>\n",
       "            <td>None</td>\n",
       "            <td>23</td>\n",
       "            <td>sd45</td>\n",
       "        </tr>\n",
       "        <tr>\n",
       "            <td>None</td>\n",
       "            <td>23</td>\n",
       "            <td>AB  </td>\n",
       "        </tr>\n",
       "    </tbody>\n",
       "</table>"
      ],
      "text/plain": [
       "+--------------+-----+------------+\n",
       "| manager_name | age | manager_id |\n",
       "+--------------+-----+------------+\n",
       "|     None     |  23 |    sd45    |\n",
       "|     None     |  23 |    AB      |\n",
       "+--------------+-----+------------+"
      ]
     },
     "execution_count": 7,
     "metadata": {},
     "output_type": "execute_result"
    }
   ],
   "source": [
    "%%sql\n",
    "INSERT INTO Manager\n",
    "    (age, manager_id)\n",
    "VALUES\n",
    "    (23, 'sd45'),\n",
    "    (23, 'AB')\n",
    ";\n",
    "\n",
    "/***********/\n",
    "SELECT * FROM Manager;"
   ]
  },
  {
   "cell_type": "markdown",
   "id": "096c1fe8",
   "metadata": {},
   "source": [
    "<br/><br/><br/>\n",
    "\n",
    "Add a tuple (failure)"
   ]
  },
  {
   "cell_type": "code",
   "execution_count": 8,
   "id": "4664c6f3",
   "metadata": {},
   "outputs": [
    {
     "data": {
      "text/html": [
       "<span style=\"None\">Running query in &#x27;postgresql://127.0.0.1:5432/postgres&#x27;</span>"
      ],
      "text/plain": [
       "Running query in 'postgresql://127.0.0.1:5432/postgres'"
      ]
     },
     "metadata": {},
     "output_type": "display_data"
    },
    {
     "name": "stderr",
     "output_type": "stream",
     "text": [
      "RuntimeError: (psycopg2.errors.NotNullViolation) null value in column \"manager_id\" of relation \"manager\" violates not-null constraint\n",
      "DETAIL:  Failing row contains (John Smith, 123, null).\n",
      "\n",
      "[SQL: INSERT INTO Manager\n",
      "    (manager_name, age)\n",
      "VALUES\n",
      "    ('John Smith', 123);]\n",
      "(Background on this error at: https://sqlalche.me/e/20/gkpj)\n",
      "If you need help solving this issue, send us a message: https://ploomber.io/community\n"
     ]
    }
   ],
   "source": [
    "%%sql\n",
    "INSERT INTO Manager\n",
    "    (manager_name, age)\n",
    "VALUES\n",
    "    ('John Smith', 123);\n",
    "    \n",
    "/***********/\n",
    "SELECT * FROM Manager;"
   ]
  },
  {
   "cell_type": "markdown",
   "id": "61969288",
   "metadata": {},
   "source": [
    "<br/><br/><br/>\n",
    "\n",
    "Change schema: add attributes"
   ]
  },
  {
   "cell_type": "code",
   "execution_count": 18,
   "id": "eab4abff",
   "metadata": {},
   "outputs": [
    {
     "data": {
      "text/html": [
       "<span style=\"None\">Running query in &#x27;postgresql://127.0.0.1:5432/postgres&#x27;</span>"
      ],
      "text/plain": [
       "Running query in 'postgresql://127.0.0.1:5432/postgres'"
      ]
     },
     "metadata": {},
     "output_type": "display_data"
    },
    {
     "data": {
      "text/html": [
       "<span style=\"color: green\">4 rows affected.</span>"
      ],
      "text/plain": [
       "4 rows affected."
      ]
     },
     "metadata": {},
     "output_type": "display_data"
    },
    {
     "data": {
      "text/html": [
       "<table>\n",
       "    <thead>\n",
       "        <tr>\n",
       "            <th>manager_name</th>\n",
       "            <th>age</th>\n",
       "            <th>manager_id</th>\n",
       "            <th>address</th>\n",
       "            <th>income</th>\n",
       "        </tr>\n",
       "    </thead>\n",
       "    <tbody>\n",
       "        <tr>\n",
       "            <td>None</td>\n",
       "            <td>23</td>\n",
       "            <td>sd45</td>\n",
       "            <td>None</td>\n",
       "            <td>1000000.0</td>\n",
       "        </tr>\n",
       "        <tr>\n",
       "            <td>None</td>\n",
       "            <td>23</td>\n",
       "            <td>sd45</td>\n",
       "            <td>None</td>\n",
       "            <td>1000000.0</td>\n",
       "        </tr>\n",
       "        <tr>\n",
       "            <td>None</td>\n",
       "            <td>23</td>\n",
       "            <td>AB  </td>\n",
       "            <td>None</td>\n",
       "            <td>1000000.0</td>\n",
       "        </tr>\n",
       "        <tr>\n",
       "            <td>John Smith</td>\n",
       "            <td>123</td>\n",
       "            <td>None</td>\n",
       "            <td>None</td>\n",
       "            <td>1000000.0</td>\n",
       "        </tr>\n",
       "    </tbody>\n",
       "</table>"
      ],
      "text/plain": [
       "+--------------+-----+------------+---------+-----------+\n",
       "| manager_name | age | manager_id | address |   income  |\n",
       "+--------------+-----+------------+---------+-----------+\n",
       "|     None     |  23 |    sd45    |   None  | 1000000.0 |\n",
       "|     None     |  23 |    sd45    |   None  | 1000000.0 |\n",
       "|     None     |  23 |    AB      |   None  | 1000000.0 |\n",
       "|  John Smith  | 123 |    None    |   None  | 1000000.0 |\n",
       "+--------------+-----+------------+---------+-----------+"
      ]
     },
     "execution_count": 18,
     "metadata": {},
     "output_type": "execute_result"
    }
   ],
   "source": [
    "%%sql\n",
    "ALTER TABLE Manager\n",
    "DROP address,\n",
    "DROP income,\n",
    "ADD address VARCHAR (20),\n",
    "ADD income REAL DEFAULT 1000000.0;\n",
    "\n",
    "/***********/\n",
    "SELECT * FROM Manager;"
   ]
  },
  {
   "cell_type": "markdown",
   "id": "333ca83b-a5d1-441b-b452-c7233774ed35",
   "metadata": {},
   "source": [
    "What if we want to add a timestamp?"
   ]
  },
  {
   "cell_type": "code",
   "execution_count": 19,
   "id": "f131e6ac-2757-470a-b878-199276d73e5d",
   "metadata": {},
   "outputs": [
    {
     "data": {
      "text/html": [
       "<span style=\"None\">Running query in &#x27;postgresql://127.0.0.1:5432/postgres&#x27;</span>"
      ],
      "text/plain": [
       "Running query in 'postgresql://127.0.0.1:5432/postgres'"
      ]
     },
     "metadata": {},
     "output_type": "display_data"
    },
    {
     "data": {
      "text/html": [
       "<table>\n",
       "    <thead>\n",
       "        <tr>\n",
       "        </tr>\n",
       "    </thead>\n",
       "    <tbody>\n",
       "    </tbody>\n",
       "</table>"
      ],
      "text/plain": [
       "++\n",
       "||\n",
       "++\n",
       "++"
      ]
     },
     "execution_count": 19,
     "metadata": {},
     "output_type": "execute_result"
    }
   ],
   "source": [
    "%%sql\n",
    "ALTER TABLE Manager\n",
    "    ADD time_in TIME;"
   ]
  },
  {
   "cell_type": "code",
   "execution_count": 22,
   "id": "f85bce3d-a2c8-4bcc-9d9b-da21144f382b",
   "metadata": {},
   "outputs": [
    {
     "data": {
      "text/html": [
       "<span style=\"None\">Running query in &#x27;postgresql://127.0.0.1:5432/postgres&#x27;</span>"
      ],
      "text/plain": [
       "Running query in 'postgresql://127.0.0.1:5432/postgres'"
      ]
     },
     "metadata": {},
     "output_type": "display_data"
    },
    {
     "name": "stderr",
     "output_type": "stream",
     "text": [
      "RuntimeError: (psycopg2.errors.InvalidDatetimeFormat) invalid input syntax for type time: \"13 10-00\"\n",
      "LINE 2: ('13 10-00')\n",
      "         ^\n",
      "\n",
      "[SQL: INSERT INTO Manager(time_in) VALUES\n",
      "('13 10-00')\n",
      ";]\n",
      "(Background on this error at: https://sqlalche.me/e/20/9h9h)\n",
      "If you need help solving this issue, send us a message: https://ploomber.io/community\n"
     ]
    }
   ],
   "source": [
    "%%sql\n",
    "INSERT INTO Manager(time_in) VALUES\n",
    "('13:10:00')\n",
    ";"
   ]
  },
  {
   "cell_type": "code",
   "execution_count": 21,
   "id": "34c71d99-f9c8-40a1-899c-a1359bb6bf3b",
   "metadata": {},
   "outputs": [
    {
     "data": {
      "text/html": [
       "<span style=\"None\">Running query in &#x27;postgresql://127.0.0.1:5432/postgres&#x27;</span>"
      ],
      "text/plain": [
       "Running query in 'postgresql://127.0.0.1:5432/postgres'"
      ]
     },
     "metadata": {},
     "output_type": "display_data"
    },
    {
     "data": {
      "text/html": [
       "<span style=\"color: green\">5 rows affected.</span>"
      ],
      "text/plain": [
       "5 rows affected."
      ]
     },
     "metadata": {},
     "output_type": "display_data"
    },
    {
     "data": {
      "text/html": [
       "<table>\n",
       "    <thead>\n",
       "        <tr>\n",
       "            <th>manager_name</th>\n",
       "            <th>age</th>\n",
       "            <th>manager_id</th>\n",
       "            <th>address</th>\n",
       "            <th>income</th>\n",
       "            <th>time_in</th>\n",
       "        </tr>\n",
       "    </thead>\n",
       "    <tbody>\n",
       "        <tr>\n",
       "            <td>None</td>\n",
       "            <td>23</td>\n",
       "            <td>sd45</td>\n",
       "            <td>None</td>\n",
       "            <td>1000000.0</td>\n",
       "            <td>None</td>\n",
       "        </tr>\n",
       "        <tr>\n",
       "            <td>None</td>\n",
       "            <td>23</td>\n",
       "            <td>sd45</td>\n",
       "            <td>None</td>\n",
       "            <td>1000000.0</td>\n",
       "            <td>None</td>\n",
       "        </tr>\n",
       "        <tr>\n",
       "            <td>None</td>\n",
       "            <td>23</td>\n",
       "            <td>AB  </td>\n",
       "            <td>None</td>\n",
       "            <td>1000000.0</td>\n",
       "            <td>None</td>\n",
       "        </tr>\n",
       "        <tr>\n",
       "            <td>John Smith</td>\n",
       "            <td>123</td>\n",
       "            <td>None</td>\n",
       "            <td>None</td>\n",
       "            <td>1000000.0</td>\n",
       "            <td>None</td>\n",
       "        </tr>\n",
       "        <tr>\n",
       "            <td>None</td>\n",
       "            <td>50</td>\n",
       "            <td>None</td>\n",
       "            <td>None</td>\n",
       "            <td>1000000.0</td>\n",
       "            <td>13:10:00</td>\n",
       "        </tr>\n",
       "    </tbody>\n",
       "</table>"
      ],
      "text/plain": [
       "+--------------+-----+------------+---------+-----------+----------+\n",
       "| manager_name | age | manager_id | address |   income  | time_in  |\n",
       "+--------------+-----+------------+---------+-----------+----------+\n",
       "|     None     |  23 |    sd45    |   None  | 1000000.0 |   None   |\n",
       "|     None     |  23 |    sd45    |   None  | 1000000.0 |   None   |\n",
       "|     None     |  23 |    AB      |   None  | 1000000.0 |   None   |\n",
       "|  John Smith  | 123 |    None    |   None  | 1000000.0 |   None   |\n",
       "|     None     |  50 |    None    |   None  | 1000000.0 | 13:10:00 |\n",
       "+--------------+-----+------------+---------+-----------+----------+"
      ]
     },
     "execution_count": 21,
     "metadata": {},
     "output_type": "execute_result"
    }
   ],
   "source": [
    "%sql SELECT * FROM Manager;"
   ]
  },
  {
   "cell_type": "markdown",
   "id": "91648cfe",
   "metadata": {},
   "source": [
    "<br/><br/><br/>\n",
    "\n",
    "Change schema: drop attributes"
   ]
  },
  {
   "cell_type": "code",
   "execution_count": null,
   "id": "b39b1f19",
   "metadata": {},
   "outputs": [],
   "source": [
    "%%sql\n",
    "ALTER TABLE Manager\n",
    "DROP address,\n",
    "DROP income;\n",
    "\n",
    "/***********/\n",
    "SELECT * FROM Manager;"
   ]
  },
  {
   "cell_type": "markdown",
   "id": "69f6701d",
   "metadata": {},
   "source": [
    "<br/><br/><br/>\n",
    "\n",
    "Delete the relation entirely"
   ]
  },
  {
   "cell_type": "code",
   "execution_count": null,
   "id": "0716a1de",
   "metadata": {},
   "outputs": [],
   "source": [
    "%%sql\n",
    "DROP TABLE Manager;"
   ]
  },
  {
   "cell_type": "code",
   "execution_count": null,
   "id": "e02e5451",
   "metadata": {},
   "outputs": [],
   "source": [
    "%sql\n",
    "/***********/\n",
    "SELECT * FROM Manager;"
   ]
  },
  {
   "cell_type": "code",
   "execution_count": 19,
   "id": "8c0940ee",
   "metadata": {},
   "outputs": [
    {
     "data": {
      "text/html": [
       "<span style=\"None\">Running query in &#x27;postgresql://127.0.0.1:5432/postgres&#x27;</span>"
      ],
      "text/plain": [
       "Running query in 'postgresql://127.0.0.1:5432/postgres'"
      ]
     },
     "metadata": {},
     "output_type": "display_data"
    },
    {
     "data": {
      "text/html": [
       "<table>\n",
       "    <thead>\n",
       "        <tr>\n",
       "        </tr>\n",
       "    </thead>\n",
       "    <tbody>\n",
       "    </tbody>\n",
       "</table>"
      ],
      "text/plain": [
       "++\n",
       "||\n",
       "++\n",
       "++"
      ]
     },
     "execution_count": 19,
     "metadata": {},
     "output_type": "execute_result"
    }
   ],
   "source": [
    "%%sql\n",
    "DROP TABLE IF EXISTS Stops;\n",
    "CREATE TABLE Stops(\n",
    "  stopID INTEGER,\n",
    "  personID INTEGER,\n",
    "  stopTime TIMESTAMP,\n",
    "  race VARCHAR(10),\n",
    "  location VARCHAR(20) NOT NULL, \n",
    "  age INTEGER,\n",
    "  arrest BOOLEAN DEFAULT False, \n",
    "  PRIMARY KEY (stopID),\n",
    "  UNIQUE (personID, stopTime)\n",
    "  );\n"
   ]
  },
  {
   "cell_type": "code",
   "execution_count": 20,
   "id": "217bf0d7-c61a-471e-9691-030140c5b3f5",
   "metadata": {},
   "outputs": [
    {
     "data": {
      "text/html": [
       "<span style=\"None\">Running query in &#x27;postgresql://127.0.0.1:5432/postgres&#x27;</span>"
      ],
      "text/plain": [
       "Running query in 'postgresql://127.0.0.1:5432/postgres'"
      ]
     },
     "metadata": {},
     "output_type": "display_data"
    },
    {
     "data": {
      "text/html": [
       "<table>\n",
       "    <thead>\n",
       "        <tr>\n",
       "            <th>stopid</th>\n",
       "            <th>personid</th>\n",
       "            <th>stoptime</th>\n",
       "            <th>race</th>\n",
       "            <th>location</th>\n",
       "            <th>age</th>\n",
       "            <th>arrest</th>\n",
       "        </tr>\n",
       "    </thead>\n",
       "    <tbody>\n",
       "    </tbody>\n",
       "</table>"
      ],
      "text/plain": [
       "+--------+----------+----------+------+----------+-----+--------+\n",
       "| stopid | personid | stoptime | race | location | age | arrest |\n",
       "+--------+----------+----------+------+----------+-----+--------+\n",
       "+--------+----------+----------+------+----------+-----+--------+"
      ]
     },
     "execution_count": 20,
     "metadata": {},
     "output_type": "execute_result"
    }
   ],
   "source": [
    "%sql SELECT * FROM Stops;"
   ]
  },
  {
   "cell_type": "code",
   "execution_count": 23,
   "id": "3ecb9758",
   "metadata": {},
   "outputs": [
    {
     "data": {
      "text/html": [
       "<span style=\"None\">Running query in &#x27;postgresql://127.0.0.1:5432/postgres&#x27;</span>"
      ],
      "text/plain": [
       "Running query in 'postgresql://127.0.0.1:5432/postgres'"
      ]
     },
     "metadata": {},
     "output_type": "display_data"
    },
    {
     "data": {
      "text/html": [
       "<span style=\"color: green\">1 rows affected.</span>"
      ],
      "text/plain": [
       "1 rows affected."
      ]
     },
     "metadata": {},
     "output_type": "display_data"
    },
    {
     "data": {
      "text/html": [
       "<span style=\"color: green\">2 rows affected.</span>"
      ],
      "text/plain": [
       "2 rows affected."
      ]
     },
     "metadata": {},
     "output_type": "display_data"
    },
    {
     "data": {
      "text/html": [
       "<table>\n",
       "    <thead>\n",
       "        <tr>\n",
       "            <th>stopid</th>\n",
       "            <th>personid</th>\n",
       "            <th>stoptime</th>\n",
       "            <th>race</th>\n",
       "            <th>location</th>\n",
       "            <th>age</th>\n",
       "            <th>arrest</th>\n",
       "        </tr>\n",
       "    </thead>\n",
       "    <tbody>\n",
       "        <tr>\n",
       "            <td>543</td>\n",
       "            <td>1234</td>\n",
       "            <td>2023-09-12 13:43:00</td>\n",
       "            <td>None</td>\n",
       "            <td>Oakland</td>\n",
       "            <td>None</td>\n",
       "            <td>False</td>\n",
       "        </tr>\n",
       "        <tr>\n",
       "            <td>9999</td>\n",
       "            <td>8888</td>\n",
       "            <td>2023-09-12 13:43:00</td>\n",
       "            <td>None</td>\n",
       "            <td>Oakland</td>\n",
       "            <td>None</td>\n",
       "            <td>None</td>\n",
       "        </tr>\n",
       "    </tbody>\n",
       "</table>"
      ],
      "text/plain": [
       "+--------+----------+---------------------+------+----------+------+--------+\n",
       "| stopid | personid |       stoptime      | race | location | age  | arrest |\n",
       "+--------+----------+---------------------+------+----------+------+--------+\n",
       "|  543   |   1234   | 2023-09-12 13:43:00 | None | Oakland  | None | False  |\n",
       "|  9999  |   8888   | 2023-09-12 13:43:00 | None | Oakland  | None |  None  |\n",
       "+--------+----------+---------------------+------+----------+------+--------+"
      ]
     },
     "execution_count": 23,
     "metadata": {},
     "output_type": "execute_result"
    }
   ],
   "source": [
    "%%sql\n",
    "INSERT INTO Stops\n",
    "    (stopID, personID, stopTime, location, arrest)\n",
    "VALUES\n",
    "    -- (0543, 1234, '2023-09-12 13:43:00', 'Oakland')\n",
    "    (9999, 8888, '2023-09-12 13:43:00', 'Oakland', NULL)\n",
    ";\n",
    "SELECT * FROM Stops;"
   ]
  },
  {
   "cell_type": "markdown",
   "id": "251e2c06",
   "metadata": {},
   "source": [
    "## Actor/Cast_info"
   ]
  },
  {
   "cell_type": "code",
   "execution_count": null,
   "id": "e7ec09fd",
   "metadata": {},
   "outputs": [],
   "source": [
    "%reload_ext sql"
   ]
  },
  {
   "cell_type": "code",
   "execution_count": null,
   "id": "02f2cc64",
   "metadata": {},
   "outputs": [],
   "source": [
    "%sql postgresql://127.0.0.1:5432/postgres"
   ]
  },
  {
   "cell_type": "code",
   "execution_count": 7,
   "id": "55fae2dc",
   "metadata": {},
   "outputs": [
    {
     "data": {
      "text/html": [
       "<span style=\"None\">Running query in &#x27;postgresql://127.0.0.1:5432/postgres&#x27;</span>"
      ],
      "text/plain": [
       "Running query in 'postgresql://127.0.0.1:5432/postgres'"
      ]
     },
     "metadata": {},
     "output_type": "display_data"
    },
    {
     "data": {
      "text/html": [
       "<span style=\"color: green\">2 rows affected.</span>"
      ],
      "text/plain": [
       "2 rows affected."
      ]
     },
     "metadata": {},
     "output_type": "display_data"
    },
    {
     "data": {
      "text/html": [
       "<span style=\"color: green\">2 rows affected.</span>"
      ],
      "text/plain": [
       "2 rows affected."
      ]
     },
     "metadata": {},
     "output_type": "display_data"
    },
    {
     "data": {
      "text/html": [
       "<span style=\"color: green\">2 rows affected.</span>"
      ],
      "text/plain": [
       "2 rows affected."
      ]
     },
     "metadata": {},
     "output_type": "display_data"
    },
    {
     "data": {
      "text/html": [
       "<table>\n",
       "    <thead>\n",
       "        <tr>\n",
       "        </tr>\n",
       "    </thead>\n",
       "    <tbody>\n",
       "    </tbody>\n",
       "</table>"
      ],
      "text/plain": [
       "++\n",
       "||\n",
       "++\n",
       "++"
      ]
     },
     "execution_count": 7,
     "metadata": {},
     "output_type": "execute_result"
    }
   ],
   "source": [
    "%%sql\n",
    "DROP TABLE IF EXISTS Actor CASCADE;\n",
    "DROP TABLE IF EXISTS Movie CASCADE;\n",
    "DROP TABLE IF EXISTS Cast_info;\n",
    "\n",
    "CREATE TABLE Actor (\n",
    "  id INTEGER,\n",
    "  name TEXT,\n",
    "  PRIMARY KEY(id)\n",
    "); \n",
    "\n",
    "CREATE TABLE Movie (\n",
    "  id INTEGER,\n",
    "  title TEXT,\n",
    "  PRIMARY KEY(id)\n",
    "); \n",
    "\n",
    "CREATE TABLE Cast_info (\n",
    "  person_id INTEGER,\n",
    "  movie_id INTEGER, \n",
    "  FOREIGN KEY (person_id)\n",
    "    REFERENCES Actor (id)\n",
    "    ON DELETE SET NULL\n",
    "    ON UPDATE CASCADE,\n",
    "  FOREIGN KEY (movie_id)\n",
    "    REFERENCES Movie (id)\n",
    "    ON DELETE SET NULL);\n",
    "\n",
    "INSERT INTO Actor VALUES\n",
    "    (1, 'Tom Hanks'),\n",
    "    (3, 'Michelle Yeoh')\n",
    ";\n",
    "\n",
    "INSERT INTO Movie VALUES\n",
    "    (23, 'Forrest Gump'),\n",
    "    (45, 'Tomorrow Never Dies')\n",
    ";\n",
    "\n",
    "INSERT INTO Cast_info VALUES\n",
    "    (1, 23),\n",
    "    (3, 45)\n",
    ";"
   ]
  },
  {
   "cell_type": "code",
   "execution_count": 5,
   "id": "d9f0e146",
   "metadata": {},
   "outputs": [
    {
     "data": {
      "text/html": [
       "<span style=\"None\">Running query in &#x27;postgresql://127.0.0.1:5432/postgres&#x27;</span>"
      ],
      "text/plain": [
       "Running query in 'postgresql://127.0.0.1:5432/postgres'"
      ]
     },
     "metadata": {},
     "output_type": "display_data"
    },
    {
     "data": {
      "text/html": [
       "<span style=\"color: green\">2 rows affected.</span>"
      ],
      "text/plain": [
       "2 rows affected."
      ]
     },
     "metadata": {},
     "output_type": "display_data"
    },
    {
     "data": {
      "text/html": [
       "<table>\n",
       "    <thead>\n",
       "        <tr>\n",
       "            <th>person_id</th>\n",
       "            <th>movie_id</th>\n",
       "        </tr>\n",
       "    </thead>\n",
       "    <tbody>\n",
       "        <tr>\n",
       "            <td>1</td>\n",
       "            <td>23</td>\n",
       "        </tr>\n",
       "        <tr>\n",
       "            <td>3</td>\n",
       "            <td>45</td>\n",
       "        </tr>\n",
       "    </tbody>\n",
       "</table>"
      ],
      "text/plain": [
       "+-----------+----------+\n",
       "| person_id | movie_id |\n",
       "+-----------+----------+\n",
       "|     1     |    23    |\n",
       "|     3     |    45    |\n",
       "+-----------+----------+"
      ]
     },
     "execution_count": 5,
     "metadata": {},
     "output_type": "execute_result"
    }
   ],
   "source": [
    "%%sql\n",
    "SELECT * FROM Cast_info;"
   ]
  },
  {
   "cell_type": "markdown",
   "id": "a69a6867",
   "metadata": {},
   "source": [
    "A. What if we… Delete a tuple from Actor corresponding to id = 1?"
   ]
  },
  {
   "cell_type": "code",
   "execution_count": null,
   "id": "a66d8768",
   "metadata": {},
   "outputs": [],
   "source": [
    "%%sql\n",
    "DELETE FROM Actor\n",
    "WHERE id = 1;"
   ]
  },
  {
   "cell_type": "code",
   "execution_count": null,
   "id": "c55b1108",
   "metadata": {},
   "outputs": [],
   "source": [
    "%%sql\n",
    "SELECT * FROM Cast_info;"
   ]
  },
  {
   "cell_type": "markdown",
   "id": "e6f75f12",
   "metadata": {},
   "source": [
    "(note: reset table layout for each choice)\n",
    "\n",
    "B. Change a tuple in Actor from id = 1 to id = 2?"
   ]
  },
  {
   "cell_type": "code",
   "execution_count": 6,
   "id": "ba7734f8",
   "metadata": {},
   "outputs": [
    {
     "data": {
      "text/html": [
       "<span style=\"None\">Running query in &#x27;postgresql://127.0.0.1:5432/postgres&#x27;</span>"
      ],
      "text/plain": [
       "Running query in 'postgresql://127.0.0.1:5432/postgres'"
      ]
     },
     "metadata": {},
     "output_type": "display_data"
    },
    {
     "data": {
      "text/html": [
       "<span style=\"color: green\">1 rows affected.</span>"
      ],
      "text/plain": [
       "1 rows affected."
      ]
     },
     "metadata": {},
     "output_type": "display_data"
    },
    {
     "data": {
      "text/html": [
       "<table>\n",
       "    <thead>\n",
       "        <tr>\n",
       "        </tr>\n",
       "    </thead>\n",
       "    <tbody>\n",
       "    </tbody>\n",
       "</table>"
      ],
      "text/plain": [
       "++\n",
       "||\n",
       "++\n",
       "++"
      ]
     },
     "execution_count": 6,
     "metadata": {},
     "output_type": "execute_result"
    }
   ],
   "source": [
    "%%sql\n",
    "UPDATE Actor\n",
    "SET id = 2\n",
    "WHERE id = 1;"
   ]
  },
  {
   "cell_type": "code",
   "execution_count": null,
   "id": "de674270",
   "metadata": {},
   "outputs": [],
   "source": [
    "%%sql\n",
    "SELECT * FROM Actor;"
   ]
  },
  {
   "cell_type": "code",
   "execution_count": null,
   "id": "a6e152e6",
   "metadata": {},
   "outputs": [],
   "source": [
    "%%sql\n",
    "SELECT * FROM Cast_info;"
   ]
  },
  {
   "cell_type": "markdown",
   "id": "1cef07ec",
   "metadata": {},
   "source": [
    "C. Delete a tuple from Movie corresponding to id = 23?"
   ]
  },
  {
   "cell_type": "code",
   "execution_count": null,
   "id": "5c4a2519",
   "metadata": {},
   "outputs": [],
   "source": [
    "%%sql\n",
    "DELETE FROM Movie\n",
    "WHERE id = 23;"
   ]
  },
  {
   "cell_type": "code",
   "execution_count": null,
   "id": "69a709c3",
   "metadata": {},
   "outputs": [],
   "source": [
    "%%sql\n",
    "SELECT * FROM Cast_info;"
   ]
  },
  {
   "cell_type": "markdown",
   "id": "c2f011a2",
   "metadata": {},
   "source": [
    "D. Change a tuple in Movie from id = 23 to id = 24?"
   ]
  },
  {
   "cell_type": "code",
   "execution_count": null,
   "id": "6584534a",
   "metadata": {},
   "outputs": [],
   "source": [
    "%%sql\n",
    "UPDATE Movie\n",
    "SET id = 24\n",
    "WHERE id = 23;"
   ]
  },
  {
   "cell_type": "markdown",
   "id": "a473564f",
   "metadata": {},
   "source": [
    "E. Insert a tuple into Cast_info that adds a new person_id not found in Actor?"
   ]
  },
  {
   "cell_type": "code",
   "execution_count": 8,
   "id": "00ceb3a0",
   "metadata": {},
   "outputs": [
    {
     "data": {
      "text/html": [
       "<span style=\"None\">Running query in &#x27;postgresql://127.0.0.1:5432/postgres&#x27;</span>"
      ],
      "text/plain": [
       "Running query in 'postgresql://127.0.0.1:5432/postgres'"
      ]
     },
     "metadata": {},
     "output_type": "display_data"
    },
    {
     "name": "stderr",
     "output_type": "stream",
     "text": [
      "RuntimeError: (psycopg2.errors.ForeignKeyViolation) insert or update on table \"cast_info\" violates foreign key constraint \"cast_info_person_id_fkey\"\n",
      "DETAIL:  Key (person_id)=(467) is not present in table \"actor\".\n",
      "\n",
      "[SQL: INSERT INTO Cast_info VALUES\n",
      "    (467, 23)\n",
      ";]\n",
      "(Background on this error at: https://sqlalche.me/e/20/gkpj)\n",
      "If you need help solving this issue, send us a message: https://ploomber.io/community\n"
     ]
    }
   ],
   "source": [
    "%%sql\n",
    "INSERT INTO Cast_info VALUES\n",
    "    (467, 23)\n",
    ";"
   ]
  },
  {
   "cell_type": "code",
   "execution_count": null,
   "id": "e811d58b",
   "metadata": {},
   "outputs": [],
   "source": []
  }
 ],
 "metadata": {
  "kernelspec": {
   "display_name": "Python 3 (ipykernel)",
   "language": "python",
   "name": "python3"
  },
  "language_info": {
   "codemirror_mode": {
    "name": "ipython",
    "version": 3
   },
   "file_extension": ".py",
   "mimetype": "text/x-python",
   "name": "python",
   "nbconvert_exporter": "python",
   "pygments_lexer": "ipython3",
   "version": "3.11.0"
  }
 },
 "nbformat": 4,
 "nbformat_minor": 5
}
