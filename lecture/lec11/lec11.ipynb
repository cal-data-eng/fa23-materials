{
 "cells": [
  {
   "cell_type": "markdown",
   "id": "95ecf727-f939-4e3e-91fc-c12e7426fd30",
   "metadata": {},
   "source": [
    "# Lecture 11"
   ]
  },
  {
   "cell_type": "code",
   "execution_count": 1,
   "id": "91bb7cea-cd7d-496b-b447-f553caccaca8",
   "metadata": {},
   "outputs": [],
   "source": [
    "import numpy as np\n",
    "import pandas as pd"
   ]
  },
  {
   "cell_type": "markdown",
   "id": "2c23fed8-db25-448a-97f4-35178f65c48c",
   "metadata": {},
   "source": [
    "# More `EXPLAIN ANALYZE`"
   ]
  },
  {
   "cell_type": "code",
   "execution_count": 2,
   "id": "008bb943-1178-4036-80a8-46b95b218112",
   "metadata": {},
   "outputs": [
    {
     "data": {
      "text/html": [
       "<span style=\"None\">displaylimit: Value None will be treated as 0 (no limit)</span>"
      ],
      "text/plain": [
       "displaylimit: Value None will be treated as 0 (no limit)"
      ]
     },
     "metadata": {},
     "output_type": "display_data"
    }
   ],
   "source": [
    "%reload_ext sql\n",
    "%sql postgresql://127.0.0.1:5432/imdb_perf_lecture\n",
    "%config SqlMagic.displaylimit = None"
   ]
  },
  {
   "cell_type": "code",
   "execution_count": 11,
   "id": "a63b5baa-d5e4-4f22-bacd-fc85d3de56d9",
   "metadata": {},
   "outputs": [
    {
     "data": {
      "text/html": [
       "<span style=\"None\">Running query in &#x27;postgresql://127.0.0.1:5432/imdb_perf_lecture&#x27;</span>"
      ],
      "text/plain": [
       "Running query in 'postgresql://127.0.0.1:5432/imdb_perf_lecture'"
      ]
     },
     "metadata": {},
     "output_type": "display_data"
    },
    {
     "data": {
      "text/html": [
       "<span style=\"color: green\">14 rows affected.</span>"
      ],
      "text/plain": [
       "14 rows affected."
      ]
     },
     "metadata": {},
     "output_type": "display_data"
    },
    {
     "data": {
      "text/html": [
       "<table>\n",
       "    <thead>\n",
       "        <tr>\n",
       "            <th>QUERY PLAN</th>\n",
       "        </tr>\n",
       "    </thead>\n",
       "    <tbody>\n",
       "        <tr>\n",
       "            <td>Limit  (cost=0.86..9.45 rows=10 width=56) (actual time=0.044..0.118 rows=10 loops=1)</td>\n",
       "        </tr>\n",
       "        <tr>\n",
       "            <td>&nbsp;&nbsp;->  Nested Loop  (cost=0.86..1900819.33 rows=2211936 width=56) (actual time=0.042..0.116 rows=10 loops=1)</td>\n",
       "        </tr>\n",
       "        <tr>\n",
       "            <td>&nbsp;&nbsp;&nbsp;&nbsp;&nbsp;&nbsp;&nbsp;&nbsp;->  Nested Loop  (cost=0.43..895381.74 rows=2211936 width=26) (actual time=0.032..0.083 rows=10 loops=1)</td>\n",
       "        </tr>\n",
       "        <tr>\n",
       "            <td>&nbsp;&nbsp;&nbsp;&nbsp;&nbsp;&nbsp;&nbsp;&nbsp;&nbsp;&nbsp;&nbsp;&nbsp;&nbsp;&nbsp;->  Seq Scan on cast_info  (cost=0.00..31907.36 rows=2211936 width=8) (actual time=0.011..0.013 rows=10 loops=1)</td>\n",
       "        </tr>\n",
       "        <tr>\n",
       "            <td>&nbsp;&nbsp;&nbsp;&nbsp;&nbsp;&nbsp;&nbsp;&nbsp;&nbsp;&nbsp;&nbsp;&nbsp;&nbsp;&nbsp;->  Memoize  (cost=0.43..0.47 rows=1 width=18) (actual time=0.006..0.006 rows=1 loops=10)</td>\n",
       "        </tr>\n",
       "        <tr>\n",
       "            <td>&nbsp;&nbsp;&nbsp;&nbsp;&nbsp;&nbsp;&nbsp;&nbsp;&nbsp;&nbsp;&nbsp;&nbsp;&nbsp;&nbsp;&nbsp;&nbsp;&nbsp;&nbsp;&nbsp;&nbsp;Cache Key: cast_info.person_id</td>\n",
       "        </tr>\n",
       "        <tr>\n",
       "            <td>&nbsp;&nbsp;&nbsp;&nbsp;&nbsp;&nbsp;&nbsp;&nbsp;&nbsp;&nbsp;&nbsp;&nbsp;&nbsp;&nbsp;&nbsp;&nbsp;&nbsp;&nbsp;&nbsp;&nbsp;Cache Mode: logical</td>\n",
       "        </tr>\n",
       "        <tr>\n",
       "            <td>&nbsp;&nbsp;&nbsp;&nbsp;&nbsp;&nbsp;&nbsp;&nbsp;&nbsp;&nbsp;&nbsp;&nbsp;&nbsp;&nbsp;&nbsp;&nbsp;&nbsp;&nbsp;&nbsp;&nbsp;Hits: 2  Misses: 8  Evictions: 0  Overflows: 0  Memory Usage: 1kB</td>\n",
       "        </tr>\n",
       "        <tr>\n",
       "            <td>&nbsp;&nbsp;&nbsp;&nbsp;&nbsp;&nbsp;&nbsp;&nbsp;&nbsp;&nbsp;&nbsp;&nbsp;&nbsp;&nbsp;&nbsp;&nbsp;&nbsp;&nbsp;&nbsp;&nbsp;->  Index Scan using actor_pkey on actor  (cost=0.42..0.46 rows=1 width=18) (actual time=0.006..0.006 rows=1 loops=8)</td>\n",
       "        </tr>\n",
       "        <tr>\n",
       "            <td>&nbsp;&nbsp;&nbsp;&nbsp;&nbsp;&nbsp;&nbsp;&nbsp;&nbsp;&nbsp;&nbsp;&nbsp;&nbsp;&nbsp;&nbsp;&nbsp;&nbsp;&nbsp;&nbsp;&nbsp;&nbsp;&nbsp;&nbsp;&nbsp;&nbsp;&nbsp;Index Cond: (id = cast_info.person_id)</td>\n",
       "        </tr>\n",
       "        <tr>\n",
       "            <td>&nbsp;&nbsp;&nbsp;&nbsp;&nbsp;&nbsp;&nbsp;&nbsp;->  Index Scan using movie_pkey on movie  (cost=0.42..0.45 rows=1 width=30) (actual time=0.003..0.003 rows=1 loops=10)</td>\n",
       "        </tr>\n",
       "        <tr>\n",
       "            <td>&nbsp;&nbsp;&nbsp;&nbsp;&nbsp;&nbsp;&nbsp;&nbsp;&nbsp;&nbsp;&nbsp;&nbsp;&nbsp;&nbsp;Index Cond: (id = cast_info.movie_id)</td>\n",
       "        </tr>\n",
       "        <tr>\n",
       "            <td>Planning Time: 0.496 ms</td>\n",
       "        </tr>\n",
       "        <tr>\n",
       "            <td>Execution Time: 0.463 ms</td>\n",
       "        </tr>\n",
       "    </tbody>\n",
       "</table>"
      ],
      "text/plain": [
       "+-------------------------------------------------------------------------------------------------------------------------------------------+\n",
       "|                                                                 QUERY PLAN                                                                |\n",
       "+-------------------------------------------------------------------------------------------------------------------------------------------+\n",
       "|                            Limit  (cost=0.86..9.45 rows=10 width=56) (actual time=0.044..0.118 rows=10 loops=1)                           |\n",
       "|                  ->  Nested Loop  (cost=0.86..1900819.33 rows=2211936 width=56) (actual time=0.042..0.116 rows=10 loops=1)                |\n",
       "|                      ->  Nested Loop  (cost=0.43..895381.74 rows=2211936 width=26) (actual time=0.032..0.083 rows=10 loops=1)             |\n",
       "|                     ->  Seq Scan on cast_info  (cost=0.00..31907.36 rows=2211936 width=8) (actual time=0.011..0.013 rows=10 loops=1)      |\n",
       "|                                ->  Memoize  (cost=0.43..0.47 rows=1 width=18) (actual time=0.006..0.006 rows=1 loops=10)                  |\n",
       "|                                                                 Cache Key: cast_info.person_id                                            |\n",
       "|                                                                      Cache Mode: logical                                                  |\n",
       "|                                               Hits: 2  Misses: 8  Evictions: 0  Overflows: 0  Memory Usage: 1kB                           |\n",
       "|                     ->  Index Scan using actor_pkey on actor  (cost=0.42..0.46 rows=1 width=18) (actual time=0.006..0.006 rows=1 loops=8) |\n",
       "|                                                                Index Cond: (id = cast_info.person_id)                                     |\n",
       "|               ->  Index Scan using movie_pkey on movie  (cost=0.42..0.45 rows=1 width=30) (actual time=0.003..0.003 rows=1 loops=10)      |\n",
       "|                                                          Index Cond: (id = cast_info.movie_id)                                            |\n",
       "|                                                          Planning Time: 0.496 ms                                                          |\n",
       "|                                                          Execution Time: 0.463 ms                                                         |\n",
       "+-------------------------------------------------------------------------------------------------------------------------------------------+"
      ]
     },
     "execution_count": 11,
     "metadata": {},
     "output_type": "execute_result"
    }
   ],
   "source": [
    "%%sql\n",
    "EXPLAIN ANALYZE\n",
    "SELECT *\n",
    "FROM actor, cast_info, movie\n",
    "WHERE actor.id = cast_info.person_id\n",
    "  AND movie.id = cast_info.movie_id\n",
    "LIMIT 10;"
   ]
  },
  {
   "cell_type": "code",
   "execution_count": 12,
   "id": "6605417a-110a-444f-be88-caa1167bf133",
   "metadata": {},
   "outputs": [
    {
     "data": {
      "text/html": [
       "<span style=\"None\">Running query in &#x27;postgresql://127.0.0.1:5432/imdb_perf_lecture&#x27;</span>"
      ],
      "text/plain": [
       "Running query in 'postgresql://127.0.0.1:5432/imdb_perf_lecture'"
      ]
     },
     "metadata": {},
     "output_type": "display_data"
    },
    {
     "data": {
      "text/html": [
       "<table>\n",
       "    <thead>\n",
       "        <tr>\n",
       "        </tr>\n",
       "    </thead>\n",
       "    <tbody>\n",
       "    </tbody>\n",
       "</table>"
      ],
      "text/plain": [
       "++\n",
       "||\n",
       "++\n",
       "++"
      ]
     },
     "execution_count": 12,
     "metadata": {},
     "output_type": "execute_result"
    }
   ],
   "source": [
    "%sql CREATE INDEX actoridindex ON actor(id);"
   ]
  },
  {
   "cell_type": "code",
   "execution_count": 13,
   "id": "a0b0ae60-7690-4935-b527-2288f0762e1f",
   "metadata": {},
   "outputs": [
    {
     "data": {
      "text/html": [
       "<span style=\"None\">Running query in &#x27;postgresql://127.0.0.1:5432/imdb_perf_lecture&#x27;</span>"
      ],
      "text/plain": [
       "Running query in 'postgresql://127.0.0.1:5432/imdb_perf_lecture'"
      ]
     },
     "metadata": {},
     "output_type": "display_data"
    },
    {
     "data": {
      "text/html": [
       "<span style=\"color: green\">14 rows affected.</span>"
      ],
      "text/plain": [
       "14 rows affected."
      ]
     },
     "metadata": {},
     "output_type": "display_data"
    },
    {
     "data": {
      "text/html": [
       "<table>\n",
       "    <thead>\n",
       "        <tr>\n",
       "            <th>QUERY PLAN</th>\n",
       "        </tr>\n",
       "    </thead>\n",
       "    <tbody>\n",
       "        <tr>\n",
       "            <td>Limit  (cost=0.86..9.45 rows=10 width=56) (actual time=0.087..0.220 rows=10 loops=1)</td>\n",
       "        </tr>\n",
       "        <tr>\n",
       "            <td>&nbsp;&nbsp;->  Nested Loop  (cost=0.86..1900819.33 rows=2211936 width=56) (actual time=0.086..0.218 rows=10 loops=1)</td>\n",
       "        </tr>\n",
       "        <tr>\n",
       "            <td>&nbsp;&nbsp;&nbsp;&nbsp;&nbsp;&nbsp;&nbsp;&nbsp;->  Nested Loop  (cost=0.43..895381.74 rows=2211936 width=26) (actual time=0.075..0.189 rows=10 loops=1)</td>\n",
       "        </tr>\n",
       "        <tr>\n",
       "            <td>&nbsp;&nbsp;&nbsp;&nbsp;&nbsp;&nbsp;&nbsp;&nbsp;&nbsp;&nbsp;&nbsp;&nbsp;&nbsp;&nbsp;->  Seq Scan on cast_info  (cost=0.00..31907.36 rows=2211936 width=8) (actual time=0.025..0.027 rows=10 loops=1)</td>\n",
       "        </tr>\n",
       "        <tr>\n",
       "            <td>&nbsp;&nbsp;&nbsp;&nbsp;&nbsp;&nbsp;&nbsp;&nbsp;&nbsp;&nbsp;&nbsp;&nbsp;&nbsp;&nbsp;->  Memoize  (cost=0.43..0.47 rows=1 width=18) (actual time=0.015..0.015 rows=1 loops=10)</td>\n",
       "        </tr>\n",
       "        <tr>\n",
       "            <td>&nbsp;&nbsp;&nbsp;&nbsp;&nbsp;&nbsp;&nbsp;&nbsp;&nbsp;&nbsp;&nbsp;&nbsp;&nbsp;&nbsp;&nbsp;&nbsp;&nbsp;&nbsp;&nbsp;&nbsp;Cache Key: cast_info.person_id</td>\n",
       "        </tr>\n",
       "        <tr>\n",
       "            <td>&nbsp;&nbsp;&nbsp;&nbsp;&nbsp;&nbsp;&nbsp;&nbsp;&nbsp;&nbsp;&nbsp;&nbsp;&nbsp;&nbsp;&nbsp;&nbsp;&nbsp;&nbsp;&nbsp;&nbsp;Cache Mode: logical</td>\n",
       "        </tr>\n",
       "        <tr>\n",
       "            <td>&nbsp;&nbsp;&nbsp;&nbsp;&nbsp;&nbsp;&nbsp;&nbsp;&nbsp;&nbsp;&nbsp;&nbsp;&nbsp;&nbsp;&nbsp;&nbsp;&nbsp;&nbsp;&nbsp;&nbsp;Hits: 2  Misses: 8  Evictions: 0  Overflows: 0  Memory Usage: 1kB</td>\n",
       "        </tr>\n",
       "        <tr>\n",
       "            <td>&nbsp;&nbsp;&nbsp;&nbsp;&nbsp;&nbsp;&nbsp;&nbsp;&nbsp;&nbsp;&nbsp;&nbsp;&nbsp;&nbsp;&nbsp;&nbsp;&nbsp;&nbsp;&nbsp;&nbsp;->  Index Scan using actoridindex on actor  (cost=0.42..0.46 rows=1 width=18) (actual time=0.018..0.018 rows=1 loops=8)</td>\n",
       "        </tr>\n",
       "        <tr>\n",
       "            <td>&nbsp;&nbsp;&nbsp;&nbsp;&nbsp;&nbsp;&nbsp;&nbsp;&nbsp;&nbsp;&nbsp;&nbsp;&nbsp;&nbsp;&nbsp;&nbsp;&nbsp;&nbsp;&nbsp;&nbsp;&nbsp;&nbsp;&nbsp;&nbsp;&nbsp;&nbsp;Index Cond: (id = cast_info.person_id)</td>\n",
       "        </tr>\n",
       "        <tr>\n",
       "            <td>&nbsp;&nbsp;&nbsp;&nbsp;&nbsp;&nbsp;&nbsp;&nbsp;->  Index Scan using movie_pkey on movie  (cost=0.42..0.45 rows=1 width=30) (actual time=0.002..0.002 rows=1 loops=10)</td>\n",
       "        </tr>\n",
       "        <tr>\n",
       "            <td>&nbsp;&nbsp;&nbsp;&nbsp;&nbsp;&nbsp;&nbsp;&nbsp;&nbsp;&nbsp;&nbsp;&nbsp;&nbsp;&nbsp;Index Cond: (id = cast_info.movie_id)</td>\n",
       "        </tr>\n",
       "        <tr>\n",
       "            <td>Planning Time: 0.627 ms</td>\n",
       "        </tr>\n",
       "        <tr>\n",
       "            <td>Execution Time: 0.545 ms</td>\n",
       "        </tr>\n",
       "    </tbody>\n",
       "</table>"
      ],
      "text/plain": [
       "+---------------------------------------------------------------------------------------------------------------------------------------------+\n",
       "|                                                                  QUERY PLAN                                                                 |\n",
       "+---------------------------------------------------------------------------------------------------------------------------------------------+\n",
       "|                             Limit  (cost=0.86..9.45 rows=10 width=56) (actual time=0.087..0.220 rows=10 loops=1)                            |\n",
       "|                   ->  Nested Loop  (cost=0.86..1900819.33 rows=2211936 width=56) (actual time=0.086..0.218 rows=10 loops=1)                 |\n",
       "|                       ->  Nested Loop  (cost=0.43..895381.74 rows=2211936 width=26) (actual time=0.075..0.189 rows=10 loops=1)              |\n",
       "|                      ->  Seq Scan on cast_info  (cost=0.00..31907.36 rows=2211936 width=8) (actual time=0.025..0.027 rows=10 loops=1)       |\n",
       "|                                 ->  Memoize  (cost=0.43..0.47 rows=1 width=18) (actual time=0.015..0.015 rows=1 loops=10)                   |\n",
       "|                                                                  Cache Key: cast_info.person_id                                             |\n",
       "|                                                                       Cache Mode: logical                                                   |\n",
       "|                                                Hits: 2  Misses: 8  Evictions: 0  Overflows: 0  Memory Usage: 1kB                            |\n",
       "|                     ->  Index Scan using actoridindex on actor  (cost=0.42..0.46 rows=1 width=18) (actual time=0.018..0.018 rows=1 loops=8) |\n",
       "|                                                                 Index Cond: (id = cast_info.person_id)                                      |\n",
       "|                ->  Index Scan using movie_pkey on movie  (cost=0.42..0.45 rows=1 width=30) (actual time=0.002..0.002 rows=1 loops=10)       |\n",
       "|                                                           Index Cond: (id = cast_info.movie_id)                                             |\n",
       "|                                                           Planning Time: 0.627 ms                                                           |\n",
       "|                                                           Execution Time: 0.545 ms                                                          |\n",
       "+---------------------------------------------------------------------------------------------------------------------------------------------+"
      ]
     },
     "execution_count": 13,
     "metadata": {},
     "output_type": "execute_result"
    }
   ],
   "source": [
    "%%sql\n",
    "EXPLAIN ANALYZE\n",
    "SELECT *\n",
    "FROM actor, cast_info, movie\n",
    "WHERE actor.id = cast_info.person_id\n",
    "  AND movie.id = cast_info.movie_id\n",
    "LIMIT 10;"
   ]
  },
  {
   "cell_type": "code",
   "execution_count": 14,
   "id": "a806e8d6-9a5c-4b01-825f-3121b26b4548",
   "metadata": {},
   "outputs": [
    {
     "data": {
      "text/html": [
       "<span style=\"None\">Running query in &#x27;postgresql://127.0.0.1:5432/imdb_perf_lecture&#x27;</span>"
      ],
      "text/plain": [
       "Running query in 'postgresql://127.0.0.1:5432/imdb_perf_lecture'"
      ]
     },
     "metadata": {},
     "output_type": "display_data"
    },
    {
     "data": {
      "text/html": [
       "<table>\n",
       "    <thead>\n",
       "        <tr>\n",
       "        </tr>\n",
       "    </thead>\n",
       "    <tbody>\n",
       "    </tbody>\n",
       "</table>"
      ],
      "text/plain": [
       "++\n",
       "||\n",
       "++\n",
       "++"
      ]
     },
     "execution_count": 14,
     "metadata": {},
     "output_type": "execute_result"
    }
   ],
   "source": [
    "%sql CREATE INDEX movieid_castinfoindex ON cast_info(movie_id);"
   ]
  },
  {
   "cell_type": "code",
   "execution_count": 15,
   "id": "cb5172f1-37cf-479e-bd15-e4111c65c0b4",
   "metadata": {},
   "outputs": [
    {
     "data": {
      "text/html": [
       "<span style=\"None\">Running query in &#x27;postgresql://127.0.0.1:5432/imdb_perf_lecture&#x27;</span>"
      ],
      "text/plain": [
       "Running query in 'postgresql://127.0.0.1:5432/imdb_perf_lecture'"
      ]
     },
     "metadata": {},
     "output_type": "display_data"
    },
    {
     "data": {
      "text/html": [
       "<span style=\"color: green\">14 rows affected.</span>"
      ],
      "text/plain": [
       "14 rows affected."
      ]
     },
     "metadata": {},
     "output_type": "display_data"
    },
    {
     "data": {
      "text/html": [
       "<table>\n",
       "    <thead>\n",
       "        <tr>\n",
       "            <th>QUERY PLAN</th>\n",
       "        </tr>\n",
       "    </thead>\n",
       "    <tbody>\n",
       "        <tr>\n",
       "            <td>Limit  (cost=0.86..6.74 rows=10 width=56) (actual time=0.074..0.340 rows=10 loops=1)</td>\n",
       "        </tr>\n",
       "        <tr>\n",
       "            <td>&nbsp;&nbsp;->  Nested Loop  (cost=0.86..1299808.98 rows=2211936 width=56) (actual time=0.073..0.337 rows=10 loops=1)</td>\n",
       "        </tr>\n",
       "        <tr>\n",
       "            <td>&nbsp;&nbsp;&nbsp;&nbsp;&nbsp;&nbsp;&nbsp;&nbsp;->  Nested Loop  (cost=0.43..436334.61 rows=2211936 width=38) (actual time=0.036..0.115 rows=10 loops=1)</td>\n",
       "        </tr>\n",
       "        <tr>\n",
       "            <td>&nbsp;&nbsp;&nbsp;&nbsp;&nbsp;&nbsp;&nbsp;&nbsp;&nbsp;&nbsp;&nbsp;&nbsp;&nbsp;&nbsp;->  Seq Scan on movie  (cost=0.00..11425.53 rows=656453 width=30) (actual time=0.010..0.011 rows=3 loops=1)</td>\n",
       "        </tr>\n",
       "        <tr>\n",
       "            <td>&nbsp;&nbsp;&nbsp;&nbsp;&nbsp;&nbsp;&nbsp;&nbsp;&nbsp;&nbsp;&nbsp;&nbsp;&nbsp;&nbsp;->  Index Scan using movieid_castinfoindex on cast_info  (cost=0.43..0.60 rows=5 width=8) (actual time=0.010..0.032 rows=3 loops=3)</td>\n",
       "        </tr>\n",
       "        <tr>\n",
       "            <td>&nbsp;&nbsp;&nbsp;&nbsp;&nbsp;&nbsp;&nbsp;&nbsp;&nbsp;&nbsp;&nbsp;&nbsp;&nbsp;&nbsp;&nbsp;&nbsp;&nbsp;&nbsp;&nbsp;&nbsp;Index Cond: (movie_id = movie.id)</td>\n",
       "        </tr>\n",
       "        <tr>\n",
       "            <td>&nbsp;&nbsp;&nbsp;&nbsp;&nbsp;&nbsp;&nbsp;&nbsp;->  Memoize  (cost=0.43..0.47 rows=1 width=18) (actual time=0.021..0.021 rows=1 loops=10)</td>\n",
       "        </tr>\n",
       "        <tr>\n",
       "            <td>&nbsp;&nbsp;&nbsp;&nbsp;&nbsp;&nbsp;&nbsp;&nbsp;&nbsp;&nbsp;&nbsp;&nbsp;&nbsp;&nbsp;Cache Key: cast_info.person_id</td>\n",
       "        </tr>\n",
       "        <tr>\n",
       "            <td>&nbsp;&nbsp;&nbsp;&nbsp;&nbsp;&nbsp;&nbsp;&nbsp;&nbsp;&nbsp;&nbsp;&nbsp;&nbsp;&nbsp;Cache Mode: logical</td>\n",
       "        </tr>\n",
       "        <tr>\n",
       "            <td>&nbsp;&nbsp;&nbsp;&nbsp;&nbsp;&nbsp;&nbsp;&nbsp;&nbsp;&nbsp;&nbsp;&nbsp;&nbsp;&nbsp;Hits: 0  Misses: 10  Evictions: 0  Overflows: 0  Memory Usage: 2kB</td>\n",
       "        </tr>\n",
       "        <tr>\n",
       "            <td>&nbsp;&nbsp;&nbsp;&nbsp;&nbsp;&nbsp;&nbsp;&nbsp;&nbsp;&nbsp;&nbsp;&nbsp;&nbsp;&nbsp;->  Index Scan using actoridindex on actor  (cost=0.42..0.46 rows=1 width=18) (actual time=0.020..0.020 rows=1 loops=10)</td>\n",
       "        </tr>\n",
       "        <tr>\n",
       "            <td>&nbsp;&nbsp;&nbsp;&nbsp;&nbsp;&nbsp;&nbsp;&nbsp;&nbsp;&nbsp;&nbsp;&nbsp;&nbsp;&nbsp;&nbsp;&nbsp;&nbsp;&nbsp;&nbsp;&nbsp;Index Cond: (id = cast_info.person_id)</td>\n",
       "        </tr>\n",
       "        <tr>\n",
       "            <td>Planning Time: 0.825 ms</td>\n",
       "        </tr>\n",
       "        <tr>\n",
       "            <td>Execution Time: 0.652 ms</td>\n",
       "        </tr>\n",
       "    </tbody>\n",
       "</table>"
      ],
      "text/plain": [
       "+---------------------------------------------------------------------------------------------------------------------------------------------------+\n",
       "|                                                                     QUERY PLAN                                                                    |\n",
       "+---------------------------------------------------------------------------------------------------------------------------------------------------+\n",
       "|                                Limit  (cost=0.86..6.74 rows=10 width=56) (actual time=0.074..0.340 rows=10 loops=1)                               |\n",
       "|                      ->  Nested Loop  (cost=0.86..1299808.98 rows=2211936 width=56) (actual time=0.073..0.337 rows=10 loops=1)                    |\n",
       "|                          ->  Nested Loop  (cost=0.43..436334.61 rows=2211936 width=38) (actual time=0.036..0.115 rows=10 loops=1)                 |\n",
       "|                           ->  Seq Scan on movie  (cost=0.00..11425.53 rows=656453 width=30) (actual time=0.010..0.011 rows=3 loops=1)             |\n",
       "|               ->  Index Scan using movieid_castinfoindex on cast_info  (cost=0.43..0.60 rows=5 width=8) (actual time=0.010..0.032 rows=3 loops=3) |\n",
       "|                                                                   Index Cond: (movie_id = movie.id)                                               |\n",
       "|                                 ->  Memoize  (cost=0.43..0.47 rows=1 width=18) (actual time=0.021..0.021 rows=1 loops=10)                         |\n",
       "|                                                                  Cache Key: cast_info.person_id                                                   |\n",
       "|                                                                       Cache Mode: logical                                                         |\n",
       "|                                                Hits: 0  Misses: 10  Evictions: 0  Overflows: 0  Memory Usage: 2kB                                 |\n",
       "|                     ->  Index Scan using actoridindex on actor  (cost=0.42..0.46 rows=1 width=18) (actual time=0.020..0.020 rows=1 loops=10)      |\n",
       "|                                                                 Index Cond: (id = cast_info.person_id)                                            |\n",
       "|                                                              Planning Time: 0.825 ms                                                              |\n",
       "|                                                              Execution Time: 0.652 ms                                                             |\n",
       "+---------------------------------------------------------------------------------------------------------------------------------------------------+"
      ]
     },
     "execution_count": 15,
     "metadata": {},
     "output_type": "execute_result"
    }
   ],
   "source": [
    "%%sql\n",
    "EXPLAIN ANALYZE\n",
    "SELECT *\n",
    "FROM actor, cast_info, movie\n",
    "WHERE actor.id = cast_info.person_id\n",
    "  AND movie.id = cast_info.movie_id\n",
    "LIMIT 10;"
   ]
  },
  {
   "cell_type": "code",
   "execution_count": 16,
   "id": "7c2062a1-34f6-4c20-8de4-5cd873ffd26b",
   "metadata": {},
   "outputs": [
    {
     "data": {
      "text/html": [
       "<span style=\"None\">Running query in &#x27;postgresql://127.0.0.1:5432/imdb_perf_lecture&#x27;</span>"
      ],
      "text/plain": [
       "Running query in 'postgresql://127.0.0.1:5432/imdb_perf_lecture'"
      ]
     },
     "metadata": {},
     "output_type": "display_data"
    },
    {
     "data": {
      "text/html": [
       "<span style=\"None\">Running query in &#x27;postgresql://127.0.0.1:5432/imdb_perf_lecture&#x27;</span>"
      ],
      "text/plain": [
       "Running query in 'postgresql://127.0.0.1:5432/imdb_perf_lecture'"
      ]
     },
     "metadata": {},
     "output_type": "display_data"
    },
    {
     "data": {
      "text/html": [
       "<table>\n",
       "    <thead>\n",
       "        <tr>\n",
       "        </tr>\n",
       "    </thead>\n",
       "    <tbody>\n",
       "    </tbody>\n",
       "</table>"
      ],
      "text/plain": [
       "++\n",
       "||\n",
       "++\n",
       "++"
      ]
     },
     "execution_count": 16,
     "metadata": {},
     "output_type": "execute_result"
    }
   ],
   "source": [
    "%sql drop index actoridindex;\n",
    "%sql drop index movieid_castinfoindex;"
   ]
  },
  {
   "cell_type": "markdown",
   "id": "9470b24b-ca83-46e0-8efc-f6cace072311",
   "metadata": {
    "slideshow": {
     "slide_type": "slide"
    }
   },
   "source": [
    "# Structural Transformation: From Relations to Matrices and Back\n",
    "- Matrix $\\rightarrow$ Relational works.\n",
    "- Relational $\\rightarrow$ Matrix sometimes works!\n",
    "- But how?\n",
    "\n",
    "To start, let's take our matrix in `mm.txt`, and load it into Pandas."
   ]
  },
  {
   "cell_type": "code",
   "execution_count": 2,
   "id": "89df7e25-e979-4147-9c7b-1d685b6d03f0",
   "metadata": {},
   "outputs": [],
   "source": [
    "import pandas as pd"
   ]
  },
  {
   "cell_type": "code",
   "execution_count": 3,
   "id": "6a7571ed-20ca-4751-8f6a-6c91b20336a8",
   "metadata": {
    "slideshow": {
     "slide_type": "fragment"
    }
   },
   "outputs": [
    {
     "data": {
      "text/html": [
       "<div>\n",
       "<style scoped>\n",
       "    .dataframe tbody tr th:only-of-type {\n",
       "        vertical-align: middle;\n",
       "    }\n",
       "\n",
       "    .dataframe tbody tr th {\n",
       "        vertical-align: top;\n",
       "    }\n",
       "\n",
       "    .dataframe thead th {\n",
       "        text-align: right;\n",
       "    }\n",
       "</style>\n",
       "<table border=\"1\" class=\"dataframe\">\n",
       "  <thead>\n",
       "    <tr style=\"text-align: right;\">\n",
       "      <th></th>\n",
       "      <th>Year</th>\n",
       "      <th>OCT</th>\n",
       "      <th>NOV</th>\n",
       "      <th>DEC</th>\n",
       "      <th>JAN</th>\n",
       "      <th>FEB</th>\n",
       "      <th>MAR</th>\n",
       "      <th>APR</th>\n",
       "      <th>MAY</th>\n",
       "      <th>JUN</th>\n",
       "      <th>JUL</th>\n",
       "      <th>AUG</th>\n",
       "      <th>SEP</th>\n",
       "    </tr>\n",
       "  </thead>\n",
       "  <tbody>\n",
       "    <tr>\n",
       "      <th>0</th>\n",
       "      <td>2002</td>\n",
       "      <td>0.0</td>\n",
       "      <td>6.03</td>\n",
       "      <td>7.18</td>\n",
       "      <td>0.82</td>\n",
       "      <td>2.01</td>\n",
       "      <td>9.96</td>\n",
       "      <td>4.74</td>\n",
       "      <td>0.78</td>\n",
       "      <td>0.13</td>\n",
       "      <td>0.0</td>\n",
       "      <td>0.09</td>\n",
       "      <td>0.0</td>\n",
       "    </tr>\n",
       "    <tr>\n",
       "      <th>1</th>\n",
       "      <td>2003</td>\n",
       "      <td>0.0</td>\n",
       "      <td>6.03</td>\n",
       "      <td>7.18</td>\n",
       "      <td>0.82</td>\n",
       "      <td>2.01</td>\n",
       "      <td>9.96</td>\n",
       "      <td>4.74</td>\n",
       "      <td>0.78</td>\n",
       "      <td>0.13</td>\n",
       "      <td>0.0</td>\n",
       "      <td>0.09</td>\n",
       "      <td>0.0</td>\n",
       "    </tr>\n",
       "    <tr>\n",
       "      <th>2</th>\n",
       "      <td>2004</td>\n",
       "      <td>0.0</td>\n",
       "      <td>6.03</td>\n",
       "      <td>7.18</td>\n",
       "      <td>0.82</td>\n",
       "      <td>2.01</td>\n",
       "      <td>9.96</td>\n",
       "      <td>4.74</td>\n",
       "      <td>0.78</td>\n",
       "      <td>0.13</td>\n",
       "      <td>0.0</td>\n",
       "      <td>0.09</td>\n",
       "      <td>0.0</td>\n",
       "    </tr>\n",
       "    <tr>\n",
       "      <th>3</th>\n",
       "      <td>2005</td>\n",
       "      <td>0.0</td>\n",
       "      <td>6.03</td>\n",
       "      <td>7.18</td>\n",
       "      <td>0.82</td>\n",
       "      <td>2.01</td>\n",
       "      <td>9.96</td>\n",
       "      <td>4.74</td>\n",
       "      <td>0.78</td>\n",
       "      <td>0.13</td>\n",
       "      <td>0.0</td>\n",
       "      <td>0.09</td>\n",
       "      <td>0.0</td>\n",
       "    </tr>\n",
       "    <tr>\n",
       "      <th>4</th>\n",
       "      <td>2006</td>\n",
       "      <td>0.0</td>\n",
       "      <td>6.03</td>\n",
       "      <td>7.18</td>\n",
       "      <td>0.82</td>\n",
       "      <td>2.01</td>\n",
       "      <td>9.96</td>\n",
       "      <td>4.74</td>\n",
       "      <td>0.78</td>\n",
       "      <td>0.13</td>\n",
       "      <td>0.0</td>\n",
       "      <td>0.09</td>\n",
       "      <td>0.0</td>\n",
       "    </tr>\n",
       "    <tr>\n",
       "      <th>5</th>\n",
       "      <td>2007</td>\n",
       "      <td>0.0</td>\n",
       "      <td>6.03</td>\n",
       "      <td>7.18</td>\n",
       "      <td>0.82</td>\n",
       "      <td>2.01</td>\n",
       "      <td>9.96</td>\n",
       "      <td>4.74</td>\n",
       "      <td>0.78</td>\n",
       "      <td>0.13</td>\n",
       "      <td>0.0</td>\n",
       "      <td>0.09</td>\n",
       "      <td>0.0</td>\n",
       "    </tr>\n",
       "    <tr>\n",
       "      <th>6</th>\n",
       "      <td>2008</td>\n",
       "      <td>0.0</td>\n",
       "      <td>6.03</td>\n",
       "      <td>7.18</td>\n",
       "      <td>0.82</td>\n",
       "      <td>2.01</td>\n",
       "      <td>9.96</td>\n",
       "      <td>4.74</td>\n",
       "      <td>0.78</td>\n",
       "      <td>0.13</td>\n",
       "      <td>0.0</td>\n",
       "      <td>0.09</td>\n",
       "      <td>0.0</td>\n",
       "    </tr>\n",
       "    <tr>\n",
       "      <th>7</th>\n",
       "      <td>2009</td>\n",
       "      <td>0.0</td>\n",
       "      <td>6.03</td>\n",
       "      <td>7.18</td>\n",
       "      <td>0.82</td>\n",
       "      <td>2.01</td>\n",
       "      <td>9.96</td>\n",
       "      <td>4.74</td>\n",
       "      <td>0.78</td>\n",
       "      <td>0.13</td>\n",
       "      <td>0.0</td>\n",
       "      <td>0.09</td>\n",
       "      <td>0.0</td>\n",
       "    </tr>\n",
       "    <tr>\n",
       "      <th>8</th>\n",
       "      <td>2010</td>\n",
       "      <td>0.0</td>\n",
       "      <td>6.03</td>\n",
       "      <td>7.18</td>\n",
       "      <td>0.82</td>\n",
       "      <td>2.01</td>\n",
       "      <td>9.96</td>\n",
       "      <td>4.74</td>\n",
       "      <td>0.78</td>\n",
       "      <td>0.13</td>\n",
       "      <td>0.0</td>\n",
       "      <td>0.09</td>\n",
       "      <td>0.0</td>\n",
       "    </tr>\n",
       "    <tr>\n",
       "      <th>9</th>\n",
       "      <td>2011</td>\n",
       "      <td>0.0</td>\n",
       "      <td>6.03</td>\n",
       "      <td>7.18</td>\n",
       "      <td>0.82</td>\n",
       "      <td>2.01</td>\n",
       "      <td>9.96</td>\n",
       "      <td>4.74</td>\n",
       "      <td>0.78</td>\n",
       "      <td>0.13</td>\n",
       "      <td>0.0</td>\n",
       "      <td>0.09</td>\n",
       "      <td>0.0</td>\n",
       "    </tr>\n",
       "    <tr>\n",
       "      <th>10</th>\n",
       "      <td>2012</td>\n",
       "      <td>0.0</td>\n",
       "      <td>6.03</td>\n",
       "      <td>7.18</td>\n",
       "      <td>0.82</td>\n",
       "      <td>2.01</td>\n",
       "      <td>9.96</td>\n",
       "      <td>4.74</td>\n",
       "      <td>0.78</td>\n",
       "      <td>0.13</td>\n",
       "      <td>0.0</td>\n",
       "      <td>0.09</td>\n",
       "      <td>0.0</td>\n",
       "    </tr>\n",
       "    <tr>\n",
       "      <th>11</th>\n",
       "      <td>2013</td>\n",
       "      <td>0.0</td>\n",
       "      <td>6.03</td>\n",
       "      <td>7.18</td>\n",
       "      <td>0.82</td>\n",
       "      <td>2.01</td>\n",
       "      <td>9.96</td>\n",
       "      <td>4.74</td>\n",
       "      <td>0.78</td>\n",
       "      <td>0.13</td>\n",
       "      <td>0.0</td>\n",
       "      <td>0.09</td>\n",
       "      <td>0.0</td>\n",
       "    </tr>\n",
       "    <tr>\n",
       "      <th>12</th>\n",
       "      <td>2014</td>\n",
       "      <td>0.0</td>\n",
       "      <td>6.03</td>\n",
       "      <td>7.18</td>\n",
       "      <td>0.82</td>\n",
       "      <td>2.01</td>\n",
       "      <td>9.96</td>\n",
       "      <td>4.74</td>\n",
       "      <td>0.78</td>\n",
       "      <td>0.13</td>\n",
       "      <td>0.0</td>\n",
       "      <td>0.09</td>\n",
       "      <td>0.0</td>\n",
       "    </tr>\n",
       "    <tr>\n",
       "      <th>13</th>\n",
       "      <td>2015</td>\n",
       "      <td>0.0</td>\n",
       "      <td>6.03</td>\n",
       "      <td>7.18</td>\n",
       "      <td>0.82</td>\n",
       "      <td>2.01</td>\n",
       "      <td>9.96</td>\n",
       "      <td>4.74</td>\n",
       "      <td>0.78</td>\n",
       "      <td>0.13</td>\n",
       "      <td>0.0</td>\n",
       "      <td>0.09</td>\n",
       "      <td>0.0</td>\n",
       "    </tr>\n",
       "    <tr>\n",
       "      <th>14</th>\n",
       "      <td>2016</td>\n",
       "      <td>0.0</td>\n",
       "      <td>6.03</td>\n",
       "      <td>7.18</td>\n",
       "      <td>0.82</td>\n",
       "      <td>2.01</td>\n",
       "      <td>9.96</td>\n",
       "      <td>4.74</td>\n",
       "      <td>0.78</td>\n",
       "      <td>0.13</td>\n",
       "      <td>0.0</td>\n",
       "      <td>0.09</td>\n",
       "      <td>0.0</td>\n",
       "    </tr>\n",
       "    <tr>\n",
       "      <th>15</th>\n",
       "      <td>2017</td>\n",
       "      <td>0.0</td>\n",
       "      <td>6.03</td>\n",
       "      <td>7.18</td>\n",
       "      <td>0.82</td>\n",
       "      <td>2.01</td>\n",
       "      <td>9.96</td>\n",
       "      <td>4.74</td>\n",
       "      <td>0.78</td>\n",
       "      <td>0.13</td>\n",
       "      <td>0.0</td>\n",
       "      <td>0.09</td>\n",
       "      <td>0.0</td>\n",
       "    </tr>\n",
       "    <tr>\n",
       "      <th>16</th>\n",
       "      <td>2018</td>\n",
       "      <td>0.0</td>\n",
       "      <td>6.03</td>\n",
       "      <td>7.18</td>\n",
       "      <td>0.82</td>\n",
       "      <td>2.01</td>\n",
       "      <td>9.96</td>\n",
       "      <td>4.74</td>\n",
       "      <td>0.78</td>\n",
       "      <td>0.13</td>\n",
       "      <td>0.0</td>\n",
       "      <td>0.09</td>\n",
       "      <td>0.0</td>\n",
       "    </tr>\n",
       "    <tr>\n",
       "      <th>17</th>\n",
       "      <td>2019</td>\n",
       "      <td>0.0</td>\n",
       "      <td>6.03</td>\n",
       "      <td>7.18</td>\n",
       "      <td>0.82</td>\n",
       "      <td>2.01</td>\n",
       "      <td>9.96</td>\n",
       "      <td>4.74</td>\n",
       "      <td>0.78</td>\n",
       "      <td>0.13</td>\n",
       "      <td>0.0</td>\n",
       "      <td>0.09</td>\n",
       "      <td>0.0</td>\n",
       "    </tr>\n",
       "    <tr>\n",
       "      <th>18</th>\n",
       "      <td>2020</td>\n",
       "      <td>0.0</td>\n",
       "      <td>6.03</td>\n",
       "      <td>7.18</td>\n",
       "      <td>0.82</td>\n",
       "      <td>2.01</td>\n",
       "      <td>9.96</td>\n",
       "      <td>4.74</td>\n",
       "      <td>0.78</td>\n",
       "      <td>0.13</td>\n",
       "      <td>0.0</td>\n",
       "      <td>0.09</td>\n",
       "      <td>0.0</td>\n",
       "    </tr>\n",
       "  </tbody>\n",
       "</table>\n",
       "</div>"
      ],
      "text/plain": [
       "    Year  OCT   NOV   DEC   JAN   FEB   MAR   APR   MAY   JUN  JUL   AUG  SEP\n",
       "0   2002  0.0  6.03  7.18  0.82  2.01  9.96  4.74  0.78  0.13  0.0  0.09  0.0\n",
       "1   2003  0.0  6.03  7.18  0.82  2.01  9.96  4.74  0.78  0.13  0.0  0.09  0.0\n",
       "2   2004  0.0  6.03  7.18  0.82  2.01  9.96  4.74  0.78  0.13  0.0  0.09  0.0\n",
       "3   2005  0.0  6.03  7.18  0.82  2.01  9.96  4.74  0.78  0.13  0.0  0.09  0.0\n",
       "4   2006  0.0  6.03  7.18  0.82  2.01  9.96  4.74  0.78  0.13  0.0  0.09  0.0\n",
       "5   2007  0.0  6.03  7.18  0.82  2.01  9.96  4.74  0.78  0.13  0.0  0.09  0.0\n",
       "6   2008  0.0  6.03  7.18  0.82  2.01  9.96  4.74  0.78  0.13  0.0  0.09  0.0\n",
       "7   2009  0.0  6.03  7.18  0.82  2.01  9.96  4.74  0.78  0.13  0.0  0.09  0.0\n",
       "8   2010  0.0  6.03  7.18  0.82  2.01  9.96  4.74  0.78  0.13  0.0  0.09  0.0\n",
       "9   2011  0.0  6.03  7.18  0.82  2.01  9.96  4.74  0.78  0.13  0.0  0.09  0.0\n",
       "10  2012  0.0  6.03  7.18  0.82  2.01  9.96  4.74  0.78  0.13  0.0  0.09  0.0\n",
       "11  2013  0.0  6.03  7.18  0.82  2.01  9.96  4.74  0.78  0.13  0.0  0.09  0.0\n",
       "12  2014  0.0  6.03  7.18  0.82  2.01  9.96  4.74  0.78  0.13  0.0  0.09  0.0\n",
       "13  2015  0.0  6.03  7.18  0.82  2.01  9.96  4.74  0.78  0.13  0.0  0.09  0.0\n",
       "14  2016  0.0  6.03  7.18  0.82  2.01  9.96  4.74  0.78  0.13  0.0  0.09  0.0\n",
       "15  2017  0.0  6.03  7.18  0.82  2.01  9.96  4.74  0.78  0.13  0.0  0.09  0.0\n",
       "16  2018  0.0  6.03  7.18  0.82  2.01  9.96  4.74  0.78  0.13  0.0  0.09  0.0\n",
       "17  2019  0.0  6.03  7.18  0.82  2.01  9.96  4.74  0.78  0.13  0.0  0.09  0.0\n",
       "18  2020  0.0  6.03  7.18  0.82  2.01  9.96  4.74  0.78  0.13  0.0  0.09  0.0"
      ]
     },
     "execution_count": 3,
     "metadata": {},
     "output_type": "execute_result"
    }
   ],
   "source": [
    "mm = pd.read_csv('data/mm.txt', header=0)\n",
    "mm"
   ]
  },
  {
   "cell_type": "markdown",
   "id": "b048eff9-b900-437b-839e-1eb05d4b45fd",
   "metadata": {
    "slideshow": {
     "slide_type": "subslide"
    }
   },
   "source": [
    "## What does an unpivot look like (Matrix -> Relational)?"
   ]
  },
  {
   "cell_type": "code",
   "execution_count": 7,
   "id": "82bfc658-47f3-42c5-8c63-51bcbff928cf",
   "metadata": {
    "slideshow": {
     "slide_type": "fragment"
    }
   },
   "outputs": [
    {
     "data": {
      "text/html": [
       "<div>\n",
       "<style scoped>\n",
       "    .dataframe tbody tr th:only-of-type {\n",
       "        vertical-align: middle;\n",
       "    }\n",
       "\n",
       "    .dataframe tbody tr th {\n",
       "        vertical-align: top;\n",
       "    }\n",
       "\n",
       "    .dataframe thead th {\n",
       "        text-align: right;\n",
       "    }\n",
       "</style>\n",
       "<table border=\"1\" class=\"dataframe\">\n",
       "  <thead>\n",
       "    <tr style=\"text-align: right;\">\n",
       "      <th></th>\n",
       "      <th>Year</th>\n",
       "      <th>variable</th>\n",
       "      <th>value</th>\n",
       "    </tr>\n",
       "  </thead>\n",
       "  <tbody>\n",
       "    <tr>\n",
       "      <th>0</th>\n",
       "      <td>2002</td>\n",
       "      <td>OCT</td>\n",
       "      <td>0.0</td>\n",
       "    </tr>\n",
       "    <tr>\n",
       "      <th>1</th>\n",
       "      <td>2003</td>\n",
       "      <td>OCT</td>\n",
       "      <td>0.0</td>\n",
       "    </tr>\n",
       "    <tr>\n",
       "      <th>2</th>\n",
       "      <td>2004</td>\n",
       "      <td>OCT</td>\n",
       "      <td>0.0</td>\n",
       "    </tr>\n",
       "    <tr>\n",
       "      <th>3</th>\n",
       "      <td>2005</td>\n",
       "      <td>OCT</td>\n",
       "      <td>0.0</td>\n",
       "    </tr>\n",
       "    <tr>\n",
       "      <th>4</th>\n",
       "      <td>2006</td>\n",
       "      <td>OCT</td>\n",
       "      <td>0.0</td>\n",
       "    </tr>\n",
       "    <tr>\n",
       "      <th>...</th>\n",
       "      <td>...</td>\n",
       "      <td>...</td>\n",
       "      <td>...</td>\n",
       "    </tr>\n",
       "    <tr>\n",
       "      <th>223</th>\n",
       "      <td>2016</td>\n",
       "      <td>SEP</td>\n",
       "      <td>0.0</td>\n",
       "    </tr>\n",
       "    <tr>\n",
       "      <th>224</th>\n",
       "      <td>2017</td>\n",
       "      <td>SEP</td>\n",
       "      <td>0.0</td>\n",
       "    </tr>\n",
       "    <tr>\n",
       "      <th>225</th>\n",
       "      <td>2018</td>\n",
       "      <td>SEP</td>\n",
       "      <td>0.0</td>\n",
       "    </tr>\n",
       "    <tr>\n",
       "      <th>226</th>\n",
       "      <td>2019</td>\n",
       "      <td>SEP</td>\n",
       "      <td>0.0</td>\n",
       "    </tr>\n",
       "    <tr>\n",
       "      <th>227</th>\n",
       "      <td>2020</td>\n",
       "      <td>SEP</td>\n",
       "      <td>0.0</td>\n",
       "    </tr>\n",
       "  </tbody>\n",
       "</table>\n",
       "<p>228 rows × 3 columns</p>\n",
       "</div>"
      ],
      "text/plain": [
       "     Year variable  value\n",
       "0    2002      OCT    0.0\n",
       "1    2003      OCT    0.0\n",
       "2    2004      OCT    0.0\n",
       "3    2005      OCT    0.0\n",
       "4    2006      OCT    0.0\n",
       "..    ...      ...    ...\n",
       "223  2016      SEP    0.0\n",
       "224  2017      SEP    0.0\n",
       "225  2018      SEP    0.0\n",
       "226  2019      SEP    0.0\n",
       "227  2020      SEP    0.0\n",
       "\n",
       "[228 rows x 3 columns]"
      ]
     },
     "execution_count": 7,
     "metadata": {},
     "output_type": "execute_result"
    }
   ],
   "source": [
    "mm_melted = mm.melt(id_vars=['Year'])\n",
    "mm_melted"
   ]
  },
  {
   "cell_type": "markdown",
   "id": "dbed1e66-deb5-4c6f-8e70-3a8c09c51490",
   "metadata": {},
   "source": [
    "Thanks to the `id_var` parameter, the `Year` column is named and repeated for all other (variable=column name, value=value) elements in the row."
   ]
  },
  {
   "cell_type": "code",
   "execution_count": null,
   "id": "304401ce-65fc-408c-92cc-217cc682aee6",
   "metadata": {},
   "outputs": [],
   "source": [
    "mm_melted[mm_melted['Year'] == 2002]"
   ]
  },
  {
   "cell_type": "markdown",
   "id": "d36a3c1b-b9af-4e3b-904c-5857677d8fa7",
   "metadata": {
    "slideshow": {
     "slide_type": "subslide"
    }
   },
   "source": [
    "## PIVOT(UNPIVOT) = ??"
   ]
  },
  {
   "cell_type": "code",
   "execution_count": 8,
   "id": "0aa6b449-e5bb-4868-b398-6a285537473c",
   "metadata": {
    "slideshow": {
     "slide_type": "fragment"
    }
   },
   "outputs": [
    {
     "data": {
      "text/html": [
       "<div>\n",
       "<style scoped>\n",
       "    .dataframe tbody tr th:only-of-type {\n",
       "        vertical-align: middle;\n",
       "    }\n",
       "\n",
       "    .dataframe tbody tr th {\n",
       "        vertical-align: top;\n",
       "    }\n",
       "\n",
       "    .dataframe thead tr th {\n",
       "        text-align: left;\n",
       "    }\n",
       "\n",
       "    .dataframe thead tr:last-of-type th {\n",
       "        text-align: right;\n",
       "    }\n",
       "</style>\n",
       "<table border=\"1\" class=\"dataframe\">\n",
       "  <thead>\n",
       "    <tr>\n",
       "      <th></th>\n",
       "      <th colspan=\"12\" halign=\"left\">value</th>\n",
       "    </tr>\n",
       "    <tr>\n",
       "      <th>variable</th>\n",
       "      <th>APR</th>\n",
       "      <th>AUG</th>\n",
       "      <th>DEC</th>\n",
       "      <th>FEB</th>\n",
       "      <th>JAN</th>\n",
       "      <th>JUL</th>\n",
       "      <th>JUN</th>\n",
       "      <th>MAR</th>\n",
       "      <th>MAY</th>\n",
       "      <th>NOV</th>\n",
       "      <th>OCT</th>\n",
       "      <th>SEP</th>\n",
       "    </tr>\n",
       "    <tr>\n",
       "      <th>Year</th>\n",
       "      <th></th>\n",
       "      <th></th>\n",
       "      <th></th>\n",
       "      <th></th>\n",
       "      <th></th>\n",
       "      <th></th>\n",
       "      <th></th>\n",
       "      <th></th>\n",
       "      <th></th>\n",
       "      <th></th>\n",
       "      <th></th>\n",
       "      <th></th>\n",
       "    </tr>\n",
       "  </thead>\n",
       "  <tbody>\n",
       "    <tr>\n",
       "      <th>2002</th>\n",
       "      <td>4.74</td>\n",
       "      <td>0.09</td>\n",
       "      <td>7.18</td>\n",
       "      <td>2.01</td>\n",
       "      <td>0.82</td>\n",
       "      <td>0.0</td>\n",
       "      <td>0.13</td>\n",
       "      <td>9.96</td>\n",
       "      <td>0.78</td>\n",
       "      <td>6.03</td>\n",
       "      <td>0.0</td>\n",
       "      <td>0.0</td>\n",
       "    </tr>\n",
       "    <tr>\n",
       "      <th>2003</th>\n",
       "      <td>4.74</td>\n",
       "      <td>0.09</td>\n",
       "      <td>7.18</td>\n",
       "      <td>2.01</td>\n",
       "      <td>0.82</td>\n",
       "      <td>0.0</td>\n",
       "      <td>0.13</td>\n",
       "      <td>9.96</td>\n",
       "      <td>0.78</td>\n",
       "      <td>6.03</td>\n",
       "      <td>0.0</td>\n",
       "      <td>0.0</td>\n",
       "    </tr>\n",
       "    <tr>\n",
       "      <th>2004</th>\n",
       "      <td>4.74</td>\n",
       "      <td>0.09</td>\n",
       "      <td>7.18</td>\n",
       "      <td>2.01</td>\n",
       "      <td>0.82</td>\n",
       "      <td>0.0</td>\n",
       "      <td>0.13</td>\n",
       "      <td>9.96</td>\n",
       "      <td>0.78</td>\n",
       "      <td>6.03</td>\n",
       "      <td>0.0</td>\n",
       "      <td>0.0</td>\n",
       "    </tr>\n",
       "    <tr>\n",
       "      <th>2005</th>\n",
       "      <td>4.74</td>\n",
       "      <td>0.09</td>\n",
       "      <td>7.18</td>\n",
       "      <td>2.01</td>\n",
       "      <td>0.82</td>\n",
       "      <td>0.0</td>\n",
       "      <td>0.13</td>\n",
       "      <td>9.96</td>\n",
       "      <td>0.78</td>\n",
       "      <td>6.03</td>\n",
       "      <td>0.0</td>\n",
       "      <td>0.0</td>\n",
       "    </tr>\n",
       "    <tr>\n",
       "      <th>2006</th>\n",
       "      <td>4.74</td>\n",
       "      <td>0.09</td>\n",
       "      <td>7.18</td>\n",
       "      <td>2.01</td>\n",
       "      <td>0.82</td>\n",
       "      <td>0.0</td>\n",
       "      <td>0.13</td>\n",
       "      <td>9.96</td>\n",
       "      <td>0.78</td>\n",
       "      <td>6.03</td>\n",
       "      <td>0.0</td>\n",
       "      <td>0.0</td>\n",
       "    </tr>\n",
       "    <tr>\n",
       "      <th>2007</th>\n",
       "      <td>4.74</td>\n",
       "      <td>0.09</td>\n",
       "      <td>7.18</td>\n",
       "      <td>2.01</td>\n",
       "      <td>0.82</td>\n",
       "      <td>0.0</td>\n",
       "      <td>0.13</td>\n",
       "      <td>9.96</td>\n",
       "      <td>0.78</td>\n",
       "      <td>6.03</td>\n",
       "      <td>0.0</td>\n",
       "      <td>0.0</td>\n",
       "    </tr>\n",
       "    <tr>\n",
       "      <th>2008</th>\n",
       "      <td>4.74</td>\n",
       "      <td>0.09</td>\n",
       "      <td>7.18</td>\n",
       "      <td>2.01</td>\n",
       "      <td>0.82</td>\n",
       "      <td>0.0</td>\n",
       "      <td>0.13</td>\n",
       "      <td>9.96</td>\n",
       "      <td>0.78</td>\n",
       "      <td>6.03</td>\n",
       "      <td>0.0</td>\n",
       "      <td>0.0</td>\n",
       "    </tr>\n",
       "    <tr>\n",
       "      <th>2009</th>\n",
       "      <td>4.74</td>\n",
       "      <td>0.09</td>\n",
       "      <td>7.18</td>\n",
       "      <td>2.01</td>\n",
       "      <td>0.82</td>\n",
       "      <td>0.0</td>\n",
       "      <td>0.13</td>\n",
       "      <td>9.96</td>\n",
       "      <td>0.78</td>\n",
       "      <td>6.03</td>\n",
       "      <td>0.0</td>\n",
       "      <td>0.0</td>\n",
       "    </tr>\n",
       "    <tr>\n",
       "      <th>2010</th>\n",
       "      <td>4.74</td>\n",
       "      <td>0.09</td>\n",
       "      <td>7.18</td>\n",
       "      <td>2.01</td>\n",
       "      <td>0.82</td>\n",
       "      <td>0.0</td>\n",
       "      <td>0.13</td>\n",
       "      <td>9.96</td>\n",
       "      <td>0.78</td>\n",
       "      <td>6.03</td>\n",
       "      <td>0.0</td>\n",
       "      <td>0.0</td>\n",
       "    </tr>\n",
       "    <tr>\n",
       "      <th>2011</th>\n",
       "      <td>4.74</td>\n",
       "      <td>0.09</td>\n",
       "      <td>7.18</td>\n",
       "      <td>2.01</td>\n",
       "      <td>0.82</td>\n",
       "      <td>0.0</td>\n",
       "      <td>0.13</td>\n",
       "      <td>9.96</td>\n",
       "      <td>0.78</td>\n",
       "      <td>6.03</td>\n",
       "      <td>0.0</td>\n",
       "      <td>0.0</td>\n",
       "    </tr>\n",
       "    <tr>\n",
       "      <th>2012</th>\n",
       "      <td>4.74</td>\n",
       "      <td>0.09</td>\n",
       "      <td>7.18</td>\n",
       "      <td>2.01</td>\n",
       "      <td>0.82</td>\n",
       "      <td>0.0</td>\n",
       "      <td>0.13</td>\n",
       "      <td>9.96</td>\n",
       "      <td>0.78</td>\n",
       "      <td>6.03</td>\n",
       "      <td>0.0</td>\n",
       "      <td>0.0</td>\n",
       "    </tr>\n",
       "    <tr>\n",
       "      <th>2013</th>\n",
       "      <td>4.74</td>\n",
       "      <td>0.09</td>\n",
       "      <td>7.18</td>\n",
       "      <td>2.01</td>\n",
       "      <td>0.82</td>\n",
       "      <td>0.0</td>\n",
       "      <td>0.13</td>\n",
       "      <td>9.96</td>\n",
       "      <td>0.78</td>\n",
       "      <td>6.03</td>\n",
       "      <td>0.0</td>\n",
       "      <td>0.0</td>\n",
       "    </tr>\n",
       "    <tr>\n",
       "      <th>2014</th>\n",
       "      <td>4.74</td>\n",
       "      <td>0.09</td>\n",
       "      <td>7.18</td>\n",
       "      <td>2.01</td>\n",
       "      <td>0.82</td>\n",
       "      <td>0.0</td>\n",
       "      <td>0.13</td>\n",
       "      <td>9.96</td>\n",
       "      <td>0.78</td>\n",
       "      <td>6.03</td>\n",
       "      <td>0.0</td>\n",
       "      <td>0.0</td>\n",
       "    </tr>\n",
       "    <tr>\n",
       "      <th>2015</th>\n",
       "      <td>4.74</td>\n",
       "      <td>0.09</td>\n",
       "      <td>7.18</td>\n",
       "      <td>2.01</td>\n",
       "      <td>0.82</td>\n",
       "      <td>0.0</td>\n",
       "      <td>0.13</td>\n",
       "      <td>9.96</td>\n",
       "      <td>0.78</td>\n",
       "      <td>6.03</td>\n",
       "      <td>0.0</td>\n",
       "      <td>0.0</td>\n",
       "    </tr>\n",
       "    <tr>\n",
       "      <th>2016</th>\n",
       "      <td>4.74</td>\n",
       "      <td>0.09</td>\n",
       "      <td>7.18</td>\n",
       "      <td>2.01</td>\n",
       "      <td>0.82</td>\n",
       "      <td>0.0</td>\n",
       "      <td>0.13</td>\n",
       "      <td>9.96</td>\n",
       "      <td>0.78</td>\n",
       "      <td>6.03</td>\n",
       "      <td>0.0</td>\n",
       "      <td>0.0</td>\n",
       "    </tr>\n",
       "    <tr>\n",
       "      <th>2017</th>\n",
       "      <td>4.74</td>\n",
       "      <td>0.09</td>\n",
       "      <td>7.18</td>\n",
       "      <td>2.01</td>\n",
       "      <td>0.82</td>\n",
       "      <td>0.0</td>\n",
       "      <td>0.13</td>\n",
       "      <td>9.96</td>\n",
       "      <td>0.78</td>\n",
       "      <td>6.03</td>\n",
       "      <td>0.0</td>\n",
       "      <td>0.0</td>\n",
       "    </tr>\n",
       "    <tr>\n",
       "      <th>2018</th>\n",
       "      <td>4.74</td>\n",
       "      <td>0.09</td>\n",
       "      <td>7.18</td>\n",
       "      <td>2.01</td>\n",
       "      <td>0.82</td>\n",
       "      <td>0.0</td>\n",
       "      <td>0.13</td>\n",
       "      <td>9.96</td>\n",
       "      <td>0.78</td>\n",
       "      <td>6.03</td>\n",
       "      <td>0.0</td>\n",
       "      <td>0.0</td>\n",
       "    </tr>\n",
       "    <tr>\n",
       "      <th>2019</th>\n",
       "      <td>4.74</td>\n",
       "      <td>0.09</td>\n",
       "      <td>7.18</td>\n",
       "      <td>2.01</td>\n",
       "      <td>0.82</td>\n",
       "      <td>0.0</td>\n",
       "      <td>0.13</td>\n",
       "      <td>9.96</td>\n",
       "      <td>0.78</td>\n",
       "      <td>6.03</td>\n",
       "      <td>0.0</td>\n",
       "      <td>0.0</td>\n",
       "    </tr>\n",
       "    <tr>\n",
       "      <th>2020</th>\n",
       "      <td>4.74</td>\n",
       "      <td>0.09</td>\n",
       "      <td>7.18</td>\n",
       "      <td>2.01</td>\n",
       "      <td>0.82</td>\n",
       "      <td>0.0</td>\n",
       "      <td>0.13</td>\n",
       "      <td>9.96</td>\n",
       "      <td>0.78</td>\n",
       "      <td>6.03</td>\n",
       "      <td>0.0</td>\n",
       "      <td>0.0</td>\n",
       "    </tr>\n",
       "  </tbody>\n",
       "</table>\n",
       "</div>"
      ],
      "text/plain": [
       "         value                                                               \n",
       "variable   APR   AUG   DEC   FEB   JAN  JUL   JUN   MAR   MAY   NOV  OCT  SEP\n",
       "Year                                                                         \n",
       "2002      4.74  0.09  7.18  2.01  0.82  0.0  0.13  9.96  0.78  6.03  0.0  0.0\n",
       "2003      4.74  0.09  7.18  2.01  0.82  0.0  0.13  9.96  0.78  6.03  0.0  0.0\n",
       "2004      4.74  0.09  7.18  2.01  0.82  0.0  0.13  9.96  0.78  6.03  0.0  0.0\n",
       "2005      4.74  0.09  7.18  2.01  0.82  0.0  0.13  9.96  0.78  6.03  0.0  0.0\n",
       "2006      4.74  0.09  7.18  2.01  0.82  0.0  0.13  9.96  0.78  6.03  0.0  0.0\n",
       "2007      4.74  0.09  7.18  2.01  0.82  0.0  0.13  9.96  0.78  6.03  0.0  0.0\n",
       "2008      4.74  0.09  7.18  2.01  0.82  0.0  0.13  9.96  0.78  6.03  0.0  0.0\n",
       "2009      4.74  0.09  7.18  2.01  0.82  0.0  0.13  9.96  0.78  6.03  0.0  0.0\n",
       "2010      4.74  0.09  7.18  2.01  0.82  0.0  0.13  9.96  0.78  6.03  0.0  0.0\n",
       "2011      4.74  0.09  7.18  2.01  0.82  0.0  0.13  9.96  0.78  6.03  0.0  0.0\n",
       "2012      4.74  0.09  7.18  2.01  0.82  0.0  0.13  9.96  0.78  6.03  0.0  0.0\n",
       "2013      4.74  0.09  7.18  2.01  0.82  0.0  0.13  9.96  0.78  6.03  0.0  0.0\n",
       "2014      4.74  0.09  7.18  2.01  0.82  0.0  0.13  9.96  0.78  6.03  0.0  0.0\n",
       "2015      4.74  0.09  7.18  2.01  0.82  0.0  0.13  9.96  0.78  6.03  0.0  0.0\n",
       "2016      4.74  0.09  7.18  2.01  0.82  0.0  0.13  9.96  0.78  6.03  0.0  0.0\n",
       "2017      4.74  0.09  7.18  2.01  0.82  0.0  0.13  9.96  0.78  6.03  0.0  0.0\n",
       "2018      4.74  0.09  7.18  2.01  0.82  0.0  0.13  9.96  0.78  6.03  0.0  0.0\n",
       "2019      4.74  0.09  7.18  2.01  0.82  0.0  0.13  9.96  0.78  6.03  0.0  0.0\n",
       "2020      4.74  0.09  7.18  2.01  0.82  0.0  0.13  9.96  0.78  6.03  0.0  0.0"
      ]
     },
     "execution_count": 8,
     "metadata": {},
     "output_type": "execute_result"
    }
   ],
   "source": [
    "#mm_melted.pivot(index='variable', columns='Year')\n",
    "mm_melted.pivot(index='Year', columns='variable')"
   ]
  },
  {
   "cell_type": "markdown",
   "id": "a7ba7f51-98e1-441d-8255-86b2fc7f42f8",
   "metadata": {
    "slideshow": {
     "slide_type": "subslide"
    }
   },
   "source": [
    "### Extra Columns\n",
    "Let's go back to `mmp.txt`. \n",
    "- Matrix or relation? \n",
    "- Try doing some PIVOT/UNPIVOT work on this."
   ]
  },
  {
   "cell_type": "code",
   "execution_count": null,
   "id": "e7674d24-930d-4ecf-b10c-37eda245cc46",
   "metadata": {
    "slideshow": {
     "slide_type": "fragment"
    }
   },
   "outputs": [],
   "source": [
    "mmp = pd.read_csv('data/mmp.txt', header=0)\n",
    "mmp"
   ]
  },
  {
   "cell_type": "code",
   "execution_count": null,
   "id": "1e7cc962-31d9-49e4-96b8-c4c8b80324e3",
   "metadata": {
    "slideshow": {
     "slide_type": "fragment"
    }
   },
   "outputs": [],
   "source": [
    "# Unpivot\n",
    "mmp_melted = mmp.melt(id_vars=['Location', 'Station Name', 'Year'])\n",
    "mmp_melted"
   ]
  },
  {
   "cell_type": "code",
   "execution_count": null,
   "id": "907ab118-412e-42f9-9feb-4345f2ddb782",
   "metadata": {
    "slideshow": {
     "slide_type": "fragment"
    }
   },
   "outputs": [],
   "source": [
    "# Repivot the unpivot\n",
    "\n",
    "# mmp_melted.pivot(index='Year', columns='variable')\n",
    "mmp_tt = mmp_melted.pivot(index=['Location', 'Station Name', 'Year'], columns='variable')\n",
    "mmp_tt"
   ]
  },
  {
   "cell_type": "code",
   "execution_count": null,
   "id": "0a2335bd-70f6-4be8-bd78-b6a1df46c69a",
   "metadata": {},
   "outputs": [],
   "source": [
    "mmp_tt.reset_index()"
   ]
  },
  {
   "cell_type": "markdown",
   "id": "6ad72d0f-7b5d-403c-bab9-4bb2dafa89b9",
   "metadata": {},
   "source": [
    "# [Extra] Multisets to Sets"
   ]
  },
  {
   "cell_type": "markdown",
   "id": "d5978095-8320-4f33-b043-efa627a5f0c3",
   "metadata": {},
   "source": [
    "### Set up connections and schema"
   ]
  },
  {
   "cell_type": "code",
   "execution_count": null,
   "id": "6260b240-e247-40e9-b176-9d0ab73d91b0",
   "metadata": {},
   "outputs": [],
   "source": [
    "%reload_ext sql\n",
    "%sql postgresql://127.0.0.1:5432/postgres\n",
    "import pandas as pd"
   ]
  },
  {
   "cell_type": "code",
   "execution_count": null,
   "id": "04c34ee2-9687-499e-b5e9-bf65d410905c",
   "metadata": {},
   "outputs": [],
   "source": [
    "%%sql\n",
    "drop table if exists blue;\n",
    "drop table if exists red;\n",
    "create table blue (last text, first text);\n",
    "create table red (last text, first text);\n",
    "\n",
    "insert into blue values ('Wang', 'Daisy');\n",
    "insert into blue values ('Wang', 'Daisy');\n",
    "insert into blue values ('Wang', 'Xin');\n",
    "\n",
    "insert into red values ('Wang', 'Daisy');\n",
    "insert into red values ('Wang', 'Xin');\n",
    "insert into red values ('Wang', 'Xin');\n",
    "\n",
    "select * from blue;"
   ]
  },
  {
   "cell_type": "code",
   "execution_count": null,
   "id": "d4c6ff3a-847d-4f2d-ada7-8ae2b7b164c8",
   "metadata": {
    "scrolled": true
   },
   "outputs": [],
   "source": [
    "%sql select * from red;"
   ]
  },
  {
   "cell_type": "markdown",
   "id": "a328557d-efa6-4a97-9072-5321519ff82a",
   "metadata": {},
   "source": [
    "## Representing multiset relations as counted-set relations\n",
    "\n",
    "### Use a CTAS statement with group by to convert standard tables to counted-set tables"
   ]
  },
  {
   "cell_type": "code",
   "execution_count": null,
   "id": "a839935c-518e-4f57-9822-ce3820293369",
   "metadata": {},
   "outputs": [],
   "source": [
    "%%sql\n",
    "drop table if exists bluem;\n",
    "create table bluem as \n",
    "select *, count(*) as multiplicity\n",
    "  from blue\n",
    " group by last, first;\n",
    "\n",
    "select * from bluem;"
   ]
  },
  {
   "cell_type": "code",
   "execution_count": null,
   "id": "5129132e-d5db-4487-b3a3-ee3bf19ec0f8",
   "metadata": {},
   "outputs": [],
   "source": [
    "%%sql\n",
    "drop table if exists redm;\n",
    "create table redm as \n",
    "select *, count(*) as multiplicity\n",
    "  from red\n",
    " group by last, first;\n",
    "\n",
    "select * from redm;"
   ]
  },
  {
   "cell_type": "markdown",
   "id": "47f3a310-c5ac-445a-9401-fd258cfbb221",
   "metadata": {},
   "source": [
    "### How do we make selection on counted-set tables work like multisets?"
   ]
  },
  {
   "cell_type": "markdown",
   "id": "778593e6-87ce-4f7d-a069-df68486c208a",
   "metadata": {},
   "source": [
    "This works exactly the same in both cases. There's nothing special here. Applying `WHERE` filters on a counted-set will always yield a set back, because you're only removing rows from a set. By definition, this cannot create an entity that is not a set. "
   ]
  },
  {
   "cell_type": "code",
   "execution_count": null,
   "id": "4b5de7fc-2405-485c-ae14-7c1ca0b55183",
   "metadata": {},
   "outputs": [],
   "source": [
    "%%sql\n",
    "-- sigma on multiset\n",
    "select * from blue \n",
    " where first = 'Daisy';"
   ]
  },
  {
   "cell_type": "code",
   "execution_count": null,
   "id": "9a672d2f-2c69-4348-96a9-342afa11cba8",
   "metadata": {},
   "outputs": [],
   "source": [
    "%%sql\n",
    "-- sigma on counted set\n",
    "select * from bluem where first = 'Daisy';"
   ]
  },
  {
   "cell_type": "markdown",
   "id": "462006ae-ac2c-464c-81a4-6fc507e8945e",
   "metadata": {},
   "source": [
    "### What about projection?"
   ]
  },
  {
   "cell_type": "markdown",
   "id": "50eaf17e-fd38-45c8-a3c6-5a72b9db3b16",
   "metadata": {},
   "source": [
    "We might want to be a bit careful here. See, what defines a set uniquely is its key, and in this case, the key is the combination of `(last, first)`. Simply having `last` or just having `first` is not enough to uniquely identify a row."
   ]
  },
  {
   "cell_type": "code",
   "execution_count": null,
   "id": "c70b1e11-0b2c-4017-bc95-a4f1c169c958",
   "metadata": {},
   "outputs": [],
   "source": [
    "%%sql\n",
    "-- pi on multiset\n",
    "select last from blue;"
   ]
  },
  {
   "cell_type": "markdown",
   "id": "454421a4-30d9-4d8f-bd29-7c7c44b2ea05",
   "metadata": {},
   "source": [
    "In fact, you can see that if you simply selected `last` from a counted-set, you'd get a multi-set as your output."
   ]
  },
  {
   "cell_type": "code",
   "execution_count": null,
   "id": "942a2a53-6971-43fe-a1e3-a1bf65140693",
   "metadata": {},
   "outputs": [],
   "source": [
    "%%sql\n",
    "select last from bluem;"
   ]
  },
  {
   "cell_type": "markdown",
   "id": "3d912c4a-a8b8-4009-8449-1a7938eda31b",
   "metadata": {},
   "source": [
    "To convert this to a counted-set again, you need to sum up the multiplicities of the tuples that the `last` field came from."
   ]
  },
  {
   "cell_type": "code",
   "execution_count": null,
   "id": "1be615eb-6c2e-40aa-aa74-f02cde3b8079",
   "metadata": {},
   "outputs": [],
   "source": [
    "%%sql\n",
    "-- pi on counted set\n",
    "select last, SUM(multiplicity) from bluem group by last;"
   ]
  },
  {
   "cell_type": "markdown",
   "id": "e99954cb-cf98-4be6-b1fe-5384a00fb837",
   "metadata": {},
   "source": [
    "### What about cross-product?"
   ]
  },
  {
   "cell_type": "code",
   "execution_count": null,
   "id": "7a8063d6-4ee7-43de-954f-3b6cb2a526c4",
   "metadata": {},
   "outputs": [],
   "source": [
    "%%sql\n",
    "-- x on multiset\n",
    "select * from blue, red;"
   ]
  },
  {
   "cell_type": "markdown",
   "id": "2f516e95-7437-4f34-870e-66406c4e3117",
   "metadata": {},
   "source": [
    "Next, convert *the output* of a multiset cross-product to a counted set as we did before. This is our desired result:"
   ]
  },
  {
   "cell_type": "code",
   "execution_count": null,
   "id": "5e66ab33-25ed-41a8-af38-5420cffa05c8",
   "metadata": {},
   "outputs": [],
   "source": [
    "%%sql\n",
    "-- convert multiset x to counted set\n",
    "  with cte(blast, bfirst, rlast, rfirst)\n",
    "    as (select * from blue, red)\n",
    "select *, count(*)\n",
    "  from cte\n",
    " group by blast, bfirst, rlast, rfirst;"
   ]
  },
  {
   "cell_type": "markdown",
   "id": "ed0cfacc-8cd8-4250-829e-abfeae2d55e3",
   "metadata": {},
   "source": [
    "Now, what went on in the arithmetic here? We can think this through by pushing the arithmetic into the query!\n",
    "\n",
    "First, what do you get with naive cross-product of counted sets? You get the names from each table, along with the number of times that each name showed up in its respective table. So, for example, `('Wang', 'Xin')` showed up once in `blue` and twice in `red`."
   ]
  },
  {
   "cell_type": "code",
   "execution_count": null,
   "id": "9998ea2d-9cef-437b-b806-77fc36e205dd",
   "metadata": {},
   "outputs": [],
   "source": [
    "%%sql\n",
    "select * from bluem, redm;"
   ]
  },
  {
   "cell_type": "markdown",
   "id": "1b1b8987-7820-4608-b41d-3a2f50d7c60b",
   "metadata": {},
   "source": [
    "What does each row tell us individually? Each row tells us the number of times that the name from the left must be matched with the name from the right in the original cross product between `blue` and `red`. So if you multiply the multiplicities together, you'll get the number of instances of each ordered pair of names in the final cross product"
   ]
  },
  {
   "cell_type": "code",
   "execution_count": null,
   "id": "ff660116-9448-4509-82c4-d226c0c18d8a",
   "metadata": {},
   "outputs": [],
   "source": [
    "%%sql\n",
    "-- fix multiplicity per row\n",
    "select b.last, b.first, r.last, r.first, b.multiplicity*r.multiplicity from bluem b, redm r;"
   ]
  },
  {
   "cell_type": "markdown",
   "id": "f33966a1-66b5-487c-8a9d-2c11fb96ecf2",
   "metadata": {},
   "source": [
    "If we simply wanted to drop duplicates instead of monitoring how many there were (the point of a counted-set), our life would have been a lot easier..."
   ]
  },
  {
   "cell_type": "code",
   "execution_count": null,
   "id": "8c976377-4dfc-41cb-b0a7-897ac6b213b2",
   "metadata": {},
   "outputs": [],
   "source": [
    "%%sql\n",
    "select distinct b.last, b.first, r.last, r.first\n",
    "  from blue b, red r;"
   ]
  },
  {
   "cell_type": "code",
   "execution_count": null,
   "id": "651153f5-b443-47ec-985c-b1897eb5062e",
   "metadata": {},
   "outputs": [],
   "source": []
  },
  {
   "cell_type": "markdown",
   "id": "cad31a2b-aef8-4a28-9dc8-b35570362ac4",
   "metadata": {},
   "source": [
    "# [Scratch] Transposing Demo Code"
   ]
  },
  {
   "cell_type": "code",
   "execution_count": null,
   "id": "ec5b7e1d-139a-411b-a8b1-5d2eb0526e06",
   "metadata": {},
   "outputs": [],
   "source": [
    "%reload_ext sql\n",
    "%sql postgresql://127.0.0.1:5432/postgres\n",
    "import pandas as pd"
   ]
  },
  {
   "cell_type": "code",
   "execution_count": null,
   "id": "2637eb61-fc06-4b9f-9106-ae6f24164e4a",
   "metadata": {},
   "outputs": [],
   "source": [
    "%%sql\n",
    "drop table if exists example;\n",
    "create table example(name text, age integer, gpa float);\n",
    "insert into example values\n",
    "       ('Patty Perfect', 22, 4.0),\n",
    "       ('Sameer Soclose', 20, 3.99),\n",
    "       ('Jacob Excellent', 21, 3.93);"
   ]
  },
  {
   "cell_type": "code",
   "execution_count": null,
   "id": "e21a6210-b386-4aeb-b603-d4d9256971aa",
   "metadata": {},
   "outputs": [],
   "source": [
    "df = %sql select * from example;\n",
    "df = df.DataFrame()"
   ]
  },
  {
   "cell_type": "code",
   "execution_count": null,
   "id": "1526fbf2-6bee-4b1d-bb1e-4dcf1e64fb45",
   "metadata": {},
   "outputs": [],
   "source": [
    "df"
   ]
  },
  {
   "cell_type": "code",
   "execution_count": null,
   "id": "778177de-542c-4270-a2f1-db7f7a0a1c7d",
   "metadata": {},
   "outputs": [],
   "source": [
    "df.dtypes"
   ]
  },
  {
   "cell_type": "code",
   "execution_count": null,
   "id": "fdf3d397-c6c7-4338-a13e-d327dbc07bc2",
   "metadata": {},
   "outputs": [],
   "source": [
    "dft = df.transpose()\n",
    "dft"
   ]
  },
  {
   "cell_type": "code",
   "execution_count": null,
   "id": "e4a45649-dbf2-44aa-8b26-4f9992bdb03f",
   "metadata": {},
   "outputs": [],
   "source": [
    "dft.dtypes"
   ]
  },
  {
   "cell_type": "code",
   "execution_count": null,
   "id": "2ab8fd71-1105-41e7-a0ec-59456bf9e630",
   "metadata": {},
   "outputs": [],
   "source": [
    "df2 = df.transpose().transpose()\n",
    "df2"
   ]
  },
  {
   "cell_type": "code",
   "execution_count": null,
   "id": "8f5a62df-3a53-4754-98e6-b7cd40a48334",
   "metadata": {},
   "outputs": [],
   "source": [
    "df2.dtypes"
   ]
  },
  {
   "cell_type": "code",
   "execution_count": null,
   "id": "dbab1628-21fd-4ead-a103-d898f1927eaf",
   "metadata": {},
   "outputs": [],
   "source": [
    "df2['age'] = df2['age'].astype(int)\n",
    "df2['gpa'] = df2['gpa'].astype(float)"
   ]
  },
  {
   "cell_type": "code",
   "execution_count": null,
   "id": "a36051f8-ab77-41cc-bf93-8aaf0df65022",
   "metadata": {},
   "outputs": [],
   "source": [
    "df2.dtypes"
   ]
  },
  {
   "cell_type": "code",
   "execution_count": null,
   "id": "f4662f81-5b44-40e1-9809-3ee6b7f109e0",
   "metadata": {},
   "outputs": [],
   "source": [
    "mat = np.array([[1, 0, 0, 1, 20000],\n",
    "          [0, 1, 0, 2, 10011],\n",
    "          [0, 0, 1, 3, 50000],\n",
    "          [0, 0, 1, 3, 10000]])\n",
    "mat"
   ]
  },
  {
   "cell_type": "code",
   "execution_count": null,
   "id": "f4659d4b-9b82-4e06-9ec8-3c8ee103815f",
   "metadata": {},
   "outputs": [],
   "source": [
    "df = pd.DataFrame({'CompanyName': ['VW', 'Acura', 'Hona', 'Honda'],\n",
    "              'Categorical Value': [1, 2, 3, 3],\n",
    "              'Price': [20000, 10011, 50000, 10000]})\n",
    "df"
   ]
  },
  {
   "cell_type": "code",
   "execution_count": null,
   "id": "139b6fc6-e021-4921-bee4-38d5ea7c8604",
   "metadata": {},
   "outputs": [],
   "source": [
    "df.dtypes"
   ]
  },
  {
   "cell_type": "code",
   "execution_count": null,
   "id": "b45b7c95-9843-4d01-93c0-517527e696a7",
   "metadata": {},
   "outputs": [],
   "source": [
    "# %sql --persist df"
   ]
  }
 ],
 "metadata": {
  "kernelspec": {
   "display_name": "Python 3 (ipykernel)",
   "language": "python",
   "name": "python3"
  },
  "language_info": {
   "codemirror_mode": {
    "name": "ipython",
    "version": 3
   },
   "file_extension": ".py",
   "mimetype": "text/x-python",
   "name": "python",
   "nbconvert_exporter": "python",
   "pygments_lexer": "ipython3",
   "version": "3.11.0"
  }
 },
 "nbformat": 4,
 "nbformat_minor": 5
}
