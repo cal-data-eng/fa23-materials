{
 "cells": [
  {
   "cell_type": "markdown",
   "id": "31f40da4-66a9-4260-a6d6-5bc9e3e8e0f7",
   "metadata": {},
   "source": [
    "# Lecture 05: Advanced SQL"
   ]
  },
  {
   "cell_type": "code",
   "execution_count": 6,
   "id": "505aa8d0-4915-4205-b054-69278c6b6bbe",
   "metadata": {},
   "outputs": [],
   "source": [
    "# Run this cell to set up imports\n",
    "import numpy as np\n",
    "import pandas as pd"
   ]
  },
  {
   "cell_type": "markdown",
   "id": "fde86b0c",
   "metadata": {},
   "source": [
    "If you haven't yet, load in the `imdb_lecture` and `stops_lecture` databases."
   ]
  },
  {
   "cell_type": "code",
   "execution_count": 2,
   "id": "9416184e-ff18-41c8-ad99-7e7ecdaa639a",
   "metadata": {
    "scrolled": true
   },
   "outputs": [
    {
     "name": "stdout",
     "output_type": "stream",
     "text": [
      "'../lec02/data/imdb_lecture.zip' -> './data/imdb_lecture.zip'\n",
      "'../lec02/data/imdb_lecture.sql' -> './data/imdb_lecture.sql'\n",
      "'../lec02/data/.ipynb_checkpoints' -> './data/.ipynb_checkpoints'\n",
      "'../lec04/data/stops_lecture.sql' -> 'data/./stops_lecture.sql'\n"
     ]
    }
   ],
   "source": [
    "!mkdir data\n",
    "!cp -v -r ../lec02/data .\n",
    "!cp -v -r ../lec04/data/stops_lecture.sql data/."
   ]
  },
  {
   "cell_type": "code",
   "execution_count": 3,
   "id": "fb6a488c-cb8e-430f-abe3-f2bbf059a3ce",
   "metadata": {
    "scrolled": true
   },
   "outputs": [
    {
     "name": "stdout",
     "output_type": "stream",
     "text": [
      "DROP DATABASE\n",
      "CREATE DATABASE\n",
      "SET\n",
      "SET\n",
      "SET\n",
      "SET\n",
      "SET\n",
      " set_config \n",
      "------------\n",
      " \n",
      "(1 row)\n",
      "\n",
      "SET\n",
      "SET\n",
      "SET\n",
      "SET\n",
      "SET\n",
      "SET\n",
      "CREATE TABLE\n",
      "ALTER TABLE\n",
      "CREATE TABLE\n",
      "ALTER TABLE\n",
      "CREATE TABLE\n",
      "ALTER TABLE\n",
      "CREATE TABLE\n",
      "ALTER TABLE\n",
      "CREATE TABLE\n",
      "ALTER TABLE\n",
      "CREATE TABLE\n",
      "ALTER TABLE\n",
      "COPY 8405\n",
      "COPY 4043\n",
      "COPY 4923\n",
      "COPY 1223\n",
      "COPY 820\n",
      "COPY 2420\n"
     ]
    }
   ],
   "source": [
    "!psql -h localhost -c 'DROP DATABASE IF EXISTS imdb_lecture'\n",
    "!psql -h localhost -c 'CREATE DATABASE imdb_lecture' \n",
    "!psql -h localhost -d imdb_lecture -f data/imdb_lecture.sql"
   ]
  },
  {
   "cell_type": "code",
   "execution_count": 4,
   "id": "3180cfb2-75ff-4fff-b1c0-16a4edb91793",
   "metadata": {},
   "outputs": [
    {
     "name": "stdout",
     "output_type": "stream",
     "text": [
      "DROP DATABASE\n",
      "CREATE DATABASE\n",
      "SET\n",
      "SET\n",
      "SET\n",
      "SET\n",
      "SET\n",
      " set_config \n",
      "------------\n",
      " \n",
      "(1 row)\n",
      "\n",
      "SET\n",
      "SET\n",
      "SET\n",
      "SET\n",
      "SET\n",
      "SET\n",
      "CREATE TABLE\n",
      "ALTER TABLE\n",
      "CREATE TABLE\n",
      "ALTER TABLE\n",
      "COPY 84779\n",
      "COPY 211\n",
      "CREATE INDEX\n",
      "CREATE INDEX\n"
     ]
    }
   ],
   "source": [
    "!psql -h localhost -c 'DROP DATABASE IF EXISTS stops_lecture'\n",
    "!psql -h localhost -c 'CREATE DATABASE stops_lecture' \n",
    "!psql -h localhost -d imdb_lecture -f data/stops_lecture.sql"
   ]
  },
  {
   "cell_type": "markdown",
   "id": "150395bf-a7a3-475b-be2f-472ed6414fa5",
   "metadata": {},
   "source": [
    "# Exercise #1: String manipulation"
   ]
  },
  {
   "cell_type": "code",
   "execution_count": 7,
   "id": "60cda598-6186-47f0-8ff0-e94272e3cce7",
   "metadata": {},
   "outputs": [],
   "source": [
    "%load_ext sql"
   ]
  },
  {
   "cell_type": "code",
   "execution_count": 9,
   "id": "4afca008-4989-4119-9ba6-f6ec7777730e",
   "metadata": {
    "scrolled": true
   },
   "outputs": [],
   "source": [
    "%sql postgresql://127.0.0.1:5432/stops_lecture"
   ]
  },
  {
   "cell_type": "code",
   "execution_count": 13,
   "id": "95d55f07-3af4-49f9-b20c-b6bf813dd6ed",
   "metadata": {},
   "outputs": [
    {
     "data": {
      "text/html": [
       "<span style=\"None\">Running query in &#x27;postgresql://127.0.0.1:5432/stops_lecture&#x27;</span>"
      ],
      "text/plain": [
       "Running query in 'postgresql://127.0.0.1:5432/stops_lecture'"
      ]
     },
     "metadata": {},
     "output_type": "display_data"
    },
    {
     "data": {
      "text/html": [
       "<span style=\"color: green\">1 rows affected.</span>"
      ],
      "text/plain": [
       "1 rows affected."
      ]
     },
     "metadata": {},
     "output_type": "display_data"
    },
    {
     "data": {
      "text/html": [
       "<table>\n",
       "    <thead>\n",
       "        <tr>\n",
       "            <th>?column?</th>\n",
       "            <th>strpos</th>\n",
       "            <th>substring</th>\n",
       "        </tr>\n",
       "    </thead>\n",
       "    <tbody>\n",
       "        <tr>\n",
       "            <td>HelloWorld</td>\n",
       "            <td>2</td>\n",
       "            <td>ell</td>\n",
       "        </tr>\n",
       "    </tbody>\n",
       "</table>"
      ],
      "text/plain": [
       "+------------+--------+-----------+\n",
       "|  ?column?  | strpos | substring |\n",
       "+------------+--------+-----------+\n",
       "| HelloWorld |   2    |    ell    |\n",
       "+------------+--------+-----------+"
      ]
     },
     "execution_count": 13,
     "metadata": {},
     "output_type": "execute_result"
    }
   ],
   "source": [
    "%%sql\n",
    "SELECT 'Hello' || 'World',\n",
    "       STRPOS('Hello', 'el'),\n",
    "       SUBSTRING('Hello' FROM 2 FOR 3)\n",
    ";"
   ]
  },
  {
   "cell_type": "code",
   "execution_count": 14,
   "id": "8de739c3-d91f-48f8-99bf-4c3e9c995148",
   "metadata": {},
   "outputs": [
    {
     "data": {
      "text/html": [
       "<span style=\"None\">Running query in &#x27;postgresql://127.0.0.1:5432/stops_lecture&#x27;</span>"
      ],
      "text/plain": [
       "Running query in 'postgresql://127.0.0.1:5432/stops_lecture'"
      ]
     },
     "metadata": {},
     "output_type": "display_data"
    },
    {
     "data": {
      "text/html": [
       "<span style=\"color: green\">1 rows affected.</span>"
      ],
      "text/plain": [
       "1 rows affected."
      ]
     },
     "metadata": {},
     "output_type": "display_data"
    },
    {
     "data": {
      "text/html": [
       "<table>\n",
       "    <thead>\n",
       "        <tr>\n",
       "            <th>ex1</th>\n",
       "            <th>ex2</th>\n",
       "            <th>ex3</th>\n",
       "            <th>ex4</th>\n",
       "        </tr>\n",
       "    </thead>\n",
       "    <tbody>\n",
       "        <tr>\n",
       "            <td>HannahMontana</td>\n",
       "            <td>Montana, Hannah</td>\n",
       "            <td>hone Number 510 642 3214</td>\n",
       "            <td>5106423214</td>\n",
       "        </tr>\n",
       "    </tbody>\n",
       "</table>"
      ],
      "text/plain": [
       "+---------------+-----------------+--------------------------+------------+\n",
       "|      ex1      |       ex2       |           ex3            |    ex4     |\n",
       "+---------------+-----------------+--------------------------+------------+\n",
       "| HannahMontana | Montana, Hannah | hone Number 510 642 3214 | 5106423214 |\n",
       "+---------------+-----------------+--------------------------+------------+"
      ]
     },
     "execution_count": 14,
     "metadata": {},
     "output_type": "execute_result"
    }
   ],
   "source": [
    "%%sql\n",
    "                                    -- pattern -- replace\n",
    "SELECT REGEXP_REPLACE('Hannah Montana', '(.*) ', '\\1') as ex1,\n",
    "       REGEXP_REPLACE('Hannah Montana', '(.*) (.*)', '\\2, \\1') as ex2,\n",
    "       REGEXP_REPLACE('Phone Number 510 642 3214', '[a-zA-Z ]', '') as ex3,\n",
    "       REGEXP_REPLACE('Phone Number 510 642 3214', '[a-zA-Z ]', '', 'g') as ex4\n",
    ";"
   ]
  },
  {
   "cell_type": "markdown",
   "id": "66f8315f-b683-4a89-97b4-64005d5138f2",
   "metadata": {},
   "source": [
    "# Exercise 2"
   ]
  },
  {
   "cell_type": "code",
   "execution_count": 15,
   "id": "051090a0",
   "metadata": {},
   "outputs": [
    {
     "name": "stdout",
     "output_type": "stream",
     "text": [
      "The sql extension is already loaded. To reload it, use:\n",
      "  %reload_ext sql\n"
     ]
    }
   ],
   "source": [
    "%load_ext sql"
   ]
  },
  {
   "cell_type": "code",
   "execution_count": 16,
   "id": "ff8d1b8d-7636-4a1f-8e2f-36b28f2f2110",
   "metadata": {},
   "outputs": [],
   "source": [
    "%sql --close postgresql://127.0.0.1:5432/stops_lecture"
   ]
  },
  {
   "cell_type": "code",
   "execution_count": 17,
   "id": "e1405b3e-d78c-48d6-beb2-b6b51e82b876",
   "metadata": {},
   "outputs": [
    {
     "data": {
      "text/html": [
       "<span style=\"None\">Connecting and switching to connection postgresql://127.0.0.1:5432/imdb_lecture</span>"
      ],
      "text/plain": [
       "Connecting and switching to connection postgresql://127.0.0.1:5432/imdb_lecture"
      ]
     },
     "metadata": {},
     "output_type": "display_data"
    }
   ],
   "source": [
    "%sql postgresql://127.0.0.1:5432/imdb_lecture"
   ]
  },
  {
   "cell_type": "markdown",
   "id": "eb771785-8eda-4421-89c6-8791a4f825db",
   "metadata": {},
   "source": [
    "## Choice A"
   ]
  },
  {
   "cell_type": "code",
   "execution_count": 19,
   "id": "4117e097-00fb-48ab-9e65-a990c1083246",
   "metadata": {},
   "outputs": [
    {
     "data": {
      "text/html": [
       "<span style=\"None\">Running query in &#x27;postgresql://127.0.0.1:5432/imdb_lecture&#x27;</span>"
      ],
      "text/plain": [
       "Running query in 'postgresql://127.0.0.1:5432/imdb_lecture'"
      ]
     },
     "metadata": {},
     "output_type": "display_data"
    },
    {
     "data": {
      "text/html": [
       "<span style=\"color: green\">10 rows affected.</span>"
      ],
      "text/plain": [
       "10 rows affected."
      ]
     },
     "metadata": {},
     "output_type": "display_data"
    },
    {
     "data": {
      "text/html": [
       "<table>\n",
       "    <thead>\n",
       "        <tr>\n",
       "            <th>person_id</th>\n",
       "            <th>name</th>\n",
       "            <th>born</th>\n",
       "            <th>died</th>\n",
       "        </tr>\n",
       "    </thead>\n",
       "    <tbody>\n",
       "        <tr>\n",
       "            <td>nm0384214</td>\n",
       "            <td>Dwayne Hill</td>\n",
       "            <td>None</td>\n",
       "            <td>None</td>\n",
       "        </tr>\n",
       "        <tr>\n",
       "            <td>nm0362443</td>\n",
       "            <td>Dave Hardman</td>\n",
       "            <td>1960</td>\n",
       "            <td>None</td>\n",
       "        </tr>\n",
       "        <tr>\n",
       "            <td>nm1560888</td>\n",
       "            <td>Rich Pryce-Jones</td>\n",
       "            <td>None</td>\n",
       "            <td>None</td>\n",
       "        </tr>\n",
       "        <tr>\n",
       "            <td>nm0006669</td>\n",
       "            <td>William Sadler</td>\n",
       "            <td>1950</td>\n",
       "            <td>None</td>\n",
       "        </tr>\n",
       "        <tr>\n",
       "            <td>nm1373094</td>\n",
       "            <td>Giada De Laurentiis</td>\n",
       "            <td>1970</td>\n",
       "            <td>None</td>\n",
       "        </tr>\n",
       "        <tr>\n",
       "            <td>nm7316782</td>\n",
       "            <td>Janine Hartmann</td>\n",
       "            <td>None</td>\n",
       "            <td>None</td>\n",
       "        </tr>\n",
       "        <tr>\n",
       "            <td>nm8671663</td>\n",
       "            <td>Tereza Taliánová</td>\n",
       "            <td>2005</td>\n",
       "            <td>None</td>\n",
       "        </tr>\n",
       "        <tr>\n",
       "            <td>nm10480297</td>\n",
       "            <td>Chris Heywood</td>\n",
       "            <td>None</td>\n",
       "            <td>None</td>\n",
       "        </tr>\n",
       "        <tr>\n",
       "            <td>nm10803545</td>\n",
       "            <td>Chengao Zhou</td>\n",
       "            <td>None</td>\n",
       "            <td>None</td>\n",
       "        </tr>\n",
       "        <tr>\n",
       "            <td>nm9849414</td>\n",
       "            <td>Mark Langley</td>\n",
       "            <td>None</td>\n",
       "            <td>None</td>\n",
       "        </tr>\n",
       "    </tbody>\n",
       "</table>\n",
       "<span style=\"font-style:italic;text-align:center;\">Truncated to <a href=\"https://jupysql.ploomber.io/en/latest/api/configuration.html#displaylimit\">displaylimit</a> of 10.</span>"
      ],
      "text/plain": [
       "+------------+---------------------+------+------+\n",
       "| person_id  |         name        | born | died |\n",
       "+------------+---------------------+------+------+\n",
       "| nm0384214  |     Dwayne Hill     | None | None |\n",
       "| nm0362443  |     Dave Hardman    | 1960 | None |\n",
       "| nm1560888  |   Rich Pryce-Jones  | None | None |\n",
       "| nm0006669  |    William Sadler   | 1950 | None |\n",
       "| nm1373094  | Giada De Laurentiis | 1970 | None |\n",
       "| nm7316782  |   Janine Hartmann   | None | None |\n",
       "| nm8671663  |   Tereza Taliánová  | 2005 | None |\n",
       "| nm10480297 |    Chris Heywood    | None | None |\n",
       "| nm10803545 |     Chengao Zhou    | None | None |\n",
       "| nm9849414  |     Mark Langley    | None | None |\n",
       "+------------+---------------------+------+------+\n",
       "Truncated to displaylimit of 10."
      ]
     },
     "execution_count": 19,
     "metadata": {},
     "output_type": "execute_result"
    }
   ],
   "source": [
    "%%sql\n",
    "SELECT *\n",
    "FROM people\n",
    "LIMIT 10;"
   ]
  },
  {
   "cell_type": "code",
   "execution_count": 18,
   "id": "6345bad3-0451-4933-89b1-b24f9e05078f",
   "metadata": {},
   "outputs": [
    {
     "data": {
      "text/html": [
       "<span style=\"None\">Running query in &#x27;postgresql://127.0.0.1:5432/imdb_lecture&#x27;</span>"
      ],
      "text/plain": [
       "Running query in 'postgresql://127.0.0.1:5432/imdb_lecture'"
      ]
     },
     "metadata": {},
     "output_type": "display_data"
    },
    {
     "data": {
      "text/html": [
       "<span style=\"color: green\">1223 rows affected.</span>"
      ],
      "text/plain": [
       "1223 rows affected."
      ]
     },
     "metadata": {},
     "output_type": "display_data"
    },
    {
     "data": {
      "text/html": [
       "<table>\n",
       "    <thead>\n",
       "        <tr>\n",
       "            <th>lastname</th>\n",
       "            <th>firstname</th>\n",
       "        </tr>\n",
       "    </thead>\n",
       "    <tbody>\n",
       "        <tr>\n",
       "            <td>Hill</td>\n",
       "            <td>Dwayne</td>\n",
       "        </tr>\n",
       "        <tr>\n",
       "            <td>Hardman</td>\n",
       "            <td>Dave</td>\n",
       "        </tr>\n",
       "        <tr>\n",
       "            <td>Pryce-Jones</td>\n",
       "            <td>Rich</td>\n",
       "        </tr>\n",
       "        <tr>\n",
       "            <td>Sadler</td>\n",
       "            <td>William</td>\n",
       "        </tr>\n",
       "        <tr>\n",
       "            <td>Laurentiis</td>\n",
       "            <td>Giada De</td>\n",
       "        </tr>\n",
       "        <tr>\n",
       "            <td>Hartmann</td>\n",
       "            <td>Janine</td>\n",
       "        </tr>\n",
       "        <tr>\n",
       "            <td>Taliánová</td>\n",
       "            <td>Tereza</td>\n",
       "        </tr>\n",
       "        <tr>\n",
       "            <td>Heywood</td>\n",
       "            <td>Chris</td>\n",
       "        </tr>\n",
       "        <tr>\n",
       "            <td>Zhou</td>\n",
       "            <td>Chengao</td>\n",
       "        </tr>\n",
       "        <tr>\n",
       "            <td>Langley</td>\n",
       "            <td>Mark</td>\n",
       "        </tr>\n",
       "    </tbody>\n",
       "</table>\n",
       "<span style=\"font-style:italic;text-align:center;\">Truncated to <a href=\"https://jupysql.ploomber.io/en/latest/api/configuration.html#displaylimit\">displaylimit</a> of 10.</span>"
      ],
      "text/plain": [
       "+-------------+-----------+\n",
       "|   lastname  | firstname |\n",
       "+-------------+-----------+\n",
       "|     Hill    |   Dwayne  |\n",
       "|   Hardman   |    Dave   |\n",
       "| Pryce-Jones |    Rich   |\n",
       "|    Sadler   |  William  |\n",
       "|  Laurentiis |  Giada De |\n",
       "|   Hartmann  |   Janine  |\n",
       "|  Taliánová  |   Tereza  |\n",
       "|   Heywood   |   Chris   |\n",
       "|     Zhou    |  Chengao  |\n",
       "|   Langley   |    Mark   |\n",
       "+-------------+-----------+\n",
       "Truncated to displaylimit of 10."
      ]
     },
     "execution_count": 18,
     "metadata": {},
     "output_type": "execute_result"
    }
   ],
   "source": [
    "%%sql\n",
    "SELECT REGEXP_REPLACE(name, '(.*) (.*)', '\\2') as lastname,\n",
    "       REGEXP_REPLACE(name, '(.*) (.*)', '\\1') as firstname\n",
    "FROM people;"
   ]
  },
  {
   "cell_type": "markdown",
   "id": "010fe0f6-9679-484e-90e6-f4e7ad6b6c68",
   "metadata": {},
   "source": [
    "## Choice B"
   ]
  },
  {
   "cell_type": "code",
   "execution_count": 20,
   "id": "1dc2b621-e6dc-4f99-b27f-92edd7fc1177",
   "metadata": {},
   "outputs": [
    {
     "data": {
      "text/html": [
       "<span style=\"None\">Running query in &#x27;postgresql://127.0.0.1:5432/imdb_lecture&#x27;</span>"
      ],
      "text/plain": [
       "Running query in 'postgresql://127.0.0.1:5432/imdb_lecture'"
      ]
     },
     "metadata": {},
     "output_type": "display_data"
    },
    {
     "data": {
      "text/html": [
       "<span style=\"color: green\">871 rows affected.</span>"
      ],
      "text/plain": [
       "871 rows affected."
      ]
     },
     "metadata": {},
     "output_type": "display_data"
    },
    {
     "data": {
      "text/html": [
       "<table>\n",
       "    <thead>\n",
       "        <tr>\n",
       "            <th>firstname</th>\n",
       "            <th>countname</th>\n",
       "        </tr>\n",
       "    </thead>\n",
       "    <tbody>\n",
       "        <tr>\n",
       "            <td>Chris</td>\n",
       "            <td>79</td>\n",
       "        </tr>\n",
       "        <tr>\n",
       "            <td>David</td>\n",
       "            <td>18</td>\n",
       "        </tr>\n",
       "        <tr>\n",
       "            <td>Michael</td>\n",
       "            <td>16</td>\n",
       "        </tr>\n",
       "        <tr>\n",
       "            <td>Steve</td>\n",
       "            <td>10</td>\n",
       "        </tr>\n",
       "        <tr>\n",
       "            <td>Peter</td>\n",
       "            <td>9</td>\n",
       "        </tr>\n",
       "        <tr>\n",
       "            <td>John</td>\n",
       "            <td>9</td>\n",
       "        </tr>\n",
       "        <tr>\n",
       "            <td>Tom</td>\n",
       "            <td>8</td>\n",
       "        </tr>\n",
       "        <tr>\n",
       "            <td>Mark</td>\n",
       "            <td>8</td>\n",
       "        </tr>\n",
       "        <tr>\n",
       "            <td>Dan</td>\n",
       "            <td>8</td>\n",
       "        </tr>\n",
       "        <tr>\n",
       "            <td>Paul</td>\n",
       "            <td>6</td>\n",
       "        </tr>\n",
       "    </tbody>\n",
       "</table>\n",
       "<span style=\"font-style:italic;text-align:center;\">Truncated to <a href=\"https://jupysql.ploomber.io/en/latest/api/configuration.html#displaylimit\">displaylimit</a> of 10.</span>"
      ],
      "text/plain": [
       "+-----------+-----------+\n",
       "| firstname | countname |\n",
       "+-----------+-----------+\n",
       "|   Chris   |     79    |\n",
       "|   David   |     18    |\n",
       "|  Michael  |     16    |\n",
       "|   Steve   |     10    |\n",
       "|   Peter   |     9     |\n",
       "|    John   |     9     |\n",
       "|    Tom    |     8     |\n",
       "|    Mark   |     8     |\n",
       "|    Dan    |     8     |\n",
       "|    Paul   |     6     |\n",
       "+-----------+-----------+\n",
       "Truncated to displaylimit of 10."
      ]
     },
     "execution_count": 20,
     "metadata": {},
     "output_type": "execute_result"
    }
   ],
   "source": [
    "%%sql\n",
    "SELECT REGEXP_REPLACE(name, '(.*) (.*)', '\\1') AS firstname,\n",
    "       COUNT(*) AS countname\n",
    "FROM people\n",
    "GROUP BY firstname\n",
    "ORDER BY countname desc;"
   ]
  },
  {
   "cell_type": "markdown",
   "id": "b597ad4e-69e1-4616-a42c-26caa5580f20",
   "metadata": {},
   "source": [
    "## Choice C"
   ]
  },
  {
   "cell_type": "code",
   "execution_count": 25,
   "id": "6e80d22b-53e6-4927-b0ff-062c2f390db3",
   "metadata": {},
   "outputs": [
    {
     "data": {
      "text/html": [
       "<span style=\"None\">Running query in &#x27;postgresql://127.0.0.1:5432/imdb_lecture&#x27;</span>"
      ],
      "text/plain": [
       "Running query in 'postgresql://127.0.0.1:5432/imdb_lecture'"
      ]
     },
     "metadata": {},
     "output_type": "display_data"
    },
    {
     "data": {
      "text/html": [
       "<span style=\"color: green\">1 rows affected.</span>"
      ],
      "text/plain": [
       "1 rows affected."
      ]
     },
     "metadata": {},
     "output_type": "display_data"
    },
    {
     "data": {
      "text/html": [
       "<table>\n",
       "    <thead>\n",
       "        <tr>\n",
       "            <th>max</th>\n",
       "        </tr>\n",
       "    </thead>\n",
       "    <tbody>\n",
       "        <tr>\n",
       "            <td>20</td>\n",
       "        </tr>\n",
       "    </tbody>\n",
       "</table>"
      ],
      "text/plain": [
       "+-----+\n",
       "| max |\n",
       "+-----+\n",
       "|  20 |\n",
       "+-----+"
      ]
     },
     "execution_count": 25,
     "metadata": {},
     "output_type": "execute_result"
    }
   ],
   "source": [
    "%%sql\n",
    "WITH firstnames AS (\n",
    "    SELECT REGEXP_REPLACE(name, '(.*) .*', '\\1') as firstname\n",
    "    FROM people )\n",
    "SELECT MAX(LENGTH(firstname))\n",
    "FROM firstnames;"
   ]
  },
  {
   "cell_type": "markdown",
   "id": "dd9bc9cc-2708-46e9-ad95-490dd4ac7d6a",
   "metadata": {},
   "source": [
    "What is this first name? Why doesn't the below query work?"
   ]
  },
  {
   "cell_type": "code",
   "execution_count": null,
   "id": "3c31fe7a-944e-456a-ab22-0026b4f765ef",
   "metadata": {},
   "outputs": [],
   "source": [
    "%%sql\n",
    "WITH firstnames AS (\n",
    "    SELECT REGEXP_REPLACE(name, '(.*) (.*)', '\\1') as firstname\n",
    "    FROM people )\n",
    "SELECT MAX(LENGTH(firstname)), firstname\n",
    "FROM firstnames;"
   ]
  },
  {
   "cell_type": "code",
   "execution_count": 31,
   "id": "49626069-e432-423f-a687-d4479aae9da4",
   "metadata": {},
   "outputs": [
    {
     "data": {
      "text/html": [
       "<span style=\"None\">Running query in &#x27;postgresql://127.0.0.1:5432/imdb_lecture&#x27;</span>"
      ],
      "text/plain": [
       "Running query in 'postgresql://127.0.0.1:5432/imdb_lecture'"
      ]
     },
     "metadata": {},
     "output_type": "display_data"
    },
    {
     "data": {
      "text/html": [
       "<span style=\"color: green\">1201 rows affected.</span>"
      ],
      "text/plain": [
       "1201 rows affected."
      ]
     },
     "metadata": {},
     "output_type": "display_data"
    },
    {
     "data": {
      "text/html": [
       "<table>\n",
       "    <thead>\n",
       "        <tr>\n",
       "            <th>max</th>\n",
       "            <th>firstname</th>\n",
       "        </tr>\n",
       "    </thead>\n",
       "    <tbody>\n",
       "        <tr>\n",
       "            <td>28</td>\n",
       "            <td>Juan Francisco PérezVillalba</td>\n",
       "        </tr>\n",
       "        <tr>\n",
       "            <td>25</td>\n",
       "            <td>Shyamashis R.Bhattacharya</td>\n",
       "        </tr>\n",
       "        <tr>\n",
       "            <td>24</td>\n",
       "            <td>José María GonzálezSinde</td>\n",
       "        </tr>\n",
       "        <tr>\n",
       "            <td>24</td>\n",
       "            <td>Margarida Mercês deMello</td>\n",
       "        </tr>\n",
       "        <tr>\n",
       "            <td>24</td>\n",
       "            <td>Friedrich KarlPraetorius</td>\n",
       "        </tr>\n",
       "        <tr>\n",
       "            <td>23</td>\n",
       "            <td>Jean-ChristianPetitfils</td>\n",
       "        </tr>\n",
       "        <tr>\n",
       "            <td>23</td>\n",
       "            <td>Linda VidettiFigueiredo</td>\n",
       "        </tr>\n",
       "        <tr>\n",
       "            <td>23</td>\n",
       "            <td>Michelle van derHeijden</td>\n",
       "        </tr>\n",
       "        <tr>\n",
       "            <td>22</td>\n",
       "            <td>Michael EldonLobsinger</td>\n",
       "        </tr>\n",
       "        <tr>\n",
       "            <td>22</td>\n",
       "            <td>Marissa NicoleTiamfook</td>\n",
       "        </tr>\n",
       "    </tbody>\n",
       "</table>\n",
       "<span style=\"font-style:italic;text-align:center;\">Truncated to <a href=\"https://jupysql.ploomber.io/en/latest/api/configuration.html#displaylimit\">displaylimit</a> of 10.</span>"
      ],
      "text/plain": [
       "+-----+------------------------------+\n",
       "| max |          firstname           |\n",
       "+-----+------------------------------+\n",
       "|  28 | Juan Francisco PérezVillalba |\n",
       "|  25 |  Shyamashis R.Bhattacharya   |\n",
       "|  24 |   José María GonzálezSinde   |\n",
       "|  24 |   Margarida Mercês deMello   |\n",
       "|  24 |   Friedrich KarlPraetorius   |\n",
       "|  23 |   Jean-ChristianPetitfils    |\n",
       "|  23 |   Linda VidettiFigueiredo    |\n",
       "|  23 |   Michelle van derHeijden    |\n",
       "|  22 |    Michael EldonLobsinger    |\n",
       "|  22 |    Marissa NicoleTiamfook    |\n",
       "+-----+------------------------------+\n",
       "Truncated to displaylimit of 10."
      ]
     },
     "execution_count": 31,
     "metadata": {},
     "output_type": "execute_result"
    }
   ],
   "source": [
    "%%sql\n",
    "WITH firstnames AS (\n",
    "    SELECT REGEXP_REPLACE(name, '(.*) (.*)', '\\1') as firstname\n",
    "    FROM people )\n",
    "SELECT MAX(LENGTH(firstname)), firstname\n",
    "FROM firstnames\n",
    "GROUP BY firstname\n",
    "ORDER BY firstname desc;"
   ]
  },
  {
   "cell_type": "markdown",
   "id": "fc2e740e-0189-49d1-a629-4deaf7ccaa5c",
   "metadata": {},
   "source": [
    "Solution:"
   ]
  },
  {
   "cell_type": "code",
   "execution_count": 28,
   "id": "ee907269-d530-49c6-91b1-4a1fabe486c7",
   "metadata": {},
   "outputs": [
    {
     "data": {
      "text/html": [
       "<span style=\"None\">Running query in &#x27;postgresql://127.0.0.1:5432/imdb_lecture&#x27;</span>"
      ],
      "text/plain": [
       "Running query in 'postgresql://127.0.0.1:5432/imdb_lecture'"
      ]
     },
     "metadata": {},
     "output_type": "display_data"
    },
    {
     "data": {
      "text/html": [
       "<span style=\"color: green\">871 rows affected.</span>"
      ],
      "text/plain": [
       "871 rows affected."
      ]
     },
     "metadata": {},
     "output_type": "display_data"
    },
    {
     "data": {
      "text/html": [
       "<table>\n",
       "    <thead>\n",
       "        <tr>\n",
       "            <th>max</th>\n",
       "            <th>firstname</th>\n",
       "        </tr>\n",
       "    </thead>\n",
       "    <tbody>\n",
       "        <tr>\n",
       "            <td>20</td>\n",
       "            <td>Juan Francisco Pérez</td>\n",
       "        </tr>\n",
       "        <tr>\n",
       "            <td>19</td>\n",
       "            <td>José María González</td>\n",
       "        </tr>\n",
       "        <tr>\n",
       "            <td>19</td>\n",
       "            <td>Margarida Mercês de</td>\n",
       "        </tr>\n",
       "        <tr>\n",
       "            <td>16</td>\n",
       "            <td>Dadinha Monteiro</td>\n",
       "        </tr>\n",
       "        <tr>\n",
       "            <td>16</td>\n",
       "            <td>Sreemoolanagaram</td>\n",
       "        </tr>\n",
       "        <tr>\n",
       "            <td>16</td>\n",
       "            <td>Michelle van der</td>\n",
       "        </tr>\n",
       "        <tr>\n",
       "            <td>15</td>\n",
       "            <td>Jonathan Taylor</td>\n",
       "        </tr>\n",
       "        <tr>\n",
       "            <td>15</td>\n",
       "            <td>Deirdre Coleman</td>\n",
       "        </tr>\n",
       "        <tr>\n",
       "            <td>15</td>\n",
       "            <td>Nam Hoi Sap-Sam</td>\n",
       "        </tr>\n",
       "        <tr>\n",
       "            <td>15</td>\n",
       "            <td>Michael Richard</td>\n",
       "        </tr>\n",
       "    </tbody>\n",
       "</table>\n",
       "<span style=\"font-style:italic;text-align:center;\">Truncated to <a href=\"https://jupysql.ploomber.io/en/latest/api/configuration.html#displaylimit\">displaylimit</a> of 10.</span>"
      ],
      "text/plain": [
       "+-----+----------------------+\n",
       "| max |      firstname       |\n",
       "+-----+----------------------+\n",
       "|  20 | Juan Francisco Pérez |\n",
       "|  19 | José María González  |\n",
       "|  19 | Margarida Mercês de  |\n",
       "|  16 |   Dadinha Monteiro   |\n",
       "|  16 |   Sreemoolanagaram   |\n",
       "|  16 |   Michelle van der   |\n",
       "|  15 |   Jonathan Taylor    |\n",
       "|  15 |   Deirdre Coleman    |\n",
       "|  15 |   Nam Hoi Sap-Sam    |\n",
       "|  15 |   Michael Richard    |\n",
       "+-----+----------------------+\n",
       "Truncated to displaylimit of 10."
      ]
     },
     "execution_count": 28,
     "metadata": {},
     "output_type": "execute_result"
    }
   ],
   "source": [
    "%%sql\n",
    "WITH firstnames AS (\n",
    "    SELECT REGEXP_REPLACE(name, '(.*) (.*)', '\\1') as firstname\n",
    "    FROM people )\n",
    "SELECT MAX(LENGTH(firstname)), firstname\n",
    "FROM firstnames\n",
    "GROUP BY firstname\n",
    "ORDER BY max DESC;"
   ]
  },
  {
   "cell_type": "markdown",
   "id": "74adb549-73be-4faa-8e6a-ae782b6c2f2f",
   "metadata": {},
   "source": [
    "# Exercise \\#3: Grouping"
   ]
  },
  {
   "cell_type": "code",
   "execution_count": null,
   "id": "a4646ea8-bd59-4560-95bb-69d67c093e32",
   "metadata": {},
   "outputs": [],
   "source": [
    "%reload_ext sql"
   ]
  },
  {
   "cell_type": "code",
   "execution_count": null,
   "id": "2877770e-370f-44ed-ac81-0e92cf6605b5",
   "metadata": {
    "scrolled": true
   },
   "outputs": [],
   "source": [
    "!psql -h localhost -c 'DROP DATABASE IF EXISTS stops_lecture'\n",
    "!psql -h localhost -c 'CREATE DATABASE stops_lecture' \n",
    "!psql -h localhost -d stops_lecture -f data/stops_lecture.sql"
   ]
  },
  {
   "cell_type": "code",
   "execution_count": null,
   "id": "9e044d01",
   "metadata": {
    "scrolled": true
   },
   "outputs": [],
   "source": [
    "%sql postgresql://127.0.0.1:5432/stops_lecture"
   ]
  },
  {
   "cell_type": "code",
   "execution_count": null,
   "id": "fc11b168-fc32-428f-b4f5-5a0bf6120024",
   "metadata": {},
   "outputs": [],
   "source": [
    "%%sql\n",
    "SELECT COUNT(*)\n",
    "FROM stops;"
   ]
  },
  {
   "cell_type": "code",
   "execution_count": null,
   "id": "0b14d923-e725-4875-ac3a-e93e8eb996e4",
   "metadata": {},
   "outputs": [],
   "source": [
    "%%sql\n",
    "SELECT DISTINCT COUNT(*)\n",
    "FROM Zips;"
   ]
  },
  {
   "cell_type": "code",
   "execution_count": null,
   "id": "d3202a4f-a6b3-4cb5-bb2d-78f943c83b53",
   "metadata": {},
   "outputs": [],
   "source": [
    "%%sql\n",
    "SELECT COUNT(*)\n",
    "FROM Stops\n",
    "    INNER JOIN Zips\n",
    "    ON Stops.location = Zips.location;"
   ]
  },
  {
   "cell_type": "markdown",
   "id": "f6dff5b4-6aec-4978-b1c8-fc8030bca4d6",
   "metadata": {},
   "source": [
    "# Demo: Windows and Casting"
   ]
  },
  {
   "cell_type": "code",
   "execution_count": null,
   "id": "466c3851-9b88-4fa8-b98d-8db2d432ff22",
   "metadata": {},
   "outputs": [],
   "source": [
    "%reload_ext sql"
   ]
  },
  {
   "cell_type": "code",
   "execution_count": null,
   "id": "45774dd6-e6cb-48a7-9ebc-10b50dd5b2b4",
   "metadata": {
    "scrolled": true
   },
   "outputs": [],
   "source": [
    "%sql --close postgresql://127.0.0.1:5432/stops_lecture"
   ]
  },
  {
   "cell_type": "code",
   "execution_count": null,
   "id": "fb758f9a-fd04-418c-b759-ab85b1adfbf4",
   "metadata": {
    "scrolled": true
   },
   "outputs": [],
   "source": [
    "%sql postgresql://127.0.0.1:5432/imdb_lecture"
   ]
  },
  {
   "cell_type": "markdown",
   "id": "e39dc5c1-6c76-4df5-b8c7-bf6a6cdbe3cd",
   "metadata": {},
   "source": [
    "Make a temporary other table"
   ]
  },
  {
   "cell_type": "code",
   "execution_count": null,
   "id": "c24ca423-e2e8-4f17-9d33-21125ee6adb2",
   "metadata": {},
   "outputs": [],
   "source": [
    "%%sql\n",
    "DROP TABLE IF EXISTS actor_title;\n",
    "CREATE TABLE actor_title AS (\n",
    "    SELECT t1.primary_title AS title, t1.title_id, a1.name\n",
    "    FROM titles t1, people a1, crew c1\n",
    "    WHERE t1.title_id = c1.title_id AND a1.person_id = c1.person_id\n",
    ");\n"
   ]
  },
  {
   "cell_type": "code",
   "execution_count": null,
   "id": "c86ea926-b1e9-4861-a6d9-9701688041a6",
   "metadata": {},
   "outputs": [],
   "source": [
    "%%sql\n",
    "SELECT *\n",
    "FROM actor_title\n",
    "TABLESAMPLE BERNOULLI (5);"
   ]
  },
  {
   "cell_type": "markdown",
   "id": "a5ea0e1b-fc06-46ce-902e-b10ef1cc7501",
   "metadata": {},
   "source": [
    "Choice A"
   ]
  },
  {
   "cell_type": "code",
   "execution_count": null,
   "id": "cd55cff4-8a99-4111-a4e4-adcccf31fef7",
   "metadata": {},
   "outputs": [],
   "source": [
    "%%sql\n",
    "SELECT title_id, name, title,\n",
    "       AVG(LENGTH(name)) OVER (PARTITION BY title)\n",
    "         AS avg_name_length\n",
    "FROM actor_title\n",
    "WHERE title LIKE 'The %'\n",
    "ORDER BY title;"
   ]
  },
  {
   "cell_type": "markdown",
   "id": "95ddcec6-3cd4-47f1-9138-96277cdd40ac",
   "metadata": {},
   "source": [
    "Choice B"
   ]
  },
  {
   "cell_type": "code",
   "execution_count": null,
   "id": "e8b7dc4f-b169-4951-9791-0030060e1df9",
   "metadata": {},
   "outputs": [],
   "source": [
    "%%sql\n",
    "SELECT title_id, name, title,\n",
    "       CAST(AVG(LENGTH(name)) OVER (PARTITION BY title)\n",
    "            AS INTEGER)\n",
    "         AS avg_name_length\n",
    "FROM actor_title\n",
    "WHERE title LIKE 'The %'\n",
    "ORDER BY title;"
   ]
  },
  {
   "cell_type": "markdown",
   "id": "e4642956-93ba-41e6-b47e-9f670cb3c313",
   "metadata": {},
   "source": [
    "Choice C"
   ]
  },
  {
   "cell_type": "code",
   "execution_count": null,
   "id": "462fceb4-9078-4048-8258-260d1dfebbc2",
   "metadata": {},
   "outputs": [],
   "source": [
    "%%sql\n",
    "SELECT title_id, name, title,\n",
    "       LENGTH(name),\n",
    "       RANK() OVER (PARTITION BY title ORDER BY LENGTH(name) DESC)\n",
    "         AS name_rank\n",
    "FROM actor_title\n",
    "WHERE title LIKE 'A %'\n",
    "ORDER BY title, name_rank;"
   ]
  },
  {
   "cell_type": "code",
   "execution_count": null,
   "id": "0e03e30a-6194-414a-9a0e-82a7bf014af9",
   "metadata": {},
   "outputs": [],
   "source": []
  }
 ],
 "metadata": {
  "kernelspec": {
   "display_name": "Python 3 (ipykernel)",
   "language": "python",
   "name": "python3"
  },
  "language_info": {
   "codemirror_mode": {
    "name": "ipython",
    "version": 3
   },
   "file_extension": ".py",
   "mimetype": "text/x-python",
   "name": "python",
   "nbconvert_exporter": "python",
   "pygments_lexer": "ipython3",
   "version": "3.11.0"
  }
 },
 "nbformat": 4,
 "nbformat_minor": 5
}
