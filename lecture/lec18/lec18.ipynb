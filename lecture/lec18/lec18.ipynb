{
 "cells": [
  {
   "cell_type": "markdown",
   "id": "3e5366ae-67ea-4ccf-a279-39a96dcca794",
   "metadata": {},
   "source": [
    "# Lecture 18: Mongo DB I"
   ]
  },
  {
   "cell_type": "code",
   "execution_count": null,
   "id": "3d6e7386-7dab-4f9e-b8b1-9b6accac1799",
   "metadata": {},
   "outputs": [],
   "source": [
    "import json\n",
    "import pymongo\n",
    "import pprint"
   ]
  },
  {
   "cell_type": "markdown",
   "id": "c793e4fb-eb7c-4ab8-b313-0e5834fdb2ac",
   "metadata": {},
   "source": [
    "## Connect to Database on localhost"
   ]
  },
  {
   "cell_type": "markdown",
   "id": "1c684e05-3387-4b86-a566-120ee73e4e94",
   "metadata": {},
   "source": [
    "Nobel laureate data from Kaggle: https://www.kaggle.com/datasets/imdevskp/nobel-prize/data"
   ]
  },
  {
   "cell_type": "code",
   "execution_count": null,
   "id": "f01b15a9-ffc1-438f-8676-db178d25d9ab",
   "metadata": {},
   "outputs": [],
   "source": [
    "client = pymongo.MongoClient('mongodb://localhost')\n",
    "client.list_database_names()"
   ]
  },
  {
   "cell_type": "code",
   "execution_count": null,
   "id": "e6d779f1-c8c6-43dc-a144-fd78b4c5e8dc",
   "metadata": {},
   "outputs": [],
   "source": [
    "# client.drop_database('nobel_prizes') # if already exists"
   ]
  },
  {
   "cell_type": "markdown",
   "id": "e4feab92-0919-4be6-9c1c-1403d2b03176",
   "metadata": {},
   "source": [
    "Connect to an empty database called `nobel_prizes`"
   ]
  },
  {
   "cell_type": "code",
   "execution_count": null,
   "id": "1a7df8ec-84ab-4652-89c1-6d7b72cc0ce8",
   "metadata": {},
   "outputs": [],
   "source": [
    "db = client.nobel_prizes\n",
    "# db = client['nobel_prizes'] # also works\n",
    "db"
   ]
  },
  {
   "cell_type": "code",
   "execution_count": null,
   "id": "899ebf59-4cfa-413d-8409-754acf69c5ea",
   "metadata": {},
   "outputs": [],
   "source": [
    "db.list_collection_names()"
   ]
  },
  {
   "cell_type": "markdown",
   "id": "7e2217fa-3bab-495a-ba1d-91764aecb2cc",
   "metadata": {},
   "source": [
    "<br/><br/>Within this empty database, access an empty collection called `prizes`."
   ]
  },
  {
   "cell_type": "code",
   "execution_count": null,
   "id": "13654816-7883-4122-87b6-2a4f723a3b1f",
   "metadata": {},
   "outputs": [],
   "source": [
    "collection = db.prizes\n",
    "# collection = db['prizes'] # also works\n",
    "collection"
   ]
  },
  {
   "cell_type": "markdown",
   "id": "10c3bcc7-3351-4cd9-834c-05adfd1922b2",
   "metadata": {},
   "source": [
    "`find_one()` returns None (i.e., displays nothing in notebooks)"
   ]
  },
  {
   "cell_type": "code",
   "execution_count": null,
   "id": "a4407e88-bece-4176-b9be-8cedb53dd898",
   "metadata": {},
   "outputs": [],
   "source": [
    "db.prizes.find_one({})"
   ]
  },
  {
   "cell_type": "code",
   "execution_count": null,
   "id": "8cb85ff8-cd4d-469f-b307-91c2086ffabe",
   "metadata": {},
   "outputs": [],
   "source": [
    "print(db.prizes.find_one({}))"
   ]
  },
  {
   "cell_type": "markdown",
   "id": "d4c837f3-6871-4355-bc82-a0ddbcd0b6d8",
   "metadata": {},
   "source": [
    "## Load data from JSON "
   ]
  },
  {
   "cell_type": "code",
   "execution_count": null,
   "id": "4f35a596-4e35-4421-92d6-28a146367ef9",
   "metadata": {},
   "outputs": [],
   "source": [
    "# run this cell to insert into the collection prizes\n",
    "with open('data/prize.json', encoding='utf-8') as f:\n",
    "    db.prizes.insert_many(json.loads(f.read()))"
   ]
  },
  {
   "cell_type": "code",
   "execution_count": null,
   "id": "31e04382-2780-41a3-8d5a-d3ab21938568",
   "metadata": {},
   "outputs": [],
   "source": [
    "# the database and the collection are now both valid\n",
    "client.list_database_names()"
   ]
  },
  {
   "cell_type": "code",
   "execution_count": null,
   "id": "98a8d325-2197-4dec-86f0-989925120cf7",
   "metadata": {},
   "outputs": [],
   "source": [
    "db.list_collection_names()"
   ]
  },
  {
   "cell_type": "markdown",
   "id": "a138dd83-e915-4818-aacd-07d484e6ebb5",
   "metadata": {},
   "source": [
    "# Retrieval Queries"
   ]
  },
  {
   "cell_type": "markdown",
   "id": "5b6065b3-9b1a-4dc3-a356-31a3f5719d61",
   "metadata": {},
   "source": [
    "**Select** all field-value pairs to output."
   ]
  },
  {
   "cell_type": "code",
   "execution_count": null,
   "id": "04060a40-f84e-4216-ad18-752619907931",
   "metadata": {},
   "outputs": [],
   "source": [
    "db.prizes.find_one({})"
   ]
  },
  {
   "cell_type": "markdown",
   "id": "4bbe0b22-fb4a-4880-aad8-d3daaa0a4835",
   "metadata": {},
   "source": [
    "Pymongo is smart and avoids querying the **full collection** by instead returning an iterator (here, a Cursor):"
   ]
  },
  {
   "cell_type": "code",
   "execution_count": null,
   "id": "9579c859-0f4e-4027-baf8-95193b695377",
   "metadata": {},
   "outputs": [],
   "source": [
    "db.prizes.find({})"
   ]
  },
  {
   "cell_type": "markdown",
   "id": "5b3aaf17-5711-4932-a59b-b36c5b12174f",
   "metadata": {},
   "source": [
    "It's not recommended, but you could force query the full collection by casting to list (e.g., `list(db.prizes.find({}))`).\n",
    "\n",
    "Instead let's iterate over the collection a tiny bit so that we can see how to pretty print each document with `pprint`:"
   ]
  },
  {
   "cell_type": "code",
   "execution_count": null,
   "id": "5b796961-0425-46e5-8a1b-11db102ee0e7",
   "metadata": {},
   "outputs": [],
   "source": [
    "def pretty_print(output_collection, n_to_print=3):\n",
    "    \"\"\"\n",
    "    note if n_to_print is -1, this print everything\n",
    "    \"\"\"\n",
    "    for i, doc in enumerate(output_collection):\n",
    "        pprint.pprint(doc)        # nicely formats each document\n",
    "        if i+1 == n_to_print: return"
   ]
  },
  {
   "cell_type": "code",
   "execution_count": null,
   "id": "e592e13c-db92-47f4-8ac0-475e9e82afba",
   "metadata": {},
   "outputs": [],
   "source": [
    "output = db.prizes.find({})\n",
    "pretty_print(output)"
   ]
  },
  {
   "cell_type": "markdown",
   "id": "8e399fe3-2fd0-44ce-a755-7caa4b6084b3",
   "metadata": {},
   "source": [
    "# Selection (with Predicates)"
   ]
  },
  {
   "cell_type": "code",
   "execution_count": null,
   "id": "094fbf5a-70df-461d-84be-3d186fc61c76",
   "metadata": {},
   "outputs": [],
   "source": [
    "# get a document that has the exact FV pair\n",
    "db.prizes.find_one({\"category\": \"chemistry\"})"
   ]
  },
  {
   "cell_type": "code",
   "execution_count": null,
   "id": "67a8eddf-e80d-4de3-8622-f68a4188d4ce",
   "metadata": {},
   "outputs": [],
   "source": [
    "# the comma functions as the \"and\" operator\n",
    "db.prizes.find_one({\"category\": \"chemistry\", \"year\": 2020})"
   ]
  },
  {
   "cell_type": "markdown",
   "id": "c82f1466-99cc-4e85-a8a2-23e087ea3c97",
   "metadata": {},
   "source": [
    "## Dollar `$` Notation: Special MongoDB Keywords"
   ]
  },
  {
   "cell_type": "markdown",
   "id": "49b47c88-78c0-4de1-aaa1-41f27e04b970",
   "metadata": {},
   "source": [
    "(we defined the `pretty_print()` function earlier)"
   ]
  },
  {
   "cell_type": "code",
   "execution_count": null,
   "id": "d2bbeb10-56e8-47fb-92b9-c78d4f6de0d1",
   "metadata": {},
   "outputs": [],
   "source": [
    "output = db.prizes.find({\"$or\": [{\"category\": \"chemistry\"}, {\"year\": 2020}]})\n",
    "\n",
    "pretty_print(output, n_to_print=4)"
   ]
  },
  {
   "cell_type": "code",
   "execution_count": null,
   "id": "d63e3fb7-a72b-4811-a830-aaadcaed5dbf",
   "metadata": {},
   "outputs": [],
   "source": [
    "output = db.prizes.find({\"year\": {\"$gt\": 2018}}, skip=6) # skip a bit down the collection just because\n",
    "\n",
    "pretty_print(output)"
   ]
  },
  {
   "cell_type": "markdown",
   "id": "ead150c7-4c5a-4cf2-93e8-caa733bd4c4c",
   "metadata": {},
   "source": [
    "## Dot `.` Notation: Traverse Trees"
   ]
  },
  {
   "cell_type": "code",
   "execution_count": null,
   "id": "6e10dc53-47cf-4a23-b2dc-45510c52885a",
   "metadata": {},
   "outputs": [],
   "source": [
    "output = db.prizes.find({\"laureates.0.surname\": \"Curie\"})\n",
    "pretty_print(output)"
   ]
  },
  {
   "cell_type": "code",
   "execution_count": null,
   "id": "86d09ae9-0377-4548-8fa5-84749af99d1e",
   "metadata": {},
   "outputs": [],
   "source": [
    "output = db.prizes.find({\"laureates.1.surname\": \"Curie\"})\n",
    "pretty_print(output)"
   ]
  },
  {
   "cell_type": "code",
   "execution_count": null,
   "id": "68498d11-20ee-462b-9f49-06b181a0df01",
   "metadata": {},
   "outputs": [],
   "source": [
    "output = db.prizes.find({\"laureates.surname\": \"Curie\"})\n",
    "pretty_print(output)"
   ]
  },
  {
   "cell_type": "markdown",
   "id": "bd028a58-1b07-44cf-a88a-25e1662806a2",
   "metadata": {},
   "source": [
    "# Projection"
   ]
  },
  {
   "cell_type": "code",
   "execution_count": null,
   "id": "c5462b5e-c035-46c2-a3f5-4d38f6dcd716",
   "metadata": {},
   "outputs": [],
   "source": [
    "output = db.prizes.find({}, {\"year\": 1, \"category\": 1})\n",
    "\n",
    "pretty_print(output)"
   ]
  },
  {
   "cell_type": "markdown",
   "id": "79e7b1f3-561e-4447-b51b-743d0acdc77f",
   "metadata": {},
   "source": [
    "<br/><br/><br/><br/><br/>\n",
    "\n",
    "## Projection Exercise"
   ]
  },
  {
   "cell_type": "code",
   "execution_count": null,
   "id": "a963b74a-83d0-4728-be84-e42b706ff2af",
   "metadata": {},
   "outputs": [],
   "source": [
    "output = db.prizes.find({}, {\"year\": 1, \"category\": 1, \"_id\": 0})\n",
    "\n",
    "pretty_print(output)"
   ]
  },
  {
   "cell_type": "code",
   "execution_count": null,
   "id": "eb05e3b7-a769-46eb-9472-f0911afdd910",
   "metadata": {},
   "outputs": [],
   "source": [
    "output = db.prizes.find({}, {\"year\": 0, \"category\": 0})\n",
    "\n",
    "pretty_print(output)"
   ]
  },
  {
   "cell_type": "code",
   "execution_count": null,
   "id": "066a849c-ea9e-4617-9beb-cbe01c434e4b",
   "metadata": {
    "scrolled": true
   },
   "outputs": [],
   "source": [
    "output = db.prizes.find({}, {\"year\": 0, \"category\": 1})\n",
    "\n",
    "pretty_print(output)"
   ]
  },
  {
   "cell_type": "code",
   "execution_count": null,
   "id": "6dfbe77f-b6d8-4a8b-a50f-2f22aad8b454",
   "metadata": {},
   "outputs": [],
   "source": [
    "db.prizes.find_one({\"overallMotivation\": {\"$exists\": 1}})"
   ]
  },
  {
   "cell_type": "markdown",
   "id": "fe46ed66-d20b-4abd-b070-4b43578530aa",
   "metadata": {},
   "source": [
    "# Sorting and Limits"
   ]
  },
  {
   "cell_type": "code",
   "execution_count": null,
   "id": "599bb4a2-d53f-4488-b3c9-3190235df1d3",
   "metadata": {},
   "outputs": [],
   "source": [
    "output = (db.prizes.find({\"category\": \"peace\"},\n",
    "               {\"_id\": 0, \"category\": 1, \"year\": 1,\n",
    "                \"laureates.firstname\": 1, \"laureates.surname\": 1})\n",
    "          .sort(\"year\")\n",
    "         )\n",
    "\n",
    "pretty_print(output)"
   ]
  },
  {
   "cell_type": "code",
   "execution_count": null,
   "id": "3e72bdae-5c08-42a0-9bfc-9d2c269c6324",
   "metadata": {},
   "outputs": [],
   "source": [
    "output = (db.prizes.find({\"category\": \"peace\"},\n",
    "               {\"_id\": 0, \"category\": 1, \"year\": 1,\n",
    "                \"laureates.firstname\": 1, \"laureates.surname\": 1})\n",
    "          .sort(\"year\", -1)\n",
    "         )\n",
    "\n",
    "pretty_print(output)"
   ]
  },
  {
   "cell_type": "code",
   "execution_count": null,
   "id": "2443bca0-4700-4f70-900b-f9b2a12dade6",
   "metadata": {},
   "outputs": [],
   "source": [
    "output = (db.prizes.find({\"category\": \"peace\"},\n",
    "               {\"_id\": 0, \"category\": 1, \"year\": 1,\n",
    "                \"laureates.firstname\": 1, \"laureates.surname\": 1})\n",
    "          .sort([(\"year\", 1), (\"category\", -1)])\n",
    "         )\n",
    "\n",
    "pretty_print(output)"
   ]
  },
  {
   "cell_type": "code",
   "execution_count": null,
   "id": "d4516281-afb0-4993-b93a-89a2df8484dd",
   "metadata": {},
   "outputs": [],
   "source": [
    "output = (db.prizes.find({\"category\": \"peace\"},\n",
    "               {\"_id\": 0, \"category\": 1, \"year\": 1,\n",
    "                \"laureates.firstname\": 1, \"laureates.surname\": 1})\n",
    "          .sort([(\"year\", 1), (\"category\", -1)])\n",
    "          .limit(2)\n",
    "         )\n",
    "\n",
    "pretty_print(output)"
   ]
  },
  {
   "cell_type": "markdown",
   "id": "072e279f-56ad-4a81-be77-194210a84d5d",
   "metadata": {},
   "source": [
    "# Aggregation Queries"
   ]
  },
  {
   "cell_type": "markdown",
   "id": "9594594c-df26-4d52-b925-53be4ecd1090",
   "metadata": {},
   "source": [
    "Zips JSON from the MongoDB Aggregation Tutorial: https://www.mongodb.com/docs/manual/tutorial/aggregation-zip-code-data-set/"
   ]
  },
  {
   "cell_type": "markdown",
   "id": "c9035600-e5ab-4065-97f5-44229f518833",
   "metadata": {},
   "source": [
    "## Load `zips.json` into new `local.zips`"
   ]
  },
  {
   "cell_type": "markdown",
   "id": "5a808fbd-a82e-4185-ba56-e6d6d8f24bf8",
   "metadata": {},
   "source": [
    "For the sake of simplicity, we'll make a new collection `zips` in a new `aggquerydb` database."
   ]
  },
  {
   "cell_type": "code",
   "execution_count": null,
   "id": "3062a9cb-bd90-4ac7-be8b-4f842d00fbc4",
   "metadata": {},
   "outputs": [],
   "source": [
    "# reimport/redefine as needed\n",
    "import json\n",
    "import pymongo\n",
    "import pprint\n",
    "\n",
    "def pretty_print(output_collection, n_to_print=3):\n",
    "    \"\"\"\n",
    "    note if n_to_print is -1, this print everything\n",
    "    \"\"\"\n",
    "    for i, doc in enumerate(output_collection):\n",
    "        pprint.pprint(doc)        # nicely formats each document\n",
    "        if i+1 == n_to_print: return"
   ]
  },
  {
   "cell_type": "code",
   "execution_count": null,
   "id": "ca45b233-9dfe-4ed2-917f-ee32a5e3f035",
   "metadata": {},
   "outputs": [],
   "source": [
    "client = pymongo.MongoClient('mongodb://localhost')\n",
    "client.list_database_names()"
   ]
  },
  {
   "cell_type": "code",
   "execution_count": null,
   "id": "0e0cfc35-bc3d-4d8a-aaea-32feb5ca2f9f",
   "metadata": {},
   "outputs": [],
   "source": [
    "# run this cell to make the new collection\n",
    "# and insert zipcode documents\n",
    "\n",
    "client.drop_database('aggquerydb') # if already exists\n",
    "db = client.aggquerydb\n",
    "\n",
    "with open('data/zips.json', encoding='utf-8') as f:\n",
    "    for line in f.readlines():\n",
    "        db.zips.insert_one(json.loads(line))"
   ]
  },
  {
   "cell_type": "code",
   "execution_count": null,
   "id": "9d318a3b-3671-4f25-8d61-de933069eda7",
   "metadata": {},
   "outputs": [],
   "source": [
    "db.zips.count_documents({})"
   ]
  },
  {
   "cell_type": "code",
   "execution_count": null,
   "id": "b2550972-e19b-4b1c-9e7c-7670a290ca5f",
   "metadata": {},
   "outputs": [],
   "source": [
    "output = db.zips.aggregate( [    \n",
    "{ \"$group\": { \"_id\": \"$state\",  \n",
    "  \"totalPop\": { \"$sum\": \"$pop\" } } },    \n",
    "{ \"$match\": { \"totalPop\":\n",
    "            { \"$gte\": 15000000 } } }, \n",
    "{ \"$sort\" : { \"totalPop\" : -1 } }\n",
    "] )\n",
    "\n",
    "pretty_print(output)"
   ]
  },
  {
   "cell_type": "markdown",
   "id": "96c4514f-501e-4909-a47b-e5fca0adc64e",
   "metadata": {},
   "source": [
    "# Aggregation Queries: Unwind/Lookup"
   ]
  },
  {
   "cell_type": "markdown",
   "id": "ad7befa2-a480-490d-8da1-e0d6e0c9968c",
   "metadata": {},
   "source": [
    "Make a new collection, `inventory`."
   ]
  },
  {
   "cell_type": "code",
   "execution_count": null,
   "id": "0dbbd230-1aa4-4bca-98dd-992a343f4652",
   "metadata": {},
   "outputs": [],
   "source": [
    "# stay in the aggquerydb database\n",
    "db = client.aggquerydb"
   ]
  },
  {
   "cell_type": "code",
   "execution_count": null,
   "id": "b196fd59-1942-4934-9140-39f4cba7d1b9",
   "metadata": {},
   "outputs": [],
   "source": [
    "db.inventory.insert_many( [    \n",
    "{ \"item\": \"journal\",\n",
    " \"tags\": [\"blank\", \"red\"],\n",
    " \"dim\": [ 14, 21 ],\n",
    " \"instock\": [ { \"loc\": \"A\", \"qty\": 5 }, { \"loc\": \"C\", \"qty\": 15 } ]\n",
    "},    \n",
    "{ \"item\": \"notebook\",\n",
    " \"tags\": [\"red\", \"blank\"],\n",
    " \"dim\": [ 14, 21 ],\n",
    " \"instock\": [ { \"loc\": \"C\", \"qty\": 5 } ]\n",
    "},    \n",
    "{ \"item\": \"paper\",\n",
    " \"tags\": [\"red\", \"blank\", \"plain\"],\n",
    " \"dim\": [ 14, 21 ],\n",
    " \"instock\": [ { \"loc\": \"A\", \"qty\": 60 }, { \"loc\": \"B\", \"qty\": 15 } ]\n",
    "},    \n",
    "{ \"item\": \"planner\",\n",
    " \"tags\": [\"blank\", \"red\"],\n",
    " \"dim\": [ 22.85, 30 ] ,\n",
    " \"instock\": [ { \"loc\": \"A\", \"qty\": 40 }, { \"loc\": \"B\", \"qty\": 5 } ]\n",
    "},    \n",
    "{ \"item\": \"postcard\",\n",
    " \"tags\": [\"blue\"],\n",
    " \"dim\": [ 10, 15.25 ],\n",
    " \"instock\": [ { \"loc\": \"B\", \"qty\": 15 }, { \"loc\": \"C\", \"qty\": 35 } ]\n",
    "}\n",
    "]);"
   ]
  },
  {
   "cell_type": "code",
   "execution_count": null,
   "id": "a0c42e76-f567-4993-a9f5-3baca65efb07",
   "metadata": {},
   "outputs": [],
   "source": [
    "output = db.inventory.aggregate( [ \n",
    "{ \"$unwind\" : \"$tags\" }, \n",
    "{ \"$project\" : {\"_id\" : 0, \"instock\": 0}}  \n",
    "] )\n",
    "\n",
    "pretty_print(output, n_to_print=-1)"
   ]
  },
  {
   "cell_type": "code",
   "execution_count": null,
   "id": "7114d088-57ad-49d5-ae6f-99291c486bad",
   "metadata": {},
   "outputs": [],
   "source": [
    "output = db.inventory.aggregate( [ \n",
    "\t{ \"$unwind\" : \"$instock\" },  \n",
    "\t{ \"$group\" : { \"_id\" : \"$item\", \"totalqty\" : {\"$sum\" : \"$instock.qty\"}}} \n",
    "] )\n",
    "\n",
    "pretty_print(output, n_to_print=-1)"
   ]
  },
  {
   "cell_type": "code",
   "execution_count": null,
   "id": "f2a229a5-8020-4103-8220-21952e880867",
   "metadata": {},
   "outputs": [],
   "source": [
    "output = db.inventory.aggregate( [ \n",
    "{ \"$lookup\" : {\n",
    "    \"from\" : \"inventory\",\n",
    "    \"localField\": \"instock.loc\", \n",
    "    \"foreignField\": \"instock.loc\", \n",
    "    \"as\":\"otheritems\"}\n",
    "},  \n",
    "{ \"$project\" :\n",
    "    {\"_id\" : 0, \"tags\" : 0, \"dim\" : 0}\n",
    "} ] )\n",
    "\n",
    "pretty_print(output, n_to_print=1)"
   ]
  }
 ],
 "metadata": {
  "kernelspec": {
   "display_name": "Python 3 (ipykernel)",
   "language": "python",
   "name": "python3"
  },
  "language_info": {
   "codemirror_mode": {
    "name": "ipython",
    "version": 3
   },
   "file_extension": ".py",
   "mimetype": "text/x-python",
   "name": "python",
   "nbconvert_exporter": "python",
   "pygments_lexer": "ipython3",
   "version": "3.11.0"
  }
 },
 "nbformat": 4,
 "nbformat_minor": 5
}
