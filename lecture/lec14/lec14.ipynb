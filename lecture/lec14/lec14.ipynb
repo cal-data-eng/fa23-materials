{
 "cells": [
  {
   "cell_type": "markdown",
   "id": "3efe537d-d1be-4b74-836c-1cff6c22ec1d",
   "metadata": {},
   "source": [
    "# Lecture 14: Outliers and Imputation"
   ]
  },
  {
   "cell_type": "code",
   "execution_count": 1,
   "id": "72611649-0355-4860-ae39-da1365cbc2c1",
   "metadata": {},
   "outputs": [],
   "source": [
    "import numpy as np\n",
    "import pandas as pd\n",
    "import seaborn as sns\n",
    "import matplotlib.pyplot as plt\n",
    "import matplotlib as mpl\n",
    "\n",
    "import importlib\n",
    "importlib.reload(mpl); importlib.reload(plt); importlib.reload(sns)\n",
    "\n",
    "sns.reset_orig()\n",
    "sns.set(font_scale=1.5)\n",
    "%matplotlib inline"
   ]
  },
  {
   "cell_type": "markdown",
   "id": "34ddf98f-4be7-4cca-8716-e2fc66e5ced3",
   "metadata": {},
   "source": [
    "---\n",
    "\n",
    "# Gaussian Outliers"
   ]
  },
  {
   "cell_type": "code",
   "execution_count": 2,
   "id": "2a7f5c56-44a1-45a9-bed8-2277c75f9abd",
   "metadata": {},
   "outputs": [],
   "source": [
    "%reload_ext sql\n",
    "%sql postgresql://localhost:5432/postgres"
   ]
  },
  {
   "cell_type": "code",
   "execution_count": 3,
   "id": "e3e8473d-833d-4b45-8a8a-29c525715daf",
   "metadata": {},
   "outputs": [
    {
     "data": {
      "text/html": [
       "<span style=\"None\">Running query in &#x27;postgresql://localhost:5432/postgres&#x27;</span>"
      ],
      "text/plain": [
       "Running query in 'postgresql://localhost:5432/postgres'"
      ]
     },
     "metadata": {},
     "output_type": "display_data"
    },
    {
     "data": {
      "text/html": [
       "<span style=\"color: green\">1 rows affected.</span>"
      ],
      "text/plain": [
       "1 rows affected."
      ]
     },
     "metadata": {},
     "output_type": "display_data"
    },
    {
     "data": {
      "text/html": [
       "<table>\n",
       "    <thead>\n",
       "        <tr>\n",
       "            <th>setseed</th>\n",
       "        </tr>\n",
       "    </thead>\n",
       "    <tbody>\n",
       "        <tr>\n",
       "            <td></td>\n",
       "        </tr>\n",
       "    </tbody>\n",
       "</table>"
      ],
      "text/plain": [
       "+---------+\n",
       "| setseed |\n",
       "+---------+\n",
       "|         |\n",
       "+---------+"
      ]
     },
     "execution_count": 3,
     "metadata": {},
     "output_type": "execute_result"
    }
   ],
   "source": [
    "%sql SELECT setseed(0.42) -- to fix randomness"
   ]
  },
  {
   "cell_type": "markdown",
   "id": "c9fa3cb0-d4db-4c5e-93e5-bfb97cfb27f3",
   "metadata": {},
   "source": [
    "Just like a Python package, we need to import `tablefunc` in order to use the `normal_rand` function."
   ]
  },
  {
   "cell_type": "code",
   "execution_count": 4,
   "id": "918e88da-44f4-4cc4-9244-71bca367ebbd",
   "metadata": {},
   "outputs": [
    {
     "data": {
      "text/html": [
       "<span style=\"None\">Running query in &#x27;postgresql://localhost:5432/postgres&#x27;</span>"
      ],
      "text/plain": [
       "Running query in 'postgresql://localhost:5432/postgres'"
      ]
     },
     "metadata": {},
     "output_type": "display_data"
    },
    {
     "data": {
      "text/html": [
       "<table>\n",
       "    <thead>\n",
       "        <tr>\n",
       "        </tr>\n",
       "    </thead>\n",
       "    <tbody>\n",
       "    </tbody>\n",
       "</table>"
      ],
      "text/plain": [
       "++\n",
       "||\n",
       "++\n",
       "++"
      ]
     },
     "execution_count": 4,
     "metadata": {},
     "output_type": "execute_result"
    }
   ],
   "source": [
    "%sql CREATE EXTENSION IF NOT EXISTS tablefunc;"
   ]
  },
  {
   "cell_type": "markdown",
   "id": "99ec6c3f-bf85-49cb-864b-7a1c8f2300f7",
   "metadata": {},
   "source": [
    "Assume our datapoints are truly Normal. Simulate them in `observations`.\n",
    "* 1000 datapoints, $\\mu = 50, \\sigma = 5$."
   ]
  },
  {
   "cell_type": "code",
   "execution_count": 5,
   "id": "e9d440be-ab6a-4a3b-8dc1-c7caf881c804",
   "metadata": {},
   "outputs": [
    {
     "data": {
      "text/html": [
       "<span style=\"None\">Running query in &#x27;postgresql://localhost:5432/postgres&#x27;</span>"
      ],
      "text/plain": [
       "Running query in 'postgresql://localhost:5432/postgres'"
      ]
     },
     "metadata": {},
     "output_type": "display_data"
    },
    {
     "data": {
      "text/html": [
       "<span style=\"None\">Running query in &#x27;postgresql://localhost:5432/postgres&#x27;</span>"
      ],
      "text/plain": [
       "Running query in 'postgresql://localhost:5432/postgres'"
      ]
     },
     "metadata": {},
     "output_type": "display_data"
    },
    {
     "data": {
      "text/html": [
       "<span style=\"color: green\">1000 rows affected.</span>"
      ],
      "text/plain": [
       "1000 rows affected."
      ]
     },
     "metadata": {},
     "output_type": "display_data"
    },
    {
     "data": {
      "text/html": [
       "<span style=\"None\">Running query in &#x27;postgresql://localhost:5432/postgres&#x27;</span>"
      ],
      "text/plain": [
       "Running query in 'postgresql://localhost:5432/postgres'"
      ]
     },
     "metadata": {},
     "output_type": "display_data"
    },
    {
     "data": {
      "text/html": [
       "<span style=\"color: green\">1000 rows affected.</span>"
      ],
      "text/plain": [
       "1000 rows affected."
      ]
     },
     "metadata": {},
     "output_type": "display_data"
    }
   ],
   "source": [
    "%sql DROP TABLE IF EXISTS observations CASCADE;\n",
    "%sql CREATE TABLE observations AS \\\n",
    "     SELECT normal_rand AS x \\\n",
    "     FROM normal_rand(1000, 50, 5);\n",
    "\n",
    "results = %sql SELECT x FROM observations;"
   ]
  },
  {
   "cell_type": "code",
   "execution_count": 6,
   "id": "aa9a4dc8-c8cc-4551-b615-a0a301dcb088",
   "metadata": {},
   "outputs": [
    {
     "data": {
      "text/plain": [
       "<seaborn.axisgrid.FacetGrid at 0x7f1a3a18bcd0>"
      ]
     },
     "execution_count": 6,
     "metadata": {},
     "output_type": "execute_result"
    },
    {
     "data": {
      "image/png": "[encoded data removed]",
      "text/plain": [
       "<Figure size 896.125x400 with 1 Axes>"
      ]
     },
     "metadata": {},
     "output_type": "display_data"
    }
   ],
   "source": [
    "sns.displot(results.dict(), fill=True, kde=True, bins=20,\n",
    "            height=4, aspect=2)"
   ]
  },
  {
   "cell_type": "markdown",
   "id": "110fc1bb-3df6-4a41-b23c-8346aa690396",
   "metadata": {},
   "source": [
    "Construct a view called `normal_outliers` using the **2 sigma** metric."
   ]
  },
  {
   "cell_type": "code",
   "execution_count": 7,
   "id": "c1aac5b2-4c06-4650-845d-5fc54d9739a9",
   "metadata": {},
   "outputs": [],
   "source": [
    "# construct the view"
   ]
  },
  {
   "cell_type": "code",
   "execution_count": 8,
   "id": "6fd8529a-92be-435e-9eb3-c84f2179172a",
   "metadata": {},
   "outputs": [
    {
     "data": {
      "text/html": [
       "<span style=\"None\">Running query in &#x27;postgresql://localhost:5432/postgres&#x27;</span>"
      ],
      "text/plain": [
       "Running query in 'postgresql://localhost:5432/postgres'"
      ]
     },
     "metadata": {},
     "output_type": "display_data"
    },
    {
     "data": {
      "text/html": [
       "<table>\n",
       "    <thead>\n",
       "        <tr>\n",
       "        </tr>\n",
       "    </thead>\n",
       "    <tbody>\n",
       "    </tbody>\n",
       "</table>"
      ],
      "text/plain": [
       "++\n",
       "||\n",
       "++\n",
       "++"
      ]
     },
     "execution_count": 8,
     "metadata": {},
     "output_type": "execute_result"
    }
   ],
   "source": [
    "%%sql\n",
    "CREATE OR REPLACE VIEW normal_outliers AS\n",
    "WITH bounds AS (\n",
    "   SELECT avg(x) - 2*stddev(x) AS lo,\n",
    "   avg(x) + 2*stddev(x) AS hi\n",
    "   FROM observations\n",
    ")\n",
    "SELECT x AS outlier\n",
    "FROM observations o, bounds b \n",
    "WHERE x NOT BETWEEN b.lo AND b.hi;"
   ]
  },
  {
   "cell_type": "code",
   "execution_count": 9,
   "id": "0a00fb27-de7e-4702-aea3-39a67fff448d",
   "metadata": {},
   "outputs": [
    {
     "data": {
      "text/html": [
       "<span style=\"None\">Running query in &#x27;postgresql://localhost:5432/postgres&#x27;</span>"
      ],
      "text/plain": [
       "Running query in 'postgresql://localhost:5432/postgres'"
      ]
     },
     "metadata": {},
     "output_type": "display_data"
    },
    {
     "data": {
      "text/html": [
       "<span style=\"color: green\">46 rows affected.</span>"
      ],
      "text/plain": [
       "46 rows affected."
      ]
     },
     "metadata": {},
     "output_type": "display_data"
    },
    {
     "data": {
      "text/html": [
       "<table>\n",
       "    <thead>\n",
       "        <tr>\n",
       "            <th>outlier</th>\n",
       "        </tr>\n",
       "    </thead>\n",
       "    <tbody>\n",
       "        <tr>\n",
       "            <td>65.78271988422975</td>\n",
       "        </tr>\n",
       "        <tr>\n",
       "            <td>62.14480361066707</td>\n",
       "        </tr>\n",
       "        <tr>\n",
       "            <td>36.55122744379087</td>\n",
       "        </tr>\n",
       "        <tr>\n",
       "            <td>61.92285072093402</td>\n",
       "        </tr>\n",
       "        <tr>\n",
       "            <td>61.60697562844487</td>\n",
       "        </tr>\n",
       "        <tr>\n",
       "            <td>39.85192829966333</td>\n",
       "        </tr>\n",
       "        <tr>\n",
       "            <td>63.65918956243039</td>\n",
       "        </tr>\n",
       "        <tr>\n",
       "            <td>60.53154710413192</td>\n",
       "        </tr>\n",
       "        <tr>\n",
       "            <td>38.43179113189681</td>\n",
       "        </tr>\n",
       "        <tr>\n",
       "            <td>62.743476602815264</td>\n",
       "        </tr>\n",
       "    </tbody>\n",
       "</table>\n",
       "<span style=\"font-style:italic;text-align:center;\">Truncated to <a href=\"https://jupysql.ploomber.io/en/latest/api/configuration.html#displaylimit\">displaylimit</a> of 10.</span>"
      ],
      "text/plain": [
       "+--------------------+\n",
       "|      outlier       |\n",
       "+--------------------+\n",
       "| 65.78271988422975  |\n",
       "| 62.14480361066707  |\n",
       "| 36.55122744379087  |\n",
       "| 61.92285072093402  |\n",
       "| 61.60697562844487  |\n",
       "| 39.85192829966333  |\n",
       "| 63.65918956243039  |\n",
       "| 60.53154710413192  |\n",
       "| 38.43179113189681  |\n",
       "| 62.743476602815264 |\n",
       "+--------------------+\n",
       "Truncated to displaylimit of 10."
      ]
     },
     "execution_count": 9,
     "metadata": {},
     "output_type": "execute_result"
    }
   ],
   "source": [
    "# query the view\n",
    "%sql SELECT * FROM normal_outliers;"
   ]
  },
  {
   "cell_type": "markdown",
   "id": "c4e9a791-98cb-4277-ac9b-0face31b6704",
   "metadata": {},
   "source": [
    "## What does this code do?"
   ]
  },
  {
   "cell_type": "code",
   "execution_count": 10,
   "id": "1b300ea9-d63d-470f-a3c2-0d1d1a3a79f8",
   "metadata": {},
   "outputs": [
    {
     "data": {
      "text/html": [
       "<span style=\"None\">Running query in &#x27;postgresql://localhost:5432/postgres&#x27;</span>"
      ],
      "text/plain": [
       "Running query in 'postgresql://localhost:5432/postgres'"
      ]
     },
     "metadata": {},
     "output_type": "display_data"
    },
    {
     "data": {
      "text/html": [
       "<span style=\"color: green\">1954 rows affected.</span>"
      ],
      "text/plain": [
       "1954 rows affected."
      ]
     },
     "metadata": {},
     "output_type": "display_data"
    },
    {
     "data": {
      "text/plain": [
       "(30.0, 70.0)"
      ]
     },
     "execution_count": 10,
     "metadata": {},
     "output_type": "execute_result"
    },
    {
     "data": {
      "image/png": "[encoded data removed]",
      "text/plain": [
       "<Figure size 772.75x400 with 1 Axes>"
      ]
     },
     "metadata": {},
     "output_type": "display_data"
    }
   ],
   "source": [
    "results = %sql SELECT x, 'original' AS label \\\n",
    "               FROM observations \\\n",
    "               UNION ALL \\\n",
    "               SELECT x, 'cleaned' AS label\\\n",
    "               FROM observations \\\n",
    "               WHERE x NOT IN \\\n",
    "                   (SELECT * FROM normal_outliers)\n",
    "sns.displot(results.dict(), x=\"x\", kind='hist',\n",
    "            hue='label', kde=True, bins=20,\n",
    "            height=4, aspect=1.5)\n",
    "plt.xlim(30, 70)"
   ]
  },
  {
   "cell_type": "markdown",
   "id": "d13a9a1c-01a5-4a6b-b41f-5587c1445c57",
   "metadata": {
    "jp-MarkdownHeadingCollapsed": true
   },
   "source": [
    "<br/><br/><br/>\n",
    "<br/><br/><br/>\n",
    "<br/><br/><br/>\n",
    "\n",
    "## Choices [hidden]"
   ]
  },
  {
   "cell_type": "markdown",
   "id": "d387faf1-e9ce-4564-99d3-84ea6efd7f7d",
   "metadata": {},
   "source": [
    "**A.**"
   ]
  },
  {
   "cell_type": "code",
   "execution_count": 11,
   "id": "b4837a5d-205b-4e93-b3d1-8dbda631cbf0",
   "metadata": {},
   "outputs": [
    {
     "data": {
      "text/html": [
       "<span style=\"None\">Running query in &#x27;postgresql://localhost:5432/postgres&#x27;</span>"
      ],
      "text/plain": [
       "Running query in 'postgresql://localhost:5432/postgres'"
      ]
     },
     "metadata": {},
     "output_type": "display_data"
    },
    {
     "data": {
      "text/html": [
       "<span style=\"color: green\">1046 rows affected.</span>"
      ],
      "text/plain": [
       "1046 rows affected."
      ]
     },
     "metadata": {},
     "output_type": "display_data"
    },
    {
     "data": {
      "text/plain": [
       "(30.0, 70.0)"
      ]
     },
     "execution_count": 11,
     "metadata": {},
     "output_type": "execute_result"
    },
    {
     "data": {
      "image/png": "[encoded data removed]",
      "text/plain": [
       "<Figure size 972.75x400 with 1 Axes>"
      ]
     },
     "metadata": {},
     "output_type": "display_data"
    }
   ],
   "source": [
    "## plots outliers and original\n",
    "results = %sql SELECT x, 'original' AS label \\\n",
    "               FROM observations \\\n",
    "               UNION ALL \\\n",
    "               SELECT x, 'cleaned' AS label\\\n",
    "               FROM observations \\\n",
    "               WHERE x IN \\\n",
    "                   (SELECT * FROM normal_outliers)\n",
    "sns.displot(results.dict(), x=\"x\", kind='hist',\n",
    "            hue='label', kde=True, bins=20,\n",
    "                        height=4, aspect=2)\n",
    "plt.xlim(30, 70)"
   ]
  },
  {
   "cell_type": "markdown",
   "id": "4594160f-6ab4-4794-a2d6-4cd9071c39bf",
   "metadata": {},
   "source": [
    "**B.**"
   ]
  },
  {
   "cell_type": "code",
   "execution_count": 12,
   "id": "b7e9258b-faab-4267-a87a-6d6aadd2b324",
   "metadata": {},
   "outputs": [
    {
     "data": {
      "text/html": [
       "<span style=\"None\">Running query in &#x27;postgresql://localhost:5432/postgres&#x27;</span>"
      ],
      "text/plain": [
       "Running query in 'postgresql://localhost:5432/postgres'"
      ]
     },
     "metadata": {},
     "output_type": "display_data"
    },
    {
     "data": {
      "text/html": [
       "<span style=\"color: green\">1954 rows affected.</span>"
      ],
      "text/plain": [
       "1954 rows affected."
      ]
     },
     "metadata": {},
     "output_type": "display_data"
    },
    {
     "data": {
      "text/plain": [
       "(30.0, 70.0)"
      ]
     },
     "execution_count": 12,
     "metadata": {},
     "output_type": "execute_result"
    },
    {
     "data": {
      "image/png": "[encoded data removed]",
      "text/plain": [
       "<Figure size 972.75x400 with 1 Axes>"
      ]
     },
     "metadata": {},
     "output_type": "display_data"
    }
   ],
   "source": [
    "# correct\n",
    "results = %sql SELECT x, 'original' AS label \\\n",
    "               FROM observations \\\n",
    "               UNION ALL \\\n",
    "               SELECT x, 'cleaned' AS label\\\n",
    "               FROM observations \\\n",
    "               WHERE x NOT IN \\\n",
    "                   (SELECT * FROM normal_outliers)\n",
    "sns.displot(results.dict(), x=\"x\", kind='hist',\n",
    "            hue='label', kde=True, bins=20,\n",
    "                        height=4, aspect=2)\n",
    "plt.xlim(30, 70)"
   ]
  },
  {
   "cell_type": "markdown",
   "id": "b9ce80e7-7044-4a55-bda9-5ebe35ed499d",
   "metadata": {},
   "source": [
    "**C.**"
   ]
  },
  {
   "cell_type": "code",
   "execution_count": 13,
   "id": "89189db9-a447-47ca-b273-84fe686ada21",
   "metadata": {},
   "outputs": [
    {
     "data": {
      "text/html": [
       "<span style=\"None\">Running query in &#x27;postgresql://localhost:5432/postgres&#x27;</span>"
      ],
      "text/plain": [
       "Running query in 'postgresql://localhost:5432/postgres'"
      ]
     },
     "metadata": {},
     "output_type": "display_data"
    },
    {
     "data": {
      "text/html": [
       "<span style=\"color: green\">1908 rows affected.</span>"
      ],
      "text/plain": [
       "1908 rows affected."
      ]
     },
     "metadata": {},
     "output_type": "display_data"
    },
    {
     "data": {
      "text/plain": [
       "(30.0, 70.0)"
      ]
     },
     "execution_count": 13,
     "metadata": {},
     "output_type": "execute_result"
    },
    {
     "data": {
      "image/png": "[encoded data removed]",
      "text/plain": [
       "<Figure size 972.75x400 with 1 Axes>"
      ]
     },
     "metadata": {},
     "output_type": "display_data"
    }
   ],
   "source": [
    "results = %sql SELECT x, 'original' AS label \\\n",
    "               FROM observations \\\n",
    "               WHERE x NOT IN \\\n",
    "                   (SELECT * FROM normal_outliers) \\\n",
    "               UNION ALL \\\n",
    "               SELECT x, 'cleaned' AS label \\\n",
    "               FROM observations \\\n",
    "               WHERE x NOT IN \\\n",
    "                   (SELECT * FROM normal_outliers)\n",
    "sns.displot(results.dict(), x=\"x\", kind='hist',\n",
    "            hue='label', kde=True, bins=20,\n",
    "                        height=4, aspect=2)\n",
    "plt.xlim(30, 70)"
   ]
  },
  {
   "cell_type": "markdown",
   "id": "ed3e377f-3f46-4e09-b385-610c2c5d187d",
   "metadata": {},
   "source": [
    "**D.**"
   ]
  },
  {
   "cell_type": "code",
   "execution_count": 14,
   "id": "188f5a8a-a1f1-445e-a3b5-3a544397bb1d",
   "metadata": {},
   "outputs": [
    {
     "data": {
      "text/html": [
       "<span style=\"None\">Running query in &#x27;postgresql://localhost:5432/postgres&#x27;</span>"
      ],
      "text/plain": [
       "Running query in 'postgresql://localhost:5432/postgres'"
      ]
     },
     "metadata": {},
     "output_type": "display_data"
    },
    {
     "data": {
      "text/html": [
       "<span style=\"color: green\">954 rows affected.</span>"
      ],
      "text/plain": [
       "954 rows affected."
      ]
     },
     "metadata": {},
     "output_type": "display_data"
    },
    {
     "data": {
      "text/plain": [
       "(30.0, 70.0)"
      ]
     },
     "execution_count": 14,
     "metadata": {},
     "output_type": "execute_result"
    },
    {
     "data": {
      "image/png": "[encoded data removed]",
      "text/plain": [
       "<Figure size 972.75x400 with 1 Axes>"
      ]
     },
     "metadata": {},
     "output_type": "display_data"
    }
   ],
   "source": [
    "results = %sql SELECT x, 'cleaned' AS label \\\n",
    "               FROM observations \\\n",
    "               WHERE x NOT IN \\\n",
    "                   (SELECT * FROM normal_outliers)\n",
    "sns.displot(results.dict(), x=\"x\", kind='hist',\n",
    "            hue='label', kde=True, bins=20,\n",
    "                        height=4, aspect=2)\n",
    "plt.xlim(30, 70)"
   ]
  },
  {
   "cell_type": "markdown",
   "id": "1836f8fe-e1a4-459c-bd98-74f1508d5e55",
   "metadata": {},
   "source": [
    "## What if we suddenly had extremes?"
   ]
  },
  {
   "cell_type": "code",
   "execution_count": 15,
   "id": "126ec4ba-f14b-4dab-b725-bb1e583b2026",
   "metadata": {},
   "outputs": [
    {
     "data": {
      "text/html": [
       "<span style=\"None\">Running query in &#x27;postgresql://localhost:5432/postgres&#x27;</span>"
      ],
      "text/plain": [
       "Running query in 'postgresql://localhost:5432/postgres'"
      ]
     },
     "metadata": {},
     "output_type": "display_data"
    },
    {
     "data": {
      "text/html": [
       "<span style=\"color: green\">1 rows affected.</span>"
      ],
      "text/plain": [
       "1 rows affected."
      ]
     },
     "metadata": {},
     "output_type": "display_data"
    },
    {
     "data": {
      "text/html": [
       "<table>\n",
       "    <thead>\n",
       "        <tr>\n",
       "        </tr>\n",
       "    </thead>\n",
       "    <tbody>\n",
       "    </tbody>\n",
       "</table>"
      ],
      "text/plain": [
       "++\n",
       "||\n",
       "++\n",
       "++"
      ]
     },
     "execution_count": 15,
     "metadata": {},
     "output_type": "execute_result"
    }
   ],
   "source": [
    "%sql UPDATE observations SET x = x*10 \\\n",
    "      WHERE x = (SELECT MAX(x) FROM observations);"
   ]
  },
  {
   "cell_type": "code",
   "execution_count": 16,
   "id": "fea66d4f-9c61-4bb9-b16f-e6ea8df300d9",
   "metadata": {},
   "outputs": [
    {
     "data": {
      "text/html": [
       "<span style=\"None\">Running query in &#x27;postgresql://localhost:5432/postgres&#x27;</span>"
      ],
      "text/plain": [
       "Running query in 'postgresql://localhost:5432/postgres'"
      ]
     },
     "metadata": {},
     "output_type": "display_data"
    },
    {
     "data": {
      "text/html": [
       "<span style=\"color: green\">1 rows affected.</span>"
      ],
      "text/plain": [
       "1 rows affected."
      ]
     },
     "metadata": {},
     "output_type": "display_data"
    },
    {
     "data": {
      "text/html": [
       "<table>\n",
       "    <thead>\n",
       "        <tr>\n",
       "            <th>min</th>\n",
       "            <th>max</th>\n",
       "        </tr>\n",
       "    </thead>\n",
       "    <tbody>\n",
       "        <tr>\n",
       "            <td>33.24388909112553</td>\n",
       "            <td>676.935982446077</td>\n",
       "        </tr>\n",
       "    </tbody>\n",
       "</table>"
      ],
      "text/plain": [
       "+-------------------+------------------+\n",
       "|        min        |       max        |\n",
       "+-------------------+------------------+\n",
       "| 33.24388909112553 | 676.935982446077 |\n",
       "+-------------------+------------------+"
      ]
     },
     "execution_count": 16,
     "metadata": {},
     "output_type": "execute_result"
    }
   ],
   "source": [
    "%sql SELECT min(x), max(x) FROM observations"
   ]
  },
  {
   "cell_type": "code",
   "execution_count": 17,
   "id": "8c56721a-e19c-45a9-9b0a-730f14a9ee64",
   "metadata": {},
   "outputs": [
    {
     "data": {
      "text/html": [
       "<span style=\"None\">Running query in &#x27;postgresql://localhost:5432/postgres&#x27;</span>"
      ],
      "text/plain": [
       "Running query in 'postgresql://localhost:5432/postgres'"
      ]
     },
     "metadata": {},
     "output_type": "display_data"
    },
    {
     "data": {
      "text/html": [
       "<span style=\"color: green\">1999 rows affected.</span>"
      ],
      "text/plain": [
       "1999 rows affected."
      ]
     },
     "metadata": {},
     "output_type": "display_data"
    },
    {
     "data": {
      "text/plain": [
       "(30.0, 700.0)"
      ]
     },
     "execution_count": 17,
     "metadata": {},
     "output_type": "execute_result"
    },
    {
     "data": {
      "image/png": "[encoded data removed]",
      "text/plain": [
       "<Figure size 772.75x400 with 1 Axes>"
      ]
     },
     "metadata": {},
     "output_type": "display_data"
    }
   ],
   "source": [
    "results = %sql SELECT x, 'original' AS label \\\n",
    "               FROM observations \\\n",
    "               UNION ALL \\\n",
    "               SELECT x, 'cleaned' AS label\\\n",
    "               FROM observations \\\n",
    "               WHERE x NOT IN \\\n",
    "                   (SELECT * FROM normal_outliers)\n",
    "sns.displot(results.dict(), x=\"x\", kind='hist',\n",
    "            hue='label', kde=True, bins=np.linspace(32, 70, 20),\n",
    "            height=4, aspect=1.5, rug=True)\n",
    "plt.xlim(30, 700)"
   ]
  },
  {
   "cell_type": "code",
   "execution_count": 18,
   "id": "83e6f098-7ca1-48cc-b902-3c316caa866c",
   "metadata": {},
   "outputs": [
    {
     "data": {
      "text/html": [
       "<span style=\"None\">Running query in &#x27;postgresql://localhost:5432/postgres&#x27;</span>"
      ],
      "text/plain": [
       "Running query in 'postgresql://localhost:5432/postgres'"
      ]
     },
     "metadata": {},
     "output_type": "display_data"
    },
    {
     "data": {
      "text/html": [
       "<span style=\"color: green\">1999 rows affected.</span>"
      ],
      "text/plain": [
       "1999 rows affected."
      ]
     },
     "metadata": {},
     "output_type": "display_data"
    },
    {
     "data": {
      "text/plain": [
       "(30.0, 70.0)"
      ]
     },
     "execution_count": 18,
     "metadata": {},
     "output_type": "execute_result"
    },
    {
     "data": {
      "image/png": "[encoded data removed]",
      "text/plain": [
       "<Figure size 772.75x400 with 1 Axes>"
      ]
     },
     "metadata": {},
     "output_type": "display_data"
    }
   ],
   "source": [
    "results = %sql SELECT x, 'original' AS label \\\n",
    "               FROM observations \\\n",
    "               UNION ALL \\\n",
    "               SELECT x, 'cleaned' AS label\\\n",
    "               FROM observations \\\n",
    "               WHERE x NOT IN \\\n",
    "                   (SELECT * FROM normal_outliers)\n",
    "sns.displot(results.dict(), x=\"x\", kind='hist',\n",
    "            hue='label', kde=True, bins=np.linspace(32, 70, 20),\n",
    "            height=4, aspect=1.5, rug=True)\n",
    "plt.xlim(30, 70)"
   ]
  },
  {
   "cell_type": "code",
   "execution_count": 19,
   "id": "b46eb7f1-b60e-4abd-9b1c-9249a330887d",
   "metadata": {},
   "outputs": [
    {
     "data": {
      "text/html": [
       "<span style=\"None\">Running query in &#x27;postgresql://localhost:5432/postgres&#x27;</span>"
      ],
      "text/plain": [
       "Running query in 'postgresql://localhost:5432/postgres'"
      ]
     },
     "metadata": {},
     "output_type": "display_data"
    },
    {
     "data": {
      "text/html": [
       "<span style=\"color: green\">1 rows affected.</span>"
      ],
      "text/plain": [
       "1 rows affected."
      ]
     },
     "metadata": {},
     "output_type": "display_data"
    },
    {
     "data": {
      "text/html": [
       "<table>\n",
       "    <thead>\n",
       "        <tr>\n",
       "        </tr>\n",
       "    </thead>\n",
       "    <tbody>\n",
       "    </tbody>\n",
       "</table>"
      ],
      "text/plain": [
       "++\n",
       "||\n",
       "++\n",
       "++"
      ]
     },
     "execution_count": 19,
     "metadata": {},
     "output_type": "execute_result"
    }
   ],
   "source": [
    "## reset before moving on\n",
    "%sql UPDATE observations SET x = x/10 \\\n",
    "      WHERE x = (SELECT MAX(x) FROM OBSERVATIONS);"
   ]
  },
  {
   "cell_type": "markdown",
   "id": "29272316-4f16-4e0f-aa53-f758301c20b8",
   "metadata": {},
   "source": [
    "# Winsorization"
   ]
  },
  {
   "cell_type": "code",
   "execution_count": 20,
   "id": "2dbab392-e702-4864-a84f-5f1a49e45818",
   "metadata": {},
   "outputs": [],
   "source": [
    "import numpy as np"
   ]
  },
  {
   "cell_type": "code",
   "execution_count": 21,
   "id": "557ed20c-4ccf-458f-aae4-5399188c70ee",
   "metadata": {},
   "outputs": [
    {
     "data": {
      "text/plain": [
       "array([  92,   19,  101,   58, 1053,   91,   26,   78,   10,   13,  -40,\n",
       "        101,   86,   85,   15,   89,   89,   28,   -5,   41])"
      ]
     },
     "execution_count": 21,
     "metadata": {},
     "output_type": "execute_result"
    }
   ],
   "source": [
    "arr = np.array([92, 19, 101, 58, 1053, 91, 26, 78, 10, 13, -40, 101, 86, 85, 15, 89, 89, 28, -5, 41])\n",
    "arr"
   ]
  },
  {
   "cell_type": "code",
   "execution_count": 22,
   "id": "187ddd3d-84b9-4b85-ae41-9f836f8ed276",
   "metadata": {},
   "outputs": [
    {
     "data": {
      "text/plain": [
       "(101.5, 68.0)"
      ]
     },
     "execution_count": 22,
     "metadata": {},
     "output_type": "execute_result"
    }
   ],
   "source": [
    "np.mean(arr), np.median(arr)"
   ]
  },
  {
   "cell_type": "code",
   "execution_count": 23,
   "id": "eb3d1ae5-84f3-497e-b928-bd49b221c7e0",
   "metadata": {},
   "outputs": [
    {
     "data": {
      "text/plain": [
       "101"
      ]
     },
     "execution_count": 23,
     "metadata": {},
     "output_type": "execute_result"
    }
   ],
   "source": [
    "np.percentile(arr, 95, method='nearest')"
   ]
  },
  {
   "cell_type": "code",
   "execution_count": 24,
   "id": "1a378a80-637c-48ff-87f8-231ded3798e5",
   "metadata": {},
   "outputs": [
    {
     "data": {
      "text/plain": [
       "-5"
      ]
     },
     "execution_count": 24,
     "metadata": {},
     "output_type": "execute_result"
    }
   ],
   "source": [
    "np.percentile(arr, 5, method='nearest')"
   ]
  },
  {
   "cell_type": "code",
   "execution_count": 25,
   "id": "10ab9dfe-a9c1-4a35-9780-1c2e7cbec620",
   "metadata": {},
   "outputs": [
    {
     "data": {
      "text/plain": [
       "array([ 92,  19, 101,  58, 101,  91,  26,  78,  10,  13,  -5, 101,  86,\n",
       "        85,  15,  89,  89,  28,  -5,  41])"
      ]
     },
     "execution_count": 25,
     "metadata": {},
     "output_type": "execute_result"
    }
   ],
   "source": [
    "arr_winsorized = np.array([92, 19, 101, 58, 101, 91, 26, 78, 10, 13, -5, 101, 86, 85, 15, 89, 89, 28, -5, 41])\n",
    "arr_winsorized"
   ]
  },
  {
   "cell_type": "code",
   "execution_count": 26,
   "id": "5fe4b356-ee19-4eec-a457-13e800830350",
   "metadata": {},
   "outputs": [
    {
     "data": {
      "text/plain": [
       "(55.65, 68.0)"
      ]
     },
     "execution_count": 26,
     "metadata": {},
     "output_type": "execute_result"
    }
   ],
   "source": [
    "np.mean(arr_winsorized), np.median(arr_winsorized)"
   ]
  },
  {
   "cell_type": "markdown",
   "id": "e1dd5754-0ced-47ee-a814-c885eec980a5",
   "metadata": {},
   "source": [
    "# Trimming vs. Winsorizatoin"
   ]
  },
  {
   "cell_type": "code",
   "execution_count": 27,
   "id": "13bd1307-b9f7-4dda-9c38-a01ad7ee037d",
   "metadata": {},
   "outputs": [
    {
     "data": {
      "text/html": [
       "<span style=\"None\">Running query in &#x27;postgresql://localhost:5432/postgres&#x27;</span>"
      ],
      "text/plain": [
       "Running query in 'postgresql://localhost:5432/postgres'"
      ]
     },
     "metadata": {},
     "output_type": "display_data"
    },
    {
     "data": {
      "text/html": [
       "<span style=\"color: green\">1 rows affected.</span>"
      ],
      "text/plain": [
       "1 rows affected."
      ]
     },
     "metadata": {},
     "output_type": "display_data"
    },
    {
     "data": {
      "text/html": [
       "<table>\n",
       "    <thead>\n",
       "        <tr>\n",
       "            <th>p1</th>\n",
       "            <th>p99</th>\n",
       "        </tr>\n",
       "    </thead>\n",
       "    <tbody>\n",
       "        <tr>\n",
       "            <td>38.43109098130509</td>\n",
       "            <td>61.9232183423137</td>\n",
       "        </tr>\n",
       "    </tbody>\n",
       "</table>"
      ],
      "text/plain": [
       "+-------------------+------------------+\n",
       "|         p1        |       p99        |\n",
       "+-------------------+------------------+\n",
       "| 38.43109098130509 | 61.9232183423137 |\n",
       "+-------------------+------------------+"
      ]
     },
     "execution_count": 27,
     "metadata": {},
     "output_type": "execute_result"
    }
   ],
   "source": [
    "%%sql\n",
    "CREATE OR REPLACE VIEW p1p99 AS\n",
    "SELECT percentile_cont(.01) WITHIN GROUP (ORDER BY x) AS p1,\n",
    "           percentile_cont(.99) WITHIN GROUP (ORDER BY x) AS p99\n",
    "      FROM observations;\n",
    "SELECT * FROM p1p99;"
   ]
  },
  {
   "cell_type": "code",
   "execution_count": 28,
   "id": "ce1990fa-3b04-4022-ad0a-f0542d6cd497",
   "metadata": {},
   "outputs": [
    {
     "data": {
      "text/html": [
       "<span style=\"None\">Running query in &#x27;postgresql://localhost:5432/postgres&#x27;</span>"
      ],
      "text/plain": [
       "Running query in 'postgresql://localhost:5432/postgres'"
      ]
     },
     "metadata": {},
     "output_type": "display_data"
    },
    {
     "data": {
      "text/html": [
       "<table>\n",
       "    <thead>\n",
       "        <tr>\n",
       "        </tr>\n",
       "    </thead>\n",
       "    <tbody>\n",
       "    </tbody>\n",
       "</table>"
      ],
      "text/plain": [
       "++\n",
       "||\n",
       "++\n",
       "++"
      ]
     },
     "execution_count": 28,
     "metadata": {},
     "output_type": "execute_result"
    }
   ],
   "source": [
    "%%sql\n",
    "CREATE OR REPLACE VIEW trimmed_observations AS\n",
    "SELECT o.x, 'trimmed' AS label\n",
    "  FROM observations o, p1p99 p\n",
    " WHERE o.x BETWEEN p.p1 AND p.p99\n",
    "UNION ALL\n",
    "SELECT o.x, 'original' AS label\n",
    "  FROM observations o;\n",
    "\n",
    "CREATE OR REPLACE VIEW trimmed_outliers AS\n",
    "SELECT o.*\n",
    "  FROM observations o, p1p99 p\n",
    " WHERE o.x NOT BETWEEN p.p1 AND p.p99;"
   ]
  },
  {
   "cell_type": "code",
   "execution_count": 29,
   "id": "ac8db73e-2a97-4395-adc1-d9840eb70c64",
   "metadata": {},
   "outputs": [
    {
     "data": {
      "text/html": [
       "<span style=\"None\">Running query in &#x27;postgresql://localhost:5432/postgres&#x27;</span>"
      ],
      "text/plain": [
       "Running query in 'postgresql://localhost:5432/postgres'"
      ]
     },
     "metadata": {},
     "output_type": "display_data"
    },
    {
     "data": {
      "text/html": [
       "<span style=\"color: green\">1980 rows affected.</span>"
      ],
      "text/plain": [
       "1980 rows affected."
      ]
     },
     "metadata": {},
     "output_type": "display_data"
    },
    {
     "data": {
      "text/plain": [
       "<seaborn.axisgrid.FacetGrid at 0x7f19ad108950>"
      ]
     },
     "execution_count": 29,
     "metadata": {},
     "output_type": "execute_result"
    },
    {
     "data": {
      "image/png": "[encoded data removed]",
      "text/plain": [
       "<Figure size 780.875x400 with 1 Axes>"
      ]
     },
     "metadata": {},
     "output_type": "display_data"
    }
   ],
   "source": [
    "results = %sql SELECT * from trimmed_observations\n",
    "sns.displot(results.dict(), x=\"x\", kind='hist', hue='label', kde=True, bins=20,\n",
    "           height=4, aspect=1.5)"
   ]
  },
  {
   "cell_type": "markdown",
   "id": "3262a584-8efa-438f-8fd0-80e44fcb5f6b",
   "metadata": {},
   "source": [
    "## Does corruption affect?"
   ]
  },
  {
   "cell_type": "code",
   "execution_count": 30,
   "id": "e70da32d-acb0-4a62-a2e2-fab678748b7e",
   "metadata": {},
   "outputs": [
    {
     "data": {
      "text/html": [
       "<span style=\"None\">Running query in &#x27;postgresql://localhost:5432/postgres&#x27;</span>"
      ],
      "text/plain": [
       "Running query in 'postgresql://localhost:5432/postgres'"
      ]
     },
     "metadata": {},
     "output_type": "display_data"
    },
    {
     "data": {
      "text/html": [
       "<span style=\"color: green\">1 rows affected.</span>"
      ],
      "text/plain": [
       "1 rows affected."
      ]
     },
     "metadata": {},
     "output_type": "display_data"
    },
    {
     "data": {
      "text/html": [
       "<table>\n",
       "    <thead>\n",
       "        <tr>\n",
       "        </tr>\n",
       "    </thead>\n",
       "    <tbody>\n",
       "    </tbody>\n",
       "</table>"
      ],
      "text/plain": [
       "++\n",
       "||\n",
       "++\n",
       "++"
      ]
     },
     "execution_count": 30,
     "metadata": {},
     "output_type": "execute_result"
    }
   ],
   "source": [
    "# corrupt one value\n",
    "%sql UPDATE observations SET x = x*10 \\\n",
    "      WHERE x = (SELECT MAX(x) FROM observations);"
   ]
  },
  {
   "cell_type": "markdown",
   "id": "6b825db1-ea83-458f-b43d-87633c06b203",
   "metadata": {},
   "source": [
    "Turns out, we still have as many outliers, which we trim.\n",
    "\n",
    "Because we are trimming based on the order of the data and not on the distribution statistics (mean/SD)"
   ]
  },
  {
   "cell_type": "code",
   "execution_count": 31,
   "id": "e5dd84d1-4e93-4ee3-b979-2c06bff18629",
   "metadata": {},
   "outputs": [
    {
     "data": {
      "text/html": [
       "<span style=\"None\">Running query in &#x27;postgresql://localhost:5432/postgres&#x27;</span>"
      ],
      "text/plain": [
       "Running query in 'postgresql://localhost:5432/postgres'"
      ]
     },
     "metadata": {},
     "output_type": "display_data"
    },
    {
     "data": {
      "text/html": [
       "<span style=\"color: green\">1980 rows affected.</span>"
      ],
      "text/plain": [
       "1980 rows affected."
      ]
     },
     "metadata": {},
     "output_type": "display_data"
    },
    {
     "data": {
      "text/plain": [
       "(30.0, 70.0)"
      ]
     },
     "execution_count": 31,
     "metadata": {},
     "output_type": "execute_result"
    },
    {
     "data": {
      "image/png": "[encoded data removed]",
      "text/plain": [
       "<Figure size 780.875x400 with 1 Axes>"
      ]
     },
     "metadata": {},
     "output_type": "display_data"
    }
   ],
   "source": [
    "results = %sql SELECT * from trimmed_observations\n",
    "sns.displot(results.dict(), x=\"x\", kind='hist',\n",
    "            hue='label', kde=True, bins=np.linspace(32, 70, 20),\n",
    "            height=4, aspect=1.5, rug=True)\n",
    "plt.xlim(30, 70)"
   ]
  },
  {
   "cell_type": "markdown",
   "id": "fa319954-03e5-4db4-b965-9eeda6f6d8c5",
   "metadata": {},
   "source": [
    "## Winsorization"
   ]
  },
  {
   "cell_type": "code",
   "execution_count": 32,
   "id": "7dc21c5b-a7eb-40c4-99f8-c675e3669c92",
   "metadata": {},
   "outputs": [],
   "source": [
    "## reset before moving on\n",
    "# %sql UPDATE observations SET x = x*10 \\\n",
    "#       WHERE x = (SELECT MAX(x) FROM OBSERVATIONS);"
   ]
  },
  {
   "cell_type": "code",
   "execution_count": 33,
   "id": "e00ffdfa-7685-4e90-92a6-8ed57d5d676e",
   "metadata": {},
   "outputs": [
    {
     "data": {
      "text/html": [
       "<span style=\"None\">Running query in &#x27;postgresql://localhost:5432/postgres&#x27;</span>"
      ],
      "text/plain": [
       "Running query in 'postgresql://localhost:5432/postgres'"
      ]
     },
     "metadata": {},
     "output_type": "display_data"
    },
    {
     "data": {
      "text/html": [
       "<table>\n",
       "    <thead>\n",
       "        <tr>\n",
       "        </tr>\n",
       "    </thead>\n",
       "    <tbody>\n",
       "    </tbody>\n",
       "</table>"
      ],
      "text/plain": [
       "++\n",
       "||\n",
       "++\n",
       "++"
      ]
     },
     "execution_count": 33,
     "metadata": {},
     "output_type": "execute_result"
    }
   ],
   "source": [
    "%%sql\n",
    "CREATE OR REPLACE VIEW winsorized_observations AS\n",
    "SELECT CASE WHEN o.x BETWEEN p.p1 AND p.p99 THEN o.x\n",
    "            WHEN o.x < p.p1 THEN p.p1\n",
    "            WHEN o.x > p.p99 THEN p.p99\n",
    "        END AS x,\n",
    "      'winsorized' AS label\n",
    "  FROM observations o, p1p99 p\n",
    "UNION ALL\n",
    "SELECT o.x, 'original' AS label\n",
    "  FROM observations o;"
   ]
  },
  {
   "cell_type": "code",
   "execution_count": 34,
   "id": "f6561173-9b6c-443f-a183-99859f53c13c",
   "metadata": {},
   "outputs": [
    {
     "data": {
      "text/html": [
       "<span style=\"None\">Running query in &#x27;postgresql://localhost:5432/postgres&#x27;</span>"
      ],
      "text/plain": [
       "Running query in 'postgresql://localhost:5432/postgres'"
      ]
     },
     "metadata": {},
     "output_type": "display_data"
    },
    {
     "data": {
      "text/html": [
       "<span style=\"color: green\">2000 rows affected.</span>"
      ],
      "text/plain": [
       "2000 rows affected."
      ]
     },
     "metadata": {},
     "output_type": "display_data"
    },
    {
     "data": {
      "text/plain": [
       "(30.0, 70.0)"
      ]
     },
     "execution_count": 34,
     "metadata": {},
     "output_type": "execute_result"
    },
    {
     "data": {
      "image/png": "[encoded data removed]",
      "text/plain": [
       "<Figure size 804.375x400 with 1 Axes>"
      ]
     },
     "metadata": {},
     "output_type": "display_data"
    }
   ],
   "source": [
    "results = %sql SELECT * from winsorized_observations\n",
    "sns.displot(results.dict(), x=\"x\", kind='hist',\n",
    "            hue='label', kde=True, bins=np.linspace(32, 70, 20),\n",
    "            height=4, aspect=1.5, rug=True)\n",
    "plt.xlim(30, 70)"
   ]
  },
  {
   "cell_type": "code",
   "execution_count": 35,
   "id": "e096e5c9-7bb1-430d-875a-17da7772e146",
   "metadata": {},
   "outputs": [
    {
     "data": {
      "text/html": [
       "<span style=\"None\">Running query in &#x27;postgresql://localhost:5432/postgres&#x27;</span>"
      ],
      "text/plain": [
       "Running query in 'postgresql://localhost:5432/postgres'"
      ]
     },
     "metadata": {},
     "output_type": "display_data"
    },
    {
     "data": {
      "text/html": [
       "<span style=\"color: green\">3 rows affected.</span>"
      ],
      "text/plain": [
       "3 rows affected."
      ]
     },
     "metadata": {},
     "output_type": "display_data"
    },
    {
     "data": {
      "text/html": [
       "<table>\n",
       "    <thead>\n",
       "        <tr>\n",
       "            <th>distribution</th>\n",
       "            <th>min</th>\n",
       "            <th>p25</th>\n",
       "            <th>median</th>\n",
       "            <th>p75</th>\n",
       "            <th>max</th>\n",
       "            <th>avg</th>\n",
       "            <th>stddev</th>\n",
       "            <th>count</th>\n",
       "        </tr>\n",
       "    </thead>\n",
       "    <tbody>\n",
       "        <tr>\n",
       "            <td>orig</td>\n",
       "            <td>33.24388909112553</td>\n",
       "            <td>46.76332260258399</td>\n",
       "            <td>49.90519697388744</td>\n",
       "            <td>53.084771695348394</td>\n",
       "            <td>676.935982446077</td>\n",
       "            <td>50.709949206144934</td>\n",
       "            <td>20.421033385050517</td>\n",
       "            <td>1000</td>\n",
       "        </tr>\n",
       "        <tr>\n",
       "            <td>winsorized</td>\n",
       "            <td>38.43109098130509</td>\n",
       "            <td>46.76332260258399</td>\n",
       "            <td>49.90519697388744</td>\n",
       "            <td>53.084771695348394</td>\n",
       "            <td>61.9232183423137</td>\n",
       "            <td>50.09749477430341</td>\n",
       "            <td>4.812893108231815</td>\n",
       "            <td>1000</td>\n",
       "        </tr>\n",
       "        <tr>\n",
       "            <td>trimmed</td>\n",
       "            <td>38.43179113189681</td>\n",
       "            <td>46.81855749035703</td>\n",
       "            <td>49.90519697388744</td>\n",
       "            <td>53.06435883287555</td>\n",
       "            <td>61.92285072093402</td>\n",
       "            <td>50.09586906231347</td>\n",
       "            <td>4.562722157959657</td>\n",
       "            <td>980</td>\n",
       "        </tr>\n",
       "    </tbody>\n",
       "</table>"
      ],
      "text/plain": [
       "+--------------+-------------------+-------------------+-------------------+--------------------+-------------------+--------------------+--------------------+-------+\n",
       "| distribution |        min        |        p25        |       median      |        p75         |        max        |        avg         |       stddev       | count |\n",
       "+--------------+-------------------+-------------------+-------------------+--------------------+-------------------+--------------------+--------------------+-------+\n",
       "|     orig     | 33.24388909112553 | 46.76332260258399 | 49.90519697388744 | 53.084771695348394 |  676.935982446077 | 50.709949206144934 | 20.421033385050517 |  1000 |\n",
       "|  winsorized  | 38.43109098130509 | 46.76332260258399 | 49.90519697388744 | 53.084771695348394 |  61.9232183423137 | 50.09749477430341  | 4.812893108231815  |  1000 |\n",
       "|   trimmed    | 38.43179113189681 | 46.81855749035703 | 49.90519697388744 | 53.06435883287555  | 61.92285072093402 | 50.09586906231347  | 4.562722157959657  |  980  |\n",
       "+--------------+-------------------+-------------------+-------------------+--------------------+-------------------+--------------------+--------------------+-------+"
      ]
     },
     "execution_count": 35,
     "metadata": {},
     "output_type": "execute_result"
    }
   ],
   "source": [
    "%%sql \n",
    "SELECT 'orig' AS distribution, min(x),\n",
    "       percentile_disc(.25) WITHIN GROUP (ORDER BY x) as p25,\n",
    "       percentile_disc(.50) WITHIN GROUP (ORDER BY x) as median,\n",
    "       percentile_disc(.75) WITHIN GROUP (ORDER BY x) as p75,\n",
    "       max(x), avg(x), stddev(x), count(x) \n",
    "       FROM observations\n",
    "UNION ALL\n",
    "SELECT 'winsorized', min(x),\n",
    "       percentile_disc(.25) WITHIN GROUP (ORDER BY x) as p25,\n",
    "       percentile_disc(.50) WITHIN GROUP (ORDER BY x) as median,\n",
    "       percentile_disc(.75) WITHIN GROUP (ORDER BY x) as p75,\n",
    "       max(x), avg(x), stddev(x), count(x) \n",
    "       FROM winsorized_observations WHERE label = 'winsorized'\n",
    "UNION ALL \n",
    "SELECT 'trimmed', min(x),\n",
    "       percentile_disc(.25) WITHIN GROUP (ORDER BY x) as p25,\n",
    "       percentile_disc(.50) WITHIN GROUP (ORDER BY x) as median,\n",
    "       percentile_disc(.75) WITHIN GROUP (ORDER BY x) as p75,\n",
    "       max(x), avg(x), stddev(x), count(x) \n",
    "       FROM trimmed_observations WHERE label = 'trimmed';"
   ]
  },
  {
   "cell_type": "markdown",
   "id": "cba5aafe-7258-4047-bcc5-823d80f171c3",
   "metadata": {},
   "source": [
    "# Robustness, Mean, Median, Hampel X84"
   ]
  },
  {
   "cell_type": "code",
   "execution_count": 36,
   "id": "e3832e34-c107-49fc-a06b-868bf46db373",
   "metadata": {},
   "outputs": [
    {
     "data": {
      "text/html": [
       "<span style=\"None\">Running query in &#x27;postgresql://localhost:5432/postgres&#x27;</span>"
      ],
      "text/plain": [
       "Running query in 'postgresql://localhost:5432/postgres'"
      ]
     },
     "metadata": {},
     "output_type": "display_data"
    },
    {
     "data": {
      "text/html": [
       "<table>\n",
       "    <thead>\n",
       "        <tr>\n",
       "        </tr>\n",
       "    </thead>\n",
       "    <tbody>\n",
       "    </tbody>\n",
       "</table>"
      ],
      "text/plain": [
       "++\n",
       "||\n",
       "++\n",
       "++"
      ]
     },
     "execution_count": 36,
     "metadata": {},
     "output_type": "execute_result"
    }
   ],
   "source": [
    "%%sql\n",
    "-- percentile_disc returns an actual data value near the percentile\n",
    "-- percentile_cont returns an interpolated value at the percentile\n",
    "CREATE OR REPLACE VIEW median AS\n",
    "(SELECT percentile_disc(0.5) WITHIN GROUP (ORDER BY x) as median\n",
    "  FROM observations);"
   ]
  },
  {
   "cell_type": "code",
   "execution_count": 37,
   "id": "b1b6aa5c-9db2-4cbe-aaf0-986987d7ad7f",
   "metadata": {},
   "outputs": [
    {
     "data": {
      "text/html": [
       "<span style=\"None\">Running query in &#x27;postgresql://localhost:5432/postgres&#x27;</span>"
      ],
      "text/plain": [
       "Running query in 'postgresql://localhost:5432/postgres'"
      ]
     },
     "metadata": {},
     "output_type": "display_data"
    },
    {
     "data": {
      "text/html": [
       "<span style=\"color: green\">1 rows affected.</span>"
      ],
      "text/plain": [
       "1 rows affected."
      ]
     },
     "metadata": {},
     "output_type": "display_data"
    },
    {
     "data": {
      "text/html": [
       "<table>\n",
       "    <thead>\n",
       "        <tr>\n",
       "            <th>median</th>\n",
       "            <th>mad</th>\n",
       "        </tr>\n",
       "    </thead>\n",
       "    <tbody>\n",
       "        <tr>\n",
       "            <td>49.90519697388744</td>\n",
       "            <td>3.1616553325657577</td>\n",
       "        </tr>\n",
       "    </tbody>\n",
       "</table>"
      ],
      "text/plain": [
       "+-------------------+--------------------+\n",
       "|       median      |        mad         |\n",
       "+-------------------+--------------------+\n",
       "| 49.90519697388744 | 3.1616553325657577 |\n",
       "+-------------------+--------------------+"
      ]
     },
     "execution_count": 37,
     "metadata": {},
     "output_type": "execute_result"
    }
   ],
   "source": [
    "%%sql\n",
    "CREATE OR REPLACE VIEW mad AS\n",
    "WITH\n",
    "absdevs AS\n",
    "(SELECT abs(x - median) as d\n",
    "   FROM observations, median)\n",
    "SELECT percentile_disc(0.5) WITHIN GROUP (ORDER BY d) as mad\n",
    "  FROM absdevs;\n",
    "    \n",
    "SELECT median, mad\n",
    "  FROM median, mad;"
   ]
  },
  {
   "cell_type": "code",
   "execution_count": 38,
   "id": "0b9452cc-797d-49fb-b972-7b9d210880db",
   "metadata": {},
   "outputs": [
    {
     "data": {
      "text/html": [
       "<span style=\"None\">Running query in &#x27;postgresql://localhost:5432/postgres&#x27;</span>"
      ],
      "text/plain": [
       "Running query in 'postgresql://localhost:5432/postgres'"
      ]
     },
     "metadata": {},
     "output_type": "display_data"
    },
    {
     "data": {
      "text/html": [
       "<table>\n",
       "    <thead>\n",
       "        <tr>\n",
       "        </tr>\n",
       "    </thead>\n",
       "    <tbody>\n",
       "    </tbody>\n",
       "</table>"
      ],
      "text/plain": [
       "++\n",
       "||\n",
       "++\n",
       "++"
      ]
     },
     "execution_count": 38,
     "metadata": {},
     "output_type": "execute_result"
    }
   ],
   "source": [
    "%%sql\n",
    "CREATE OR REPLACE VIEW hampelx84x2_observations AS\n",
    "SELECT o.x,\n",
    "      'hampelx84x2' AS label\n",
    "  FROM observations o, median, mad\n",
    " WHERE o.x BETWEEN (median-2*1.4826*mad) AND (median+2*1.4826*mad)\n",
    "UNION ALL\n",
    "SELECT o.x, 'orig' AS label\n",
    "  FROM observations o;\n",
    "\n",
    "CREATE OR REPLACE VIEW Hampel84x2_outliers AS\n",
    "SELECT x\n",
    "  FROM observations o, median, mad\n",
    " WHERE x NOT BETWEEN (median - 2*1.4826*mad) AND (median + 2*1.4826*mad);"
   ]
  },
  {
   "cell_type": "code",
   "execution_count": 39,
   "id": "bb3fbdce-9eb8-4756-bb39-7ce1122c61b5",
   "metadata": {},
   "outputs": [
    {
     "data": {
      "text/html": [
       "<span style=\"None\">Running query in &#x27;postgresql://localhost:5432/postgres&#x27;</span>"
      ],
      "text/plain": [
       "Running query in 'postgresql://localhost:5432/postgres'"
      ]
     },
     "metadata": {},
     "output_type": "display_data"
    },
    {
     "data": {
      "text/html": [
       "<span style=\"color: green\">1941 rows affected.</span>"
      ],
      "text/plain": [
       "1941 rows affected."
      ]
     },
     "metadata": {},
     "output_type": "display_data"
    },
    {
     "data": {
      "text/plain": [
       "(30.0, 70.0)"
      ]
     },
     "execution_count": 39,
     "metadata": {},
     "output_type": "execute_result"
    },
    {
     "data": {
      "image/png": "[encoded data removed]",
      "text/plain": [
       "<Figure size 839.75x400 with 1 Axes>"
      ]
     },
     "metadata": {},
     "output_type": "display_data"
    }
   ],
   "source": [
    "results = %sql SELECT * FROM hampelx84x2_observations\n",
    "sns.displot(results.dict(), x=\"x\", kind='hist',\n",
    "            hue='label', kde=True, bins=np.linspace(32, 70, 20),\n",
    "            height=4, aspect=1.5, rug=True)\n",
    "plt.xlim(30, 70)"
   ]
  },
  {
   "cell_type": "markdown",
   "id": "e4185fd4-20d4-403a-9088-619be1217763",
   "metadata": {},
   "source": [
    "# GNIS data"
   ]
  },
  {
   "cell_type": "markdown",
   "id": "2f8ce206-e924-42a0-8dd3-dab8c1c2541e",
   "metadata": {},
   "source": [
    "This is the GNIS dataset from the previous lecture. If you didn't load in the database, run the below cell before connecting."
   ]
  },
  {
   "cell_type": "code",
   "execution_count": 40,
   "id": "5d5a45fa-0636-4407-97fb-2d94b27df523",
   "metadata": {},
   "outputs": [
    {
     "name": "stdout",
     "output_type": "stream",
     "text": [
      " pg_terminate_backend \n",
      "----------------------\n",
      "(0 rows)\n",
      "\n",
      "DROP DATABASE\n",
      "CREATE DATABASE\n",
      "SET\n",
      "SET\n",
      "SET\n",
      "SET\n",
      "SET\n",
      " set_config \n",
      "------------\n",
      " \n",
      "(1 row)\n",
      "\n",
      "SET\n",
      "SET\n",
      "SET\n",
      "SET\n",
      "SET\n",
      "SET\n",
      "CREATE TABLE\n",
      "ALTER TABLE\n",
      "CREATE TABLE\n",
      "ALTER TABLE\n",
      "COPY 3195\n",
      "COPY 11533\n",
      "CREATE INDEX\n"
     ]
    }
   ],
   "source": [
    "!psql -h localhost -d gnis -c 'SELECT pg_terminate_backend(pg_stat_activity.pid) FROM pg_stat_activity WHERE datname = current_database() AND pid <> pg_backend_pid();'\n",
    "!psql -h localhost -c 'DROP DATABASE IF EXISTS gnis'\n",
    "!psql -h localhost -c 'CREATE DATABASE gnis' \n",
    "!psql -h localhost -d gnis -f ../lec13/data/gnis.sql"
   ]
  },
  {
   "cell_type": "code",
   "execution_count": 41,
   "id": "ca5713cc-39d6-4cda-8f6c-48e58683fd37",
   "metadata": {},
   "outputs": [
    {
     "data": {
      "text/html": [
       "<span style=\"None\">Connecting and switching to connection postgresql://localhost:5432/gnis</span>"
      ],
      "text/plain": [
       "Connecting and switching to connection postgresql://localhost:5432/gnis"
      ]
     },
     "metadata": {},
     "output_type": "display_data"
    }
   ],
   "source": [
    "%reload_ext sql\n",
    "%sql postgresql://localhost:5432/gnis"
   ]
  },
  {
   "cell_type": "code",
   "execution_count": 42,
   "id": "144f5ba8-713a-4f4c-b444-fb44834cdc78",
   "metadata": {},
   "outputs": [
    {
     "data": {
      "text/html": [
       "<span style=\"None\">Running query in &#x27;postgresql://localhost:5432/gnis&#x27;</span>"
      ],
      "text/plain": [
       "Running query in 'postgresql://localhost:5432/gnis'"
      ]
     },
     "metadata": {},
     "output_type": "display_data"
    },
    {
     "data": {
      "text/html": [
       "<span style=\"color: green\">1 rows affected.</span>"
      ],
      "text/plain": [
       "1 rows affected."
      ]
     },
     "metadata": {},
     "output_type": "display_data"
    },
    {
     "data": {
      "text/html": [
       "<table>\n",
       "    <thead>\n",
       "        <tr>\n",
       "            <th>setseed</th>\n",
       "        </tr>\n",
       "    </thead>\n",
       "    <tbody>\n",
       "        <tr>\n",
       "            <td></td>\n",
       "        </tr>\n",
       "    </tbody>\n",
       "</table>"
      ],
      "text/plain": [
       "+---------+\n",
       "| setseed |\n",
       "+---------+\n",
       "|         |\n",
       "+---------+"
      ]
     },
     "execution_count": 42,
     "metadata": {},
     "output_type": "execute_result"
    }
   ],
   "source": [
    "%sql SELECT setseed(0.12345);"
   ]
  },
  {
   "cell_type": "code",
   "execution_count": 43,
   "id": "4b5778e7-3493-482a-b2a1-ae9a51316221",
   "metadata": {},
   "outputs": [
    {
     "data": {
      "text/html": [
       "<span style=\"None\">Running query in &#x27;postgresql://localhost:5432/gnis&#x27;</span>"
      ],
      "text/plain": [
       "Running query in 'postgresql://localhost:5432/gnis'"
      ]
     },
     "metadata": {},
     "output_type": "display_data"
    },
    {
     "data": {
      "text/html": [
       "<span style=\"color: green\">11533 rows affected.</span>"
      ],
      "text/plain": [
       "11533 rows affected."
      ]
     },
     "metadata": {},
     "output_type": "display_data"
    },
    {
     "data": {
      "text/html": [
       "<span style=\"color: green\">1 rows affected.</span>"
      ],
      "text/plain": [
       "1 rows affected."
      ]
     },
     "metadata": {},
     "output_type": "display_data"
    },
    {
     "data": {
      "text/html": [
       "<table>\n",
       "    <thead>\n",
       "        <tr>\n",
       "            <th>?column?</th>\n",
       "        </tr>\n",
       "    </thead>\n",
       "    <tbody>\n",
       "        <tr>\n",
       "            <td>0.8755744385675887</td>\n",
       "        </tr>\n",
       "    </tbody>\n",
       "</table>"
      ],
      "text/plain": [
       "+--------------------+\n",
       "|      ?column?      |\n",
       "+--------------------+\n",
       "| 0.8755744385675887 |\n",
       "+--------------------+"
      ]
     },
     "execution_count": 43,
     "metadata": {},
     "output_type": "execute_result"
    }
   ],
   "source": [
    "%%sql\n",
    "DROP TABLE IF EXISTS holey CASCADE;\n",
    "CREATE TABLE holey AS \n",
    "SELECT feature_id, feature_name, feature_class, state_alpha, county_name, \n",
    "       prim_lat_dec, prim_long_dec, \n",
    "       CASE WHEN random() > 0.9 THEN NULL\n",
    "            ELSE elev_in_m\n",
    "        END AS elev_in_m\n",
    "  FROM national;\n",
    "SELECT count(elev_in_m)::float / count(*) FROM holey;"
   ]
  },
  {
   "cell_type": "markdown",
   "id": "d6767106-6a79-4518-9f91-54e7d1b248c5",
   "metadata": {},
   "source": [
    "## Schema 1. Default Value Imputation with SQL"
   ]
  },
  {
   "cell_type": "code",
   "execution_count": 44,
   "id": "98e4c278-19fc-4ada-ad3c-9f9793ce034b",
   "metadata": {},
   "outputs": [
    {
     "data": {
      "text/html": [
       "<span style=\"None\">Running query in &#x27;postgresql://localhost:5432/gnis&#x27;</span>"
      ],
      "text/plain": [
       "Running query in 'postgresql://localhost:5432/gnis'"
      ]
     },
     "metadata": {},
     "output_type": "display_data"
    },
    {
     "data": {
      "text/html": [
       "<span style=\"color: green\">10 rows affected.</span>"
      ],
      "text/plain": [
       "10 rows affected."
      ]
     },
     "metadata": {},
     "output_type": "display_data"
    },
    {
     "data": {
      "text/html": [
       "<table>\n",
       "    <thead>\n",
       "        <tr>\n",
       "            <th>feature_id</th>\n",
       "            <th>feature_name</th>\n",
       "            <th>feature_class</th>\n",
       "            <th>state_alpha</th>\n",
       "            <th>county_name</th>\n",
       "            <th>prim_lat_dec</th>\n",
       "            <th>prim_long_dec</th>\n",
       "            <th>elev_in_m</th>\n",
       "            <th>imputed_elev_in_m</th>\n",
       "        </tr>\n",
       "    </thead>\n",
       "    <tbody>\n",
       "        <tr>\n",
       "            <td>1230</td>\n",
       "            <td>Belmont Mountains</td>\n",
       "            <td>Range</td>\n",
       "            <td>AZ</td>\n",
       "            <td>Maricopa</td>\n",
       "            <td>33.642258</td>\n",
       "            <td>-112.9010129</td>\n",
       "            <td>931.0</td>\n",
       "            <td>931.0</td>\n",
       "        </tr>\n",
       "        <tr>\n",
       "            <td>1839</td>\n",
       "            <td>Bootlegger Saddle</td>\n",
       "            <td>Gap</td>\n",
       "            <td>AZ</td>\n",
       "            <td>Cochise</td>\n",
       "            <td>31.8931474</td>\n",
       "            <td>-109.2831176</td>\n",
       "            <td>2707.0</td>\n",
       "            <td>2707.0</td>\n",
       "        </tr>\n",
       "        <tr>\n",
       "            <td>2336</td>\n",
       "            <td>Cabeza Prieta Game Range</td>\n",
       "            <td>Park</td>\n",
       "            <td>AZ</td>\n",
       "            <td>Yuma</td>\n",
       "            <td>32.250056</td>\n",
       "            <td>-113.45074</td>\n",
       "            <td>275.0</td>\n",
       "            <td>275.0</td>\n",
       "        </tr>\n",
       "        <tr>\n",
       "            <td>2750</td>\n",
       "            <td>Chandler Springs</td>\n",
       "            <td>Spring</td>\n",
       "            <td>AZ</td>\n",
       "            <td>Navajo</td>\n",
       "            <td>35.3766788</td>\n",
       "            <td>-110.4754096</td>\n",
       "            <td>1685.0</td>\n",
       "            <td>1685.0</td>\n",
       "        </tr>\n",
       "        <tr>\n",
       "            <td>3032</td>\n",
       "            <td>Cline Well</td>\n",
       "            <td>Well</td>\n",
       "            <td>AZ</td>\n",
       "            <td>Cochise</td>\n",
       "            <td>31.9000849</td>\n",
       "            <td>-110.3428525</td>\n",
       "            <td>None</td>\n",
       "            <td>483.962467815409</td>\n",
       "        </tr>\n",
       "        <tr>\n",
       "            <td>3039</td>\n",
       "            <td>Clover Tank</td>\n",
       "            <td>Reservoir</td>\n",
       "            <td>AZ</td>\n",
       "            <td>Gila</td>\n",
       "            <td>33.8509816</td>\n",
       "            <td>-110.2577249</td>\n",
       "            <td>1563.0</td>\n",
       "            <td>1563.0</td>\n",
       "        </tr>\n",
       "        <tr>\n",
       "            <td>3060</td>\n",
       "            <td>Coat Spring</td>\n",
       "            <td>Spring</td>\n",
       "            <td>AZ</td>\n",
       "            <td>Navajo</td>\n",
       "            <td>36.12678</td>\n",
       "            <td>-110.3330424</td>\n",
       "            <td>1926.0</td>\n",
       "            <td>1926.0</td>\n",
       "        </tr>\n",
       "        <tr>\n",
       "            <td>3143</td>\n",
       "            <td>Comar Spring</td>\n",
       "            <td>Spring</td>\n",
       "            <td>AZ</td>\n",
       "            <td>Navajo</td>\n",
       "            <td>35.5308428</td>\n",
       "            <td>-110.4162424</td>\n",
       "            <td>1732.0</td>\n",
       "            <td>1732.0</td>\n",
       "        </tr>\n",
       "        <tr>\n",
       "            <td>3333</td>\n",
       "            <td>Cottonwood Creek</td>\n",
       "            <td>Stream</td>\n",
       "            <td>AZ</td>\n",
       "            <td>Coconino</td>\n",
       "            <td>36.050817</td>\n",
       "            <td>-111.9865535</td>\n",
       "            <td>800.0</td>\n",
       "            <td>800.0</td>\n",
       "        </tr>\n",
       "        <tr>\n",
       "            <td>3342</td>\n",
       "            <td>Cottonwood Creek</td>\n",
       "            <td>Stream</td>\n",
       "            <td>AZ</td>\n",
       "            <td>Mohave</td>\n",
       "            <td>36.901931</td>\n",
       "            <td>-112.5632547</td>\n",
       "            <td>1389.0</td>\n",
       "            <td>1389.0</td>\n",
       "        </tr>\n",
       "    </tbody>\n",
       "</table>\n",
       "<span style=\"font-style:italic;text-align:center;\">Truncated to <a href=\"https://jupysql.ploomber.io/en/latest/api/configuration.html#displaylimit\">displaylimit</a> of 10.</span>"
      ],
      "text/plain": [
       "+------------+--------------------------+---------------+-------------+-------------+--------------+---------------+-----------+-------------------+\n",
       "| feature_id |       feature_name       | feature_class | state_alpha | county_name | prim_lat_dec | prim_long_dec | elev_in_m | imputed_elev_in_m |\n",
       "+------------+--------------------------+---------------+-------------+-------------+--------------+---------------+-----------+-------------------+\n",
       "|    1230    |    Belmont Mountains     |     Range     |      AZ     |   Maricopa  |  33.642258   |  -112.9010129 |   931.0   |       931.0       |\n",
       "|    1839    |    Bootlegger Saddle     |      Gap      |      AZ     |   Cochise   |  31.8931474  |  -109.2831176 |   2707.0  |       2707.0      |\n",
       "|    2336    | Cabeza Prieta Game Range |      Park     |      AZ     |     Yuma    |  32.250056   |   -113.45074  |   275.0   |       275.0       |\n",
       "|    2750    |     Chandler Springs     |     Spring    |      AZ     |    Navajo   |  35.3766788  |  -110.4754096 |   1685.0  |       1685.0      |\n",
       "|    3032    |        Cline Well        |      Well     |      AZ     |   Cochise   |  31.9000849  |  -110.3428525 |    None   |  483.962467815409 |\n",
       "|    3039    |       Clover Tank        |   Reservoir   |      AZ     |     Gila    |  33.8509816  |  -110.2577249 |   1563.0  |       1563.0      |\n",
       "|    3060    |       Coat Spring        |     Spring    |      AZ     |    Navajo   |   36.12678   |  -110.3330424 |   1926.0  |       1926.0      |\n",
       "|    3143    |       Comar Spring       |     Spring    |      AZ     |    Navajo   |  35.5308428  |  -110.4162424 |   1732.0  |       1732.0      |\n",
       "|    3333    |     Cottonwood Creek     |     Stream    |      AZ     |   Coconino  |  36.050817   |  -111.9865535 |   800.0   |       800.0       |\n",
       "|    3342    |     Cottonwood Creek     |     Stream    |      AZ     |    Mohave   |  36.901931   |  -112.5632547 |   1389.0  |       1389.0      |\n",
       "+------------+--------------------------+---------------+-------------+-------------+--------------+---------------+-----------+-------------------+\n",
       "Truncated to displaylimit of 10."
      ]
     },
     "execution_count": 44,
     "metadata": {},
     "output_type": "execute_result"
    }
   ],
   "source": [
    "%%sql\n",
    "WITH elevavg AS (SELECT avg(elev_in_m) FROM holey)\n",
    "SELECT h.*, \n",
    "       CASE WHEN h.elev_in_m IS NOT NULL THEN h.elev_in_m\n",
    "            ELSE e.avg\n",
    "        END AS imputed_elev_in_m\n",
    "  FROM holey h, elevavg e\n",
    "LIMIT 10;"
   ]
  },
  {
   "cell_type": "markdown",
   "id": "a5a98ebd-2894-4442-ae2d-98a20b13a8e8",
   "metadata": {},
   "source": [
    "## Scheme 2. Correlation across columns"
   ]
  },
  {
   "cell_type": "code",
   "execution_count": 45,
   "id": "b4bade8c-1de4-42e8-a2e8-c3bede9cd04e",
   "metadata": {},
   "outputs": [
    {
     "data": {
      "text/html": [
       "<span style=\"None\">Running query in &#x27;postgresql://localhost:5432/gnis&#x27;</span>"
      ],
      "text/plain": [
       "Running query in 'postgresql://localhost:5432/gnis'"
      ]
     },
     "metadata": {},
     "output_type": "display_data"
    },
    {
     "data": {
      "text/html": [
       "<span style=\"color: green\">1 rows affected.</span>"
      ],
      "text/plain": [
       "1 rows affected."
      ]
     },
     "metadata": {},
     "output_type": "display_data"
    },
    {
     "data": {
      "text/plain": [
       "(-10.314179001097786, -477.9603219322606)"
      ]
     },
     "execution_count": 45,
     "metadata": {},
     "output_type": "execute_result"
    }
   ],
   "source": [
    "# Training is an aggregate function\n",
    "# Here we'll train the model in SQL just for fun\n",
    "result = %sql SELECT regr_slope(elev_in_m, prim_long_dec), \\\n",
    "               regr_intercept(elev_in_m, prim_long_dec) FROM holey\n",
    "slope, intercept = result[0]\n",
    "slope, intercept"
   ]
  },
  {
   "cell_type": "code",
   "execution_count": 46,
   "id": "6f4ab5f6-2668-48a8-bac3-d9b472b9f111",
   "metadata": {},
   "outputs": [
    {
     "data": {
      "text/html": [
       "<span style=\"None\">Running query in &#x27;postgresql://localhost:5432/gnis&#x27;</span>"
      ],
      "text/plain": [
       "Running query in 'postgresql://localhost:5432/gnis'"
      ]
     },
     "metadata": {},
     "output_type": "display_data"
    },
    {
     "data": {
      "text/html": [
       "<span style=\"color: green\">10 rows affected.</span>"
      ],
      "text/plain": [
       "10 rows affected."
      ]
     },
     "metadata": {},
     "output_type": "display_data"
    },
    {
     "data": {
      "text/html": [
       "<table>\n",
       "    <thead>\n",
       "        <tr>\n",
       "            <th>feature_id</th>\n",
       "            <th>feature_name</th>\n",
       "            <th>feature_class</th>\n",
       "            <th>state_alpha</th>\n",
       "            <th>county_name</th>\n",
       "            <th>prim_lat_dec</th>\n",
       "            <th>prim_long_dec</th>\n",
       "            <th>elev_in_m</th>\n",
       "            <th>imputed_elev_in_m</th>\n",
       "        </tr>\n",
       "    </thead>\n",
       "    <tbody>\n",
       "        <tr>\n",
       "            <td>1230</td>\n",
       "            <td>Belmont Mountains</td>\n",
       "            <td>Range</td>\n",
       "            <td>AZ</td>\n",
       "            <td>Maricopa</td>\n",
       "            <td>33.642258</td>\n",
       "            <td>-112.9010129</td>\n",
       "            <td>931.0</td>\n",
       "            <td>931.0</td>\n",
       "        </tr>\n",
       "        <tr>\n",
       "            <td>1839</td>\n",
       "            <td>Bootlegger Saddle</td>\n",
       "            <td>Gap</td>\n",
       "            <td>AZ</td>\n",
       "            <td>Cochise</td>\n",
       "            <td>31.8931474</td>\n",
       "            <td>-109.2831176</td>\n",
       "            <td>2707.0</td>\n",
       "            <td>2707.0</td>\n",
       "        </tr>\n",
       "        <tr>\n",
       "            <td>2336</td>\n",
       "            <td>Cabeza Prieta Game Range</td>\n",
       "            <td>Park</td>\n",
       "            <td>AZ</td>\n",
       "            <td>Yuma</td>\n",
       "            <td>32.250056</td>\n",
       "            <td>-113.45074</td>\n",
       "            <td>275.0</td>\n",
       "            <td>275.0</td>\n",
       "        </tr>\n",
       "        <tr>\n",
       "            <td>2750</td>\n",
       "            <td>Chandler Springs</td>\n",
       "            <td>Spring</td>\n",
       "            <td>AZ</td>\n",
       "            <td>Navajo</td>\n",
       "            <td>35.3766788</td>\n",
       "            <td>-110.4754096</td>\n",
       "            <td>1685.0</td>\n",
       "            <td>1685.0</td>\n",
       "        </tr>\n",
       "        <tr>\n",
       "            <td>3032</td>\n",
       "            <td>Cline Well</td>\n",
       "            <td>Well</td>\n",
       "            <td>AZ</td>\n",
       "            <td>Cochise</td>\n",
       "            <td>31.9000849</td>\n",
       "            <td>-110.3428525</td>\n",
       "            <td>None</td>\n",
       "            <td>660.1356102444698</td>\n",
       "        </tr>\n",
       "        <tr>\n",
       "            <td>3039</td>\n",
       "            <td>Clover Tank</td>\n",
       "            <td>Reservoir</td>\n",
       "            <td>AZ</td>\n",
       "            <td>Gila</td>\n",
       "            <td>33.8509816</td>\n",
       "            <td>-110.2577249</td>\n",
       "            <td>1563.0</td>\n",
       "            <td>1563.0</td>\n",
       "        </tr>\n",
       "        <tr>\n",
       "            <td>3060</td>\n",
       "            <td>Coat Spring</td>\n",
       "            <td>Spring</td>\n",
       "            <td>AZ</td>\n",
       "            <td>Navajo</td>\n",
       "            <td>36.12678</td>\n",
       "            <td>-110.3330424</td>\n",
       "            <td>1926.0</td>\n",
       "            <td>1926.0</td>\n",
       "        </tr>\n",
       "        <tr>\n",
       "            <td>3143</td>\n",
       "            <td>Comar Spring</td>\n",
       "            <td>Spring</td>\n",
       "            <td>AZ</td>\n",
       "            <td>Navajo</td>\n",
       "            <td>35.5308428</td>\n",
       "            <td>-110.4162424</td>\n",
       "            <td>1732.0</td>\n",
       "            <td>1732.0</td>\n",
       "        </tr>\n",
       "        <tr>\n",
       "            <td>3333</td>\n",
       "            <td>Cottonwood Creek</td>\n",
       "            <td>Stream</td>\n",
       "            <td>AZ</td>\n",
       "            <td>Coconino</td>\n",
       "            <td>36.050817</td>\n",
       "            <td>-111.9865535</td>\n",
       "            <td>800.0</td>\n",
       "            <td>800.0</td>\n",
       "        </tr>\n",
       "        <tr>\n",
       "            <td>3342</td>\n",
       "            <td>Cottonwood Creek</td>\n",
       "            <td>Stream</td>\n",
       "            <td>AZ</td>\n",
       "            <td>Mohave</td>\n",
       "            <td>36.901931</td>\n",
       "            <td>-112.5632547</td>\n",
       "            <td>1389.0</td>\n",
       "            <td>1389.0</td>\n",
       "        </tr>\n",
       "    </tbody>\n",
       "</table>\n",
       "<span style=\"font-style:italic;text-align:center;\">Truncated to <a href=\"https://jupysql.ploomber.io/en/latest/api/configuration.html#displaylimit\">displaylimit</a> of 10.</span>"
      ],
      "text/plain": [
       "+------------+--------------------------+---------------+-------------+-------------+--------------+---------------+-----------+-------------------+\n",
       "| feature_id |       feature_name       | feature_class | state_alpha | county_name | prim_lat_dec | prim_long_dec | elev_in_m | imputed_elev_in_m |\n",
       "+------------+--------------------------+---------------+-------------+-------------+--------------+---------------+-----------+-------------------+\n",
       "|    1230    |    Belmont Mountains     |     Range     |      AZ     |   Maricopa  |  33.642258   |  -112.9010129 |   931.0   |       931.0       |\n",
       "|    1839    |    Bootlegger Saddle     |      Gap      |      AZ     |   Cochise   |  31.8931474  |  -109.2831176 |   2707.0  |       2707.0      |\n",
       "|    2336    | Cabeza Prieta Game Range |      Park     |      AZ     |     Yuma    |  32.250056   |   -113.45074  |   275.0   |       275.0       |\n",
       "|    2750    |     Chandler Springs     |     Spring    |      AZ     |    Navajo   |  35.3766788  |  -110.4754096 |   1685.0  |       1685.0      |\n",
       "|    3032    |        Cline Well        |      Well     |      AZ     |   Cochise   |  31.9000849  |  -110.3428525 |    None   | 660.1356102444698 |\n",
       "|    3039    |       Clover Tank        |   Reservoir   |      AZ     |     Gila    |  33.8509816  |  -110.2577249 |   1563.0  |       1563.0      |\n",
       "|    3060    |       Coat Spring        |     Spring    |      AZ     |    Navajo   |   36.12678   |  -110.3330424 |   1926.0  |       1926.0      |\n",
       "|    3143    |       Comar Spring       |     Spring    |      AZ     |    Navajo   |  35.5308428  |  -110.4162424 |   1732.0  |       1732.0      |\n",
       "|    3333    |     Cottonwood Creek     |     Stream    |      AZ     |   Coconino  |  36.050817   |  -111.9865535 |   800.0   |       800.0       |\n",
       "|    3342    |     Cottonwood Creek     |     Stream    |      AZ     |    Mohave   |  36.901931   |  -112.5632547 |   1389.0  |       1389.0      |\n",
       "+------------+--------------------------+---------------+-------------+-------------+--------------+---------------+-----------+-------------------+\n",
       "Truncated to displaylimit of 10."
      ]
     },
     "execution_count": 46,
     "metadata": {},
     "output_type": "execute_result"
    }
   ],
   "source": [
    "%%sql\n",
    "SELECT *, \n",
    "       CASE WHEN elev_in_m IS NOT NULL THEN elev_in_m\n",
    "            ELSE {{slope}}*prim_long_dec + {{intercept}}\n",
    "        END AS imputed_elev_in_m\n",
    "  FROM holey\n",
    "LIMIT 10;"
   ]
  },
  {
   "cell_type": "markdown",
   "id": "4066fbd1-901e-4188-8c22-f2fd8fdb4bd5",
   "metadata": {},
   "source": [
    "## Scheme 3. General model-based interpolation\n",
    "\n",
    "We won't show the demo; check slides for the general idea."
   ]
  },
  {
   "cell_type": "code",
   "execution_count": 47,
   "id": "2633ebfa-327d-43af-a4cc-21fc829de9a5",
   "metadata": {},
   "outputs": [],
   "source": [
    "\n",
    "%config SqlMagic.displaylimit = 100"
   ]
  },
  {
   "cell_type": "markdown",
   "id": "0094baa7-3d6f-47f7-a956-7c024a0dad4b",
   "metadata": {},
   "source": [
    "## Scheme 4. [simple] Correlation across ordered rows"
   ]
  },
  {
   "cell_type": "code",
   "execution_count": 48,
   "id": "9380c86b-88dd-4a7f-be40-2e053e85635b",
   "metadata": {},
   "outputs": [
    {
     "data": {
      "text/html": [
       "<span style=\"None\">Running query in &#x27;postgresql://localhost:5432/gnis&#x27;</span>"
      ],
      "text/plain": [
       "Running query in 'postgresql://localhost:5432/gnis'"
      ]
     },
     "metadata": {},
     "output_type": "display_data"
    },
    {
     "data": {
      "text/html": [
       "<span style=\"color: green\">100 rows affected.</span>"
      ],
      "text/plain": [
       "100 rows affected."
      ]
     },
     "metadata": {},
     "output_type": "display_data"
    },
    {
     "data": {
      "text/html": [
       "<table>\n",
       "    <thead>\n",
       "        <tr>\n",
       "            <th>feature_id</th>\n",
       "            <th>feature_name</th>\n",
       "            <th>feature_class</th>\n",
       "            <th>state_alpha</th>\n",
       "            <th>county_name</th>\n",
       "            <th>prim_lat_dec</th>\n",
       "            <th>prim_long_dec</th>\n",
       "            <th>elev_in_m</th>\n",
       "            <th>imputed_elev_in_m</th>\n",
       "        </tr>\n",
       "    </thead>\n",
       "    <tbody>\n",
       "        <tr>\n",
       "            <td>214923</td>\n",
       "            <td>Lewes Junior High School</td>\n",
       "            <td>School</td>\n",
       "            <td>DE</td>\n",
       "            <td>Sussex</td>\n",
       "            <td>38.7687232</td>\n",
       "            <td>-75.1460168</td>\n",
       "            <td>None</td>\n",
       "            <td>89.0</td>\n",
       "        </tr>\n",
       "        <tr>\n",
       "            <td>209568</td>\n",
       "            <td>Ox Hill</td>\n",
       "            <td>Populated Place</td>\n",
       "            <td>CT</td>\n",
       "            <td>Fairfield</td>\n",
       "            <td>41.2284297</td>\n",
       "            <td>-73.2190027</td>\n",
       "            <td>None</td>\n",
       "            <td>31.0</td>\n",
       "        </tr>\n",
       "        <tr>\n",
       "            <td>204786</td>\n",
       "            <td>San Acacio</td>\n",
       "            <td>Populated Place</td>\n",
       "            <td>CO</td>\n",
       "            <td>Costilla</td>\n",
       "            <td>37.2139025</td>\n",
       "            <td>-105.5644584</td>\n",
       "            <td>None</td>\n",
       "            <td>1712.0</td>\n",
       "        </tr>\n",
       "        <tr>\n",
       "            <td>205451</td>\n",
       "            <td>Berkshire</td>\n",
       "            <td>Populated Place</td>\n",
       "            <td>CT</td>\n",
       "            <td>Fairfield</td>\n",
       "            <td>41.4087069</td>\n",
       "            <td>-73.2595601</td>\n",
       "            <td>None</td>\n",
       "            <td>1945.0</td>\n",
       "        </tr>\n",
       "        <tr>\n",
       "            <td>205915</td>\n",
       "            <td>Calebs Peak</td>\n",
       "            <td>Summit</td>\n",
       "            <td>CT</td>\n",
       "            <td>Litchfield</td>\n",
       "            <td>41.7559276</td>\n",
       "            <td>-73.4648456</td>\n",
       "            <td>None</td>\n",
       "            <td>116.0</td>\n",
       "        </tr>\n",
       "        <tr>\n",
       "            <td>194300</td>\n",
       "            <td>Bull Pasture Well</td>\n",
       "            <td>Well</td>\n",
       "            <td>CO</td>\n",
       "            <td>Las Animas</td>\n",
       "            <td>37.6594568</td>\n",
       "            <td>-104.3541397</td>\n",
       "            <td>None</td>\n",
       "            <td>1692.0</td>\n",
       "        </tr>\n",
       "        <tr>\n",
       "            <td>198468</td>\n",
       "            <td>Gurley Dam</td>\n",
       "            <td>Dam</td>\n",
       "            <td>CO</td>\n",
       "            <td>San Miguel</td>\n",
       "            <td>38.035547</td>\n",
       "            <td>-108.2459128</td>\n",
       "            <td>None</td>\n",
       "            <td>None</td>\n",
       "        </tr>\n",
       "        <tr>\n",
       "            <td>189182</td>\n",
       "            <td>Lienhart Mine</td>\n",
       "            <td>Mine</td>\n",
       "            <td>CO</td>\n",
       "            <td>Chaffee</td>\n",
       "            <td>38.9377726</td>\n",
       "            <td>-106.2547437</td>\n",
       "            <td>None</td>\n",
       "            <td>3173.0</td>\n",
       "        </tr>\n",
       "        <tr>\n",
       "            <td>197727</td>\n",
       "            <td>Pine Brook Hill</td>\n",
       "            <td>Populated Place</td>\n",
       "            <td>CO</td>\n",
       "            <td>Boulder</td>\n",
       "            <td>40.0499857</td>\n",
       "            <td>-105.3147137</td>\n",
       "            <td>None</td>\n",
       "            <td>2601.0</td>\n",
       "        </tr>\n",
       "        <tr>\n",
       "            <td>198347</td>\n",
       "            <td>King Reservoir Number 1</td>\n",
       "            <td>Reservoir</td>\n",
       "            <td>CO</td>\n",
       "            <td>Mesa</td>\n",
       "            <td>38.8657673</td>\n",
       "            <td>-108.6665656</td>\n",
       "            <td>None</td>\n",
       "            <td>1568.0</td>\n",
       "        </tr>\n",
       "        <tr>\n",
       "            <td>168322</td>\n",
       "            <td>Batson Post Office (historical)</td>\n",
       "            <td>Post Office</td>\n",
       "            <td>AL</td>\n",
       "            <td>Coosa</td>\n",
       "            <td>0.0</td>\n",
       "            <td>0.0</td>\n",
       "            <td>None</td>\n",
       "            <td>None</td>\n",
       "        </tr>\n",
       "        <tr>\n",
       "            <td>175017</td>\n",
       "            <td>Camp Foster Creek</td>\n",
       "            <td>Stream</td>\n",
       "            <td>CO</td>\n",
       "            <td>Pitkin</td>\n",
       "            <td>39.3308169</td>\n",
       "            <td>-107.2222735</td>\n",
       "            <td>None</td>\n",
       "            <td>2514.0</td>\n",
       "        </tr>\n",
       "        <tr>\n",
       "            <td>179621</td>\n",
       "            <td>Bartlett Mountain</td>\n",
       "            <td>Summit</td>\n",
       "            <td>CO</td>\n",
       "            <td>Lake</td>\n",
       "            <td>39.3769097</td>\n",
       "            <td>-106.1591995</td>\n",
       "            <td>None</td>\n",
       "            <td>2231.0</td>\n",
       "        </tr>\n",
       "        <tr>\n",
       "            <td>184045</td>\n",
       "            <td>West Prong Red Creek</td>\n",
       "            <td>Stream</td>\n",
       "            <td>CO</td>\n",
       "            <td>Archuleta</td>\n",
       "            <td>37.3825024</td>\n",
       "            <td>-107.4417201</td>\n",
       "            <td>None</td>\n",
       "            <td>2461.0</td>\n",
       "        </tr>\n",
       "        <tr>\n",
       "            <td>184321</td>\n",
       "            <td>Park Reservoir</td>\n",
       "            <td>Reservoir</td>\n",
       "            <td>CO</td>\n",
       "            <td>Archuleta</td>\n",
       "            <td>37.3118044</td>\n",
       "            <td>-107.1509411</td>\n",
       "            <td>None</td>\n",
       "            <td>2782.0</td>\n",
       "        </tr>\n",
       "        <tr>\n",
       "            <td>168566</td>\n",
       "            <td>Teddy Post Office (historical)</td>\n",
       "            <td>Post Office</td>\n",
       "            <td>AL</td>\n",
       "            <td>Escambia</td>\n",
       "            <td>0.0</td>\n",
       "            <td>0.0</td>\n",
       "            <td>None</td>\n",
       "            <td>None</td>\n",
       "        </tr>\n",
       "        <tr>\n",
       "            <td>168977</td>\n",
       "            <td>Pondville Post Office (historical)</td>\n",
       "            <td>Post Office</td>\n",
       "            <td>AL</td>\n",
       "            <td>Bibb</td>\n",
       "            <td>0.0</td>\n",
       "            <td>0.0</td>\n",
       "            <td>None</td>\n",
       "            <td>108.0</td>\n",
       "        </tr>\n",
       "        <tr>\n",
       "            <td>134138</td>\n",
       "            <td>Fourth Creek School (historical)</td>\n",
       "            <td>School</td>\n",
       "            <td>AL</td>\n",
       "            <td>Sumter</td>\n",
       "            <td>32.4595827</td>\n",
       "            <td>-88.1983586</td>\n",
       "            <td>None</td>\n",
       "            <td>163.0</td>\n",
       "        </tr>\n",
       "        <tr>\n",
       "            <td>196693</td>\n",
       "            <td>Morapos Cow Camp</td>\n",
       "            <td>Locale</td>\n",
       "            <td>CO</td>\n",
       "            <td>Rio Blanco</td>\n",
       "            <td>40.1841431</td>\n",
       "            <td>-107.5350619</td>\n",
       "            <td>None</td>\n",
       "            <td>2643.0</td>\n",
       "        </tr>\n",
       "        <tr>\n",
       "            <td>170234</td>\n",
       "            <td>Lady Moon Lake</td>\n",
       "            <td>Lake</td>\n",
       "            <td>CO</td>\n",
       "            <td>Larimer</td>\n",
       "            <td>40.7695992</td>\n",
       "            <td>-105.5267598</td>\n",
       "            <td>None</td>\n",
       "            <td>None</td>\n",
       "        </tr>\n",
       "        <tr>\n",
       "            <td>195705</td>\n",
       "            <td>Smith Reservoir</td>\n",
       "            <td>Reservoir</td>\n",
       "            <td>CO</td>\n",
       "            <td>Otero</td>\n",
       "            <td>37.7677873</td>\n",
       "            <td>-103.9584627</td>\n",
       "            <td>None</td>\n",
       "            <td>1208.0</td>\n",
       "        </tr>\n",
       "        <tr>\n",
       "            <td>168550</td>\n",
       "            <td>Filmore Post Office (historical)</td>\n",
       "            <td>Post Office</td>\n",
       "            <td>AL</td>\n",
       "            <td>Escambia</td>\n",
       "            <td>0.0</td>\n",
       "            <td>0.0</td>\n",
       "            <td>None</td>\n",
       "            <td>None</td>\n",
       "        </tr>\n",
       "        <tr>\n",
       "            <td>167976</td>\n",
       "            <td>Walnut Hill Post Office (historical)</td>\n",
       "            <td>Post Office</td>\n",
       "            <td>AL</td>\n",
       "            <td>Tallapoosa</td>\n",
       "            <td>0.0</td>\n",
       "            <td>0.0</td>\n",
       "            <td>None</td>\n",
       "            <td>None</td>\n",
       "        </tr>\n",
       "        <tr>\n",
       "            <td>157305</td>\n",
       "            <td>Kell Cemetery</td>\n",
       "            <td>Cemetery</td>\n",
       "            <td>AL</td>\n",
       "            <td>Morgan</td>\n",
       "            <td>0.0</td>\n",
       "            <td>0.0</td>\n",
       "            <td>None</td>\n",
       "            <td>195.0</td>\n",
       "        </tr>\n",
       "        <tr>\n",
       "            <td>174510</td>\n",
       "            <td>Thompson Reservoir Number 3</td>\n",
       "            <td>Reservoir</td>\n",
       "            <td>CO</td>\n",
       "            <td>Mesa</td>\n",
       "            <td>39.0454778</td>\n",
       "            <td>-108.7755725</td>\n",
       "            <td>None</td>\n",
       "            <td>2542.0</td>\n",
       "        </tr>\n",
       "        <tr>\n",
       "            <td>83954</td>\n",
       "            <td>Bend Post Office (historical)</td>\n",
       "            <td>Post Office</td>\n",
       "            <td>AR</td>\n",
       "            <td>Marion</td>\n",
       "            <td>0.0</td>\n",
       "            <td>0.0</td>\n",
       "            <td>None</td>\n",
       "            <td>62.0</td>\n",
       "        </tr>\n",
       "        <tr>\n",
       "            <td>176528</td>\n",
       "            <td>McKinney Draw</td>\n",
       "            <td>Valley</td>\n",
       "            <td>CO</td>\n",
       "            <td>Dolores</td>\n",
       "            <td>37.8663073</td>\n",
       "            <td>-108.5713788</td>\n",
       "            <td>None</td>\n",
       "            <td>3035.0</td>\n",
       "        </tr>\n",
       "        <tr>\n",
       "            <td>168503</td>\n",
       "            <td>Howles Store Post Office (historical)</td>\n",
       "            <td>Post Office</td>\n",
       "            <td>AL</td>\n",
       "            <td>Elmore</td>\n",
       "            <td>0.0</td>\n",
       "            <td>0.0</td>\n",
       "            <td>None</td>\n",
       "            <td>None</td>\n",
       "        </tr>\n",
       "        <tr>\n",
       "            <td>159665</td>\n",
       "            <td>Gilgal Baptist Church</td>\n",
       "            <td>Church</td>\n",
       "            <td>AL</td>\n",
       "            <td>Tuscaloosa</td>\n",
       "            <td>33.1231761</td>\n",
       "            <td>-87.5002824</td>\n",
       "            <td>None</td>\n",
       "            <td>268.0</td>\n",
       "        </tr>\n",
       "        <tr>\n",
       "            <td>167869</td>\n",
       "            <td>Byron Post Office (historical)</td>\n",
       "            <td>Post Office</td>\n",
       "            <td>AL</td>\n",
       "            <td>Randolph</td>\n",
       "            <td>0.0</td>\n",
       "            <td>0.0</td>\n",
       "            <td>None</td>\n",
       "            <td>None</td>\n",
       "        </tr>\n",
       "        <tr>\n",
       "            <td>150422</td>\n",
       "            <td>New Home</td>\n",
       "            <td>Populated Place</td>\n",
       "            <td>AL</td>\n",
       "            <td>DeKalb</td>\n",
       "            <td>34.6023063</td>\n",
       "            <td>-85.6991353</td>\n",
       "            <td>None</td>\n",
       "            <td>398.0</td>\n",
       "        </tr>\n",
       "        <tr>\n",
       "            <td>114664</td>\n",
       "            <td>Boggy Branch</td>\n",
       "            <td>Stream</td>\n",
       "            <td>FL</td>\n",
       "            <td>Holmes</td>\n",
       "            <td>30.9731224</td>\n",
       "            <td>-85.7449601</td>\n",
       "            <td>None</td>\n",
       "            <td>78.0</td>\n",
       "        </tr>\n",
       "        <tr>\n",
       "            <td>127439</td>\n",
       "            <td>Stony Ridge</td>\n",
       "            <td>Ridge</td>\n",
       "            <td>AL</td>\n",
       "            <td>Shelby</td>\n",
       "            <td>33.2201151</td>\n",
       "            <td>-86.7260973</td>\n",
       "            <td>None</td>\n",
       "            <td>95.0</td>\n",
       "        </tr>\n",
       "        <tr>\n",
       "            <td>148083</td>\n",
       "            <td>Eastern Gate Baptist Church</td>\n",
       "            <td>Church</td>\n",
       "            <td>AL</td>\n",
       "            <td>Tuscaloosa</td>\n",
       "            <td>33.1528975</td>\n",
       "            <td>-87.4752819</td>\n",
       "            <td>None</td>\n",
       "            <td>166.0</td>\n",
       "        </tr>\n",
       "        <tr>\n",
       "            <td>141361</td>\n",
       "            <td>Burwells Classical Mathematical School (historical)</td>\n",
       "            <td>School</td>\n",
       "            <td>AL</td>\n",
       "            <td>Sumter</td>\n",
       "            <td>0.0</td>\n",
       "            <td>0.0</td>\n",
       "            <td>None</td>\n",
       "            <td>200.0</td>\n",
       "        </tr>\n",
       "        <tr>\n",
       "            <td>166604</td>\n",
       "            <td>Tecumseh Post Office (historical)</td>\n",
       "            <td>Post Office</td>\n",
       "            <td>AL</td>\n",
       "            <td>Cherokee</td>\n",
       "            <td>0.0</td>\n",
       "            <td>0.0</td>\n",
       "            <td>None</td>\n",
       "            <td>None</td>\n",
       "        </tr>\n",
       "        <tr>\n",
       "            <td>83356</td>\n",
       "            <td>Thorn Cemetery</td>\n",
       "            <td>Cemetery</td>\n",
       "            <td>AR</td>\n",
       "            <td>Faulkner</td>\n",
       "            <td>35.2539553</td>\n",
       "            <td>-92.3909621</td>\n",
       "            <td>None</td>\n",
       "            <td>57.0</td>\n",
       "        </tr>\n",
       "        <tr>\n",
       "            <td>69785</td>\n",
       "            <td>Township of Durham</td>\n",
       "            <td>Civil</td>\n",
       "            <td>AR</td>\n",
       "            <td>Washington</td>\n",
       "            <td>35.944583</td>\n",
       "            <td>-93.9840421</td>\n",
       "            <td>None</td>\n",
       "            <td>574.0</td>\n",
       "        </tr>\n",
       "        <tr>\n",
       "            <td>129541</td>\n",
       "            <td>Pace Lake</td>\n",
       "            <td>Reservoir</td>\n",
       "            <td>AL</td>\n",
       "            <td>Baldwin</td>\n",
       "            <td>30.5214126</td>\n",
       "            <td>-87.5095787</td>\n",
       "            <td>None</td>\n",
       "            <td>29.0</td>\n",
       "        </tr>\n",
       "        <tr>\n",
       "            <td>163989</td>\n",
       "            <td>Truck Mine Number 5</td>\n",
       "            <td>Mine</td>\n",
       "            <td>AL</td>\n",
       "            <td>Bibb</td>\n",
       "            <td>0.0</td>\n",
       "            <td>0.0</td>\n",
       "            <td>None</td>\n",
       "            <td>None</td>\n",
       "        </tr>\n",
       "        <tr>\n",
       "            <td>56602</td>\n",
       "            <td>Yocum Cove</td>\n",
       "            <td>Stream</td>\n",
       "            <td>AR</td>\n",
       "            <td>Marion</td>\n",
       "            <td>36.4700658</td>\n",
       "            <td>-92.6473881</td>\n",
       "            <td>None</td>\n",
       "            <td>432.0</td>\n",
       "        </tr>\n",
       "        <tr>\n",
       "            <td>163762</td>\n",
       "            <td>Williams Cemetery</td>\n",
       "            <td>Cemetery</td>\n",
       "            <td>AL</td>\n",
       "            <td>Limestone</td>\n",
       "            <td>0.0</td>\n",
       "            <td>0.0</td>\n",
       "            <td>None</td>\n",
       "            <td>365.0</td>\n",
       "        </tr>\n",
       "        <tr>\n",
       "            <td>191511</td>\n",
       "            <td>Green Mountain</td>\n",
       "            <td>Summit</td>\n",
       "            <td>CO</td>\n",
       "            <td>Fremont</td>\n",
       "            <td>38.5349305</td>\n",
       "            <td>-105.6604581</td>\n",
       "            <td>None</td>\n",
       "            <td>2645.0</td>\n",
       "        </tr>\n",
       "        <tr>\n",
       "            <td>114844</td>\n",
       "            <td>Brasher Branch</td>\n",
       "            <td>Stream</td>\n",
       "            <td>AL</td>\n",
       "            <td>Shelby</td>\n",
       "            <td>33.4049059</td>\n",
       "            <td>-86.5942081</td>\n",
       "            <td>None</td>\n",
       "            <td>171.0</td>\n",
       "        </tr>\n",
       "        <tr>\n",
       "            <td>168098</td>\n",
       "            <td>Simsville Post Office (historical)</td>\n",
       "            <td>Post Office</td>\n",
       "            <td>AL</td>\n",
       "            <td>Bullock</td>\n",
       "            <td>0.0</td>\n",
       "            <td>0.0</td>\n",
       "            <td>None</td>\n",
       "            <td>None</td>\n",
       "        </tr>\n",
       "        <tr>\n",
       "            <td>84873</td>\n",
       "            <td>Forley Post Office (historical)</td>\n",
       "            <td>Post Office</td>\n",
       "            <td>AR</td>\n",
       "            <td>Washington</td>\n",
       "            <td>0.0</td>\n",
       "            <td>0.0</td>\n",
       "            <td>None</td>\n",
       "            <td>46.0</td>\n",
       "        </tr>\n",
       "        <tr>\n",
       "            <td>164524</td>\n",
       "            <td>Conecuh National Forest</td>\n",
       "            <td>Forest</td>\n",
       "            <td>AL</td>\n",
       "            <td>Covington</td>\n",
       "            <td>31.094322</td>\n",
       "            <td>-86.6341634</td>\n",
       "            <td>None</td>\n",
       "            <td>43.0</td>\n",
       "        </tr>\n",
       "        <tr>\n",
       "            <td>83633</td>\n",
       "            <td>Lost Mountain Wilderness Retreat Airport (historical)</td>\n",
       "            <td>Airport</td>\n",
       "            <td>AR</td>\n",
       "            <td>Newton</td>\n",
       "            <td>35.9292434</td>\n",
       "            <td>-92.9626717</td>\n",
       "            <td>None</td>\n",
       "            <td>None</td>\n",
       "        </tr>\n",
       "        <tr>\n",
       "            <td>55132</td>\n",
       "            <td>Springfield Church</td>\n",
       "            <td>Church</td>\n",
       "            <td>AR</td>\n",
       "            <td>Pulaski</td>\n",
       "            <td>34.6084264</td>\n",
       "            <td>-92.0890328</td>\n",
       "            <td>None</td>\n",
       "            <td>62.0</td>\n",
       "        </tr>\n",
       "        <tr>\n",
       "            <td>39670</td>\n",
       "            <td>Old Dominion Library</td>\n",
       "            <td>Building</td>\n",
       "            <td>AZ</td>\n",
       "            <td>Gila</td>\n",
       "            <td>33.406722</td>\n",
       "            <td>-110.7917765</td>\n",
       "            <td>None</td>\n",
       "            <td>1217.0</td>\n",
       "        </tr>\n",
       "        <tr>\n",
       "            <td>13547</td>\n",
       "            <td>West Well</td>\n",
       "            <td>Well</td>\n",
       "            <td>AZ</td>\n",
       "            <td>Navajo</td>\n",
       "            <td>35.0355772</td>\n",
       "            <td>-110.4826281</td>\n",
       "            <td>None</td>\n",
       "            <td>1100.0</td>\n",
       "        </tr>\n",
       "        <tr>\n",
       "            <td>169917</td>\n",
       "            <td>Elkhorn Mine</td>\n",
       "            <td>Mine</td>\n",
       "            <td>CO</td>\n",
       "            <td>Routt</td>\n",
       "            <td>40.9844118</td>\n",
       "            <td>-106.9519934</td>\n",
       "            <td>None</td>\n",
       "            <td>1998.0</td>\n",
       "        </tr>\n",
       "        <tr>\n",
       "            <td>8268</td>\n",
       "            <td>Moore Ranch</td>\n",
       "            <td>Locale</td>\n",
       "            <td>AZ</td>\n",
       "            <td>Cochise</td>\n",
       "            <td>31.755093</td>\n",
       "            <td>-109.5122882</td>\n",
       "            <td>None</td>\n",
       "            <td>1214.0</td>\n",
       "        </tr>\n",
       "        <tr>\n",
       "            <td>76112</td>\n",
       "            <td>Greenbrier United Methodist Church</td>\n",
       "            <td>Church</td>\n",
       "            <td>AR</td>\n",
       "            <td>Faulkner</td>\n",
       "            <td>35.2320267</td>\n",
       "            <td>-92.3884883</td>\n",
       "            <td>None</td>\n",
       "            <td>380.0</td>\n",
       "        </tr>\n",
       "        <tr>\n",
       "            <td>4590</td>\n",
       "            <td>Fiftysix Tank</td>\n",
       "            <td>Reservoir</td>\n",
       "            <td>AZ</td>\n",
       "            <td>Gila</td>\n",
       "            <td>33.6899872</td>\n",
       "            <td>-110.3340976</td>\n",
       "            <td>None</td>\n",
       "            <td>2434.0</td>\n",
       "        </tr>\n",
       "        <tr>\n",
       "            <td>141577</td>\n",
       "            <td>Nelson Mine</td>\n",
       "            <td>Mine</td>\n",
       "            <td>AL</td>\n",
       "            <td>Shelby</td>\n",
       "            <td>0.0</td>\n",
       "            <td>0.0</td>\n",
       "            <td>None</td>\n",
       "            <td>None</td>\n",
       "        </tr>\n",
       "        <tr>\n",
       "            <td>167859</td>\n",
       "            <td>Tallapoosa Post Office (historical)</td>\n",
       "            <td>Post Office</td>\n",
       "            <td>AL</td>\n",
       "            <td>Randolph</td>\n",
       "            <td>0.0</td>\n",
       "            <td>0.0</td>\n",
       "            <td>None</td>\n",
       "            <td>58.0</td>\n",
       "        </tr>\n",
       "        <tr>\n",
       "            <td>165584</td>\n",
       "            <td>Westlawn Elementary School</td>\n",
       "            <td>School</td>\n",
       "            <td>AL</td>\n",
       "            <td>Morgan</td>\n",
       "            <td>34.6109253</td>\n",
       "            <td>-87.0069538</td>\n",
       "            <td>None</td>\n",
       "            <td>76.0</td>\n",
       "        </tr>\n",
       "        <tr>\n",
       "            <td>120344</td>\n",
       "            <td>Hooper City</td>\n",
       "            <td>Populated Place</td>\n",
       "            <td>AL</td>\n",
       "            <td>Jefferson</td>\n",
       "            <td>33.5553829</td>\n",
       "            <td>-86.8411025</td>\n",
       "            <td>None</td>\n",
       "            <td>93.0</td>\n",
       "        </tr>\n",
       "        <tr>\n",
       "            <td>141780</td>\n",
       "            <td>Breman Coal Bed Mine</td>\n",
       "            <td>Mine</td>\n",
       "            <td>AL</td>\n",
       "            <td>Cullman</td>\n",
       "            <td>0.0</td>\n",
       "            <td>0.0</td>\n",
       "            <td>None</td>\n",
       "            <td>None</td>\n",
       "        </tr>\n",
       "        <tr>\n",
       "            <td>81705</td>\n",
       "            <td>Rauch Estate Open Pit Mine</td>\n",
       "            <td>Mine</td>\n",
       "            <td>AR</td>\n",
       "            <td>Pulaski</td>\n",
       "            <td>34.645093</td>\n",
       "            <td>-92.3037624</td>\n",
       "            <td>None</td>\n",
       "            <td>196.0</td>\n",
       "        </tr>\n",
       "        <tr>\n",
       "            <td>82079</td>\n",
       "            <td>Ditch Number 14</td>\n",
       "            <td>Canal</td>\n",
       "            <td>AR</td>\n",
       "            <td>Mississippi</td>\n",
       "            <td>35.4623055</td>\n",
       "            <td>-90.1589823</td>\n",
       "            <td>None</td>\n",
       "            <td>233.0</td>\n",
       "        </tr>\n",
       "        <tr>\n",
       "            <td>139004</td>\n",
       "            <td>Jollywell Branch</td>\n",
       "            <td>Stream</td>\n",
       "            <td>AL</td>\n",
       "            <td>Hale</td>\n",
       "            <td>32.5698557</td>\n",
       "            <td>-87.5577822</td>\n",
       "            <td>None</td>\n",
       "            <td>70.0</td>\n",
       "        </tr>\n",
       "        <tr>\n",
       "            <td>64652</td>\n",
       "            <td>Wright (historical)</td>\n",
       "            <td>Populated Place</td>\n",
       "            <td>AR</td>\n",
       "            <td>Pike</td>\n",
       "            <td>34.1628804</td>\n",
       "            <td>-93.5376838</td>\n",
       "            <td>None</td>\n",
       "            <td>202.0</td>\n",
       "        </tr>\n",
       "        <tr>\n",
       "            <td>84960</td>\n",
       "            <td>Maddock Post Office (historical)</td>\n",
       "            <td>Post Office</td>\n",
       "            <td>AR</td>\n",
       "            <td>White</td>\n",
       "            <td>0.0</td>\n",
       "            <td>0.0</td>\n",
       "            <td>None</td>\n",
       "            <td>None</td>\n",
       "        </tr>\n",
       "        <tr>\n",
       "            <td>82103</td>\n",
       "            <td>Ditch Number 16</td>\n",
       "            <td>Canal</td>\n",
       "            <td>AR</td>\n",
       "            <td>Mississippi</td>\n",
       "            <td>35.7136884</td>\n",
       "            <td>-90.2509305</td>\n",
       "            <td>None</td>\n",
       "            <td>None</td>\n",
       "        </tr>\n",
       "        <tr>\n",
       "            <td>84600</td>\n",
       "            <td>Meredith Post Office (historical)</td>\n",
       "            <td>Post Office</td>\n",
       "            <td>AR</td>\n",
       "            <td>Woodruff</td>\n",
       "            <td>0.0</td>\n",
       "            <td>0.0</td>\n",
       "            <td>None</td>\n",
       "            <td>99.0</td>\n",
       "        </tr>\n",
       "        <tr>\n",
       "            <td>42036</td>\n",
       "            <td>Lockett Tank</td>\n",
       "            <td>Reservoir</td>\n",
       "            <td>AZ</td>\n",
       "            <td>Coconino</td>\n",
       "            <td>35.1490729</td>\n",
       "            <td>-112.1510338</td>\n",
       "            <td>None</td>\n",
       "            <td>1402.0</td>\n",
       "        </tr>\n",
       "        <tr>\n",
       "            <td>124364</td>\n",
       "            <td>Oyster Bay</td>\n",
       "            <td>Lake</td>\n",
       "            <td>AL</td>\n",
       "            <td>Baldwin</td>\n",
       "            <td>30.2726058</td>\n",
       "            <td>-87.7309074</td>\n",
       "            <td>None</td>\n",
       "            <td>152.0</td>\n",
       "        </tr>\n",
       "        <tr>\n",
       "            <td>129336</td>\n",
       "            <td>Zion Church</td>\n",
       "            <td>Church</td>\n",
       "            <td>AL</td>\n",
       "            <td>Choctaw</td>\n",
       "            <td>32.2870865</td>\n",
       "            <td>-88.0708525</td>\n",
       "            <td>None</td>\n",
       "            <td>256.0</td>\n",
       "        </tr>\n",
       "        <tr>\n",
       "            <td>61851</td>\n",
       "            <td>Tyronza Cut-off</td>\n",
       "            <td>Gut</td>\n",
       "            <td>AR</td>\n",
       "            <td>Mississippi</td>\n",
       "            <td>35.630635</td>\n",
       "            <td>-90.208151</td>\n",
       "            <td>None</td>\n",
       "            <td>74.0</td>\n",
       "        </tr>\n",
       "        <tr>\n",
       "            <td>113459</td>\n",
       "            <td>Bar Branch</td>\n",
       "            <td>Stream</td>\n",
       "            <td>AL</td>\n",
       "            <td>Greene</td>\n",
       "            <td>32.8073977</td>\n",
       "            <td>-88.078892</td>\n",
       "            <td>None</td>\n",
       "            <td>125.0</td>\n",
       "        </tr>\n",
       "        <tr>\n",
       "            <td>50309</td>\n",
       "            <td>Hopewell Church</td>\n",
       "            <td>Church</td>\n",
       "            <td>AR</td>\n",
       "            <td>Arkansas</td>\n",
       "            <td>34.3839893</td>\n",
       "            <td>-91.1540068</td>\n",
       "            <td>None</td>\n",
       "            <td>71.0</td>\n",
       "        </tr>\n",
       "        <tr>\n",
       "            <td>143509</td>\n",
       "            <td>Martha Thomas Elementary School</td>\n",
       "            <td>School</td>\n",
       "            <td>AL</td>\n",
       "            <td>Mobile</td>\n",
       "            <td>30.7546326</td>\n",
       "            <td>-88.1147234</td>\n",
       "            <td>None</td>\n",
       "            <td>11.0</td>\n",
       "        </tr>\n",
       "        <tr>\n",
       "            <td>51173</td>\n",
       "            <td>Linn Creek</td>\n",
       "            <td>Stream</td>\n",
       "            <td>AR</td>\n",
       "            <td>Van Buren</td>\n",
       "            <td>35.4467454</td>\n",
       "            <td>-92.3301548</td>\n",
       "            <td>None</td>\n",
       "            <td>99.0</td>\n",
       "        </tr>\n",
       "        <tr>\n",
       "            <td>35236</td>\n",
       "            <td>The Park</td>\n",
       "            <td>Flat</td>\n",
       "            <td>AZ</td>\n",
       "            <td>Yavapai</td>\n",
       "            <td>34.1486467</td>\n",
       "            <td>-111.4984726</td>\n",
       "            <td>None</td>\n",
       "            <td>624.0</td>\n",
       "        </tr>\n",
       "        <tr>\n",
       "            <td>49578</td>\n",
       "            <td>Grassy Lake</td>\n",
       "            <td>Swamp</td>\n",
       "            <td>AR</td>\n",
       "            <td>Hempstead</td>\n",
       "            <td>33.6887443</td>\n",
       "            <td>-93.8693011</td>\n",
       "            <td>None</td>\n",
       "            <td>None</td>\n",
       "        </tr>\n",
       "        <tr>\n",
       "            <td>65723</td>\n",
       "            <td>Locke School (historical)</td>\n",
       "            <td>School</td>\n",
       "            <td>AR</td>\n",
       "            <td>Crawford</td>\n",
       "            <td>0.0</td>\n",
       "            <td>0.0</td>\n",
       "            <td>None</td>\n",
       "            <td>392.0</td>\n",
       "        </tr>\n",
       "        <tr>\n",
       "            <td>3032</td>\n",
       "            <td>Cline Well</td>\n",
       "            <td>Well</td>\n",
       "            <td>AZ</td>\n",
       "            <td>Cochise</td>\n",
       "            <td>31.9000849</td>\n",
       "            <td>-110.3428525</td>\n",
       "            <td>None</td>\n",
       "            <td>1685.0</td>\n",
       "        </tr>\n",
       "        <tr>\n",
       "            <td>42122</td>\n",
       "            <td>Panther Tank</td>\n",
       "            <td>Reservoir</td>\n",
       "            <td>AZ</td>\n",
       "            <td>Greenlee</td>\n",
       "            <td>33.1650631</td>\n",
       "            <td>-109.1942369</td>\n",
       "            <td>None</td>\n",
       "            <td>None</td>\n",
       "        </tr>\n",
       "        <tr>\n",
       "            <td>68497</td>\n",
       "            <td>Rock Creek Golf Course</td>\n",
       "            <td>Locale</td>\n",
       "            <td>AR</td>\n",
       "            <td>Pulaski</td>\n",
       "            <td>34.7123145</td>\n",
       "            <td>-92.3570975</td>\n",
       "            <td>None</td>\n",
       "            <td>95.0</td>\n",
       "        </tr>\n",
       "        <tr>\n",
       "            <td>25467</td>\n",
       "            <td>Caterpillar Tank Wash</td>\n",
       "            <td>Stream</td>\n",
       "            <td>AZ</td>\n",
       "            <td>Maricopa</td>\n",
       "            <td>33.725592</td>\n",
       "            <td>-112.2937718</td>\n",
       "            <td>None</td>\n",
       "            <td>2795.0</td>\n",
       "        </tr>\n",
       "        <tr>\n",
       "            <td>55868</td>\n",
       "            <td>Vaden Cemetery</td>\n",
       "            <td>Cemetery</td>\n",
       "            <td>AR</td>\n",
       "            <td>Clark</td>\n",
       "            <td>33.8720415</td>\n",
       "            <td>-92.9457159</td>\n",
       "            <td>None</td>\n",
       "            <td>82.0</td>\n",
       "        </tr>\n",
       "        <tr>\n",
       "            <td>33574</td>\n",
       "            <td>Reno Canyon</td>\n",
       "            <td>Valley</td>\n",
       "            <td>AZ</td>\n",
       "            <td>Yavapai</td>\n",
       "            <td>34.3618875</td>\n",
       "            <td>-111.9572469</td>\n",
       "            <td>None</td>\n",
       "            <td>2092.0</td>\n",
       "        </tr>\n",
       "        <tr>\n",
       "            <td>71212</td>\n",
       "            <td>Cook Cemetery</td>\n",
       "            <td>Cemetery</td>\n",
       "            <td>AR</td>\n",
       "            <td>Izard</td>\n",
       "            <td>36.0686754</td>\n",
       "            <td>-92.0079225</td>\n",
       "            <td>None</td>\n",
       "            <td>200.0</td>\n",
       "        </tr>\n",
       "        <tr>\n",
       "            <td>26578</td>\n",
       "            <td>Boggy Creek</td>\n",
       "            <td>Stream</td>\n",
       "            <td>AZ</td>\n",
       "            <td>Apache</td>\n",
       "            <td>33.741996</td>\n",
       "            <td>-109.4398075</td>\n",
       "            <td>None</td>\n",
       "            <td>2315.0</td>\n",
       "        </tr>\n",
       "        <tr>\n",
       "            <td>155060</td>\n",
       "            <td>Emelle</td>\n",
       "            <td>Populated Place</td>\n",
       "            <td>AL</td>\n",
       "            <td>Sumter</td>\n",
       "            <td>32.7292998</td>\n",
       "            <td>-88.3144755</td>\n",
       "            <td>None</td>\n",
       "            <td>72.0</td>\n",
       "        </tr>\n",
       "        <tr>\n",
       "            <td>42070</td>\n",
       "            <td>Whipple Tank</td>\n",
       "            <td>Reservoir</td>\n",
       "            <td>AZ</td>\n",
       "            <td>Navajo</td>\n",
       "            <td>34.1783484</td>\n",
       "            <td>-109.8782247</td>\n",
       "            <td>None</td>\n",
       "            <td>None</td>\n",
       "        </tr>\n",
       "        <tr>\n",
       "            <td>49350</td>\n",
       "            <td>Lewis Johnson Family Cemetery</td>\n",
       "            <td>Cemetery</td>\n",
       "            <td>AR</td>\n",
       "            <td>Johnson</td>\n",
       "            <td>35.4122994</td>\n",
       "            <td>-93.3587851</td>\n",
       "            <td>None</td>\n",
       "            <td>194.0</td>\n",
       "        </tr>\n",
       "        <tr>\n",
       "            <td>52399</td>\n",
       "            <td>Mount Pleasant Church</td>\n",
       "            <td>Church</td>\n",
       "            <td>AR</td>\n",
       "            <td>Jefferson</td>\n",
       "            <td>34.393707</td>\n",
       "            <td>-92.1109776</td>\n",
       "            <td>None</td>\n",
       "            <td>61.0</td>\n",
       "        </tr>\n",
       "        <tr>\n",
       "            <td>166564</td>\n",
       "            <td>Hancock Post Office (historical)</td>\n",
       "            <td>Post Office</td>\n",
       "            <td>AL</td>\n",
       "            <td>Cherokee</td>\n",
       "            <td>0.0</td>\n",
       "            <td>0.0</td>\n",
       "            <td>None</td>\n",
       "            <td>71.0</td>\n",
       "        </tr>\n",
       "        <tr>\n",
       "            <td>127065</td>\n",
       "            <td>Snake Creek</td>\n",
       "            <td>Stream</td>\n",
       "            <td>AL</td>\n",
       "            <td>Lee</td>\n",
       "            <td>32.3843101</td>\n",
       "            <td>-85.2785524</td>\n",
       "            <td>None</td>\n",
       "            <td>134.0</td>\n",
       "        </tr>\n",
       "        <tr>\n",
       "            <td>84769</td>\n",
       "            <td>Manoah Post Office (historical)</td>\n",
       "            <td>Post Office</td>\n",
       "            <td>AR</td>\n",
       "            <td>Drew</td>\n",
       "            <td>0.0</td>\n",
       "            <td>0.0</td>\n",
       "            <td>None</td>\n",
       "            <td>None</td>\n",
       "        </tr>\n",
       "        <tr>\n",
       "            <td>28394</td>\n",
       "            <td>Deer Spring Mountain</td>\n",
       "            <td>Summit</td>\n",
       "            <td>AZ</td>\n",
       "            <td>Navajo</td>\n",
       "            <td>34.0107604</td>\n",
       "            <td>-109.9752047</td>\n",
       "            <td>None</td>\n",
       "            <td>1692.0</td>\n",
       "        </tr>\n",
       "        <tr>\n",
       "            <td>12504</td>\n",
       "            <td>Tipperary Mine</td>\n",
       "            <td>Mine</td>\n",
       "            <td>AZ</td>\n",
       "            <td>Mohave</td>\n",
       "            <td>34.9300043</td>\n",
       "            <td>-114.3727359</td>\n",
       "            <td>None</td>\n",
       "            <td>603.0</td>\n",
       "        </tr>\n",
       "        <tr>\n",
       "            <td>53531</td>\n",
       "            <td>Pleasant Grove Cemetery</td>\n",
       "            <td>Cemetery</td>\n",
       "            <td>AR</td>\n",
       "            <td>Mississippi</td>\n",
       "            <td>35.6192561</td>\n",
       "            <td>-90.0791719</td>\n",
       "            <td>None</td>\n",
       "            <td>60.0</td>\n",
       "        </tr>\n",
       "        <tr>\n",
       "            <td>13040</td>\n",
       "            <td>Union High School</td>\n",
       "            <td>School</td>\n",
       "            <td>AZ</td>\n",
       "            <td>Maricopa</td>\n",
       "            <td>33.4517105</td>\n",
       "            <td>-112.0670927</td>\n",
       "            <td>None</td>\n",
       "            <td>None</td>\n",
       "        </tr>\n",
       "        <tr>\n",
       "            <td>59185</td>\n",
       "            <td>Ellis Ridge</td>\n",
       "            <td>Ridge</td>\n",
       "            <td>AR</td>\n",
       "            <td>Pope</td>\n",
       "            <td>35.6202133</td>\n",
       "            <td>-93.0366957</td>\n",
       "            <td>None</td>\n",
       "            <td>78.0</td>\n",
       "        </tr>\n",
       "        <tr>\n",
       "            <td>46393</td>\n",
       "            <td>Bentley Ridge Cemetery</td>\n",
       "            <td>Cemetery</td>\n",
       "            <td>AR</td>\n",
       "            <td>Baxter</td>\n",
       "            <td>36.4872804</td>\n",
       "            <td>-92.2826514</td>\n",
       "            <td>None</td>\n",
       "            <td>58.0</td>\n",
       "        </tr>\n",
       "        <tr>\n",
       "            <td>222119</td>\n",
       "            <td>Deadman Gulch</td>\n",
       "            <td>Valley</td>\n",
       "            <td>CA</td>\n",
       "            <td>Sacramento</td>\n",
       "            <td>38.2805281</td>\n",
       "            <td>-121.3513615</td>\n",
       "            <td>None</td>\n",
       "            <td>149.0</td>\n",
       "        </tr>\n",
       "    </tbody>\n",
       "</table>\n",
       "<span style=\"font-style:italic;text-align:center;\">Truncated to <a href=\"https://jupysql.ploomber.io/en/latest/api/configuration.html#displaylimit\">displaylimit</a> of 100.</span>"
      ],
      "text/plain": [
       "+------------+-------------------------------------------------------+-----------------+-------------+-------------+--------------+---------------+-----------+-------------------+\n",
       "| feature_id |                      feature_name                     |  feature_class  | state_alpha | county_name | prim_lat_dec | prim_long_dec | elev_in_m | imputed_elev_in_m |\n",
       "+------------+-------------------------------------------------------+-----------------+-------------+-------------+--------------+---------------+-----------+-------------------+\n",
       "|   214923   |                Lewes Junior High School               |      School     |      DE     |    Sussex   |  38.7687232  |  -75.1460168  |    None   |        89.0       |\n",
       "|   209568   |                        Ox Hill                        | Populated Place |      CT     |  Fairfield  |  41.2284297  |  -73.2190027  |    None   |        31.0       |\n",
       "|   204786   |                       San Acacio                      | Populated Place |      CO     |   Costilla  |  37.2139025  |  -105.5644584 |    None   |       1712.0      |\n",
       "|   205451   |                       Berkshire                       | Populated Place |      CT     |  Fairfield  |  41.4087069  |  -73.2595601  |    None   |       1945.0      |\n",
       "|   205915   |                      Calebs Peak                      |      Summit     |      CT     |  Litchfield |  41.7559276  |  -73.4648456  |    None   |       116.0       |\n",
       "|   194300   |                   Bull Pasture Well                   |       Well      |      CO     |  Las Animas |  37.6594568  |  -104.3541397 |    None   |       1692.0      |\n",
       "|   198468   |                       Gurley Dam                      |       Dam       |      CO     |  San Miguel |  38.035547   |  -108.2459128 |    None   |        None       |\n",
       "|   189182   |                     Lienhart Mine                     |       Mine      |      CO     |   Chaffee   |  38.9377726  |  -106.2547437 |    None   |       3173.0      |\n",
       "|   197727   |                    Pine Brook Hill                    | Populated Place |      CO     |   Boulder   |  40.0499857  |  -105.3147137 |    None   |       2601.0      |\n",
       "|   198347   |                King Reservoir Number 1                |    Reservoir    |      CO     |     Mesa    |  38.8657673  |  -108.6665656 |    None   |       1568.0      |\n",
       "|   168322   |            Batson Post Office (historical)            |   Post Office   |      AL     |    Coosa    |     0.0      |      0.0      |    None   |        None       |\n",
       "|   175017   |                   Camp Foster Creek                   |      Stream     |      CO     |    Pitkin   |  39.3308169  |  -107.2222735 |    None   |       2514.0      |\n",
       "|   179621   |                   Bartlett Mountain                   |      Summit     |      CO     |     Lake    |  39.3769097  |  -106.1591995 |    None   |       2231.0      |\n",
       "|   184045   |                  West Prong Red Creek                 |      Stream     |      CO     |  Archuleta  |  37.3825024  |  -107.4417201 |    None   |       2461.0      |\n",
       "|   184321   |                     Park Reservoir                    |    Reservoir    |      CO     |  Archuleta  |  37.3118044  |  -107.1509411 |    None   |       2782.0      |\n",
       "|   168566   |             Teddy Post Office (historical)            |   Post Office   |      AL     |   Escambia  |     0.0      |      0.0      |    None   |        None       |\n",
       "|   168977   |           Pondville Post Office (historical)          |   Post Office   |      AL     |     Bibb    |     0.0      |      0.0      |    None   |       108.0       |\n",
       "|   134138   |            Fourth Creek School (historical)           |      School     |      AL     |    Sumter   |  32.4595827  |  -88.1983586  |    None   |       163.0       |\n",
       "|   196693   |                    Morapos Cow Camp                   |      Locale     |      CO     |  Rio Blanco |  40.1841431  |  -107.5350619 |    None   |       2643.0      |\n",
       "|   170234   |                     Lady Moon Lake                    |       Lake      |      CO     |   Larimer   |  40.7695992  |  -105.5267598 |    None   |        None       |\n",
       "|   195705   |                    Smith Reservoir                    |    Reservoir    |      CO     |    Otero    |  37.7677873  |  -103.9584627 |    None   |       1208.0      |\n",
       "|   168550   |            Filmore Post Office (historical)           |   Post Office   |      AL     |   Escambia  |     0.0      |      0.0      |    None   |        None       |\n",
       "|   167976   |          Walnut Hill Post Office (historical)         |   Post Office   |      AL     |  Tallapoosa |     0.0      |      0.0      |    None   |        None       |\n",
       "|   157305   |                     Kell Cemetery                     |     Cemetery    |      AL     |    Morgan   |     0.0      |      0.0      |    None   |       195.0       |\n",
       "|   174510   |              Thompson Reservoir Number 3              |    Reservoir    |      CO     |     Mesa    |  39.0454778  |  -108.7755725 |    None   |       2542.0      |\n",
       "|   83954    |             Bend Post Office (historical)             |   Post Office   |      AR     |    Marion   |     0.0      |      0.0      |    None   |        62.0       |\n",
       "|   176528   |                     McKinney Draw                     |      Valley     |      CO     |   Dolores   |  37.8663073  |  -108.5713788 |    None   |       3035.0      |\n",
       "|   168503   |         Howles Store Post Office (historical)         |   Post Office   |      AL     |    Elmore   |     0.0      |      0.0      |    None   |        None       |\n",
       "|   159665   |                 Gilgal Baptist Church                 |      Church     |      AL     |  Tuscaloosa |  33.1231761  |  -87.5002824  |    None   |       268.0       |\n",
       "|   167869   |             Byron Post Office (historical)            |   Post Office   |      AL     |   Randolph  |     0.0      |      0.0      |    None   |        None       |\n",
       "|   150422   |                        New Home                       | Populated Place |      AL     |    DeKalb   |  34.6023063  |  -85.6991353  |    None   |       398.0       |\n",
       "|   114664   |                      Boggy Branch                     |      Stream     |      FL     |    Holmes   |  30.9731224  |  -85.7449601  |    None   |        78.0       |\n",
       "|   127439   |                      Stony Ridge                      |      Ridge      |      AL     |    Shelby   |  33.2201151  |  -86.7260973  |    None   |        95.0       |\n",
       "|   148083   |              Eastern Gate Baptist Church              |      Church     |      AL     |  Tuscaloosa |  33.1528975  |  -87.4752819  |    None   |       166.0       |\n",
       "|   141361   |  Burwells Classical Mathematical School (historical)  |      School     |      AL     |    Sumter   |     0.0      |      0.0      |    None   |       200.0       |\n",
       "|   166604   |           Tecumseh Post Office (historical)           |   Post Office   |      AL     |   Cherokee  |     0.0      |      0.0      |    None   |        None       |\n",
       "|   83356    |                     Thorn Cemetery                    |     Cemetery    |      AR     |   Faulkner  |  35.2539553  |  -92.3909621  |    None   |        57.0       |\n",
       "|   69785    |                   Township of Durham                  |      Civil      |      AR     |  Washington |  35.944583   |  -93.9840421  |    None   |       574.0       |\n",
       "|   129541   |                       Pace Lake                       |    Reservoir    |      AL     |   Baldwin   |  30.5214126  |  -87.5095787  |    None   |        29.0       |\n",
       "|   163989   |                  Truck Mine Number 5                  |       Mine      |      AL     |     Bibb    |     0.0      |      0.0      |    None   |        None       |\n",
       "|   56602    |                       Yocum Cove                      |      Stream     |      AR     |    Marion   |  36.4700658  |  -92.6473881  |    None   |       432.0       |\n",
       "|   163762   |                   Williams Cemetery                   |     Cemetery    |      AL     |  Limestone  |     0.0      |      0.0      |    None   |       365.0       |\n",
       "|   191511   |                     Green Mountain                    |      Summit     |      CO     |   Fremont   |  38.5349305  |  -105.6604581 |    None   |       2645.0      |\n",
       "|   114844   |                     Brasher Branch                    |      Stream     |      AL     |    Shelby   |  33.4049059  |  -86.5942081  |    None   |       171.0       |\n",
       "|   168098   |           Simsville Post Office (historical)          |   Post Office   |      AL     |   Bullock   |     0.0      |      0.0      |    None   |        None       |\n",
       "|   84873    |            Forley Post Office (historical)            |   Post Office   |      AR     |  Washington |     0.0      |      0.0      |    None   |        46.0       |\n",
       "|   164524   |                Conecuh National Forest                |      Forest     |      AL     |  Covington  |  31.094322   |  -86.6341634  |    None   |        43.0       |\n",
       "|   83633    | Lost Mountain Wilderness Retreat Airport (historical) |     Airport     |      AR     |    Newton   |  35.9292434  |  -92.9626717  |    None   |        None       |\n",
       "|   55132    |                   Springfield Church                  |      Church     |      AR     |   Pulaski   |  34.6084264  |  -92.0890328  |    None   |        62.0       |\n",
       "|   39670    |                  Old Dominion Library                 |     Building    |      AZ     |     Gila    |  33.406722   |  -110.7917765 |    None   |       1217.0      |\n",
       "|   13547    |                       West Well                       |       Well      |      AZ     |    Navajo   |  35.0355772  |  -110.4826281 |    None   |       1100.0      |\n",
       "|   169917   |                      Elkhorn Mine                     |       Mine      |      CO     |    Routt    |  40.9844118  |  -106.9519934 |    None   |       1998.0      |\n",
       "|    8268    |                      Moore Ranch                      |      Locale     |      AZ     |   Cochise   |  31.755093   |  -109.5122882 |    None   |       1214.0      |\n",
       "|   76112    |           Greenbrier United Methodist Church          |      Church     |      AR     |   Faulkner  |  35.2320267  |  -92.3884883  |    None   |       380.0       |\n",
       "|    4590    |                     Fiftysix Tank                     |    Reservoir    |      AZ     |     Gila    |  33.6899872  |  -110.3340976 |    None   |       2434.0      |\n",
       "|   141577   |                      Nelson Mine                      |       Mine      |      AL     |    Shelby   |     0.0      |      0.0      |    None   |        None       |\n",
       "|   167859   |          Tallapoosa Post Office (historical)          |   Post Office   |      AL     |   Randolph  |     0.0      |      0.0      |    None   |        58.0       |\n",
       "|   165584   |               Westlawn Elementary School              |      School     |      AL     |    Morgan   |  34.6109253  |  -87.0069538  |    None   |        76.0       |\n",
       "|   120344   |                      Hooper City                      | Populated Place |      AL     |  Jefferson  |  33.5553829  |  -86.8411025  |    None   |        93.0       |\n",
       "|   141780   |                  Breman Coal Bed Mine                 |       Mine      |      AL     |   Cullman   |     0.0      |      0.0      |    None   |        None       |\n",
       "|   81705    |               Rauch Estate Open Pit Mine              |       Mine      |      AR     |   Pulaski   |  34.645093   |  -92.3037624  |    None   |       196.0       |\n",
       "|   82079    |                    Ditch Number 14                    |      Canal      |      AR     | Mississippi |  35.4623055  |  -90.1589823  |    None   |       233.0       |\n",
       "|   139004   |                    Jollywell Branch                   |      Stream     |      AL     |     Hale    |  32.5698557  |  -87.5577822  |    None   |        70.0       |\n",
       "|   64652    |                  Wright (historical)                  | Populated Place |      AR     |     Pike    |  34.1628804  |  -93.5376838  |    None   |       202.0       |\n",
       "|   84960    |            Maddock Post Office (historical)           |   Post Office   |      AR     |    White    |     0.0      |      0.0      |    None   |        None       |\n",
       "|   82103    |                    Ditch Number 16                    |      Canal      |      AR     | Mississippi |  35.7136884  |  -90.2509305  |    None   |        None       |\n",
       "|   84600    |           Meredith Post Office (historical)           |   Post Office   |      AR     |   Woodruff  |     0.0      |      0.0      |    None   |        99.0       |\n",
       "|   42036    |                      Lockett Tank                     |    Reservoir    |      AZ     |   Coconino  |  35.1490729  |  -112.1510338 |    None   |       1402.0      |\n",
       "|   124364   |                       Oyster Bay                      |       Lake      |      AL     |   Baldwin   |  30.2726058  |  -87.7309074  |    None   |       152.0       |\n",
       "|   129336   |                      Zion Church                      |      Church     |      AL     |   Choctaw   |  32.2870865  |  -88.0708525  |    None   |       256.0       |\n",
       "|   61851    |                    Tyronza Cut-off                    |       Gut       |      AR     | Mississippi |  35.630635   |   -90.208151  |    None   |        74.0       |\n",
       "|   113459   |                       Bar Branch                      |      Stream     |      AL     |    Greene   |  32.8073977  |   -88.078892  |    None   |       125.0       |\n",
       "|   50309    |                    Hopewell Church                    |      Church     |      AR     |   Arkansas  |  34.3839893  |  -91.1540068  |    None   |        71.0       |\n",
       "|   143509   |            Martha Thomas Elementary School            |      School     |      AL     |    Mobile   |  30.7546326  |  -88.1147234  |    None   |        11.0       |\n",
       "|   51173    |                       Linn Creek                      |      Stream     |      AR     |  Van Buren  |  35.4467454  |  -92.3301548  |    None   |        99.0       |\n",
       "|   35236    |                        The Park                       |       Flat      |      AZ     |   Yavapai   |  34.1486467  |  -111.4984726 |    None   |       624.0       |\n",
       "|   49578    |                      Grassy Lake                      |      Swamp      |      AR     |  Hempstead  |  33.6887443  |  -93.8693011  |    None   |        None       |\n",
       "|   65723    |               Locke School (historical)               |      School     |      AR     |   Crawford  |     0.0      |      0.0      |    None   |       392.0       |\n",
       "|    3032    |                       Cline Well                      |       Well      |      AZ     |   Cochise   |  31.9000849  |  -110.3428525 |    None   |       1685.0      |\n",
       "|   42122    |                      Panther Tank                     |    Reservoir    |      AZ     |   Greenlee  |  33.1650631  |  -109.1942369 |    None   |        None       |\n",
       "|   68497    |                 Rock Creek Golf Course                |      Locale     |      AR     |   Pulaski   |  34.7123145  |  -92.3570975  |    None   |        95.0       |\n",
       "|   25467    |                 Caterpillar Tank Wash                 |      Stream     |      AZ     |   Maricopa  |  33.725592   |  -112.2937718 |    None   |       2795.0      |\n",
       "|   55868    |                     Vaden Cemetery                    |     Cemetery    |      AR     |    Clark    |  33.8720415  |  -92.9457159  |    None   |        82.0       |\n",
       "|   33574    |                      Reno Canyon                      |      Valley     |      AZ     |   Yavapai   |  34.3618875  |  -111.9572469 |    None   |       2092.0      |\n",
       "|   71212    |                     Cook Cemetery                     |     Cemetery    |      AR     |    Izard    |  36.0686754  |  -92.0079225  |    None   |       200.0       |\n",
       "|   26578    |                      Boggy Creek                      |      Stream     |      AZ     |    Apache   |  33.741996   |  -109.4398075 |    None   |       2315.0      |\n",
       "|   155060   |                         Emelle                        | Populated Place |      AL     |    Sumter   |  32.7292998  |  -88.3144755  |    None   |        72.0       |\n",
       "|   42070    |                      Whipple Tank                     |    Reservoir    |      AZ     |    Navajo   |  34.1783484  |  -109.8782247 |    None   |        None       |\n",
       "|   49350    |             Lewis Johnson Family Cemetery             |     Cemetery    |      AR     |   Johnson   |  35.4122994  |  -93.3587851  |    None   |       194.0       |\n",
       "|   52399    |                 Mount Pleasant Church                 |      Church     |      AR     |  Jefferson  |  34.393707   |  -92.1109776  |    None   |        61.0       |\n",
       "|   166564   |            Hancock Post Office (historical)           |   Post Office   |      AL     |   Cherokee  |     0.0      |      0.0      |    None   |        71.0       |\n",
       "|   127065   |                      Snake Creek                      |      Stream     |      AL     |     Lee     |  32.3843101  |  -85.2785524  |    None   |       134.0       |\n",
       "|   84769    |            Manoah Post Office (historical)            |   Post Office   |      AR     |     Drew    |     0.0      |      0.0      |    None   |        None       |\n",
       "|   28394    |                  Deer Spring Mountain                 |      Summit     |      AZ     |    Navajo   |  34.0107604  |  -109.9752047 |    None   |       1692.0      |\n",
       "|   12504    |                     Tipperary Mine                    |       Mine      |      AZ     |    Mohave   |  34.9300043  |  -114.3727359 |    None   |       603.0       |\n",
       "|   53531    |                Pleasant Grove Cemetery                |     Cemetery    |      AR     | Mississippi |  35.6192561  |  -90.0791719  |    None   |        60.0       |\n",
       "|   13040    |                   Union High School                   |      School     |      AZ     |   Maricopa  |  33.4517105  |  -112.0670927 |    None   |        None       |\n",
       "|   59185    |                      Ellis Ridge                      |      Ridge      |      AR     |     Pope    |  35.6202133  |  -93.0366957  |    None   |        78.0       |\n",
       "|   46393    |                 Bentley Ridge Cemetery                |     Cemetery    |      AR     |    Baxter   |  36.4872804  |  -92.2826514  |    None   |        58.0       |\n",
       "|   222119   |                     Deadman Gulch                     |      Valley     |      CA     |  Sacramento |  38.2805281  |  -121.3513615 |    None   |       149.0       |\n",
       "+------------+-------------------------------------------------------+-----------------+-------------+-------------+--------------+---------------+-----------+-------------------+\n",
       "Truncated to displaylimit of 100."
      ]
     },
     "execution_count": 48,
     "metadata": {},
     "output_type": "execute_result"
    }
   ],
   "source": [
    "%%sql\n",
    "-- The following doesn't work in PostgreSQL!\n",
    "WITH buggy AS (\n",
    "SELECT *,\n",
    "       CASE WHEN elev_in_m IS NOT NULL THEN elev_in_m\n",
    "            ELSE lag(elev_in_m, 1)\n",
    "                 OVER (ORDER BY feature_id)\n",
    "        END AS imputed_elev_in_m\n",
    "  FROM holey\n",
    ")\n",
    "SELECT * FROM buggy ORDER BY elev_in_m DESC LIMIT 100;"
   ]
  },
  {
   "cell_type": "code",
   "execution_count": 49,
   "id": "bb2818af-5af3-4486-bfe3-404bd5c6fa5a",
   "metadata": {},
   "outputs": [
    {
     "data": {
      "text/html": [
       "<span style=\"None\">Running query in &#x27;postgresql://localhost:5432/gnis&#x27;</span>"
      ],
      "text/plain": [
       "Running query in 'postgresql://localhost:5432/gnis'"
      ]
     },
     "metadata": {},
     "output_type": "display_data"
    },
    {
     "data": {
      "text/html": [
       "<table>\n",
       "    <thead>\n",
       "        <tr>\n",
       "        </tr>\n",
       "    </thead>\n",
       "    <tbody>\n",
       "    </tbody>\n",
       "</table>"
      ],
      "text/plain": [
       "++\n",
       "||\n",
       "++\n",
       "++"
      ]
     },
     "execution_count": 49,
     "metadata": {},
     "output_type": "execute_result"
    }
   ],
   "source": [
    "%%sql\n",
    "-- Here's a UDA fix from\n",
    "-- https://stackoverflow.com/questions/18987791/how-do-i-efficiently-select-the-previous-non-null-value\n",
    "CREATE OR REPLACE FUNCTION coalesce_agg_sfunc(state anyelement, value anyelement) RETURNS anyelement AS\n",
    "$$\n",
    "    SELECT coalesce(value, state);\n",
    "$$ LANGUAGE SQL;\n",
    "\n",
    "CREATE AGGREGATE coalesce_agg(anyelement) (\n",
    "    SFUNC = coalesce_agg_sfunc,\n",
    "    STYPE  = anyelement);"
   ]
  },
  {
   "cell_type": "code",
   "execution_count": 50,
   "id": "02619b1e-d2e4-4494-af32-90b0ced598f7",
   "metadata": {},
   "outputs": [
    {
     "data": {
      "text/html": [
       "<span style=\"None\">Running query in &#x27;postgresql://localhost:5432/gnis&#x27;</span>"
      ],
      "text/plain": [
       "Running query in 'postgresql://localhost:5432/gnis'"
      ]
     },
     "metadata": {},
     "output_type": "display_data"
    },
    {
     "data": {
      "text/html": [
       "<span style=\"color: green\">100 rows affected.</span>"
      ],
      "text/plain": [
       "100 rows affected."
      ]
     },
     "metadata": {},
     "output_type": "display_data"
    },
    {
     "data": {
      "text/html": [
       "<table>\n",
       "    <thead>\n",
       "        <tr>\n",
       "            <th>feature_id</th>\n",
       "            <th>feature_name</th>\n",
       "            <th>feature_class</th>\n",
       "            <th>state_alpha</th>\n",
       "            <th>county_name</th>\n",
       "            <th>prim_lat_dec</th>\n",
       "            <th>prim_long_dec</th>\n",
       "            <th>elev_in_m</th>\n",
       "            <th>imputed_elev_in_m</th>\n",
       "        </tr>\n",
       "    </thead>\n",
       "    <tbody>\n",
       "        <tr>\n",
       "            <td>1416580</td>\n",
       "            <td>Browne Tower</td>\n",
       "            <td>Summit</td>\n",
       "            <td>AK</td>\n",
       "            <td>Denali</td>\n",
       "            <td>63.1000583</td>\n",
       "            <td>-150.9314441</td>\n",
       "            <td>4628.0</td>\n",
       "            <td>4628.0</td>\n",
       "        </tr>\n",
       "        <tr>\n",
       "            <td>188010</td>\n",
       "            <td>Grizzly Peak</td>\n",
       "            <td>Summit</td>\n",
       "            <td>CO</td>\n",
       "            <td>La Plata</td>\n",
       "            <td>37.6076296</td>\n",
       "            <td>-107.5818648</td>\n",
       "            <td>4171.0</td>\n",
       "            <td>4171.0</td>\n",
       "        </tr>\n",
       "        <tr>\n",
       "            <td>191939</td>\n",
       "            <td>Spread Eagle Peak</td>\n",
       "            <td>Summit</td>\n",
       "            <td>CO</td>\n",
       "            <td>Custer</td>\n",
       "            <td>38.1252369</td>\n",
       "            <td>-105.6435197</td>\n",
       "            <td>4090.0</td>\n",
       "            <td>4090.0</td>\n",
       "        </tr>\n",
       "        <tr>\n",
       "            <td>187393</td>\n",
       "            <td>Emery Peak</td>\n",
       "            <td>Summit</td>\n",
       "            <td>CO</td>\n",
       "            <td>San Juan</td>\n",
       "            <td>37.8882556</td>\n",
       "            <td>-107.6210535</td>\n",
       "            <td>4054.0</td>\n",
       "            <td>4054.0</td>\n",
       "        </tr>\n",
       "        <tr>\n",
       "            <td>181832</td>\n",
       "            <td>Baker Mountain</td>\n",
       "            <td>Summit</td>\n",
       "            <td>CO</td>\n",
       "            <td>Clear Creek</td>\n",
       "            <td>39.6607654</td>\n",
       "            <td>-105.8402538</td>\n",
       "            <td>3832.0</td>\n",
       "            <td>3832.0</td>\n",
       "        </tr>\n",
       "        <tr>\n",
       "            <td>1703800</td>\n",
       "            <td>Lucky Jim One Mine</td>\n",
       "            <td>Mine</td>\n",
       "            <td>CO</td>\n",
       "            <td>Park</td>\n",
       "            <td>39.1519347</td>\n",
       "            <td>-105.742509</td>\n",
       "            <td>None</td>\n",
       "            <td>3728.0</td>\n",
       "        </tr>\n",
       "        <tr>\n",
       "            <td>1703775</td>\n",
       "            <td>Park County Claims Mine</td>\n",
       "            <td>Mine</td>\n",
       "            <td>CO</td>\n",
       "            <td>Park</td>\n",
       "            <td>39.3510997</td>\n",
       "            <td>-105.9869614</td>\n",
       "            <td>3728.0</td>\n",
       "            <td>3728.0</td>\n",
       "        </tr>\n",
       "        <tr>\n",
       "            <td>393894</td>\n",
       "            <td>Donaldson Peak</td>\n",
       "            <td>Summit</td>\n",
       "            <td>ID</td>\n",
       "            <td>Custer</td>\n",
       "            <td>44.0639981</td>\n",
       "            <td>-113.7003853</td>\n",
       "            <td>3661.0</td>\n",
       "            <td>3661.0</td>\n",
       "        </tr>\n",
       "        <tr>\n",
       "            <td>1599419</td>\n",
       "            <td>Dundee Mountain</td>\n",
       "            <td>Summit</td>\n",
       "            <td>WY</td>\n",
       "            <td>Park</td>\n",
       "            <td>43.8771622</td>\n",
       "            <td>-109.2682693</td>\n",
       "            <td>3640.0</td>\n",
       "            <td>3640.0</td>\n",
       "        </tr>\n",
       "        <tr>\n",
       "            <td>939450</td>\n",
       "            <td>Master Man Mine</td>\n",
       "            <td>Mine</td>\n",
       "            <td>NM</td>\n",
       "            <td>Colfax</td>\n",
       "            <td>36.6297542</td>\n",
       "            <td>-105.2088936</td>\n",
       "            <td>3633.0</td>\n",
       "            <td>3633.0</td>\n",
       "        </tr>\n",
       "        <tr>\n",
       "            <td>179902</td>\n",
       "            <td>Ceresco Number 4 Adit</td>\n",
       "            <td>Mine</td>\n",
       "            <td>CO</td>\n",
       "            <td>Lake</td>\n",
       "            <td>39.3644327</td>\n",
       "            <td>-106.1714108</td>\n",
       "            <td>3604.0</td>\n",
       "            <td>3604.0</td>\n",
       "        </tr>\n",
       "        <tr>\n",
       "            <td>189898</td>\n",
       "            <td>Antoro Shaft</td>\n",
       "            <td>Mine</td>\n",
       "            <td>CO</td>\n",
       "            <td>Saguache</td>\n",
       "            <td>38.3297213</td>\n",
       "            <td>-106.125297</td>\n",
       "            <td>3577.0</td>\n",
       "            <td>3577.0</td>\n",
       "        </tr>\n",
       "        <tr>\n",
       "            <td>1684419</td>\n",
       "            <td>Maumee Mine</td>\n",
       "            <td>Mine</td>\n",
       "            <td>CO</td>\n",
       "            <td>Park</td>\n",
       "            <td>39.269434</td>\n",
       "            <td>-106.1461318</td>\n",
       "            <td>3555.0</td>\n",
       "            <td>3555.0</td>\n",
       "        </tr>\n",
       "        <tr>\n",
       "            <td>1598169</td>\n",
       "            <td>Big Sheep Mountain</td>\n",
       "            <td>Summit</td>\n",
       "            <td>WY</td>\n",
       "            <td>Sublette</td>\n",
       "            <td>43.2751868</td>\n",
       "            <td>-109.8786551</td>\n",
       "            <td>3537.0</td>\n",
       "            <td>3537.0</td>\n",
       "        </tr>\n",
       "        <tr>\n",
       "            <td>1603836</td>\n",
       "            <td>Twins Glacier</td>\n",
       "            <td>Glacier</td>\n",
       "            <td>WY</td>\n",
       "            <td>Sublette</td>\n",
       "            <td>43.149673</td>\n",
       "            <td>-109.6540386</td>\n",
       "            <td>3517.0</td>\n",
       "            <td>3517.0</td>\n",
       "        </tr>\n",
       "        <tr>\n",
       "            <td>1427800</td>\n",
       "            <td>Mount Ellen</td>\n",
       "            <td>Range</td>\n",
       "            <td>UT</td>\n",
       "            <td>Garfield</td>\n",
       "            <td>38.1097069</td>\n",
       "            <td>-110.8137658</td>\n",
       "            <td>3501.0</td>\n",
       "            <td>3501.0</td>\n",
       "        </tr>\n",
       "        <tr>\n",
       "            <td>1734540</td>\n",
       "            <td>Gold Run Placer</td>\n",
       "            <td>Mine</td>\n",
       "            <td>CO</td>\n",
       "            <td>San Miguel</td>\n",
       "            <td>37.831384</td>\n",
       "            <td>-107.8345093</td>\n",
       "            <td>3449.0</td>\n",
       "            <td>3449.0</td>\n",
       "        </tr>\n",
       "        <tr>\n",
       "            <td>1659681</td>\n",
       "            <td>Slide Mountain</td>\n",
       "            <td>Summit</td>\n",
       "            <td>CA</td>\n",
       "            <td>Mono</td>\n",
       "            <td>38.0931634</td>\n",
       "            <td>-119.4458359</td>\n",
       "            <td>3379.0</td>\n",
       "            <td>3379.0</td>\n",
       "        </tr>\n",
       "        <tr>\n",
       "            <td>178928</td>\n",
       "            <td>Windy Gap</td>\n",
       "            <td>Gap</td>\n",
       "            <td>CO</td>\n",
       "            <td>Montezuma</td>\n",
       "            <td>37.4749967</td>\n",
       "            <td>-108.0917424</td>\n",
       "            <td>3354.0</td>\n",
       "            <td>3354.0</td>\n",
       "        </tr>\n",
       "        <tr>\n",
       "            <td>197523</td>\n",
       "            <td>Payne Gulch</td>\n",
       "            <td>Valley</td>\n",
       "            <td>CO</td>\n",
       "            <td>Gunnison</td>\n",
       "            <td>38.6838024</td>\n",
       "            <td>-106.4736984</td>\n",
       "            <td>3340.0</td>\n",
       "            <td>3340.0</td>\n",
       "        </tr>\n",
       "        <tr>\n",
       "            <td>780007</td>\n",
       "            <td>Black Mountain</td>\n",
       "            <td>Summit</td>\n",
       "            <td>MT</td>\n",
       "            <td>Park</td>\n",
       "            <td>45.4713346</td>\n",
       "            <td>-110.4664499</td>\n",
       "            <td>3337.0</td>\n",
       "            <td>3337.0</td>\n",
       "        </tr>\n",
       "        <tr>\n",
       "            <td>203950</td>\n",
       "            <td>Trachyte Knob</td>\n",
       "            <td>Summit</td>\n",
       "            <td>CO</td>\n",
       "            <td>Teller</td>\n",
       "            <td>38.7731142</td>\n",
       "            <td>-105.1065711</td>\n",
       "            <td>3314.0</td>\n",
       "            <td>3314.0</td>\n",
       "        </tr>\n",
       "        <tr>\n",
       "            <td>179985</td>\n",
       "            <td>Buckskin Joe Mine</td>\n",
       "            <td>Mine</td>\n",
       "            <td>CO</td>\n",
       "            <td>Park</td>\n",
       "            <td>39.2899894</td>\n",
       "            <td>-106.0955752</td>\n",
       "            <td>3309.0</td>\n",
       "            <td>3309.0</td>\n",
       "        </tr>\n",
       "        <tr>\n",
       "            <td>189852</td>\n",
       "            <td>Sheep Mountain Trail</td>\n",
       "            <td>Trail</td>\n",
       "            <td>CO</td>\n",
       "            <td>Saguache</td>\n",
       "            <td>38.3297215</td>\n",
       "            <td>-106.1889107</td>\n",
       "            <td>3298.0</td>\n",
       "            <td>3298.0</td>\n",
       "        </tr>\n",
       "        <tr>\n",
       "            <td>2572516</td>\n",
       "            <td>Windy Lake</td>\n",
       "            <td>Lake</td>\n",
       "            <td>WY</td>\n",
       "            <td>Fremont</td>\n",
       "            <td>42.6200138</td>\n",
       "            <td>-108.9825615</td>\n",
       "            <td>3274.0</td>\n",
       "            <td>3274.0</td>\n",
       "        </tr>\n",
       "        <tr>\n",
       "            <td>1444260</td>\n",
       "            <td>Pearl Lake</td>\n",
       "            <td>Lake</td>\n",
       "            <td>UT</td>\n",
       "            <td>Uintah</td>\n",
       "            <td>40.7891427</td>\n",
       "            <td>-109.9571503</td>\n",
       "            <td>3263.0</td>\n",
       "            <td>3263.0</td>\n",
       "        </tr>\n",
       "        <tr>\n",
       "            <td>181328</td>\n",
       "            <td>Floral Park Campground</td>\n",
       "            <td>Locale</td>\n",
       "            <td>CO</td>\n",
       "            <td>Clear Creek</td>\n",
       "            <td>39.7894314</td>\n",
       "            <td>-105.7805628</td>\n",
       "            <td>3258.0</td>\n",
       "            <td>3258.0</td>\n",
       "        </tr>\n",
       "        <tr>\n",
       "            <td>1724633</td>\n",
       "            <td>Garfield Grouse Mine</td>\n",
       "            <td>Mine</td>\n",
       "            <td>CO</td>\n",
       "            <td>Teller</td>\n",
       "            <td>38.7330442</td>\n",
       "            <td>-105.1363688</td>\n",
       "            <td>3251.0</td>\n",
       "            <td>3251.0</td>\n",
       "        </tr>\n",
       "        <tr>\n",
       "            <td>186674</td>\n",
       "            <td>Copley Lake</td>\n",
       "            <td>Lake</td>\n",
       "            <td>CO</td>\n",
       "            <td>Gunnison</td>\n",
       "            <td>38.8722009</td>\n",
       "            <td>-107.0830674</td>\n",
       "            <td>3251.0</td>\n",
       "            <td>3251.0</td>\n",
       "        </tr>\n",
       "        <tr>\n",
       "            <td>1414051</td>\n",
       "            <td>Mount Spurr</td>\n",
       "            <td>Summit</td>\n",
       "            <td>AK</td>\n",
       "            <td>Kenai Peninsula</td>\n",
       "            <td>61.2997222</td>\n",
       "            <td>-152.2513889</td>\n",
       "            <td>3248.0</td>\n",
       "            <td>3248.0</td>\n",
       "        </tr>\n",
       "        <tr>\n",
       "            <td>779022</td>\n",
       "            <td>Anaconda Range</td>\n",
       "            <td>Range</td>\n",
       "            <td>MT</td>\n",
       "            <td>Deer Lodge</td>\n",
       "            <td>46.0500221</td>\n",
       "            <td>-113.1901018</td>\n",
       "            <td>3246.0</td>\n",
       "            <td>3246.0</td>\n",
       "        </tr>\n",
       "        <tr>\n",
       "            <td>1446855</td>\n",
       "            <td>Upper Chain Lake</td>\n",
       "            <td>Reservoir</td>\n",
       "            <td>UT</td>\n",
       "            <td>Duchesne</td>\n",
       "            <td>40.7113249</td>\n",
       "            <td>-110.2569397</td>\n",
       "            <td>3240.0</td>\n",
       "            <td>3240.0</td>\n",
       "        </tr>\n",
       "        <tr>\n",
       "            <td>931481</td>\n",
       "            <td>Double Eagle V Ski Trail</td>\n",
       "            <td>Trail</td>\n",
       "            <td>NM</td>\n",
       "            <td>Santa Fe</td>\n",
       "            <td>35.7911406</td>\n",
       "            <td>-105.7950188</td>\n",
       "            <td>3240.0</td>\n",
       "            <td>3240.0</td>\n",
       "        </tr>\n",
       "        <tr>\n",
       "            <td>262684</td>\n",
       "            <td>Little Papoose Creek</td>\n",
       "            <td>Stream</td>\n",
       "            <td>CA</td>\n",
       "            <td>Trinity</td>\n",
       "            <td>40.8009791</td>\n",
       "            <td>-122.735855</td>\n",
       "            <td>None</td>\n",
       "            <td>3224.0</td>\n",
       "        </tr>\n",
       "        <tr>\n",
       "            <td>262186</td>\n",
       "            <td>Kings River Trail</td>\n",
       "            <td>Trail</td>\n",
       "            <td>CA</td>\n",
       "            <td>Inyo</td>\n",
       "            <td>37.1679871</td>\n",
       "            <td>-118.48483</td>\n",
       "            <td>3224.0</td>\n",
       "            <td>3224.0</td>\n",
       "        </tr>\n",
       "        <tr>\n",
       "            <td>1441700</td>\n",
       "            <td>Henderson Creek</td>\n",
       "            <td>Stream</td>\n",
       "            <td>UT</td>\n",
       "            <td>Garfield</td>\n",
       "            <td>37.6077619</td>\n",
       "            <td>-112.0557457</td>\n",
       "            <td>None</td>\n",
       "            <td>3223.0</td>\n",
       "        </tr>\n",
       "        <tr>\n",
       "            <td>1441572</td>\n",
       "            <td>Hancock Peak</td>\n",
       "            <td>Summit</td>\n",
       "            <td>UT</td>\n",
       "            <td>Iron</td>\n",
       "            <td>37.6349097</td>\n",
       "            <td>-112.7619161</td>\n",
       "            <td>3223.0</td>\n",
       "            <td>3223.0</td>\n",
       "        </tr>\n",
       "        <tr>\n",
       "            <td>187877</td>\n",
       "            <td>Raber Lohr Ditch</td>\n",
       "            <td>Canal</td>\n",
       "            <td>CO</td>\n",
       "            <td>Hinsdale</td>\n",
       "            <td>37.6786111</td>\n",
       "            <td>-107.3222767</td>\n",
       "            <td>3218.0</td>\n",
       "            <td>3218.0</td>\n",
       "        </tr>\n",
       "        <tr>\n",
       "            <td>181537</td>\n",
       "            <td>Utah Hill</td>\n",
       "            <td>Summit</td>\n",
       "            <td>CO</td>\n",
       "            <td>Gilpin</td>\n",
       "            <td>39.861742</td>\n",
       "            <td>-105.5629767</td>\n",
       "            <td>3202.0</td>\n",
       "            <td>3202.0</td>\n",
       "        </tr>\n",
       "        <tr>\n",
       "            <td>1735447</td>\n",
       "            <td>Little Keystone Shaft Mine</td>\n",
       "            <td>Mine</td>\n",
       "            <td>CO</td>\n",
       "            <td>Lake</td>\n",
       "            <td>39.2477668</td>\n",
       "            <td>-106.4028044</td>\n",
       "            <td>3196.0</td>\n",
       "            <td>3196.0</td>\n",
       "        </tr>\n",
       "        <tr>\n",
       "            <td>861027</td>\n",
       "            <td>Prospect Peak</td>\n",
       "            <td>Summit</td>\n",
       "            <td>NV</td>\n",
       "            <td>Elko</td>\n",
       "            <td>41.7961632</td>\n",
       "            <td>-115.3514744</td>\n",
       "            <td>3176.0</td>\n",
       "            <td>3176.0</td>\n",
       "        </tr>\n",
       "        <tr>\n",
       "            <td>189182</td>\n",
       "            <td>Lienhart Mine</td>\n",
       "            <td>Mine</td>\n",
       "            <td>CO</td>\n",
       "            <td>Chaffee</td>\n",
       "            <td>38.9377726</td>\n",
       "            <td>-106.2547437</td>\n",
       "            <td>None</td>\n",
       "            <td>3173.0</td>\n",
       "        </tr>\n",
       "        <tr>\n",
       "            <td>189124</td>\n",
       "            <td>Holywater Mine</td>\n",
       "            <td>Mine</td>\n",
       "            <td>CO</td>\n",
       "            <td>Chaffee</td>\n",
       "            <td>38.8094397</td>\n",
       "            <td>-106.358913</td>\n",
       "            <td>3173.0</td>\n",
       "            <td>3173.0</td>\n",
       "        </tr>\n",
       "        <tr>\n",
       "            <td>1693838</td>\n",
       "            <td>Eva Mine Complex</td>\n",
       "            <td>Mine</td>\n",
       "            <td>CO</td>\n",
       "            <td>Clear Creek</td>\n",
       "            <td>39.6794316</td>\n",
       "            <td>-105.7277832</td>\n",
       "            <td>3166.0</td>\n",
       "            <td>3166.0</td>\n",
       "        </tr>\n",
       "        <tr>\n",
       "            <td>1600421</td>\n",
       "            <td>Horse Pasture Draw</td>\n",
       "            <td>Valley</td>\n",
       "            <td>WY</td>\n",
       "            <td>Sublette</td>\n",
       "            <td>42.913281</td>\n",
       "            <td>-110.3380592</td>\n",
       "            <td>None</td>\n",
       "            <td>3151.0</td>\n",
       "        </tr>\n",
       "        <tr>\n",
       "            <td>1599988</td>\n",
       "            <td>Goosewing Guard Station</td>\n",
       "            <td>Locale</td>\n",
       "            <td>WY</td>\n",
       "            <td>Teton</td>\n",
       "            <td>43.5629975</td>\n",
       "            <td>-110.3032447</td>\n",
       "            <td>None</td>\n",
       "            <td>3151.0</td>\n",
       "        </tr>\n",
       "        <tr>\n",
       "            <td>1599888</td>\n",
       "            <td>Galena Basin</td>\n",
       "            <td>Basin</td>\n",
       "            <td>WY</td>\n",
       "            <td>Park</td>\n",
       "            <td>43.905233</td>\n",
       "            <td>-109.2923677</td>\n",
       "            <td>3151.0</td>\n",
       "            <td>3151.0</td>\n",
       "        </tr>\n",
       "        <tr>\n",
       "            <td>177789</td>\n",
       "            <td>Green Mountain</td>\n",
       "            <td>Summit</td>\n",
       "            <td>CO</td>\n",
       "            <td>Grand</td>\n",
       "            <td>40.2961549</td>\n",
       "            <td>-105.8221575</td>\n",
       "            <td>3138.0</td>\n",
       "            <td>3138.0</td>\n",
       "        </tr>\n",
       "        <tr>\n",
       "            <td>181517</td>\n",
       "            <td>Nugget</td>\n",
       "            <td>Populated Place</td>\n",
       "            <td>CO</td>\n",
       "            <td>Gilpin</td>\n",
       "            <td>39.8635984</td>\n",
       "            <td>-105.5883336</td>\n",
       "            <td>3128.0</td>\n",
       "            <td>3128.0</td>\n",
       "        </tr>\n",
       "        <tr>\n",
       "            <td>1428713</td>\n",
       "            <td>Highline Trail</td>\n",
       "            <td>Trail</td>\n",
       "            <td>UT</td>\n",
       "            <td>Duchesne</td>\n",
       "            <td>40.688557</td>\n",
       "            <td>-110.8173912</td>\n",
       "            <td>3120.0</td>\n",
       "            <td>3120.0</td>\n",
       "        </tr>\n",
       "        <tr>\n",
       "            <td>199320</td>\n",
       "            <td>Trio Dam</td>\n",
       "            <td>Dam</td>\n",
       "            <td>CO</td>\n",
       "            <td>Delta</td>\n",
       "            <td>39.0466474</td>\n",
       "            <td>-107.8356185</td>\n",
       "            <td>3108.0</td>\n",
       "            <td>3108.0</td>\n",
       "        </tr>\n",
       "        <tr>\n",
       "            <td>862430</td>\n",
       "            <td>Great Basin National Park</td>\n",
       "            <td>Park</td>\n",
       "            <td>NV</td>\n",
       "            <td>White Pine</td>\n",
       "            <td>38.9460953</td>\n",
       "            <td>-114.2579658</td>\n",
       "            <td>3102.0</td>\n",
       "            <td>3102.0</td>\n",
       "        </tr>\n",
       "        <tr>\n",
       "            <td>173389</td>\n",
       "            <td>Crater Lake</td>\n",
       "            <td>Lake</td>\n",
       "            <td>CO</td>\n",
       "            <td>Rio Blanco</td>\n",
       "            <td>40.1400804</td>\n",
       "            <td>-107.1207371</td>\n",
       "            <td>3097.0</td>\n",
       "            <td>3097.0</td>\n",
       "        </tr>\n",
       "        <tr>\n",
       "            <td>1667345</td>\n",
       "            <td>Little Shot Lake</td>\n",
       "            <td>Lake</td>\n",
       "            <td>CA</td>\n",
       "            <td>Fresno</td>\n",
       "            <td>37.1252053</td>\n",
       "            <td>-118.8260505</td>\n",
       "            <td>3096.0</td>\n",
       "            <td>3096.0</td>\n",
       "        </tr>\n",
       "        <tr>\n",
       "            <td>189116</td>\n",
       "            <td>East Willow Creek</td>\n",
       "            <td>Stream</td>\n",
       "            <td>CO</td>\n",
       "            <td>Gunnison</td>\n",
       "            <td>38.7538837</td>\n",
       "            <td>-106.4819717</td>\n",
       "            <td>3089.0</td>\n",
       "            <td>3089.0</td>\n",
       "        </tr>\n",
       "        <tr>\n",
       "            <td>1684255</td>\n",
       "            <td>Pacific-Gold Dust Mine</td>\n",
       "            <td>Mine</td>\n",
       "            <td>CO</td>\n",
       "            <td>Summit</td>\n",
       "            <td>39.4685983</td>\n",
       "            <td>-106.0244624</td>\n",
       "            <td>3089.0</td>\n",
       "            <td>3089.0</td>\n",
       "        </tr>\n",
       "        <tr>\n",
       "            <td>175365</td>\n",
       "            <td>Little Giant Reservoir Number 1</td>\n",
       "            <td>Reservoir</td>\n",
       "            <td>CO</td>\n",
       "            <td>Delta</td>\n",
       "            <td>39.0405469</td>\n",
       "            <td>-107.7873713</td>\n",
       "            <td>3084.0</td>\n",
       "            <td>3084.0</td>\n",
       "        </tr>\n",
       "        <tr>\n",
       "            <td>1724727</td>\n",
       "            <td>Lexington Mine</td>\n",
       "            <td>Mine</td>\n",
       "            <td>CO</td>\n",
       "            <td>Teller</td>\n",
       "            <td>38.7405442</td>\n",
       "            <td>-105.1560918</td>\n",
       "            <td>3076.0</td>\n",
       "            <td>3076.0</td>\n",
       "        </tr>\n",
       "        <tr>\n",
       "            <td>176038</td>\n",
       "            <td>Dubach Meadows</td>\n",
       "            <td>Flat</td>\n",
       "            <td>CO</td>\n",
       "            <td>Eagle</td>\n",
       "            <td>39.5402631</td>\n",
       "            <td>-106.6630902</td>\n",
       "            <td>3074.0</td>\n",
       "            <td>3074.0</td>\n",
       "        </tr>\n",
       "        <tr>\n",
       "            <td>917164</td>\n",
       "            <td>Hidden Treasure Mine</td>\n",
       "            <td>Mine</td>\n",
       "            <td>NM</td>\n",
       "            <td>Colfax</td>\n",
       "            <td>36.6114208</td>\n",
       "            <td>-105.2411167</td>\n",
       "            <td>3068.0</td>\n",
       "            <td>3068.0</td>\n",
       "        </tr>\n",
       "        <tr>\n",
       "            <td>396870</td>\n",
       "            <td>Mount McGuire</td>\n",
       "            <td>Summit</td>\n",
       "            <td>ID</td>\n",
       "            <td>Lemhi</td>\n",
       "            <td>45.174046</td>\n",
       "            <td>-114.602137</td>\n",
       "            <td>3059.0</td>\n",
       "            <td>3059.0</td>\n",
       "        </tr>\n",
       "        <tr>\n",
       "            <td>1684932</td>\n",
       "            <td>Allied Gold Mining Company Mine</td>\n",
       "            <td>Mine</td>\n",
       "            <td>CO</td>\n",
       "            <td>Boulder</td>\n",
       "            <td>39.9930424</td>\n",
       "            <td>-105.576667</td>\n",
       "            <td>3049.0</td>\n",
       "            <td>3049.0</td>\n",
       "        </tr>\n",
       "        <tr>\n",
       "            <td>176195</td>\n",
       "            <td>Guller Creek</td>\n",
       "            <td>Stream</td>\n",
       "            <td>CO</td>\n",
       "            <td>Summit</td>\n",
       "            <td>39.5035976</td>\n",
       "            <td>-106.1758565</td>\n",
       "            <td>3035.0</td>\n",
       "            <td>3035.0</td>\n",
       "        </tr>\n",
       "        <tr>\n",
       "            <td>176528</td>\n",
       "            <td>McKinney Draw</td>\n",
       "            <td>Valley</td>\n",
       "            <td>CO</td>\n",
       "            <td>Dolores</td>\n",
       "            <td>37.8663073</td>\n",
       "            <td>-108.5713788</td>\n",
       "            <td>None</td>\n",
       "            <td>3035.0</td>\n",
       "        </tr>\n",
       "        <tr>\n",
       "            <td>1445191</td>\n",
       "            <td>Roundy Spring</td>\n",
       "            <td>Spring</td>\n",
       "            <td>UT</td>\n",
       "            <td>Garfield</td>\n",
       "            <td>38.0396633</td>\n",
       "            <td>-111.6903788</td>\n",
       "            <td>3025.0</td>\n",
       "            <td>3025.0</td>\n",
       "        </tr>\n",
       "        <tr>\n",
       "            <td>1445316</td>\n",
       "            <td>Sand Wash</td>\n",
       "            <td>Stream</td>\n",
       "            <td>UT</td>\n",
       "            <td>Garfield</td>\n",
       "            <td>37.8838658</td>\n",
       "            <td>-112.425208</td>\n",
       "            <td>None</td>\n",
       "            <td>3025.0</td>\n",
       "        </tr>\n",
       "        <tr>\n",
       "            <td>199786</td>\n",
       "            <td>Kendall Dam</td>\n",
       "            <td>Dam</td>\n",
       "            <td>CO</td>\n",
       "            <td>Mesa</td>\n",
       "            <td>39.1149804</td>\n",
       "            <td>-107.8072845</td>\n",
       "            <td>3024.0</td>\n",
       "            <td>3024.0</td>\n",
       "        </tr>\n",
       "        <tr>\n",
       "            <td>1442905</td>\n",
       "            <td>Long Flat</td>\n",
       "            <td>Flat</td>\n",
       "            <td>UT</td>\n",
       "            <td>Piute</td>\n",
       "            <td>38.2683083</td>\n",
       "            <td>-112.3552077</td>\n",
       "            <td>3011.0</td>\n",
       "            <td>3011.0</td>\n",
       "        </tr>\n",
       "        <tr>\n",
       "            <td>1444807</td>\n",
       "            <td>Red Lake</td>\n",
       "            <td>Lake</td>\n",
       "            <td>UT</td>\n",
       "            <td>Daggett</td>\n",
       "            <td>40.7950226</td>\n",
       "            <td>-109.8341217</td>\n",
       "            <td>3004.0</td>\n",
       "            <td>3004.0</td>\n",
       "        </tr>\n",
       "        <tr>\n",
       "            <td>909123</td>\n",
       "            <td>North Baldy</td>\n",
       "            <td>Summit</td>\n",
       "            <td>NM</td>\n",
       "            <td>Socorro</td>\n",
       "            <td>34.0503013</td>\n",
       "            <td>-107.1812222</td>\n",
       "            <td>3002.0</td>\n",
       "            <td>3002.0</td>\n",
       "        </tr>\n",
       "        <tr>\n",
       "            <td>190348</td>\n",
       "            <td>Rudifor Lake</td>\n",
       "            <td>Lake</td>\n",
       "            <td>CO</td>\n",
       "            <td>Rio Grande</td>\n",
       "            <td>37.5242201</td>\n",
       "            <td>-106.6722501</td>\n",
       "            <td>2997.0</td>\n",
       "            <td>2997.0</td>\n",
       "        </tr>\n",
       "        <tr>\n",
       "            <td>176590</td>\n",
       "            <td>Kilpacker Creek</td>\n",
       "            <td>Stream</td>\n",
       "            <td>CO</td>\n",
       "            <td>Dolores</td>\n",
       "            <td>37.8233271</td>\n",
       "            <td>-108.0511831</td>\n",
       "            <td>2995.0</td>\n",
       "            <td>2995.0</td>\n",
       "        </tr>\n",
       "        <tr>\n",
       "            <td>261678</td>\n",
       "            <td>Iceberg Lake</td>\n",
       "            <td>Lake</td>\n",
       "            <td>CA</td>\n",
       "            <td>Madera</td>\n",
       "            <td>37.6704116</td>\n",
       "            <td>-119.1691178</td>\n",
       "            <td>2981.0</td>\n",
       "            <td>2981.0</td>\n",
       "        </tr>\n",
       "        <tr>\n",
       "            <td>1438313</td>\n",
       "            <td>Avon</td>\n",
       "            <td>Populated Place</td>\n",
       "            <td>UT</td>\n",
       "            <td>Cache</td>\n",
       "            <td>41.5329911</td>\n",
       "            <td>-111.8132743</td>\n",
       "            <td>None</td>\n",
       "            <td>2978.0</td>\n",
       "        </tr>\n",
       "        <tr>\n",
       "            <td>1438255</td>\n",
       "            <td>Antimony Knoll</td>\n",
       "            <td>Summit</td>\n",
       "            <td>UT</td>\n",
       "            <td>Garfield</td>\n",
       "            <td>38.0514094</td>\n",
       "            <td>-111.815261</td>\n",
       "            <td>2978.0</td>\n",
       "            <td>2978.0</td>\n",
       "        </tr>\n",
       "        <tr>\n",
       "            <td>1683679</td>\n",
       "            <td>Majestic Mine</td>\n",
       "            <td>Mine</td>\n",
       "            <td>CO</td>\n",
       "            <td>Boulder</td>\n",
       "            <td>40.1247079</td>\n",
       "            <td>-105.5588892</td>\n",
       "            <td>2978.0</td>\n",
       "            <td>2978.0</td>\n",
       "        </tr>\n",
       "        <tr>\n",
       "            <td>806032</td>\n",
       "            <td>Imelda Lake</td>\n",
       "            <td>Lake</td>\n",
       "            <td>MT</td>\n",
       "            <td>Park</td>\n",
       "            <td>45.1663594</td>\n",
       "            <td>-109.9120372</td>\n",
       "            <td>2977.0</td>\n",
       "            <td>2977.0</td>\n",
       "        </tr>\n",
       "        <tr>\n",
       "            <td>931531</td>\n",
       "            <td>Geronimo Ski Trail</td>\n",
       "            <td>Trail</td>\n",
       "            <td>NM</td>\n",
       "            <td>Lincoln</td>\n",
       "            <td>33.3973012</td>\n",
       "            <td>-105.7885986</td>\n",
       "            <td>2976.0</td>\n",
       "            <td>2976.0</td>\n",
       "        </tr>\n",
       "        <tr>\n",
       "            <td>930659</td>\n",
       "            <td>Wild Onion Ski Trail</td>\n",
       "            <td>Trail</td>\n",
       "            <td>NM</td>\n",
       "            <td>Lincoln</td>\n",
       "            <td>33.3973012</td>\n",
       "            <td>-105.7885986</td>\n",
       "            <td>2976.0</td>\n",
       "            <td>2976.0</td>\n",
       "        </tr>\n",
       "        <tr>\n",
       "            <td>1447716</td>\n",
       "            <td>Manning Meadows Reservoir</td>\n",
       "            <td>Reservoir</td>\n",
       "            <td>UT</td>\n",
       "            <td>Piute</td>\n",
       "            <td>38.4904107</td>\n",
       "            <td>-112.0702195</td>\n",
       "            <td>2971.0</td>\n",
       "            <td>2971.0</td>\n",
       "        </tr>\n",
       "        <tr>\n",
       "            <td>173999</td>\n",
       "            <td>Deadhorse Spring</td>\n",
       "            <td>Spring</td>\n",
       "            <td>CO</td>\n",
       "            <td>Garfield</td>\n",
       "            <td>39.6572051</td>\n",
       "            <td>-107.2211646</td>\n",
       "            <td>2962.0</td>\n",
       "            <td>2962.0</td>\n",
       "        </tr>\n",
       "        <tr>\n",
       "            <td>172337</td>\n",
       "            <td>Lower Rainbow Lake</td>\n",
       "            <td>Lake</td>\n",
       "            <td>CO</td>\n",
       "            <td>Jackson</td>\n",
       "            <td>40.6481244</td>\n",
       "            <td>-106.6193546</td>\n",
       "            <td>2960.0</td>\n",
       "            <td>2960.0</td>\n",
       "        </tr>\n",
       "        <tr>\n",
       "            <td>268442</td>\n",
       "            <td>Trumbull Lake</td>\n",
       "            <td>Lake</td>\n",
       "            <td>CA</td>\n",
       "            <td>Mono</td>\n",
       "            <td>38.0534252</td>\n",
       "            <td>-119.2578319</td>\n",
       "            <td>2957.0</td>\n",
       "            <td>2957.0</td>\n",
       "        </tr>\n",
       "        <tr>\n",
       "            <td>188507</td>\n",
       "            <td>Phelps Cabin Creek</td>\n",
       "            <td>Stream</td>\n",
       "            <td>CO</td>\n",
       "            <td>Hinsdale</td>\n",
       "            <td>38.1488844</td>\n",
       "            <td>-107.1053286</td>\n",
       "            <td>2954.0</td>\n",
       "            <td>2954.0</td>\n",
       "        </tr>\n",
       "        <tr>\n",
       "            <td>1446325</td>\n",
       "            <td>Tall Four Reservoir</td>\n",
       "            <td>Reservoir</td>\n",
       "            <td>UT</td>\n",
       "            <td>Garfield</td>\n",
       "            <td>37.9200023</td>\n",
       "            <td>-111.8341652</td>\n",
       "            <td>2950.0</td>\n",
       "            <td>2950.0</td>\n",
       "        </tr>\n",
       "        <tr>\n",
       "            <td>1685340</td>\n",
       "            <td>Legion Mine</td>\n",
       "            <td>Mine</td>\n",
       "            <td>CO</td>\n",
       "            <td>Clear Creek</td>\n",
       "            <td>39.7794318</td>\n",
       "            <td>-105.6813922</td>\n",
       "            <td>2942.0</td>\n",
       "            <td>2942.0</td>\n",
       "        </tr>\n",
       "        <tr>\n",
       "            <td>1609296</td>\n",
       "            <td>Sepulcher Mountain</td>\n",
       "            <td>Summit</td>\n",
       "            <td>WY</td>\n",
       "            <td>Park</td>\n",
       "            <td>44.9903881</td>\n",
       "            <td>-110.7665775</td>\n",
       "            <td>2939.0</td>\n",
       "            <td>2939.0</td>\n",
       "        </tr>\n",
       "        <tr>\n",
       "            <td>2664241</td>\n",
       "            <td>Tucker Ponds</td>\n",
       "            <td>Lake</td>\n",
       "            <td>CO</td>\n",
       "            <td>Mineral</td>\n",
       "            <td>37.49492</td>\n",
       "            <td>-106.75954</td>\n",
       "            <td>2934.0</td>\n",
       "            <td>2934.0</td>\n",
       "        </tr>\n",
       "        <tr>\n",
       "            <td>1724854</td>\n",
       "            <td>Rose Maud Mine</td>\n",
       "            <td>Mine</td>\n",
       "            <td>CO</td>\n",
       "            <td>Teller</td>\n",
       "            <td>38.7324889</td>\n",
       "            <td>-105.1574808</td>\n",
       "            <td>2932.0</td>\n",
       "            <td>2932.0</td>\n",
       "        </tr>\n",
       "        <tr>\n",
       "            <td>853139</td>\n",
       "            <td>Puritan Mine</td>\n",
       "            <td>Mine</td>\n",
       "            <td>NV</td>\n",
       "            <td>Elko</td>\n",
       "            <td>41.8485179</td>\n",
       "            <td>-115.3800676</td>\n",
       "            <td>2910.0</td>\n",
       "            <td>2910.0</td>\n",
       "        </tr>\n",
       "        <tr>\n",
       "            <td>186986</td>\n",
       "            <td>McIntosh Mountain</td>\n",
       "            <td>Summit</td>\n",
       "            <td>CO</td>\n",
       "            <td>Gunnison</td>\n",
       "            <td>38.5750862</td>\n",
       "            <td>-107.014652</td>\n",
       "            <td>2905.0</td>\n",
       "            <td>2905.0</td>\n",
       "        </tr>\n",
       "        <tr>\n",
       "            <td>1447736</td>\n",
       "            <td>Farnsworth Dam</td>\n",
       "            <td>Dam</td>\n",
       "            <td>UT</td>\n",
       "            <td>Sevier</td>\n",
       "            <td>38.7733041</td>\n",
       "            <td>-111.6624129</td>\n",
       "            <td>2897.0</td>\n",
       "            <td>2897.0</td>\n",
       "        </tr>\n",
       "        <tr>\n",
       "            <td>269289</td>\n",
       "            <td>Woodchuck Country</td>\n",
       "            <td>Area</td>\n",
       "            <td>CA</td>\n",
       "            <td>Fresno</td>\n",
       "            <td>37.0174429</td>\n",
       "            <td>-118.8887203</td>\n",
       "            <td>2884.0</td>\n",
       "            <td>2884.0</td>\n",
       "        </tr>\n",
       "        <tr>\n",
       "            <td>859080</td>\n",
       "            <td>Buller Mountain</td>\n",
       "            <td>Summit</td>\n",
       "            <td>NV</td>\n",
       "            <td>Mineral</td>\n",
       "            <td>38.3808139</td>\n",
       "            <td>-118.6877054</td>\n",
       "            <td>2880.0</td>\n",
       "            <td>2880.0</td>\n",
       "        </tr>\n",
       "        <tr>\n",
       "            <td>1606084</td>\n",
       "            <td>Thompson Reservoir</td>\n",
       "            <td>Reservoir</td>\n",
       "            <td>WY</td>\n",
       "            <td>Carbon</td>\n",
       "            <td>41.1983044</td>\n",
       "            <td>-106.3655775</td>\n",
       "            <td>2878.0</td>\n",
       "            <td>2878.0</td>\n",
       "        </tr>\n",
       "        <tr>\n",
       "            <td>183510</td>\n",
       "            <td>The Castle</td>\n",
       "            <td>Pillar</td>\n",
       "            <td>CO</td>\n",
       "            <td>Jefferson</td>\n",
       "            <td>39.3105454</td>\n",
       "            <td>-105.3824978</td>\n",
       "            <td>2873.0</td>\n",
       "            <td>2873.0</td>\n",
       "        </tr>\n",
       "        <tr>\n",
       "            <td>39068</td>\n",
       "            <td>Lee Valley Dam</td>\n",
       "            <td>Dam</td>\n",
       "            <td>AZ</td>\n",
       "            <td>Apache</td>\n",
       "            <td>33.9417151</td>\n",
       "            <td>-109.4989794</td>\n",
       "            <td>2870.0</td>\n",
       "            <td>2870.0</td>\n",
       "        </tr>\n",
       "        <tr>\n",
       "            <td>180170</td>\n",
       "            <td>Crystal Lakes</td>\n",
       "            <td>Lake</td>\n",
       "            <td>CO</td>\n",
       "            <td>Lake</td>\n",
       "            <td>39.1950626</td>\n",
       "            <td>-106.3383877</td>\n",
       "            <td>2867.0</td>\n",
       "            <td>2867.0</td>\n",
       "        </tr>\n",
       "        <tr>\n",
       "            <td>2724004</td>\n",
       "            <td>Petrie Ditch</td>\n",
       "            <td>Canal</td>\n",
       "            <td>CO</td>\n",
       "            <td>Park</td>\n",
       "            <td>39.3091177</td>\n",
       "            <td>-105.8102555</td>\n",
       "            <td>2862.0</td>\n",
       "            <td>2862.0</td>\n",
       "        </tr>\n",
       "        <tr>\n",
       "            <td>177295</td>\n",
       "            <td>Hourglass Reservoir</td>\n",
       "            <td>Reservoir</td>\n",
       "            <td>CO</td>\n",
       "            <td>Larimer</td>\n",
       "            <td>40.5793186</td>\n",
       "            <td>-105.6319349</td>\n",
       "            <td>2859.0</td>\n",
       "            <td>2859.0</td>\n",
       "        </tr>\n",
       "    </tbody>\n",
       "</table>\n",
       "<span style=\"font-style:italic;text-align:center;\">Truncated to <a href=\"https://jupysql.ploomber.io/en/latest/api/configuration.html#displaylimit\">displaylimit</a> of 100.</span>"
      ],
      "text/plain": [
       "+------------+---------------------------------+-----------------+-------------+-----------------+--------------+---------------+-----------+-------------------+\n",
       "| feature_id |           feature_name          |  feature_class  | state_alpha |   county_name   | prim_lat_dec | prim_long_dec | elev_in_m | imputed_elev_in_m |\n",
       "+------------+---------------------------------+-----------------+-------------+-----------------+--------------+---------------+-----------+-------------------+\n",
       "|  1416580   |           Browne Tower          |      Summit     |      AK     |      Denali     |  63.1000583  |  -150.9314441 |   4628.0  |       4628.0      |\n",
       "|   188010   |           Grizzly Peak          |      Summit     |      CO     |     La Plata    |  37.6076296  |  -107.5818648 |   4171.0  |       4171.0      |\n",
       "|   191939   |        Spread Eagle Peak        |      Summit     |      CO     |      Custer     |  38.1252369  |  -105.6435197 |   4090.0  |       4090.0      |\n",
       "|   187393   |            Emery Peak           |      Summit     |      CO     |     San Juan    |  37.8882556  |  -107.6210535 |   4054.0  |       4054.0      |\n",
       "|   181832   |          Baker Mountain         |      Summit     |      CO     |   Clear Creek   |  39.6607654  |  -105.8402538 |   3832.0  |       3832.0      |\n",
       "|  1703800   |        Lucky Jim One Mine       |       Mine      |      CO     |       Park      |  39.1519347  |  -105.742509  |    None   |       3728.0      |\n",
       "|  1703775   |     Park County Claims Mine     |       Mine      |      CO     |       Park      |  39.3510997  |  -105.9869614 |   3728.0  |       3728.0      |\n",
       "|   393894   |          Donaldson Peak         |      Summit     |      ID     |      Custer     |  44.0639981  |  -113.7003853 |   3661.0  |       3661.0      |\n",
       "|  1599419   |         Dundee Mountain         |      Summit     |      WY     |       Park      |  43.8771622  |  -109.2682693 |   3640.0  |       3640.0      |\n",
       "|   939450   |         Master Man Mine         |       Mine      |      NM     |      Colfax     |  36.6297542  |  -105.2088936 |   3633.0  |       3633.0      |\n",
       "|   179902   |      Ceresco Number 4 Adit      |       Mine      |      CO     |       Lake      |  39.3644327  |  -106.1714108 |   3604.0  |       3604.0      |\n",
       "|   189898   |           Antoro Shaft          |       Mine      |      CO     |     Saguache    |  38.3297213  |  -106.125297  |   3577.0  |       3577.0      |\n",
       "|  1684419   |           Maumee Mine           |       Mine      |      CO     |       Park      |  39.269434   |  -106.1461318 |   3555.0  |       3555.0      |\n",
       "|  1598169   |        Big Sheep Mountain       |      Summit     |      WY     |     Sublette    |  43.2751868  |  -109.8786551 |   3537.0  |       3537.0      |\n",
       "|  1603836   |          Twins Glacier          |     Glacier     |      WY     |     Sublette    |  43.149673   |  -109.6540386 |   3517.0  |       3517.0      |\n",
       "|  1427800   |           Mount Ellen           |      Range      |      UT     |     Garfield    |  38.1097069  |  -110.8137658 |   3501.0  |       3501.0      |\n",
       "|  1734540   |         Gold Run Placer         |       Mine      |      CO     |    San Miguel   |  37.831384   |  -107.8345093 |   3449.0  |       3449.0      |\n",
       "|  1659681   |          Slide Mountain         |      Summit     |      CA     |       Mono      |  38.0931634  |  -119.4458359 |   3379.0  |       3379.0      |\n",
       "|   178928   |            Windy Gap            |       Gap       |      CO     |    Montezuma    |  37.4749967  |  -108.0917424 |   3354.0  |       3354.0      |\n",
       "|   197523   |           Payne Gulch           |      Valley     |      CO     |     Gunnison    |  38.6838024  |  -106.4736984 |   3340.0  |       3340.0      |\n",
       "|   780007   |          Black Mountain         |      Summit     |      MT     |       Park      |  45.4713346  |  -110.4664499 |   3337.0  |       3337.0      |\n",
       "|   203950   |          Trachyte Knob          |      Summit     |      CO     |      Teller     |  38.7731142  |  -105.1065711 |   3314.0  |       3314.0      |\n",
       "|   179985   |        Buckskin Joe Mine        |       Mine      |      CO     |       Park      |  39.2899894  |  -106.0955752 |   3309.0  |       3309.0      |\n",
       "|   189852   |       Sheep Mountain Trail      |      Trail      |      CO     |     Saguache    |  38.3297215  |  -106.1889107 |   3298.0  |       3298.0      |\n",
       "|  2572516   |            Windy Lake           |       Lake      |      WY     |     Fremont     |  42.6200138  |  -108.9825615 |   3274.0  |       3274.0      |\n",
       "|  1444260   |            Pearl Lake           |       Lake      |      UT     |      Uintah     |  40.7891427  |  -109.9571503 |   3263.0  |       3263.0      |\n",
       "|   181328   |      Floral Park Campground     |      Locale     |      CO     |   Clear Creek   |  39.7894314  |  -105.7805628 |   3258.0  |       3258.0      |\n",
       "|  1724633   |       Garfield Grouse Mine      |       Mine      |      CO     |      Teller     |  38.7330442  |  -105.1363688 |   3251.0  |       3251.0      |\n",
       "|   186674   |           Copley Lake           |       Lake      |      CO     |     Gunnison    |  38.8722009  |  -107.0830674 |   3251.0  |       3251.0      |\n",
       "|  1414051   |           Mount Spurr           |      Summit     |      AK     | Kenai Peninsula |  61.2997222  |  -152.2513889 |   3248.0  |       3248.0      |\n",
       "|   779022   |          Anaconda Range         |      Range      |      MT     |    Deer Lodge   |  46.0500221  |  -113.1901018 |   3246.0  |       3246.0      |\n",
       "|  1446855   |         Upper Chain Lake        |    Reservoir    |      UT     |     Duchesne    |  40.7113249  |  -110.2569397 |   3240.0  |       3240.0      |\n",
       "|   931481   |     Double Eagle V Ski Trail    |      Trail      |      NM     |     Santa Fe    |  35.7911406  |  -105.7950188 |   3240.0  |       3240.0      |\n",
       "|   262684   |       Little Papoose Creek      |      Stream     |      CA     |     Trinity     |  40.8009791  |  -122.735855  |    None   |       3224.0      |\n",
       "|   262186   |        Kings River Trail        |      Trail      |      CA     |       Inyo      |  37.1679871  |   -118.48483  |   3224.0  |       3224.0      |\n",
       "|  1441700   |         Henderson Creek         |      Stream     |      UT     |     Garfield    |  37.6077619  |  -112.0557457 |    None   |       3223.0      |\n",
       "|  1441572   |           Hancock Peak          |      Summit     |      UT     |       Iron      |  37.6349097  |  -112.7619161 |   3223.0  |       3223.0      |\n",
       "|   187877   |         Raber Lohr Ditch        |      Canal      |      CO     |     Hinsdale    |  37.6786111  |  -107.3222767 |   3218.0  |       3218.0      |\n",
       "|   181537   |            Utah Hill            |      Summit     |      CO     |      Gilpin     |  39.861742   |  -105.5629767 |   3202.0  |       3202.0      |\n",
       "|  1735447   |    Little Keystone Shaft Mine   |       Mine      |      CO     |       Lake      |  39.2477668  |  -106.4028044 |   3196.0  |       3196.0      |\n",
       "|   861027   |          Prospect Peak          |      Summit     |      NV     |       Elko      |  41.7961632  |  -115.3514744 |   3176.0  |       3176.0      |\n",
       "|   189182   |          Lienhart Mine          |       Mine      |      CO     |     Chaffee     |  38.9377726  |  -106.2547437 |    None   |       3173.0      |\n",
       "|   189124   |          Holywater Mine         |       Mine      |      CO     |     Chaffee     |  38.8094397  |  -106.358913  |   3173.0  |       3173.0      |\n",
       "|  1693838   |         Eva Mine Complex        |       Mine      |      CO     |   Clear Creek   |  39.6794316  |  -105.7277832 |   3166.0  |       3166.0      |\n",
       "|  1600421   |        Horse Pasture Draw       |      Valley     |      WY     |     Sublette    |  42.913281   |  -110.3380592 |    None   |       3151.0      |\n",
       "|  1599988   |     Goosewing Guard Station     |      Locale     |      WY     |      Teton      |  43.5629975  |  -110.3032447 |    None   |       3151.0      |\n",
       "|  1599888   |           Galena Basin          |      Basin      |      WY     |       Park      |  43.905233   |  -109.2923677 |   3151.0  |       3151.0      |\n",
       "|   177789   |          Green Mountain         |      Summit     |      CO     |      Grand      |  40.2961549  |  -105.8221575 |   3138.0  |       3138.0      |\n",
       "|   181517   |              Nugget             | Populated Place |      CO     |      Gilpin     |  39.8635984  |  -105.5883336 |   3128.0  |       3128.0      |\n",
       "|  1428713   |          Highline Trail         |      Trail      |      UT     |     Duchesne    |  40.688557   |  -110.8173912 |   3120.0  |       3120.0      |\n",
       "|   199320   |             Trio Dam            |       Dam       |      CO     |      Delta      |  39.0466474  |  -107.8356185 |   3108.0  |       3108.0      |\n",
       "|   862430   |    Great Basin National Park    |       Park      |      NV     |    White Pine   |  38.9460953  |  -114.2579658 |   3102.0  |       3102.0      |\n",
       "|   173389   |           Crater Lake           |       Lake      |      CO     |    Rio Blanco   |  40.1400804  |  -107.1207371 |   3097.0  |       3097.0      |\n",
       "|  1667345   |         Little Shot Lake        |       Lake      |      CA     |      Fresno     |  37.1252053  |  -118.8260505 |   3096.0  |       3096.0      |\n",
       "|   189116   |        East Willow Creek        |      Stream     |      CO     |     Gunnison    |  38.7538837  |  -106.4819717 |   3089.0  |       3089.0      |\n",
       "|  1684255   |      Pacific-Gold Dust Mine     |       Mine      |      CO     |      Summit     |  39.4685983  |  -106.0244624 |   3089.0  |       3089.0      |\n",
       "|   175365   | Little Giant Reservoir Number 1 |    Reservoir    |      CO     |      Delta      |  39.0405469  |  -107.7873713 |   3084.0  |       3084.0      |\n",
       "|  1724727   |          Lexington Mine         |       Mine      |      CO     |      Teller     |  38.7405442  |  -105.1560918 |   3076.0  |       3076.0      |\n",
       "|   176038   |          Dubach Meadows         |       Flat      |      CO     |      Eagle      |  39.5402631  |  -106.6630902 |   3074.0  |       3074.0      |\n",
       "|   917164   |       Hidden Treasure Mine      |       Mine      |      NM     |      Colfax     |  36.6114208  |  -105.2411167 |   3068.0  |       3068.0      |\n",
       "|   396870   |          Mount McGuire          |      Summit     |      ID     |      Lemhi      |  45.174046   |  -114.602137  |   3059.0  |       3059.0      |\n",
       "|  1684932   | Allied Gold Mining Company Mine |       Mine      |      CO     |     Boulder     |  39.9930424  |  -105.576667  |   3049.0  |       3049.0      |\n",
       "|   176195   |           Guller Creek          |      Stream     |      CO     |      Summit     |  39.5035976  |  -106.1758565 |   3035.0  |       3035.0      |\n",
       "|   176528   |          McKinney Draw          |      Valley     |      CO     |     Dolores     |  37.8663073  |  -108.5713788 |    None   |       3035.0      |\n",
       "|  1445191   |          Roundy Spring          |      Spring     |      UT     |     Garfield    |  38.0396633  |  -111.6903788 |   3025.0  |       3025.0      |\n",
       "|  1445316   |            Sand Wash            |      Stream     |      UT     |     Garfield    |  37.8838658  |  -112.425208  |    None   |       3025.0      |\n",
       "|   199786   |           Kendall Dam           |       Dam       |      CO     |       Mesa      |  39.1149804  |  -107.8072845 |   3024.0  |       3024.0      |\n",
       "|  1442905   |            Long Flat            |       Flat      |      UT     |      Piute      |  38.2683083  |  -112.3552077 |   3011.0  |       3011.0      |\n",
       "|  1444807   |             Red Lake            |       Lake      |      UT     |     Daggett     |  40.7950226  |  -109.8341217 |   3004.0  |       3004.0      |\n",
       "|   909123   |           North Baldy           |      Summit     |      NM     |     Socorro     |  34.0503013  |  -107.1812222 |   3002.0  |       3002.0      |\n",
       "|   190348   |           Rudifor Lake          |       Lake      |      CO     |    Rio Grande   |  37.5242201  |  -106.6722501 |   2997.0  |       2997.0      |\n",
       "|   176590   |         Kilpacker Creek         |      Stream     |      CO     |     Dolores     |  37.8233271  |  -108.0511831 |   2995.0  |       2995.0      |\n",
       "|   261678   |           Iceberg Lake          |       Lake      |      CA     |      Madera     |  37.6704116  |  -119.1691178 |   2981.0  |       2981.0      |\n",
       "|  1438313   |               Avon              | Populated Place |      UT     |      Cache      |  41.5329911  |  -111.8132743 |    None   |       2978.0      |\n",
       "|  1438255   |          Antimony Knoll         |      Summit     |      UT     |     Garfield    |  38.0514094  |  -111.815261  |   2978.0  |       2978.0      |\n",
       "|  1683679   |          Majestic Mine          |       Mine      |      CO     |     Boulder     |  40.1247079  |  -105.5588892 |   2978.0  |       2978.0      |\n",
       "|   806032   |           Imelda Lake           |       Lake      |      MT     |       Park      |  45.1663594  |  -109.9120372 |   2977.0  |       2977.0      |\n",
       "|   931531   |        Geronimo Ski Trail       |      Trail      |      NM     |     Lincoln     |  33.3973012  |  -105.7885986 |   2976.0  |       2976.0      |\n",
       "|   930659   |       Wild Onion Ski Trail      |      Trail      |      NM     |     Lincoln     |  33.3973012  |  -105.7885986 |   2976.0  |       2976.0      |\n",
       "|  1447716   |    Manning Meadows Reservoir    |    Reservoir    |      UT     |      Piute      |  38.4904107  |  -112.0702195 |   2971.0  |       2971.0      |\n",
       "|   173999   |         Deadhorse Spring        |      Spring     |      CO     |     Garfield    |  39.6572051  |  -107.2211646 |   2962.0  |       2962.0      |\n",
       "|   172337   |        Lower Rainbow Lake       |       Lake      |      CO     |     Jackson     |  40.6481244  |  -106.6193546 |   2960.0  |       2960.0      |\n",
       "|   268442   |          Trumbull Lake          |       Lake      |      CA     |       Mono      |  38.0534252  |  -119.2578319 |   2957.0  |       2957.0      |\n",
       "|   188507   |        Phelps Cabin Creek       |      Stream     |      CO     |     Hinsdale    |  38.1488844  |  -107.1053286 |   2954.0  |       2954.0      |\n",
       "|  1446325   |       Tall Four Reservoir       |    Reservoir    |      UT     |     Garfield    |  37.9200023  |  -111.8341652 |   2950.0  |       2950.0      |\n",
       "|  1685340   |           Legion Mine           |       Mine      |      CO     |   Clear Creek   |  39.7794318  |  -105.6813922 |   2942.0  |       2942.0      |\n",
       "|  1609296   |        Sepulcher Mountain       |      Summit     |      WY     |       Park      |  44.9903881  |  -110.7665775 |   2939.0  |       2939.0      |\n",
       "|  2664241   |           Tucker Ponds          |       Lake      |      CO     |     Mineral     |   37.49492   |   -106.75954  |   2934.0  |       2934.0      |\n",
       "|  1724854   |          Rose Maud Mine         |       Mine      |      CO     |      Teller     |  38.7324889  |  -105.1574808 |   2932.0  |       2932.0      |\n",
       "|   853139   |           Puritan Mine          |       Mine      |      NV     |       Elko      |  41.8485179  |  -115.3800676 |   2910.0  |       2910.0      |\n",
       "|   186986   |        McIntosh Mountain        |      Summit     |      CO     |     Gunnison    |  38.5750862  |  -107.014652  |   2905.0  |       2905.0      |\n",
       "|  1447736   |          Farnsworth Dam         |       Dam       |      UT     |      Sevier     |  38.7733041  |  -111.6624129 |   2897.0  |       2897.0      |\n",
       "|   269289   |        Woodchuck Country        |       Area      |      CA     |      Fresno     |  37.0174429  |  -118.8887203 |   2884.0  |       2884.0      |\n",
       "|   859080   |         Buller Mountain         |      Summit     |      NV     |     Mineral     |  38.3808139  |  -118.6877054 |   2880.0  |       2880.0      |\n",
       "|  1606084   |        Thompson Reservoir       |    Reservoir    |      WY     |      Carbon     |  41.1983044  |  -106.3655775 |   2878.0  |       2878.0      |\n",
       "|   183510   |            The Castle           |      Pillar     |      CO     |    Jefferson    |  39.3105454  |  -105.3824978 |   2873.0  |       2873.0      |\n",
       "|   39068    |          Lee Valley Dam         |       Dam       |      AZ     |      Apache     |  33.9417151  |  -109.4989794 |   2870.0  |       2870.0      |\n",
       "|   180170   |          Crystal Lakes          |       Lake      |      CO     |       Lake      |  39.1950626  |  -106.3383877 |   2867.0  |       2867.0      |\n",
       "|  2724004   |           Petrie Ditch          |      Canal      |      CO     |       Park      |  39.3091177  |  -105.8102555 |   2862.0  |       2862.0      |\n",
       "|   177295   |       Hourglass Reservoir       |    Reservoir    |      CO     |     Larimer     |  40.5793186  |  -105.6319349 |   2859.0  |       2859.0      |\n",
       "+------------+---------------------------------+-----------------+-------------+-----------------+--------------+---------------+-----------+-------------------+\n",
       "Truncated to displaylimit of 100."
      ]
     },
     "execution_count": 50,
     "metadata": {},
     "output_type": "execute_result"
    }
   ],
   "source": [
    "%%sql\n",
    "-- Fixed to handle repeated NULLs\n",
    "WITH fixed AS (\n",
    "SELECT *,\n",
    "       coalesce_agg(elev_in_m) OVER (order by feature_id) AS imputed_elev_in_m\n",
    "  FROM holey\n",
    ")\n",
    "SELECT * FROM fixed ORDER BY imputed_elev_in_m DESC LIMIT 100;"
   ]
  }
 ],
 "metadata": {
  "kernelspec": {
   "display_name": "Python 3 (ipykernel)",
   "language": "python",
   "name": "python3"
  },
  "language_info": {
   "codemirror_mode": {
    "name": "ipython",
    "version": 3
   },
   "file_extension": ".py",
   "mimetype": "text/x-python",
   "name": "python",
   "nbconvert_exporter": "python",
   "pygments_lexer": "ipython3",
   "version": "3.11.0"
  }
 },
 "nbformat": 4,
 "nbformat_minor": 5
}
