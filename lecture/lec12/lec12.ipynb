{
 "cells": [
  {
   "cell_type": "markdown",
   "id": "7782e12c-f08a-4c94-a144-81a0baeb83e2",
   "metadata": {},
   "source": [
    "# Lecture 12: Data Preparation I"
   ]
  },
  {
   "cell_type": "code",
   "execution_count": 2,
   "id": "1896c152-4b51-499f-9f9f-a019052ad150",
   "metadata": {},
   "outputs": [],
   "source": [
    "# to save space, do a symbolic link to previous lecture's data\n",
    "!ln -sf ../lec11/data ."
   ]
  },
  {
   "cell_type": "markdown",
   "id": "b8f3ca1a-de88-4928-bdfe-2c14deb6ff43",
   "metadata": {
    "slideshow": {
     "slide_type": "slide"
    }
   },
   "source": [
    "## [review] Structural Transformation: From Relations to Matrices and Back\n",
    "- Matrix $\\rightarrow$ Relational works.\n",
    "- Relational $\\rightarrow$ Matrix sometimes works!\n",
    "- But how?\n",
    "\n",
    "To start, let's take our matrix in `mm.txt`, and load it into Pandas."
   ]
  },
  {
   "cell_type": "code",
   "execution_count": 2,
   "id": "89df7e25-e979-4147-9c7b-1d685b6d03f0",
   "metadata": {},
   "outputs": [],
   "source": [
    "import pandas as pd"
   ]
  },
  {
   "cell_type": "code",
   "execution_count": 4,
   "id": "6a7571ed-20ca-4751-8f6a-6c91b20336a8",
   "metadata": {
    "slideshow": {
     "slide_type": "fragment"
    }
   },
   "outputs": [
    {
     "data": {
      "text/html": [
       "<div>\n",
       "<style scoped>\n",
       "    .dataframe tbody tr th:only-of-type {\n",
       "        vertical-align: middle;\n",
       "    }\n",
       "\n",
       "    .dataframe tbody tr th {\n",
       "        vertical-align: top;\n",
       "    }\n",
       "\n",
       "    .dataframe thead th {\n",
       "        text-align: right;\n",
       "    }\n",
       "</style>\n",
       "<table border=\"1\" class=\"dataframe\">\n",
       "  <thead>\n",
       "    <tr style=\"text-align: right;\">\n",
       "      <th></th>\n",
       "      <th>Year</th>\n",
       "      <th>OCT</th>\n",
       "      <th>NOV</th>\n",
       "      <th>DEC</th>\n",
       "      <th>JAN</th>\n",
       "      <th>FEB</th>\n",
       "      <th>MAR</th>\n",
       "      <th>APR</th>\n",
       "      <th>MAY</th>\n",
       "      <th>JUN</th>\n",
       "      <th>JUL</th>\n",
       "      <th>AUG</th>\n",
       "      <th>SEP</th>\n",
       "    </tr>\n",
       "  </thead>\n",
       "  <tbody>\n",
       "    <tr>\n",
       "      <th>0</th>\n",
       "      <td>2002</td>\n",
       "      <td>545.92</td>\n",
       "      <td>3115.08</td>\n",
       "      <td>3996.76</td>\n",
       "      <td>1815.74</td>\n",
       "      <td>1204.14</td>\n",
       "      <td>1644.02</td>\n",
       "      <td>795.92</td>\n",
       "      <td>540.24</td>\n",
       "      <td>112.62</td>\n",
       "      <td>79.52</td>\n",
       "      <td>22.20</td>\n",
       "      <td>171.70</td>\n",
       "    </tr>\n",
       "    <tr>\n",
       "      <th>1</th>\n",
       "      <td>2003</td>\n",
       "      <td>55.41</td>\n",
       "      <td>1242.23</td>\n",
       "      <td>2976.94</td>\n",
       "      <td>797.72</td>\n",
       "      <td>836.01</td>\n",
       "      <td>1026.11</td>\n",
       "      <td>1571.27</td>\n",
       "      <td>468.59</td>\n",
       "      <td>24.93</td>\n",
       "      <td>98.33</td>\n",
       "      <td>267.40</td>\n",
       "      <td>99.20</td>\n",
       "    </tr>\n",
       "    <tr>\n",
       "      <th>2</th>\n",
       "      <td>2004</td>\n",
       "      <td>55.90</td>\n",
       "      <td>834.40</td>\n",
       "      <td>2311.72</td>\n",
       "      <td>942.75</td>\n",
       "      <td>2019.22</td>\n",
       "      <td>399.52</td>\n",
       "      <td>339.18</td>\n",
       "      <td>251.64</td>\n",
       "      <td>72.38</td>\n",
       "      <td>55.57</td>\n",
       "      <td>116.74</td>\n",
       "      <td>97.48</td>\n",
       "    </tr>\n",
       "    <tr>\n",
       "      <th>3</th>\n",
       "      <td>2006</td>\n",
       "      <td>347.22</td>\n",
       "      <td>908.44</td>\n",
       "      <td>2981.16</td>\n",
       "      <td>1793.97</td>\n",
       "      <td>995.27</td>\n",
       "      <td>2031.19</td>\n",
       "      <td>1602.55</td>\n",
       "      <td>287.21</td>\n",
       "      <td>102.44</td>\n",
       "      <td>90.31</td>\n",
       "      <td>18.75</td>\n",
       "      <td>33.76</td>\n",
       "    </tr>\n",
       "    <tr>\n",
       "      <th>4</th>\n",
       "      <td>2005</td>\n",
       "      <td>1449.23</td>\n",
       "      <td>619.77</td>\n",
       "      <td>1789.93</td>\n",
       "      <td>1777.23</td>\n",
       "      <td>1055.41</td>\n",
       "      <td>1472.91</td>\n",
       "      <td>743.11</td>\n",
       "      <td>1113.26</td>\n",
       "      <td>309.19</td>\n",
       "      <td>46.61</td>\n",
       "      <td>86.51</td>\n",
       "      <td>93.98</td>\n",
       "    </tr>\n",
       "    <tr>\n",
       "      <th>5</th>\n",
       "      <td>2007</td>\n",
       "      <td>178.81</td>\n",
       "      <td>942.89</td>\n",
       "      <td>1279.33</td>\n",
       "      <td>320.66</td>\n",
       "      <td>1615.47</td>\n",
       "      <td>317.77</td>\n",
       "      <td>519.85</td>\n",
       "      <td>150.15</td>\n",
       "      <td>85.32</td>\n",
       "      <td>102.60</td>\n",
       "      <td>62.74</td>\n",
       "      <td>164.02</td>\n",
       "    </tr>\n",
       "    <tr>\n",
       "      <th>6</th>\n",
       "      <td>2008</td>\n",
       "      <td>612.92</td>\n",
       "      <td>329.64</td>\n",
       "      <td>1189.43</td>\n",
       "      <td>2153.17</td>\n",
       "      <td>1007.57</td>\n",
       "      <td>316.55</td>\n",
       "      <td>153.53</td>\n",
       "      <td>255.80</td>\n",
       "      <td>42.45</td>\n",
       "      <td>41.73</td>\n",
       "      <td>36.83</td>\n",
       "      <td>12.59</td>\n",
       "    </tr>\n",
       "    <tr>\n",
       "      <th>7</th>\n",
       "      <td>2009</td>\n",
       "      <td>272.27</td>\n",
       "      <td>777.81</td>\n",
       "      <td>1102.87</td>\n",
       "      <td>533.64</td>\n",
       "      <td>1479.80</td>\n",
       "      <td>881.30</td>\n",
       "      <td>297.80</td>\n",
       "      <td>580.28</td>\n",
       "      <td>320.84</td>\n",
       "      <td>35.95</td>\n",
       "      <td>53.25</td>\n",
       "      <td>42.99</td>\n",
       "    </tr>\n",
       "    <tr>\n",
       "      <th>8</th>\n",
       "      <td>2010</td>\n",
       "      <td>722.61</td>\n",
       "      <td>379.36</td>\n",
       "      <td>1029.03</td>\n",
       "      <td>1780.54</td>\n",
       "      <td>1136.93</td>\n",
       "      <td>814.83</td>\n",
       "      <td>1225.52</td>\n",
       "      <td>487.75</td>\n",
       "      <td>146.90</td>\n",
       "      <td>38.05</td>\n",
       "      <td>46.77</td>\n",
       "      <td>88.72</td>\n",
       "    </tr>\n",
       "    <tr>\n",
       "      <th>9</th>\n",
       "      <td>2011</td>\n",
       "      <td>1059.68</td>\n",
       "      <td>1016.81</td>\n",
       "      <td>2555.51</td>\n",
       "      <td>463.27</td>\n",
       "      <td>1059.94</td>\n",
       "      <td>2173.84</td>\n",
       "      <td>465.80</td>\n",
       "      <td>552.36</td>\n",
       "      <td>350.04</td>\n",
       "      <td>84.51</td>\n",
       "      <td>21.59</td>\n",
       "      <td>76.77</td>\n",
       "    </tr>\n",
       "    <tr>\n",
       "      <th>10</th>\n",
       "      <td>2020</td>\n",
       "      <td>56.21</td>\n",
       "      <td>311.24</td>\n",
       "      <td>1202.38</td>\n",
       "      <td>578.53</td>\n",
       "      <td>70.34</td>\n",
       "      <td>789.14</td>\n",
       "      <td>509.50</td>\n",
       "      <td>375.76</td>\n",
       "      <td>70.86</td>\n",
       "      <td>17.71</td>\n",
       "      <td>25.99</td>\n",
       "      <td>21.65</td>\n",
       "    </tr>\n",
       "    <tr>\n",
       "      <th>11</th>\n",
       "      <td>2012</td>\n",
       "      <td>527.67</td>\n",
       "      <td>523.53</td>\n",
       "      <td>156.69</td>\n",
       "      <td>1066.21</td>\n",
       "      <td>421.75</td>\n",
       "      <td>1643.46</td>\n",
       "      <td>828.51</td>\n",
       "      <td>115.19</td>\n",
       "      <td>164.73</td>\n",
       "      <td>98.85</td>\n",
       "      <td>92.70</td>\n",
       "      <td>45.65</td>\n",
       "    </tr>\n",
       "    <tr>\n",
       "      <th>12</th>\n",
       "      <td>2014</td>\n",
       "      <td>119.18</td>\n",
       "      <td>281.26</td>\n",
       "      <td>178.54</td>\n",
       "      <td>233.12</td>\n",
       "      <td>1314.08</td>\n",
       "      <td>978.52</td>\n",
       "      <td>376.71</td>\n",
       "      <td>179.59</td>\n",
       "      <td>42.21</td>\n",
       "      <td>96.86</td>\n",
       "      <td>163.17</td>\n",
       "      <td>244.05</td>\n",
       "    </tr>\n",
       "    <tr>\n",
       "      <th>13</th>\n",
       "      <td>2013</td>\n",
       "      <td>376.65</td>\n",
       "      <td>1131.15</td>\n",
       "      <td>1759.84</td>\n",
       "      <td>338.40</td>\n",
       "      <td>189.12</td>\n",
       "      <td>391.51</td>\n",
       "      <td>259.37</td>\n",
       "      <td>254.56</td>\n",
       "      <td>142.22</td>\n",
       "      <td>72.63</td>\n",
       "      <td>96.91</td>\n",
       "      <td>343.69</td>\n",
       "    </tr>\n",
       "    <tr>\n",
       "      <th>14</th>\n",
       "      <td>2015</td>\n",
       "      <td>342.81</td>\n",
       "      <td>551.60</td>\n",
       "      <td>1654.38</td>\n",
       "      <td>149.87</td>\n",
       "      <td>860.72</td>\n",
       "      <td>243.26</td>\n",
       "      <td>343.53</td>\n",
       "      <td>338.50</td>\n",
       "      <td>109.07</td>\n",
       "      <td>201.23</td>\n",
       "      <td>49.52</td>\n",
       "      <td>84.94</td>\n",
       "    </tr>\n",
       "    <tr>\n",
       "      <th>15</th>\n",
       "      <td>2016</td>\n",
       "      <td>305.11</td>\n",
       "      <td>635.79</td>\n",
       "      <td>1530.09</td>\n",
       "      <td>1754.74</td>\n",
       "      <td>367.08</td>\n",
       "      <td>1395.37</td>\n",
       "      <td>427.64</td>\n",
       "      <td>245.77</td>\n",
       "      <td>110.11</td>\n",
       "      <td>37.56</td>\n",
       "      <td>28.19</td>\n",
       "      <td>52.88</td>\n",
       "    </tr>\n",
       "    <tr>\n",
       "      <th>16</th>\n",
       "      <td>2017</td>\n",
       "      <td>1175.34</td>\n",
       "      <td>581.67</td>\n",
       "      <td>1155.19</td>\n",
       "      <td>2628.17</td>\n",
       "      <td>2110.15</td>\n",
       "      <td>751.90</td>\n",
       "      <td>825.07</td>\n",
       "      <td>153.14</td>\n",
       "      <td>118.32</td>\n",
       "      <td>53.72</td>\n",
       "      <td>72.88</td>\n",
       "      <td>156.63</td>\n",
       "    </tr>\n",
       "    <tr>\n",
       "      <th>17</th>\n",
       "      <td>2018</td>\n",
       "      <td>130.64</td>\n",
       "      <td>967.23</td>\n",
       "      <td>118.69</td>\n",
       "      <td>847.21</td>\n",
       "      <td>201.54</td>\n",
       "      <td>1540.98</td>\n",
       "      <td>578.42</td>\n",
       "      <td>201.33</td>\n",
       "      <td>43.35</td>\n",
       "      <td>68.03</td>\n",
       "      <td>22.84</td>\n",
       "      <td>14.06</td>\n",
       "    </tr>\n",
       "    <tr>\n",
       "      <th>18</th>\n",
       "      <td>2019</td>\n",
       "      <td>199.39</td>\n",
       "      <td>754.07</td>\n",
       "      <td>585.14</td>\n",
       "      <td>1282.06</td>\n",
       "      <td>2261.94</td>\n",
       "      <td>1090.67</td>\n",
       "      <td>442.48</td>\n",
       "      <td>743.01</td>\n",
       "      <td>48.86</td>\n",
       "      <td>25.14</td>\n",
       "      <td>48.34</td>\n",
       "      <td>208.95</td>\n",
       "    </tr>\n",
       "  </tbody>\n",
       "</table>\n",
       "</div>"
      ],
      "text/plain": [
       "    Year      OCT      NOV      DEC      JAN      FEB      MAR      APR  \\\n",
       "0   2002   545.92  3115.08  3996.76  1815.74  1204.14  1644.02   795.92   \n",
       "1   2003    55.41  1242.23  2976.94   797.72   836.01  1026.11  1571.27   \n",
       "2   2004    55.90   834.40  2311.72   942.75  2019.22   399.52   339.18   \n",
       "3   2006   347.22   908.44  2981.16  1793.97   995.27  2031.19  1602.55   \n",
       "4   2005  1449.23   619.77  1789.93  1777.23  1055.41  1472.91   743.11   \n",
       "5   2007   178.81   942.89  1279.33   320.66  1615.47   317.77   519.85   \n",
       "6   2008   612.92   329.64  1189.43  2153.17  1007.57   316.55   153.53   \n",
       "7   2009   272.27   777.81  1102.87   533.64  1479.80   881.30   297.80   \n",
       "8   2010   722.61   379.36  1029.03  1780.54  1136.93   814.83  1225.52   \n",
       "9   2011  1059.68  1016.81  2555.51   463.27  1059.94  2173.84   465.80   \n",
       "10  2020    56.21   311.24  1202.38   578.53    70.34   789.14   509.50   \n",
       "11  2012   527.67   523.53   156.69  1066.21   421.75  1643.46   828.51   \n",
       "12  2014   119.18   281.26   178.54   233.12  1314.08   978.52   376.71   \n",
       "13  2013   376.65  1131.15  1759.84   338.40   189.12   391.51   259.37   \n",
       "14  2015   342.81   551.60  1654.38   149.87   860.72   243.26   343.53   \n",
       "15  2016   305.11   635.79  1530.09  1754.74   367.08  1395.37   427.64   \n",
       "16  2017  1175.34   581.67  1155.19  2628.17  2110.15   751.90   825.07   \n",
       "17  2018   130.64   967.23   118.69   847.21   201.54  1540.98   578.42   \n",
       "18  2019   199.39   754.07   585.14  1282.06  2261.94  1090.67   442.48   \n",
       "\n",
       "        MAY     JUN     JUL     AUG     SEP  \n",
       "0    540.24  112.62   79.52   22.20  171.70  \n",
       "1    468.59   24.93   98.33  267.40   99.20  \n",
       "2    251.64   72.38   55.57  116.74   97.48  \n",
       "3    287.21  102.44   90.31   18.75   33.76  \n",
       "4   1113.26  309.19   46.61   86.51   93.98  \n",
       "5    150.15   85.32  102.60   62.74  164.02  \n",
       "6    255.80   42.45   41.73   36.83   12.59  \n",
       "7    580.28  320.84   35.95   53.25   42.99  \n",
       "8    487.75  146.90   38.05   46.77   88.72  \n",
       "9    552.36  350.04   84.51   21.59   76.77  \n",
       "10   375.76   70.86   17.71   25.99   21.65  \n",
       "11   115.19  164.73   98.85   92.70   45.65  \n",
       "12   179.59   42.21   96.86  163.17  244.05  \n",
       "13   254.56  142.22   72.63   96.91  343.69  \n",
       "14   338.50  109.07  201.23   49.52   84.94  \n",
       "15   245.77  110.11   37.56   28.19   52.88  \n",
       "16   153.14  118.32   53.72   72.88  156.63  \n",
       "17   201.33   43.35   68.03   22.84   14.06  \n",
       "18   743.01   48.86   25.14   48.34  208.95  "
      ]
     },
     "execution_count": 4,
     "metadata": {},
     "output_type": "execute_result"
    }
   ],
   "source": [
    "mm = pd.read_csv('data/mm.txt', header=0)\n",
    "mm"
   ]
  },
  {
   "cell_type": "markdown",
   "id": "e3202db1-aae7-48a5-9835-594af348a1f8",
   "metadata": {
    "slideshow": {
     "slide_type": "subslide"
    }
   },
   "source": [
    "## [Review] What does an unpivot look like (Matrix -> Relational)?"
   ]
  },
  {
   "cell_type": "code",
   "execution_count": 5,
   "id": "82bfc658-47f3-42c5-8c63-51bcbff928cf",
   "metadata": {
    "slideshow": {
     "slide_type": "fragment"
    }
   },
   "outputs": [
    {
     "data": {
      "text/html": [
       "<div>\n",
       "<style scoped>\n",
       "    .dataframe tbody tr th:only-of-type {\n",
       "        vertical-align: middle;\n",
       "    }\n",
       "\n",
       "    .dataframe tbody tr th {\n",
       "        vertical-align: top;\n",
       "    }\n",
       "\n",
       "    .dataframe thead th {\n",
       "        text-align: right;\n",
       "    }\n",
       "</style>\n",
       "<table border=\"1\" class=\"dataframe\">\n",
       "  <thead>\n",
       "    <tr style=\"text-align: right;\">\n",
       "      <th></th>\n",
       "      <th>Year</th>\n",
       "      <th>variable</th>\n",
       "      <th>value</th>\n",
       "    </tr>\n",
       "  </thead>\n",
       "  <tbody>\n",
       "    <tr>\n",
       "      <th>0</th>\n",
       "      <td>2002</td>\n",
       "      <td>OCT</td>\n",
       "      <td>545.92</td>\n",
       "    </tr>\n",
       "    <tr>\n",
       "      <th>1</th>\n",
       "      <td>2003</td>\n",
       "      <td>OCT</td>\n",
       "      <td>55.41</td>\n",
       "    </tr>\n",
       "    <tr>\n",
       "      <th>2</th>\n",
       "      <td>2004</td>\n",
       "      <td>OCT</td>\n",
       "      <td>55.90</td>\n",
       "    </tr>\n",
       "    <tr>\n",
       "      <th>3</th>\n",
       "      <td>2006</td>\n",
       "      <td>OCT</td>\n",
       "      <td>347.22</td>\n",
       "    </tr>\n",
       "    <tr>\n",
       "      <th>4</th>\n",
       "      <td>2005</td>\n",
       "      <td>OCT</td>\n",
       "      <td>1449.23</td>\n",
       "    </tr>\n",
       "    <tr>\n",
       "      <th>...</th>\n",
       "      <td>...</td>\n",
       "      <td>...</td>\n",
       "      <td>...</td>\n",
       "    </tr>\n",
       "    <tr>\n",
       "      <th>223</th>\n",
       "      <td>2015</td>\n",
       "      <td>SEP</td>\n",
       "      <td>84.94</td>\n",
       "    </tr>\n",
       "    <tr>\n",
       "      <th>224</th>\n",
       "      <td>2016</td>\n",
       "      <td>SEP</td>\n",
       "      <td>52.88</td>\n",
       "    </tr>\n",
       "    <tr>\n",
       "      <th>225</th>\n",
       "      <td>2017</td>\n",
       "      <td>SEP</td>\n",
       "      <td>156.63</td>\n",
       "    </tr>\n",
       "    <tr>\n",
       "      <th>226</th>\n",
       "      <td>2018</td>\n",
       "      <td>SEP</td>\n",
       "      <td>14.06</td>\n",
       "    </tr>\n",
       "    <tr>\n",
       "      <th>227</th>\n",
       "      <td>2019</td>\n",
       "      <td>SEP</td>\n",
       "      <td>208.95</td>\n",
       "    </tr>\n",
       "  </tbody>\n",
       "</table>\n",
       "<p>228 rows × 3 columns</p>\n",
       "</div>"
      ],
      "text/plain": [
       "     Year variable    value\n",
       "0    2002      OCT   545.92\n",
       "1    2003      OCT    55.41\n",
       "2    2004      OCT    55.90\n",
       "3    2006      OCT   347.22\n",
       "4    2005      OCT  1449.23\n",
       "..    ...      ...      ...\n",
       "223  2015      SEP    84.94\n",
       "224  2016      SEP    52.88\n",
       "225  2017      SEP   156.63\n",
       "226  2018      SEP    14.06\n",
       "227  2019      SEP   208.95\n",
       "\n",
       "[228 rows x 3 columns]"
      ]
     },
     "execution_count": 5,
     "metadata": {},
     "output_type": "execute_result"
    }
   ],
   "source": [
    "mm_melted = mm.melt(id_vars=['Year'])\n",
    "mm_melted"
   ]
  },
  {
   "cell_type": "markdown",
   "id": "d004248d-3972-48bc-8dab-d1f8cd4d4c31",
   "metadata": {},
   "source": [
    "Thanks to the `id_var` parameter, the `Year` column is named and repeated for all other (variable=column name, value=value) elements in the row."
   ]
  },
  {
   "cell_type": "code",
   "execution_count": null,
   "id": "304401ce-65fc-408c-92cc-217cc682aee6",
   "metadata": {},
   "outputs": [],
   "source": [
    "mm_melted[mm_melted['Year'] == 2002]"
   ]
  },
  {
   "cell_type": "markdown",
   "id": "eac5444a-9a2c-4d1a-98d7-1bb0ef23da57",
   "metadata": {
    "slideshow": {
     "slide_type": "subslide"
    }
   },
   "source": [
    "## PIVOT(UNPIVOT) = ??"
   ]
  },
  {
   "cell_type": "code",
   "execution_count": 6,
   "id": "0aa6b449-e5bb-4868-b398-6a285537473c",
   "metadata": {
    "slideshow": {
     "slide_type": "fragment"
    }
   },
   "outputs": [
    {
     "data": {
      "text/html": [
       "<div>\n",
       "<style scoped>\n",
       "    .dataframe tbody tr th:only-of-type {\n",
       "        vertical-align: middle;\n",
       "    }\n",
       "\n",
       "    .dataframe tbody tr th {\n",
       "        vertical-align: top;\n",
       "    }\n",
       "\n",
       "    .dataframe thead tr th {\n",
       "        text-align: left;\n",
       "    }\n",
       "\n",
       "    .dataframe thead tr:last-of-type th {\n",
       "        text-align: right;\n",
       "    }\n",
       "</style>\n",
       "<table border=\"1\" class=\"dataframe\">\n",
       "  <thead>\n",
       "    <tr>\n",
       "      <th></th>\n",
       "      <th colspan=\"12\" halign=\"left\">value</th>\n",
       "    </tr>\n",
       "    <tr>\n",
       "      <th>variable</th>\n",
       "      <th>APR</th>\n",
       "      <th>AUG</th>\n",
       "      <th>DEC</th>\n",
       "      <th>FEB</th>\n",
       "      <th>JAN</th>\n",
       "      <th>JUL</th>\n",
       "      <th>JUN</th>\n",
       "      <th>MAR</th>\n",
       "      <th>MAY</th>\n",
       "      <th>NOV</th>\n",
       "      <th>OCT</th>\n",
       "      <th>SEP</th>\n",
       "    </tr>\n",
       "    <tr>\n",
       "      <th>Year</th>\n",
       "      <th></th>\n",
       "      <th></th>\n",
       "      <th></th>\n",
       "      <th></th>\n",
       "      <th></th>\n",
       "      <th></th>\n",
       "      <th></th>\n",
       "      <th></th>\n",
       "      <th></th>\n",
       "      <th></th>\n",
       "      <th></th>\n",
       "      <th></th>\n",
       "    </tr>\n",
       "  </thead>\n",
       "  <tbody>\n",
       "    <tr>\n",
       "      <th>2002</th>\n",
       "      <td>795.92</td>\n",
       "      <td>22.20</td>\n",
       "      <td>3996.76</td>\n",
       "      <td>1204.14</td>\n",
       "      <td>1815.74</td>\n",
       "      <td>79.52</td>\n",
       "      <td>112.62</td>\n",
       "      <td>1644.02</td>\n",
       "      <td>540.24</td>\n",
       "      <td>3115.08</td>\n",
       "      <td>545.92</td>\n",
       "      <td>171.70</td>\n",
       "    </tr>\n",
       "    <tr>\n",
       "      <th>2003</th>\n",
       "      <td>1571.27</td>\n",
       "      <td>267.40</td>\n",
       "      <td>2976.94</td>\n",
       "      <td>836.01</td>\n",
       "      <td>797.72</td>\n",
       "      <td>98.33</td>\n",
       "      <td>24.93</td>\n",
       "      <td>1026.11</td>\n",
       "      <td>468.59</td>\n",
       "      <td>1242.23</td>\n",
       "      <td>55.41</td>\n",
       "      <td>99.20</td>\n",
       "    </tr>\n",
       "    <tr>\n",
       "      <th>2004</th>\n",
       "      <td>339.18</td>\n",
       "      <td>116.74</td>\n",
       "      <td>2311.72</td>\n",
       "      <td>2019.22</td>\n",
       "      <td>942.75</td>\n",
       "      <td>55.57</td>\n",
       "      <td>72.38</td>\n",
       "      <td>399.52</td>\n",
       "      <td>251.64</td>\n",
       "      <td>834.40</td>\n",
       "      <td>55.90</td>\n",
       "      <td>97.48</td>\n",
       "    </tr>\n",
       "    <tr>\n",
       "      <th>2005</th>\n",
       "      <td>743.11</td>\n",
       "      <td>86.51</td>\n",
       "      <td>1789.93</td>\n",
       "      <td>1055.41</td>\n",
       "      <td>1777.23</td>\n",
       "      <td>46.61</td>\n",
       "      <td>309.19</td>\n",
       "      <td>1472.91</td>\n",
       "      <td>1113.26</td>\n",
       "      <td>619.77</td>\n",
       "      <td>1449.23</td>\n",
       "      <td>93.98</td>\n",
       "    </tr>\n",
       "    <tr>\n",
       "      <th>2006</th>\n",
       "      <td>1602.55</td>\n",
       "      <td>18.75</td>\n",
       "      <td>2981.16</td>\n",
       "      <td>995.27</td>\n",
       "      <td>1793.97</td>\n",
       "      <td>90.31</td>\n",
       "      <td>102.44</td>\n",
       "      <td>2031.19</td>\n",
       "      <td>287.21</td>\n",
       "      <td>908.44</td>\n",
       "      <td>347.22</td>\n",
       "      <td>33.76</td>\n",
       "    </tr>\n",
       "    <tr>\n",
       "      <th>2007</th>\n",
       "      <td>519.85</td>\n",
       "      <td>62.74</td>\n",
       "      <td>1279.33</td>\n",
       "      <td>1615.47</td>\n",
       "      <td>320.66</td>\n",
       "      <td>102.60</td>\n",
       "      <td>85.32</td>\n",
       "      <td>317.77</td>\n",
       "      <td>150.15</td>\n",
       "      <td>942.89</td>\n",
       "      <td>178.81</td>\n",
       "      <td>164.02</td>\n",
       "    </tr>\n",
       "    <tr>\n",
       "      <th>2008</th>\n",
       "      <td>153.53</td>\n",
       "      <td>36.83</td>\n",
       "      <td>1189.43</td>\n",
       "      <td>1007.57</td>\n",
       "      <td>2153.17</td>\n",
       "      <td>41.73</td>\n",
       "      <td>42.45</td>\n",
       "      <td>316.55</td>\n",
       "      <td>255.80</td>\n",
       "      <td>329.64</td>\n",
       "      <td>612.92</td>\n",
       "      <td>12.59</td>\n",
       "    </tr>\n",
       "    <tr>\n",
       "      <th>2009</th>\n",
       "      <td>297.80</td>\n",
       "      <td>53.25</td>\n",
       "      <td>1102.87</td>\n",
       "      <td>1479.80</td>\n",
       "      <td>533.64</td>\n",
       "      <td>35.95</td>\n",
       "      <td>320.84</td>\n",
       "      <td>881.30</td>\n",
       "      <td>580.28</td>\n",
       "      <td>777.81</td>\n",
       "      <td>272.27</td>\n",
       "      <td>42.99</td>\n",
       "    </tr>\n",
       "    <tr>\n",
       "      <th>2010</th>\n",
       "      <td>1225.52</td>\n",
       "      <td>46.77</td>\n",
       "      <td>1029.03</td>\n",
       "      <td>1136.93</td>\n",
       "      <td>1780.54</td>\n",
       "      <td>38.05</td>\n",
       "      <td>146.90</td>\n",
       "      <td>814.83</td>\n",
       "      <td>487.75</td>\n",
       "      <td>379.36</td>\n",
       "      <td>722.61</td>\n",
       "      <td>88.72</td>\n",
       "    </tr>\n",
       "    <tr>\n",
       "      <th>2011</th>\n",
       "      <td>465.80</td>\n",
       "      <td>21.59</td>\n",
       "      <td>2555.51</td>\n",
       "      <td>1059.94</td>\n",
       "      <td>463.27</td>\n",
       "      <td>84.51</td>\n",
       "      <td>350.04</td>\n",
       "      <td>2173.84</td>\n",
       "      <td>552.36</td>\n",
       "      <td>1016.81</td>\n",
       "      <td>1059.68</td>\n",
       "      <td>76.77</td>\n",
       "    </tr>\n",
       "    <tr>\n",
       "      <th>2012</th>\n",
       "      <td>828.51</td>\n",
       "      <td>92.70</td>\n",
       "      <td>156.69</td>\n",
       "      <td>421.75</td>\n",
       "      <td>1066.21</td>\n",
       "      <td>98.85</td>\n",
       "      <td>164.73</td>\n",
       "      <td>1643.46</td>\n",
       "      <td>115.19</td>\n",
       "      <td>523.53</td>\n",
       "      <td>527.67</td>\n",
       "      <td>45.65</td>\n",
       "    </tr>\n",
       "    <tr>\n",
       "      <th>2013</th>\n",
       "      <td>259.37</td>\n",
       "      <td>96.91</td>\n",
       "      <td>1759.84</td>\n",
       "      <td>189.12</td>\n",
       "      <td>338.40</td>\n",
       "      <td>72.63</td>\n",
       "      <td>142.22</td>\n",
       "      <td>391.51</td>\n",
       "      <td>254.56</td>\n",
       "      <td>1131.15</td>\n",
       "      <td>376.65</td>\n",
       "      <td>343.69</td>\n",
       "    </tr>\n",
       "    <tr>\n",
       "      <th>2014</th>\n",
       "      <td>376.71</td>\n",
       "      <td>163.17</td>\n",
       "      <td>178.54</td>\n",
       "      <td>1314.08</td>\n",
       "      <td>233.12</td>\n",
       "      <td>96.86</td>\n",
       "      <td>42.21</td>\n",
       "      <td>978.52</td>\n",
       "      <td>179.59</td>\n",
       "      <td>281.26</td>\n",
       "      <td>119.18</td>\n",
       "      <td>244.05</td>\n",
       "    </tr>\n",
       "    <tr>\n",
       "      <th>2015</th>\n",
       "      <td>343.53</td>\n",
       "      <td>49.52</td>\n",
       "      <td>1654.38</td>\n",
       "      <td>860.72</td>\n",
       "      <td>149.87</td>\n",
       "      <td>201.23</td>\n",
       "      <td>109.07</td>\n",
       "      <td>243.26</td>\n",
       "      <td>338.50</td>\n",
       "      <td>551.60</td>\n",
       "      <td>342.81</td>\n",
       "      <td>84.94</td>\n",
       "    </tr>\n",
       "    <tr>\n",
       "      <th>2016</th>\n",
       "      <td>427.64</td>\n",
       "      <td>28.19</td>\n",
       "      <td>1530.09</td>\n",
       "      <td>367.08</td>\n",
       "      <td>1754.74</td>\n",
       "      <td>37.56</td>\n",
       "      <td>110.11</td>\n",
       "      <td>1395.37</td>\n",
       "      <td>245.77</td>\n",
       "      <td>635.79</td>\n",
       "      <td>305.11</td>\n",
       "      <td>52.88</td>\n",
       "    </tr>\n",
       "    <tr>\n",
       "      <th>2017</th>\n",
       "      <td>825.07</td>\n",
       "      <td>72.88</td>\n",
       "      <td>1155.19</td>\n",
       "      <td>2110.15</td>\n",
       "      <td>2628.17</td>\n",
       "      <td>53.72</td>\n",
       "      <td>118.32</td>\n",
       "      <td>751.90</td>\n",
       "      <td>153.14</td>\n",
       "      <td>581.67</td>\n",
       "      <td>1175.34</td>\n",
       "      <td>156.63</td>\n",
       "    </tr>\n",
       "    <tr>\n",
       "      <th>2018</th>\n",
       "      <td>578.42</td>\n",
       "      <td>22.84</td>\n",
       "      <td>118.69</td>\n",
       "      <td>201.54</td>\n",
       "      <td>847.21</td>\n",
       "      <td>68.03</td>\n",
       "      <td>43.35</td>\n",
       "      <td>1540.98</td>\n",
       "      <td>201.33</td>\n",
       "      <td>967.23</td>\n",
       "      <td>130.64</td>\n",
       "      <td>14.06</td>\n",
       "    </tr>\n",
       "    <tr>\n",
       "      <th>2019</th>\n",
       "      <td>442.48</td>\n",
       "      <td>48.34</td>\n",
       "      <td>585.14</td>\n",
       "      <td>2261.94</td>\n",
       "      <td>1282.06</td>\n",
       "      <td>25.14</td>\n",
       "      <td>48.86</td>\n",
       "      <td>1090.67</td>\n",
       "      <td>743.01</td>\n",
       "      <td>754.07</td>\n",
       "      <td>199.39</td>\n",
       "      <td>208.95</td>\n",
       "    </tr>\n",
       "    <tr>\n",
       "      <th>2020</th>\n",
       "      <td>509.50</td>\n",
       "      <td>25.99</td>\n",
       "      <td>1202.38</td>\n",
       "      <td>70.34</td>\n",
       "      <td>578.53</td>\n",
       "      <td>17.71</td>\n",
       "      <td>70.86</td>\n",
       "      <td>789.14</td>\n",
       "      <td>375.76</td>\n",
       "      <td>311.24</td>\n",
       "      <td>56.21</td>\n",
       "      <td>21.65</td>\n",
       "    </tr>\n",
       "  </tbody>\n",
       "</table>\n",
       "</div>"
      ],
      "text/plain": [
       "            value                                                              \\\n",
       "variable      APR     AUG      DEC      FEB      JAN     JUL     JUN      MAR   \n",
       "Year                                                                            \n",
       "2002       795.92   22.20  3996.76  1204.14  1815.74   79.52  112.62  1644.02   \n",
       "2003      1571.27  267.40  2976.94   836.01   797.72   98.33   24.93  1026.11   \n",
       "2004       339.18  116.74  2311.72  2019.22   942.75   55.57   72.38   399.52   \n",
       "2005       743.11   86.51  1789.93  1055.41  1777.23   46.61  309.19  1472.91   \n",
       "2006      1602.55   18.75  2981.16   995.27  1793.97   90.31  102.44  2031.19   \n",
       "2007       519.85   62.74  1279.33  1615.47   320.66  102.60   85.32   317.77   \n",
       "2008       153.53   36.83  1189.43  1007.57  2153.17   41.73   42.45   316.55   \n",
       "2009       297.80   53.25  1102.87  1479.80   533.64   35.95  320.84   881.30   \n",
       "2010      1225.52   46.77  1029.03  1136.93  1780.54   38.05  146.90   814.83   \n",
       "2011       465.80   21.59  2555.51  1059.94   463.27   84.51  350.04  2173.84   \n",
       "2012       828.51   92.70   156.69   421.75  1066.21   98.85  164.73  1643.46   \n",
       "2013       259.37   96.91  1759.84   189.12   338.40   72.63  142.22   391.51   \n",
       "2014       376.71  163.17   178.54  1314.08   233.12   96.86   42.21   978.52   \n",
       "2015       343.53   49.52  1654.38   860.72   149.87  201.23  109.07   243.26   \n",
       "2016       427.64   28.19  1530.09   367.08  1754.74   37.56  110.11  1395.37   \n",
       "2017       825.07   72.88  1155.19  2110.15  2628.17   53.72  118.32   751.90   \n",
       "2018       578.42   22.84   118.69   201.54   847.21   68.03   43.35  1540.98   \n",
       "2019       442.48   48.34   585.14  2261.94  1282.06   25.14   48.86  1090.67   \n",
       "2020       509.50   25.99  1202.38    70.34   578.53   17.71   70.86   789.14   \n",
       "\n",
       "                                             \n",
       "variable      MAY      NOV      OCT     SEP  \n",
       "Year                                         \n",
       "2002       540.24  3115.08   545.92  171.70  \n",
       "2003       468.59  1242.23    55.41   99.20  \n",
       "2004       251.64   834.40    55.90   97.48  \n",
       "2005      1113.26   619.77  1449.23   93.98  \n",
       "2006       287.21   908.44   347.22   33.76  \n",
       "2007       150.15   942.89   178.81  164.02  \n",
       "2008       255.80   329.64   612.92   12.59  \n",
       "2009       580.28   777.81   272.27   42.99  \n",
       "2010       487.75   379.36   722.61   88.72  \n",
       "2011       552.36  1016.81  1059.68   76.77  \n",
       "2012       115.19   523.53   527.67   45.65  \n",
       "2013       254.56  1131.15   376.65  343.69  \n",
       "2014       179.59   281.26   119.18  244.05  \n",
       "2015       338.50   551.60   342.81   84.94  \n",
       "2016       245.77   635.79   305.11   52.88  \n",
       "2017       153.14   581.67  1175.34  156.63  \n",
       "2018       201.33   967.23   130.64   14.06  \n",
       "2019       743.01   754.07   199.39  208.95  \n",
       "2020       375.76   311.24    56.21   21.65  "
      ]
     },
     "execution_count": 6,
     "metadata": {},
     "output_type": "execute_result"
    }
   ],
   "source": [
    "# how do we get back to something that resembles the original matrix?\n",
    "# mm_melted.pivot(index='variable', columns='Year') # A\n",
    "mm_melted.pivot(index='Year', columns='variable')#.reset_index() #B"
   ]
  },
  {
   "cell_type": "markdown",
   "id": "cb83c341-8bbb-484f-9232-85f317329cb2",
   "metadata": {},
   "source": [
    "# Data Unboxing, Part I"
   ]
  },
  {
   "cell_type": "code",
   "execution_count": 9,
   "id": "c5c1a629-1d30-4a33-ab4c-64a34e805f09",
   "metadata": {},
   "outputs": [
    {
     "name": "stdout",
     "output_type": "stream",
     "text": [
      "1.4M\tdata/jc1.txt\n",
      "51M\tdata/jq2.txt\n",
      "696K\tdata/mmp.txt\n",
      "4.1M\tdata/mmr.txt\n",
      "4.0K\tdata/mm.txt\n",
      "824K\tdata/mpf.txt\n",
      "4.0K\tdata/requirements.txt\n"
     ]
    }
   ],
   "source": [
    "!du -h data/*"
   ]
  },
  {
   "cell_type": "code",
   "execution_count": 14,
   "id": "eaf375c2-be80-4892-a3e1-052e01cdadae",
   "metadata": {},
   "outputs": [
    {
     "name": "stdout",
     "output_type": "stream",
     "text": [
      "-rw-r--r-- 1 jovyan jovyan 1.4M Sep 28 19:24 data/jc1.txt\n",
      "-rw-r--r-- 1 jovyan jovyan  51M Sep 28 19:24 data/jq2.txt\n",
      "-rw-r--r-- 1 jovyan jovyan 695K Sep 28 19:24 data/mmp.txt\n",
      "-rw-r--r-- 1 jovyan jovyan 4.1M Sep 28 19:24 data/mmr.txt\n",
      "-rw-r--r-- 1 jovyan jovyan 1.3K Sep 28 19:24 data/mm.txt\n",
      "-rw-r--r-- 1 jovyan jovyan 822K Sep 28 19:24 data/mpf.txt\n",
      "-rw-r--r-- 1 jovyan jovyan 2.1K Sep 28 19:24 data/requirements.txt\n"
     ]
    }
   ],
   "source": [
    "!ls -lh data/*"
   ]
  },
  {
   "cell_type": "markdown",
   "id": "42c951af-fd6d-4b62-a35e-f98212605f49",
   "metadata": {},
   "source": [
    "What category of data is the file below? Any observations about the data?"
   ]
  },
  {
   "cell_type": "code",
   "execution_count": 18,
   "id": "87c97d22-703a-4d50-9296-4d84e92705b8",
   "metadata": {},
   "outputs": [
    {
     "name": "stdout",
     "output_type": "stream",
     "text": [
      "﻿_input,_num,_widgetName,_source,_resultNumber,_pageUrl,game_number,bio1,bio2,bio3,contestant1_name,contestant1_score,contestant2_name,contestant2_score,contestant3_name,contestant3_score\n",
      ",1,Jeopardy_Winners,Jeopardy_Winners,1,http://www.j-archive.com/showgame.php?game_id=3350,Show #5883 - Wednesday March 24 2010,Derek Honoré an attorney from Inglewood California,Tatiana Walton a graphic designer from Cutler Bay Florida,Regina Robbins an arts teacher from New York New York (whose 1-day cash winnings total $38500),Regina,$19401,Tatiana,$7100,Derek,$11900\n",
      ",2,Jeopardy_Winners,Jeopardy_Winners,2,http://www.j-archive.com/showgame.php?game_id=4400,Show #6756 - Monday January 20 2014,Jon McGuire a software-development manager from Matthews North Carolina,Blake Perkins an environmental scientist from Baton Rouge Louisiana,Sarah McNitt a study abroad adviser originally from Ann Arbor Michigan (whose 4-day cash winnings total $69199),Sarah,$20199,Blake,$0,Jon,$8380\n",
      ",3,Jeopardy_Winners,Jeopardy_Winners,3,http://www.j"
     ]
    }
   ],
   "source": [
    "!head -c 1024 data/jc1.txt"
   ]
  },
  {
   "cell_type": "markdown",
   "id": "98fe53da-692c-4fa7-b638-98d24c4594b0",
   "metadata": {},
   "source": [
    "**Exercise**: What do you see this time? Category? Interesting features of the data?"
   ]
  },
  {
   "cell_type": "code",
   "execution_count": 19,
   "id": "071800dc-0b9d-4aa9-831b-8612e5660012",
   "metadata": {},
   "outputs": [
    {
     "name": "stdout",
     "output_type": "stream",
     "text": [
      "{\"category\":\"HISTORY\",\"air_date\":\"2004-12-31\",\"question\":\"'For the last 8 years of his life, Galileo was under house arrest for espousing this man's theory'\",\"value\":\"$200\",\"answer\":\"Copernicus\",\"round\":\"Jeopardy!\",\"show_number\":\"4680\"}\n",
      "{\"category\":\"ESPN's TOP 10 ALL-TIME ATHLETES\",\"air_date\":\"2004-12-31\",\"question\":\"'No. 2: 1912 Olympian; football star at Carlisle Indian School; 6 MLB seasons with the Reds, Giants & Braves'\",\"value\":\"$200\",\"answer\":\"Jim Thorpe\",\"round\":\"Jeopardy!\",\"show_number\":\"4680\"}\n",
      "{\"category\":\"EVERYBODY TALKS ABOUT IT...\",\"air_date\":\"2004-12-31\",\"question\":\"'The city of Yuma in this state has a record average of 4,055 hours of sunshine each year'\",\"value\":\"$200\",\"answer\":\"Arizona\",\"round\":\"Jeopardy!\",\"show_number\":\"4680\"}\n",
      "{\"category\":\"THE COMPANY LINE\",\"air_date\":\"2004-12-31\",\"question\":\"'In 1963, live on \\\"The Art Linkletter Show\\\", this company served its billionth burger'\",\"value\":\"$200\",\"answer\":\"McDonald\\\\'s\",\"round\":\"Jeopardy!\",\"show_number\":\"4680\"}\n",
      "{\"category\":\"EPITAPHS & TRIBUTE"
     ]
    }
   ],
   "source": [
    "!head -c 1024 data/jq2.txt"
   ]
  },
  {
   "cell_type": "markdown",
   "id": "b7204251-2e8e-43ab-9897-c60227b066a3",
   "metadata": {
    "slideshow": {
     "slide_type": "subslide"
    }
   },
   "source": [
    "## Data Unboxing, Part II"
   ]
  },
  {
   "cell_type": "markdown",
   "id": "59d22ae0-148f-41ba-95ee-0c6410b53a59",
   "metadata": {},
   "source": [
    "Let's explore the first file here:"
   ]
  },
  {
   "cell_type": "code",
   "execution_count": null,
   "id": "c92be082-84da-4774-b914-7f219d61eb86",
   "metadata": {},
   "outputs": [],
   "source": [
    "!head -c 1024 data/jc1.txt"
   ]
  },
  {
   "cell_type": "code",
   "execution_count": null,
   "id": "44f3de6e-96dd-4c3c-8fa0-275416b37005",
   "metadata": {
    "slideshow": {
     "slide_type": "subslide"
    }
   },
   "outputs": [],
   "source": [
    "import numpy as np\n",
    "import warnings\n",
    "warnings.simplefilter(action='ignore', category=FutureWarning)\n",
    "import pandas as pd\n",
    "\n",
    "jc1 = pd.read_csv('data/jc1.txt', header=0, sep=',')\n",
    "jc1.head(3)"
   ]
  },
  {
   "cell_type": "markdown",
   "id": "bcba815c-59db-46d5-867f-b728f769fa65",
   "metadata": {},
   "source": [
    "What data types are each column?"
   ]
  },
  {
   "cell_type": "code",
   "execution_count": null,
   "id": "7b5031c0-b6c5-403b-86c3-c4594586f541",
   "metadata": {},
   "outputs": [],
   "source": [
    "jc1.dtypes"
   ]
  },
  {
   "cell_type": "markdown",
   "id": "a597fb73-9c3d-47d0-a978-2c70bb87db7b",
   "metadata": {
    "slideshow": {
     "slide_type": "slide"
    }
   },
   "source": [
    "Currently, we're working with objects, because of how pandas read in the dtypes. Let's try to modify some scores here for contestants to make them numbers"
   ]
  },
  {
   "cell_type": "code",
   "execution_count": null,
   "id": "770424b6-bb75-4202-abdf-ef81e6547df2",
   "metadata": {
    "slideshow": {
     "slide_type": "fragment"
    }
   },
   "outputs": [],
   "source": [
    "jc1.columns\n",
    "for col in jc1.columns:\n",
    "    if '_score' in col:\n",
    "        jc1[col] = jc1[col].map(lambda x: float(x.strip('$')) if type(x) == str else np.nan)"
   ]
  },
  {
   "cell_type": "markdown",
   "id": "b80d57d3-0f5c-4d7e-81ca-522c9a083818",
   "metadata": {
    "slideshow": {
     "slide_type": "slide"
    }
   },
   "source": [
    "What are our dtypes now?"
   ]
  },
  {
   "cell_type": "code",
   "execution_count": null,
   "id": "690b3851-0d1c-4f2f-be87-48744d7669c6",
   "metadata": {
    "slideshow": {
     "slide_type": "fragment"
    }
   },
   "outputs": [],
   "source": [
    "jc1.dtypes"
   ]
  },
  {
   "cell_type": "markdown",
   "id": "9dcee6e6-67dc-4e26-a0b6-670363d6af17",
   "metadata": {
    "slideshow": {
     "slide_type": "slide"
    }
   },
   "source": [
    "Can we visualize our contestant winnings?"
   ]
  },
  {
   "cell_type": "code",
   "execution_count": null,
   "id": "15df92c1-05bf-4c99-935e-e3cbd355fd13",
   "metadata": {
    "scrolled": true,
    "slideshow": {
     "slide_type": "subslide"
    }
   },
   "outputs": [],
   "source": [
    "jc1.hist(column='contestant1_score')\n",
    "jc1.hist(column='contestant2_score')\n",
    "jc1.hist(column='contestant3_score')"
   ]
  },
  {
   "cell_type": "markdown",
   "id": "0a08d070-8741-4e21-aba4-66a81cedf661",
   "metadata": {
    "slideshow": {
     "slide_type": "slide"
    }
   },
   "source": [
    "# CNRFC-NOAA Rainfall Dataset"
   ]
  },
  {
   "cell_type": "markdown",
   "id": "3a3462a9-e95d-46ac-89fd-063c5b5d9a0b",
   "metadata": {
    "slideshow": {
     "slide_type": "subslide"
    }
   },
   "source": [
    "* There are four data files tied to the scrape of rainfall data from the NOAA (National Oceanic and Atmospheric Administration) [link](https://www.cnrfc.noaa.gov/monthly_precip_2020.php).\n",
    "* This was compiled by visiting each annual website of monthly precipitation by regions in the California Nevada River Forecast Center (CNRFC) area.\n",
    "* For more details on how to make this dataset yourself, check out the `rainfallscrape` folder. You may need to install additional Python packages via `pip -r rainfallscrape/requirements.txt`.\n",
    "\n",
    "Let's unbox this data too:"
   ]
  },
  {
   "cell_type": "code",
   "execution_count": 20,
   "id": "06fb451e-f285-481c-a0da-9a83a0cec29c",
   "metadata": {},
   "outputs": [
    {
     "name": "stdout",
     "output_type": "stream",
     "text": [
      "-rw-r--r-- 1 jovyan jovyan 695K Sep 28 19:24 data/mmp.txt\n",
      "-rw-r--r-- 1 jovyan jovyan 4.1M Sep 28 19:24 data/mmr.txt\n",
      "-rw-r--r-- 1 jovyan jovyan 1.3K Sep 28 19:24 data/mm.txt\n",
      "-rw-r--r-- 1 jovyan jovyan 822K Sep 28 19:24 data/mpf.txt\n"
     ]
    }
   ],
   "source": [
    "!ls -lh data/m*"
   ]
  },
  {
   "cell_type": "markdown",
   "id": "04228afe-75cb-4ebb-abd1-04e036fc380d",
   "metadata": {},
   "source": [
    "All of these files *look* rectangular. **What data model does each follow, structurally?**\n",
    "\n",
    "Analyze the first few lines of each file in order below. Remember to adjust `-n` number of lines as needed.\n",
    "1. `mm.txt`\n",
    "2. `mmp.txt`\n",
    "3. `mmr.txt`\n",
    "4. `mpf.txt` - may need to look at first 20 lines here"
   ]
  },
  {
   "cell_type": "code",
   "execution_count": 24,
   "id": "1deaa829-dd84-4cf2-a993-8d6bca09c873",
   "metadata": {},
   "outputs": [
    {
     "name": "stdout",
     "output_type": "stream",
     "text": [
      "2002, 'SOUTHERN OREGON COASTAL'\n",
      "2002, 'ID', 'Location', 'OCT', 'NOV', 'DEC', 'JAN', 'FEB', 'MAR', 'APR', 'MAY', 'JUN', 'JUL', 'AUG', 'SEP', 'WY to Date', 'Pct Avg to Date', 'Pct Tot WY'\n",
      "2002, 'ASHO3', 'ASHLAND', '0.86', '0.49', '2.12', '3.42', '1.38', '1.00', '0.36', '2.30', '1.54', '0.00', '0.00', '0.16', '13.63', '68', '68'\n",
      "2002, 'CVJO3', 'CAVE JUNCTION', 'M', 'M', 'M', 'M', 'M', 'M', 'M', 'M', 'M', 'M', 'M', 'M', 'M'\n",
      "2002, 'GOLO3', 'GOLD BEACH', 'M', 'M', 'M', 'M', 'M', 'M', 'M', 'M', 'M', 'M', 'M', 'M', 'M'\n",
      "2002, 'GPSO3', 'GRANTS PASS KAJO', '0.61', '1.21', '4.19', '6.31', '0.24', '0.77', '0.58', '2.02', '0.87', '0.00', '0.00', '0.20', '17.00', '55', '55'\n",
      "2002, 'GSPO3', 'GREEN SPRINGS PP', '0.35', '0.75', '2.44', '4.14', '0.66', 'M', '0.26', '2.59', 'M', 'M', '0.00', '0.20', 'M'\n",
      "2002, 'LEMO3', 'LEMOLO LAKE', '3.68', '1.81', '5.59', '18.19', '4.34', '4.32', '3.37', '4.05', '2.52', '0.00', '0.02', '2.33', '50.22', '76', '76'\n",
      "2002, 'MFR', 'MEDFORD', '0.65', '0.24', '2.86', '3.43', '0.51', '0.74', '0.46', '2.50', '1.20', '0.00', '0.00', '0.05', '12.64', '69', '69'\n",
      "2002, 'OTH', 'NORTH BEND', '2.43', '2.10', '9.16', '7.73', '2.85', '3.71', '2.71', '4.66', '2.00', '0.04', '0.07', '1.37', '38.83', '60', '60'\n",
      "2002, 'PRSO3', 'PROSPECT 2SW', '2.22', '1.95', '4.12', '9.19', '2.08', '3.27', '1.43', '4.06', '1.80', '0.00', '0.00', '0.77', '30.89', '74', '74'\n",
      "2002, 'RIDO3', 'RIDDLE', '0.88', '1.73', '4.20', '7.34', '1.35', '1.74', '1.34', '2.16', '0.81', '0.00', '0.00', '0.72', '22.27', '71', '71'\n",
      "2002, 'ROGO3', 'ROSEBURG', 'M', 'M', 'M', 'M', 'M', 'M', 'M', 'M', 'M', 'M', 'M', 'M', 'M'\n",
      "2002, 'SXT', 'SEXTON SUMMIT', 'M', '0.42', '5.34', '7.06', '0.73', '2.15', '0.78', '4.16', '0.92', '0.00', '0.05', '0.80', 'M'\n",
      "2002, 'TKFO3', 'TOKETEE FALLS', '2.70', '1.54', '3.55', '10.37', '3.16', '4.31', '2.39', '4.26', '2.41', '0.00', '0.01', '1.54', '36.24', '75', '75'\n",
      "2002, 'WINO3', 'WINCHESTER DAM', '1.28', '1.77', '4.14', '8.24', '1.60', '2.63', '1.69', '2.75', '1.33', '0.00', '0.00', '1.10', '26.53', '73', '73'\n",
      "2002, 'WLMO3', 'WILLIAMS', '0.65', '0.85', '4.52', '7.00', '0.27', '1.40', '0.31', '2.70', '0.79', '0.00', '0.01', '0.08', '18.58', '57', '57'\n",
      "2002, 'OREGON CLOSED BASINS'\n",
      "2002, 'ID', 'Location', 'OCT', 'NOV', 'DEC', 'JAN', 'FEB', 'MAR', 'APR', 'MAY', 'JUN', 'JUL', 'AUG', 'SEP', 'WY to Date', 'Pct Avg to Date', 'Pct Tot WY'\n",
      "2002, 'HMRO3', 'HART MOUNTAIN REF', '0.00', '0.00', 'M', '2.60', '0.08', '1.63', '0.69', '0.97', '2.59', '0.03', '0.02', '0.00', 'M'\n"
     ]
    }
   ],
   "source": [
    "!head -n 20 data/mpf.txt"
   ]
  },
  {
   "cell_type": "markdown",
   "id": "9f2bc202-6827-4490-b46a-ae79d336d24b",
   "metadata": {},
   "source": [
    "## Fulfilling Structural Transformation Requests"
   ]
  },
  {
   "cell_type": "markdown",
   "id": "525d64e0-2ae3-4302-a606-92251e5f0c1b",
   "metadata": {},
   "source": [
    "Let's start from the long (tidy, relational) file:"
   ]
  },
  {
   "cell_type": "code",
   "execution_count": 25,
   "id": "e17b156a-5289-46de-b0fd-a61d5cce8260",
   "metadata": {},
   "outputs": [],
   "source": [
    "pd.set_option('display.min_rows', 15) # changes truncated view in pandas"
   ]
  },
  {
   "cell_type": "code",
   "execution_count": 7,
   "id": "e5b0cbe9-05c0-4f25-8311-2c02c3dc1edb",
   "metadata": {},
   "outputs": [
    {
     "data": {
      "text/html": [
       "<div>\n",
       "<style scoped>\n",
       "    .dataframe tbody tr th:only-of-type {\n",
       "        vertical-align: middle;\n",
       "    }\n",
       "\n",
       "    .dataframe tbody tr th {\n",
       "        vertical-align: top;\n",
       "    }\n",
       "\n",
       "    .dataframe thead th {\n",
       "        text-align: right;\n",
       "    }\n",
       "</style>\n",
       "<table border=\"1\" class=\"dataframe\">\n",
       "  <thead>\n",
       "    <tr style=\"text-align: right;\">\n",
       "      <th></th>\n",
       "      <th>Year</th>\n",
       "      <th>ID</th>\n",
       "      <th>Location</th>\n",
       "      <th>Station</th>\n",
       "      <th>Month</th>\n",
       "      <th>Inches of Precipitation</th>\n",
       "    </tr>\n",
       "  </thead>\n",
       "  <tbody>\n",
       "    <tr>\n",
       "      <th>0</th>\n",
       "      <td>2002</td>\n",
       "      <td>4BK</td>\n",
       "      <td>BROOKINGS</td>\n",
       "      <td>SOUTHERN OREGON COASTAL</td>\n",
       "      <td>OCT</td>\n",
       "      <td>6.43</td>\n",
       "    </tr>\n",
       "    <tr>\n",
       "      <th>1</th>\n",
       "      <td>2002</td>\n",
       "      <td>4BK</td>\n",
       "      <td>BROOKINGS</td>\n",
       "      <td>SOUTHERN OREGON COASTAL</td>\n",
       "      <td>NOV</td>\n",
       "      <td>14.53</td>\n",
       "    </tr>\n",
       "    <tr>\n",
       "      <th>2</th>\n",
       "      <td>2002</td>\n",
       "      <td>4BK</td>\n",
       "      <td>BROOKINGS</td>\n",
       "      <td>SOUTHERN OREGON COASTAL</td>\n",
       "      <td>DEC</td>\n",
       "      <td>17.32</td>\n",
       "    </tr>\n",
       "    <tr>\n",
       "      <th>3</th>\n",
       "      <td>2002</td>\n",
       "      <td>4BK</td>\n",
       "      <td>BROOKINGS</td>\n",
       "      <td>SOUTHERN OREGON COASTAL</td>\n",
       "      <td>JAN</td>\n",
       "      <td>17.32</td>\n",
       "    </tr>\n",
       "    <tr>\n",
       "      <th>4</th>\n",
       "      <td>2002</td>\n",
       "      <td>4BK</td>\n",
       "      <td>BROOKINGS</td>\n",
       "      <td>SOUTHERN OREGON COASTAL</td>\n",
       "      <td>FEB</td>\n",
       "      <td>9.10</td>\n",
       "    </tr>\n",
       "    <tr>\n",
       "      <th>...</th>\n",
       "      <td>...</td>\n",
       "      <td>...</td>\n",
       "      <td>...</td>\n",
       "      <td>...</td>\n",
       "      <td>...</td>\n",
       "      <td>...</td>\n",
       "    </tr>\n",
       "    <tr>\n",
       "      <th>78751</th>\n",
       "      <td>2020</td>\n",
       "      <td>EMRU1</td>\n",
       "      <td>ENTERPRISE</td>\n",
       "      <td>ESCALANTE DESERT</td>\n",
       "      <td>MAY</td>\n",
       "      <td>0.07</td>\n",
       "    </tr>\n",
       "    <tr>\n",
       "      <th>78752</th>\n",
       "      <td>2020</td>\n",
       "      <td>EMRU1</td>\n",
       "      <td>ENTERPRISE</td>\n",
       "      <td>ESCALANTE DESERT</td>\n",
       "      <td>JUN</td>\n",
       "      <td>0.00</td>\n",
       "    </tr>\n",
       "    <tr>\n",
       "      <th>78753</th>\n",
       "      <td>2020</td>\n",
       "      <td>EMRU1</td>\n",
       "      <td>ENTERPRISE</td>\n",
       "      <td>ESCALANTE DESERT</td>\n",
       "      <td>JUL</td>\n",
       "      <td>0.00</td>\n",
       "    </tr>\n",
       "    <tr>\n",
       "      <th>78754</th>\n",
       "      <td>2020</td>\n",
       "      <td>EMRU1</td>\n",
       "      <td>ENTERPRISE</td>\n",
       "      <td>ESCALANTE DESERT</td>\n",
       "      <td>AUG</td>\n",
       "      <td>0.11</td>\n",
       "    </tr>\n",
       "    <tr>\n",
       "      <th>78755</th>\n",
       "      <td>2020</td>\n",
       "      <td>EMRU1</td>\n",
       "      <td>ENTERPRISE</td>\n",
       "      <td>ESCALANTE DESERT</td>\n",
       "      <td>SEP</td>\n",
       "      <td>0.00</td>\n",
       "    </tr>\n",
       "  </tbody>\n",
       "</table>\n",
       "<p>78756 rows × 6 columns</p>\n",
       "</div>"
      ],
      "text/plain": [
       "       Year     ID    Location                  Station Month  \\\n",
       "0      2002    4BK   BROOKINGS  SOUTHERN OREGON COASTAL   OCT   \n",
       "1      2002    4BK   BROOKINGS  SOUTHERN OREGON COASTAL   NOV   \n",
       "2      2002    4BK   BROOKINGS  SOUTHERN OREGON COASTAL   DEC   \n",
       "3      2002    4BK   BROOKINGS  SOUTHERN OREGON COASTAL   JAN   \n",
       "4      2002    4BK   BROOKINGS  SOUTHERN OREGON COASTAL   FEB   \n",
       "...     ...    ...         ...                      ...   ...   \n",
       "78751  2020  EMRU1  ENTERPRISE         ESCALANTE DESERT   MAY   \n",
       "78752  2020  EMRU1  ENTERPRISE         ESCALANTE DESERT   JUN   \n",
       "78753  2020  EMRU1  ENTERPRISE         ESCALANTE DESERT   JUL   \n",
       "78754  2020  EMRU1  ENTERPRISE         ESCALANTE DESERT   AUG   \n",
       "78755  2020  EMRU1  ENTERPRISE         ESCALANTE DESERT   SEP   \n",
       "\n",
       "       Inches of Precipitation  \n",
       "0                         6.43  \n",
       "1                        14.53  \n",
       "2                        17.32  \n",
       "3                        17.32  \n",
       "4                         9.10  \n",
       "...                        ...  \n",
       "78751                     0.07  \n",
       "78752                     0.00  \n",
       "78753                     0.00  \n",
       "78754                     0.11  \n",
       "78755                     0.00  \n",
       "\n",
       "[78756 rows x 6 columns]"
      ]
     },
     "execution_count": 7,
     "metadata": {},
     "output_type": "execute_result"
    }
   ],
   "source": [
    "mmr = pd.read_csv('data/mmr.txt')\n",
    "mmr"
   ]
  },
  {
   "cell_type": "markdown",
   "id": "2c54043a-cb58-4159-8f83-bcdb30bbd6e6",
   "metadata": {
    "slideshow": {
     "slide_type": "slide"
    }
   },
   "source": [
    "A data analyst asks for just the precipitation grouped by year and month, with no location data. **How do we do this?**\n",
    "* What are they asking for? This isn't intuitive, because we have location data as well. What do we do?\n",
    "* How do we pivot the data into year x month form?"
   ]
  },
  {
   "cell_type": "code",
   "execution_count": 10,
   "id": "86f4368e-fc96-411b-bb6b-8bada6e0f534",
   "metadata": {
    "slideshow": {
     "slide_type": "fragment"
    }
   },
   "outputs": [
    {
     "data": {
      "text/html": [
       "<div>\n",
       "<style scoped>\n",
       "    .dataframe tbody tr th:only-of-type {\n",
       "        vertical-align: middle;\n",
       "    }\n",
       "\n",
       "    .dataframe tbody tr th {\n",
       "        vertical-align: top;\n",
       "    }\n",
       "\n",
       "    .dataframe thead tr th {\n",
       "        text-align: left;\n",
       "    }\n",
       "\n",
       "    .dataframe thead tr:last-of-type th {\n",
       "        text-align: right;\n",
       "    }\n",
       "</style>\n",
       "<table border=\"1\" class=\"dataframe\">\n",
       "  <thead>\n",
       "    <tr>\n",
       "      <th></th>\n",
       "      <th colspan=\"12\" halign=\"left\">Inches of Precipitation</th>\n",
       "    </tr>\n",
       "    <tr>\n",
       "      <th>Month</th>\n",
       "      <th>APR</th>\n",
       "      <th>AUG</th>\n",
       "      <th>DEC</th>\n",
       "      <th>FEB</th>\n",
       "      <th>JAN</th>\n",
       "      <th>JUL</th>\n",
       "      <th>JUN</th>\n",
       "      <th>MAR</th>\n",
       "      <th>MAY</th>\n",
       "      <th>NOV</th>\n",
       "      <th>OCT</th>\n",
       "      <th>SEP</th>\n",
       "    </tr>\n",
       "    <tr>\n",
       "      <th>Year</th>\n",
       "      <th></th>\n",
       "      <th></th>\n",
       "      <th></th>\n",
       "      <th></th>\n",
       "      <th></th>\n",
       "      <th></th>\n",
       "      <th></th>\n",
       "      <th></th>\n",
       "      <th></th>\n",
       "      <th></th>\n",
       "      <th></th>\n",
       "      <th></th>\n",
       "    </tr>\n",
       "  </thead>\n",
       "  <tbody>\n",
       "    <tr>\n",
       "      <th>2002</th>\n",
       "      <td>1.137029</td>\n",
       "      <td>0.031988</td>\n",
       "      <td>5.759020</td>\n",
       "      <td>1.715299</td>\n",
       "      <td>2.593914</td>\n",
       "      <td>0.113276</td>\n",
       "      <td>0.164169</td>\n",
       "      <td>2.341909</td>\n",
       "      <td>0.778444</td>\n",
       "      <td>4.450114</td>\n",
       "      <td>0.779886</td>\n",
       "      <td>0.245989</td>\n",
       "    </tr>\n",
       "    <tr>\n",
       "      <th>2003</th>\n",
       "      <td>4.328567</td>\n",
       "      <td>0.749020</td>\n",
       "      <td>8.223591</td>\n",
       "      <td>2.309420</td>\n",
       "      <td>2.203646</td>\n",
       "      <td>0.273139</td>\n",
       "      <td>0.069637</td>\n",
       "      <td>2.834558</td>\n",
       "      <td>1.287335</td>\n",
       "      <td>3.441080</td>\n",
       "      <td>0.152645</td>\n",
       "      <td>0.274792</td>\n",
       "    </tr>\n",
       "    <tr>\n",
       "      <th>2004</th>\n",
       "      <td>0.952753</td>\n",
       "      <td>0.348478</td>\n",
       "      <td>6.403657</td>\n",
       "      <td>5.577956</td>\n",
       "      <td>2.604282</td>\n",
       "      <td>0.167885</td>\n",
       "      <td>0.209191</td>\n",
       "      <td>1.106704</td>\n",
       "      <td>0.710847</td>\n",
       "      <td>2.330726</td>\n",
       "      <td>0.153994</td>\n",
       "      <td>0.303676</td>\n",
       "    </tr>\n",
       "    <tr>\n",
       "      <th>2005</th>\n",
       "      <td>2.147717</td>\n",
       "      <td>0.269502</td>\n",
       "      <td>5.158300</td>\n",
       "      <td>3.068052</td>\n",
       "      <td>5.242566</td>\n",
       "      <td>0.147035</td>\n",
       "      <td>0.954290</td>\n",
       "      <td>4.220372</td>\n",
       "      <td>3.293669</td>\n",
       "      <td>1.786081</td>\n",
       "      <td>4.117131</td>\n",
       "      <td>0.339278</td>\n",
       "    </tr>\n",
       "    <tr>\n",
       "      <th>2006</th>\n",
       "      <td>4.769494</td>\n",
       "      <td>0.063776</td>\n",
       "      <td>8.898985</td>\n",
       "      <td>2.988799</td>\n",
       "      <td>5.387297</td>\n",
       "      <td>0.286698</td>\n",
       "      <td>0.317152</td>\n",
       "      <td>6.027270</td>\n",
       "      <td>0.891957</td>\n",
       "      <td>2.744532</td>\n",
       "      <td>1.036478</td>\n",
       "      <td>0.108553</td>\n",
       "    </tr>\n",
       "    <tr>\n",
       "      <th>2007</th>\n",
       "      <td>1.589755</td>\n",
       "      <td>0.220915</td>\n",
       "      <td>3.888541</td>\n",
       "      <td>4.986019</td>\n",
       "      <td>0.974650</td>\n",
       "      <td>0.337500</td>\n",
       "      <td>0.272588</td>\n",
       "      <td>0.989938</td>\n",
       "      <td>0.464861</td>\n",
       "      <td>2.874665</td>\n",
       "      <td>0.546820</td>\n",
       "      <td>0.598613</td>\n",
       "    </tr>\n",
       "    <tr>\n",
       "      <th>2008</th>\n",
       "      <td>0.498474</td>\n",
       "      <td>0.128776</td>\n",
       "      <td>3.812276</td>\n",
       "      <td>3.281987</td>\n",
       "      <td>6.945710</td>\n",
       "      <td>0.144394</td>\n",
       "      <td>0.147396</td>\n",
       "      <td>1.021129</td>\n",
       "      <td>0.825161</td>\n",
       "      <td>1.039874</td>\n",
       "      <td>1.939620</td>\n",
       "      <td>0.048238</td>\n",
       "    </tr>\n",
       "    <tr>\n",
       "      <th>2009</th>\n",
       "      <td>0.954487</td>\n",
       "      <td>0.192935</td>\n",
       "      <td>3.569159</td>\n",
       "      <td>4.758199</td>\n",
       "      <td>1.710385</td>\n",
       "      <td>0.125699</td>\n",
       "      <td>1.091293</td>\n",
       "      <td>2.833762</td>\n",
       "      <td>1.842159</td>\n",
       "      <td>2.618889</td>\n",
       "      <td>0.895625</td>\n",
       "      <td>0.155199</td>\n",
       "    </tr>\n",
       "    <tr>\n",
       "      <th>2010</th>\n",
       "      <td>3.991922</td>\n",
       "      <td>0.175827</td>\n",
       "      <td>3.418704</td>\n",
       "      <td>3.679385</td>\n",
       "      <td>5.818758</td>\n",
       "      <td>0.137862</td>\n",
       "      <td>0.488040</td>\n",
       "      <td>2.636990</td>\n",
       "      <td>1.583604</td>\n",
       "      <td>1.223742</td>\n",
       "      <td>2.369213</td>\n",
       "      <td>0.342548</td>\n",
       "    </tr>\n",
       "    <tr>\n",
       "      <th>2011</th>\n",
       "      <td>1.589761</td>\n",
       "      <td>0.078509</td>\n",
       "      <td>8.518367</td>\n",
       "      <td>3.521395</td>\n",
       "      <td>1.544233</td>\n",
       "      <td>0.320114</td>\n",
       "      <td>1.291661</td>\n",
       "      <td>7.198146</td>\n",
       "      <td>2.008582</td>\n",
       "      <td>3.378106</td>\n",
       "      <td>3.544080</td>\n",
       "      <td>0.290795</td>\n",
       "    </tr>\n",
       "    <tr>\n",
       "      <th>2012</th>\n",
       "      <td>2.770936</td>\n",
       "      <td>0.337091</td>\n",
       "      <td>0.534778</td>\n",
       "      <td>1.429661</td>\n",
       "      <td>3.638942</td>\n",
       "      <td>0.350532</td>\n",
       "      <td>0.571979</td>\n",
       "      <td>5.496522</td>\n",
       "      <td>0.389155</td>\n",
       "      <td>1.792911</td>\n",
       "      <td>1.813299</td>\n",
       "      <td>0.172264</td>\n",
       "    </tr>\n",
       "    <tr>\n",
       "      <th>2013</th>\n",
       "      <td>0.936354</td>\n",
       "      <td>0.372731</td>\n",
       "      <td>6.666061</td>\n",
       "      <td>0.675429</td>\n",
       "      <td>1.230545</td>\n",
       "      <td>0.269000</td>\n",
       "      <td>0.509749</td>\n",
       "      <td>1.403262</td>\n",
       "      <td>0.922319</td>\n",
       "      <td>4.098370</td>\n",
       "      <td>1.359747</td>\n",
       "      <td>1.249782</td>\n",
       "    </tr>\n",
       "    <tr>\n",
       "      <th>2014</th>\n",
       "      <td>1.400409</td>\n",
       "      <td>0.608843</td>\n",
       "      <td>0.637643</td>\n",
       "      <td>4.676441</td>\n",
       "      <td>0.838561</td>\n",
       "      <td>0.365509</td>\n",
       "      <td>0.157500</td>\n",
       "      <td>3.519856</td>\n",
       "      <td>0.653055</td>\n",
       "      <td>1.026496</td>\n",
       "      <td>0.419648</td>\n",
       "      <td>0.924432</td>\n",
       "    </tr>\n",
       "    <tr>\n",
       "      <th>2015</th>\n",
       "      <td>1.281828</td>\n",
       "      <td>0.194196</td>\n",
       "      <td>6.060000</td>\n",
       "      <td>3.118551</td>\n",
       "      <td>0.546971</td>\n",
       "      <td>0.828107</td>\n",
       "      <td>0.432817</td>\n",
       "      <td>0.875036</td>\n",
       "      <td>1.398760</td>\n",
       "      <td>2.105344</td>\n",
       "      <td>1.251131</td>\n",
       "      <td>0.359915</td>\n",
       "    </tr>\n",
       "    <tr>\n",
       "      <th>2016</th>\n",
       "      <td>1.696984</td>\n",
       "      <td>0.120987</td>\n",
       "      <td>5.709291</td>\n",
       "      <td>1.450909</td>\n",
       "      <td>6.572060</td>\n",
       "      <td>0.155851</td>\n",
       "      <td>0.460711</td>\n",
       "      <td>5.603896</td>\n",
       "      <td>1.054807</td>\n",
       "      <td>2.399208</td>\n",
       "      <td>1.191836</td>\n",
       "      <td>0.216721</td>\n",
       "    </tr>\n",
       "    <tr>\n",
       "      <th>2017</th>\n",
       "      <td>3.496059</td>\n",
       "      <td>0.290359</td>\n",
       "      <td>4.936709</td>\n",
       "      <td>8.755809</td>\n",
       "      <td>10.512680</td>\n",
       "      <td>0.206615</td>\n",
       "      <td>0.475181</td>\n",
       "      <td>3.186017</td>\n",
       "      <td>0.595875</td>\n",
       "      <td>2.540044</td>\n",
       "      <td>4.917741</td>\n",
       "      <td>0.611836</td>\n",
       "    </tr>\n",
       "    <tr>\n",
       "      <th>2018</th>\n",
       "      <td>2.370574</td>\n",
       "      <td>0.098026</td>\n",
       "      <td>0.474760</td>\n",
       "      <td>0.790353</td>\n",
       "      <td>3.361944</td>\n",
       "      <td>0.276545</td>\n",
       "      <td>0.173400</td>\n",
       "      <td>6.066850</td>\n",
       "      <td>0.821755</td>\n",
       "      <td>3.838214</td>\n",
       "      <td>0.518413</td>\n",
       "      <td>0.056466</td>\n",
       "    </tr>\n",
       "    <tr>\n",
       "      <th>2019</th>\n",
       "      <td>1.762869</td>\n",
       "      <td>0.198930</td>\n",
       "      <td>2.589115</td>\n",
       "      <td>9.120726</td>\n",
       "      <td>5.341917</td>\n",
       "      <td>0.103884</td>\n",
       "      <td>0.191608</td>\n",
       "      <td>4.260430</td>\n",
       "      <td>3.057654</td>\n",
       "      <td>3.168361</td>\n",
       "      <td>0.830792</td>\n",
       "      <td>0.949773</td>\n",
       "    </tr>\n",
       "    <tr>\n",
       "      <th>2020</th>\n",
       "      <td>2.079592</td>\n",
       "      <td>0.103135</td>\n",
       "      <td>4.790359</td>\n",
       "      <td>0.278024</td>\n",
       "      <td>2.332782</td>\n",
       "      <td>0.071124</td>\n",
       "      <td>0.291605</td>\n",
       "      <td>3.194899</td>\n",
       "      <td>1.521296</td>\n",
       "      <td>1.383289</td>\n",
       "      <td>0.233237</td>\n",
       "      <td>0.087298</td>\n",
       "    </tr>\n",
       "  </tbody>\n",
       "</table>\n",
       "</div>"
      ],
      "text/plain": [
       "      Inches of Precipitation                                           \\\n",
       "Month                     APR       AUG       DEC       FEB        JAN   \n",
       "Year                                                                     \n",
       "2002                 1.137029  0.031988  5.759020  1.715299   2.593914   \n",
       "2003                 4.328567  0.749020  8.223591  2.309420   2.203646   \n",
       "2004                 0.952753  0.348478  6.403657  5.577956   2.604282   \n",
       "2005                 2.147717  0.269502  5.158300  3.068052   5.242566   \n",
       "2006                 4.769494  0.063776  8.898985  2.988799   5.387297   \n",
       "2007                 1.589755  0.220915  3.888541  4.986019   0.974650   \n",
       "2008                 0.498474  0.128776  3.812276  3.281987   6.945710   \n",
       "2009                 0.954487  0.192935  3.569159  4.758199   1.710385   \n",
       "2010                 3.991922  0.175827  3.418704  3.679385   5.818758   \n",
       "2011                 1.589761  0.078509  8.518367  3.521395   1.544233   \n",
       "2012                 2.770936  0.337091  0.534778  1.429661   3.638942   \n",
       "2013                 0.936354  0.372731  6.666061  0.675429   1.230545   \n",
       "2014                 1.400409  0.608843  0.637643  4.676441   0.838561   \n",
       "2015                 1.281828  0.194196  6.060000  3.118551   0.546971   \n",
       "2016                 1.696984  0.120987  5.709291  1.450909   6.572060   \n",
       "2017                 3.496059  0.290359  4.936709  8.755809  10.512680   \n",
       "2018                 2.370574  0.098026  0.474760  0.790353   3.361944   \n",
       "2019                 1.762869  0.198930  2.589115  9.120726   5.341917   \n",
       "2020                 2.079592  0.103135  4.790359  0.278024   2.332782   \n",
       "\n",
       "                                                                             \n",
       "Month       JUL       JUN       MAR       MAY       NOV       OCT       SEP  \n",
       "Year                                                                         \n",
       "2002   0.113276  0.164169  2.341909  0.778444  4.450114  0.779886  0.245989  \n",
       "2003   0.273139  0.069637  2.834558  1.287335  3.441080  0.152645  0.274792  \n",
       "2004   0.167885  0.209191  1.106704  0.710847  2.330726  0.153994  0.303676  \n",
       "2005   0.147035  0.954290  4.220372  3.293669  1.786081  4.117131  0.339278  \n",
       "2006   0.286698  0.317152  6.027270  0.891957  2.744532  1.036478  0.108553  \n",
       "2007   0.337500  0.272588  0.989938  0.464861  2.874665  0.546820  0.598613  \n",
       "2008   0.144394  0.147396  1.021129  0.825161  1.039874  1.939620  0.048238  \n",
       "2009   0.125699  1.091293  2.833762  1.842159  2.618889  0.895625  0.155199  \n",
       "2010   0.137862  0.488040  2.636990  1.583604  1.223742  2.369213  0.342548  \n",
       "2011   0.320114  1.291661  7.198146  2.008582  3.378106  3.544080  0.290795  \n",
       "2012   0.350532  0.571979  5.496522  0.389155  1.792911  1.813299  0.172264  \n",
       "2013   0.269000  0.509749  1.403262  0.922319  4.098370  1.359747  1.249782  \n",
       "2014   0.365509  0.157500  3.519856  0.653055  1.026496  0.419648  0.924432  \n",
       "2015   0.828107  0.432817  0.875036  1.398760  2.105344  1.251131  0.359915  \n",
       "2016   0.155851  0.460711  5.603896  1.054807  2.399208  1.191836  0.216721  \n",
       "2017   0.206615  0.475181  3.186017  0.595875  2.540044  4.917741  0.611836  \n",
       "2018   0.276545  0.173400  6.066850  0.821755  3.838214  0.518413  0.056466  \n",
       "2019   0.103884  0.191608  4.260430  3.057654  3.168361  0.830792  0.949773  \n",
       "2020   0.071124  0.291605  3.194899  1.521296  1.383289  0.233237  0.087298  "
      ]
     },
     "execution_count": 10,
     "metadata": {},
     "output_type": "execute_result"
    }
   ],
   "source": [
    "(mmr\n",
    " .groupby(['Year', 'Month'])\n",
    " .mean('Inches of Precipitation')\n",
    " .reset_index()\n",
    " .pivot(index='Year', columns='Month')\n",
    ")"
   ]
  },
  {
   "cell_type": "markdown",
   "id": "c31164e8-bd2c-4fed-a7ef-bafed4718f13",
   "metadata": {},
   "source": [
    "---\n",
    "\n",
    "# Scalar Functions and Query Plans"
   ]
  },
  {
   "cell_type": "code",
   "execution_count": 11,
   "id": "50555b0a-b8f6-4210-88d7-d23b9a156f4a",
   "metadata": {},
   "outputs": [],
   "source": [
    "## we'll use the Lahman baseball database in our examples today.\n",
    "## replace the database connection with a database of your own!\n",
    "%reload_ext sql\n",
    "%sql postgresql://localhost:5432/baseball\n",
    "%config SqlMagic.displaylimit = 30"
   ]
  },
  {
   "cell_type": "code",
   "execution_count": 12,
   "id": "f50f4a8f-ee66-4c31-bf14-73cc686aaacf",
   "metadata": {},
   "outputs": [
    {
     "data": {
      "text/html": [
       "<span style=\"None\">Running query in &#x27;postgresql://localhost:5432/baseball&#x27;</span>"
      ],
      "text/plain": [
       "Running query in 'postgresql://localhost:5432/baseball'"
      ]
     },
     "metadata": {},
     "output_type": "display_data"
    },
    {
     "data": {
      "text/html": [
       "<span style=\"color: green\">5 rows affected.</span>"
      ],
      "text/plain": [
       "5 rows affected."
      ]
     },
     "metadata": {},
     "output_type": "display_data"
    },
    {
     "data": {
      "text/html": [
       "<table>\n",
       "    <thead>\n",
       "        <tr>\n",
       "            <th>yearid</th>\n",
       "            <th>year</th>\n",
       "        </tr>\n",
       "    </thead>\n",
       "    <tbody>\n",
       "        <tr>\n",
       "            <td>2004</td>\n",
       "            <td>'04</td>\n",
       "        </tr>\n",
       "        <tr>\n",
       "            <td>2007</td>\n",
       "            <td>'07</td>\n",
       "        </tr>\n",
       "        <tr>\n",
       "            <td>2009</td>\n",
       "            <td>'09</td>\n",
       "        </tr>\n",
       "        <tr>\n",
       "            <td>2010</td>\n",
       "            <td>'10</td>\n",
       "        </tr>\n",
       "        <tr>\n",
       "            <td>2012</td>\n",
       "            <td>'12</td>\n",
       "        </tr>\n",
       "    </tbody>\n",
       "</table>"
      ],
      "text/plain": [
       "+--------+------+\n",
       "| yearid | year |\n",
       "+--------+------+\n",
       "|  2004  | '04  |\n",
       "|  2007  | '07  |\n",
       "|  2009  | '09  |\n",
       "|  2010  | '10  |\n",
       "|  2012  | '12  |\n",
       "+--------+------+"
      ]
     },
     "execution_count": 12,
     "metadata": {},
     "output_type": "execute_result"
    }
   ],
   "source": [
    "%%sql\n",
    "WITH yearnum AS\n",
    "  (SELECT yearid, (yearid % 100) as year\n",
    "     FROM batting\n",
    "  )\n",
    "SELECT yearid, CONCAT('''', LPAD(year::text, 2, '0')) as year\n",
    "  FROM yearnum\n",
    " LIMIT 5;"
   ]
  },
  {
   "cell_type": "markdown",
   "id": "2333a67a-d66f-4cb6-a61d-03e0a73b53b3",
   "metadata": {},
   "source": [
    "Let's analyze the below query (we've flattened it for convenience):"
   ]
  },
  {
   "cell_type": "code",
   "execution_count": 13,
   "id": "fb17df72-4ed0-4ca4-8317-f27bf8d4efaf",
   "metadata": {},
   "outputs": [
    {
     "data": {
      "text/html": [
       "<span style=\"None\">Running query in &#x27;postgresql://localhost:5432/baseball&#x27;</span>"
      ],
      "text/plain": [
       "Running query in 'postgresql://localhost:5432/baseball'"
      ]
     },
     "metadata": {},
     "output_type": "display_data"
    },
    {
     "data": {
      "text/html": [
       "<span style=\"color: green\">2 rows affected.</span>"
      ],
      "text/plain": [
       "2 rows affected."
      ]
     },
     "metadata": {},
     "output_type": "display_data"
    },
    {
     "data": {
      "text/html": [
       "<table>\n",
       "    <thead>\n",
       "        <tr>\n",
       "            <th>QUERY PLAN</th>\n",
       "        </tr>\n",
       "    </thead>\n",
       "    <tbody>\n",
       "        <tr>\n",
       "            <td>Seq Scan on public.batting  (cost=0.00..3922.29 rows=104324 width=36)</td>\n",
       "        </tr>\n",
       "        <tr>\n",
       "            <td>&nbsp;&nbsp;Output: yearid, concat('''', lpad(((yearid % 100))::text, 2, '0'::text))</td>\n",
       "        </tr>\n",
       "    </tbody>\n",
       "</table>"
      ],
      "text/plain": [
       "+----------------------------------------------------------------------------+\n",
       "|                                 QUERY PLAN                                 |\n",
       "+----------------------------------------------------------------------------+\n",
       "|   Seq Scan on public.batting  (cost=0.00..3922.29 rows=104324 width=36)    |\n",
       "|   Output: yearid, concat('''', lpad(((yearid % 100))::text, 2, '0'::text)) |\n",
       "+----------------------------------------------------------------------------+"
      ]
     },
     "execution_count": 13,
     "metadata": {},
     "output_type": "execute_result"
    }
   ],
   "source": [
    "%%sql\n",
    "EXPLAIN (VERBOSE true)\n",
    "SELECT yearid,\n",
    "       CONCAT('''', LPAD((yearid % 100)::text, 2, '0')) AS year\n",
    "FROM batting;\n"
   ]
  },
  {
   "cell_type": "markdown",
   "id": "adecb922-2f1a-417e-a153-5a3a06d15e5d",
   "metadata": {},
   "source": [
    "What if scalar functions mention multiple tables?\n",
    "\n",
    "The below query computes an arbitrary statistic for pitchers:\n",
    "* 1 point for every strikeout they throw as pitcher\n",
    "* –1 for every point they themselves struck out as batter\n",
    "\n",
    "If the notebook-like output is hard to read, try out the query in `psql`. Note that notebooks don't preserve whitespace when displaying dataframes."
   ]
  },
  {
   "cell_type": "code",
   "execution_count": 14,
   "id": "b22b2d8e-baf2-4c96-afbe-d82c492a77e0",
   "metadata": {},
   "outputs": [
    {
     "data": {
      "text/html": [
       "<span style=\"None\">Running query in &#x27;postgresql://localhost:5432/baseball&#x27;</span>"
      ],
      "text/plain": [
       "Running query in 'postgresql://localhost:5432/baseball'"
      ]
     },
     "metadata": {},
     "output_type": "display_data"
    },
    {
     "data": {
      "text/html": [
       "<span style=\"color: green\">11 rows affected.</span>"
      ],
      "text/plain": [
       "11 rows affected."
      ]
     },
     "metadata": {},
     "output_type": "display_data"
    },
    {
     "data": {
      "text/html": [
       "<table>\n",
       "    <thead>\n",
       "        <tr>\n",
       "            <th>QUERY PLAN</th>\n",
       "        </tr>\n",
       "    </thead>\n",
       "    <tbody>\n",
       "        <tr>\n",
       "            <td>Nested Loop  (cost=0.43..13004.27 rows=339358 width=13)</td>\n",
       "        </tr>\n",
       "        <tr>\n",
       "            <td>&nbsp;&nbsp;Output: p.playerid, (p.so - b.so)</td>\n",
       "        </tr>\n",
       "        <tr>\n",
       "            <td>&nbsp;&nbsp;->  Seq Scan on public.pitching p  (cost=0.00..1374.06 rows=45806 width=13)</td>\n",
       "        </tr>\n",
       "        <tr>\n",
       "            <td>&nbsp;&nbsp;&nbsp;&nbsp;&nbsp;&nbsp;&nbsp;&nbsp;Output: p.playerid, p.yearid, p.stint, p.teamid, p.lgid, p.w, p.l, p.g, p.gs, p.cg, p.sho, p.sv, p.ipouts, p.h, p.er, p.hr, p.bb, p.so, p.baopp, p.era, p.ibb, p.wp, p.hbp, p.bk, p.bfp, p.gf, p.r, p.sh, p.sf, p.gidp</td>\n",
       "        </tr>\n",
       "        <tr>\n",
       "            <td>&nbsp;&nbsp;->  Memoize  (cost=0.43..0.73 rows=7 width=13)</td>\n",
       "        </tr>\n",
       "        <tr>\n",
       "            <td>&nbsp;&nbsp;&nbsp;&nbsp;&nbsp;&nbsp;&nbsp;&nbsp;Output: b.so, b.playerid</td>\n",
       "        </tr>\n",
       "        <tr>\n",
       "            <td>&nbsp;&nbsp;&nbsp;&nbsp;&nbsp;&nbsp;&nbsp;&nbsp;Cache Key: p.playerid</td>\n",
       "        </tr>\n",
       "        <tr>\n",
       "            <td>&nbsp;&nbsp;&nbsp;&nbsp;&nbsp;&nbsp;&nbsp;&nbsp;Cache Mode: logical</td>\n",
       "        </tr>\n",
       "        <tr>\n",
       "            <td>&nbsp;&nbsp;&nbsp;&nbsp;&nbsp;&nbsp;&nbsp;&nbsp;->  Index Scan using batting_pkey on public.batting b  (cost=0.42..0.72 rows=7 width=13)</td>\n",
       "        </tr>\n",
       "        <tr>\n",
       "            <td>&nbsp;&nbsp;&nbsp;&nbsp;&nbsp;&nbsp;&nbsp;&nbsp;&nbsp;&nbsp;&nbsp;&nbsp;&nbsp;&nbsp;Output: b.so, b.playerid</td>\n",
       "        </tr>\n",
       "        <tr>\n",
       "            <td>&nbsp;&nbsp;&nbsp;&nbsp;&nbsp;&nbsp;&nbsp;&nbsp;&nbsp;&nbsp;&nbsp;&nbsp;&nbsp;&nbsp;Index Cond: ((b.playerid)::text = (p.playerid)::text)</td>\n",
       "        </tr>\n",
       "    </tbody>\n",
       "</table>"
      ],
      "text/plain": [
       "+--------------------------------------------------------------------------------------------------------------------------------------------------------------------------------------------------------------------------------+\n",
       "|                                                                                                           QUERY PLAN                                                                                                           |\n",
       "+--------------------------------------------------------------------------------------------------------------------------------------------------------------------------------------------------------------------------------+\n",
       "|                                                                                    Nested Loop  (cost=0.43..13004.27 rows=339358 width=13)                                                                                     |\n",
       "|                                                                                                Output: p.playerid, (p.so - b.so)                                                                                               |\n",
       "|                                                                           ->  Seq Scan on public.pitching p  (cost=0.00..1374.06 rows=45806 width=13)                                                                          |\n",
       "|         Output: p.playerid, p.yearid, p.stint, p.teamid, p.lgid, p.w, p.l, p.g, p.gs, p.cg, p.sho, p.sv, p.ipouts, p.h, p.er, p.hr, p.bb, p.so, p.baopp, p.era, p.ibb, p.wp, p.hbp, p.bk, p.bfp, p.gf, p.r, p.sh, p.sf, p.gidp |\n",
       "|                                                                                          ->  Memoize  (cost=0.43..0.73 rows=7 width=13)                                                                                        |\n",
       "|                                                                                                        Output: b.so, b.playerid                                                                                                |\n",
       "|                                                                                                         Cache Key: p.playerid                                                                                                  |\n",
       "|                                                                                                          Cache Mode: logical                                                                                                   |\n",
       "|                                                                        ->  Index Scan using batting_pkey on public.batting b  (cost=0.42..0.72 rows=7 width=13)                                                                |\n",
       "|                                                                                                           Output: b.so, b.playerid                                                                                             |\n",
       "|                                                                                            Index Cond: ((b.playerid)::text = (p.playerid)::text)                                                                               |\n",
       "+--------------------------------------------------------------------------------------------------------------------------------------------------------------------------------------------------------------------------------+"
      ]
     },
     "execution_count": 14,
     "metadata": {},
     "output_type": "execute_result"
    }
   ],
   "source": [
    "%%sql\n",
    "EXPLAIN (VERBOSE true)\n",
    "SELECT p.playerid, p.so - b.so\n",
    "  FROM pitching p\n",
    "  INNER JOIN batting b\n",
    "  ON p.playerid=b.playerid;"
   ]
  },
  {
   "cell_type": "markdown",
   "id": "83dd3bf1-5408-427a-85ea-5e64430dac4e",
   "metadata": {},
   "source": [
    "## [Extra] Recreating the CNRFC-NOAA data"
   ]
  },
  {
   "cell_type": "markdown",
   "id": "3729d242-d265-419e-b8c7-266e5dd8b04e",
   "metadata": {},
   "source": [
    "* There are four data files tied to the scrape of rainfall data from the NOAA (National Oceanic and Atmospheric Administration) [link](https://www.cnrfc.noaa.gov/monthly_precip_2020.php).\n",
    "* This was compiled by visiting each annual website of monthly precipitation by regions in the California Nevada River Forecast Center (CNRFC) area.\n",
    "* For more details on how to make this dataset yourself, check out the `rainfallscrape` folder. You may need to install additional Python packages via `pip -r rainfallscrape/requirements.txt`. We'll assume you've already run `simple_scrape.py`."
   ]
  },
  {
   "cell_type": "code",
   "execution_count": null,
   "id": "19948782-74df-4fab-9cbe-20811973db8f",
   "metadata": {
    "scrolled": true,
    "slideshow": {
     "slide_type": "fragment"
    }
   },
   "outputs": [],
   "source": [
    "!head -c 4096 data/mpf.txt"
   ]
  },
  {
   "cell_type": "markdown",
   "id": "c1efc905-fd55-4881-9112-e901e1794830",
   "metadata": {
    "slideshow": {
     "slide_type": "slide"
    }
   },
   "source": [
    "Messy! You can play in bash or pandas if you like. Let's clean this up a bit. Firstly, we note that the structure of the file is a bit off. It's hard to read multiple dataframes from a single CSV like this...so let's try to write multiple files and concatenate a df.\n",
    "\n",
    "- Going to iterate through the lines in this files...\n",
    "- Identify the files with names of locations\n",
    "- print the filenames transformed to see what it's like."
   ]
  },
  {
   "cell_type": "code",
   "execution_count": null,
   "id": "e51c8cfa-aab9-41b0-95a8-7be7615a5e35",
   "metadata": {
    "scrolled": true
   },
   "outputs": [],
   "source": [
    "curr_file = None\n",
    "with open('data/mpf.txt') as f:\n",
    "    for line in f.readlines():\n",
    "        splits = line.split(', ')\n",
    "        if len(splits) == 2:\n",
    "            print(splits[1])"
   ]
  },
  {
   "cell_type": "markdown",
   "id": "cf56d62b-36f3-4656-8637-8c50b85dc327",
   "metadata": {
    "slideshow": {
     "slide_type": "slide"
    }
   },
   "source": [
    "Okay, first, let's create some files; one for each segment. And let's rename them into something more conventional. \n",
    "\n",
    "- Going to iterate through the lines in this files...\n",
    "- Identify the files with names of locations\n",
    "- print the filenames transformed to see what it's like."
   ]
  },
  {
   "cell_type": "code",
   "execution_count": null,
   "id": "5ddb7072-011c-4107-8616-2fda9749796f",
   "metadata": {
    "scrolled": true,
    "slideshow": {
     "slide_type": "fragment"
    }
   },
   "outputs": [],
   "source": [
    "curr_file = None\n",
    "with open('lec12_data/mpf.txt') as f:\n",
    "    for num, line in enumerate(f.readlines()):\n",
    "        splits = line.split(', ')\n",
    "        if len(splits) == 2:\n",
    "            print(splits[1].strip(\" '\\n \").replace('...', '-').replace(' ', '_'))"
   ]
  },
  {
   "cell_type": "markdown",
   "id": "14f1d86d-9331-46e9-8a66-3a506ec0811e",
   "metadata": {
    "slideshow": {
     "slide_type": "slide"
    }
   },
   "source": [
    "That's probably more of what we want! Now, let's actually write our new files..."
   ]
  },
  {
   "cell_type": "code",
   "execution_count": null,
   "id": "c41498a4-02d0-4c0a-a551-ae9a652d8571",
   "metadata": {
    "slideshow": {
     "slide_type": "fragment"
    }
   },
   "outputs": [],
   "source": [
    "curr_file = None\n",
    "with open('data/mpf.txt') as master_file:\n",
    "    for line in master_file.readlines():\n",
    "        splits = line.split(', ')\n",
    "        if len(splits) == 2:\n",
    "            if curr_file is not None:\n",
    "                curr_file.close()\n",
    "            filename = splits[0] + '_' + splits[1].strip(\" '\\n \")\n",
    "            filename = filename.replace('...', '-')\n",
    "            filename = filename.replace(' ', '_')\n",
    "            curr_file = open('data/subfiles/' + filename + '.txt', 'w')\n",
    "        curr_file.write(line)\n",
    "curr_file.close()"
   ]
  },
  {
   "cell_type": "markdown",
   "id": "6ea06230-c141-4810-897a-3cca1d9ed6ae",
   "metadata": {
    "slideshow": {
     "slide_type": "slide"
    }
   },
   "source": [
    "Now, let's read these files into a dataframe...and we'll need to do a lot of preprocessing!"
   ]
  },
  {
   "cell_type": "code",
   "execution_count": null,
   "id": "8b447eba-23fd-4f0a-86d6-2e296deef85e",
   "metadata": {
    "slideshow": {
     "slide_type": "subslide"
    }
   },
   "outputs": [],
   "source": [
    "import os\n",
    "mpf = pd.DataFrame()\n",
    "parent_dir = os.getcwd() + '/data/subfiles/'\n",
    "for filename in os.listdir(parent_dir):\n",
    "    # read from the first header. not the second!\n",
    "    region_df = pd.read_csv(parent_dir + '/' + filename, header=1)\n",
    "    # BE CAREFUL! Let's rename our schema...because right now, this is problematic.\n",
    "    # The first column is just labeled as the year itself (e.g. 2007). Not 'Year'.\n",
    "    region_df = region_df.rename(columns={filename.split('_')[0]: 'Year'})\n",
    "    mpf = mpf.append(region_df)\n",
    "mpf = mpf.sort_values('Year')\n",
    "mpf"
   ]
  },
  {
   "cell_type": "markdown",
   "id": "a741ac40-9802-46b3-973b-58824423552b",
   "metadata": {
    "slideshow": {
     "slide_type": "slide"
    }
   },
   "source": [
    "Now, let's figure out what our data looks like in Pandas."
   ]
  },
  {
   "cell_type": "code",
   "execution_count": null,
   "id": "66faef70-78cf-4733-a504-25c24461e19b",
   "metadata": {
    "slideshow": {
     "slide_type": "fragment"
    }
   },
   "outputs": [],
   "source": [
    "mpf"
   ]
  },
  {
   "cell_type": "code",
   "execution_count": null,
   "id": "1bc04f2b-dcd4-408f-823a-660f6c4ae0a0",
   "metadata": {
    "slideshow": {
     "slide_type": "fragment"
    }
   },
   "outputs": [],
   "source": [
    "mpf.dtypes"
   ]
  },
  {
   "cell_type": "markdown",
   "id": "fa97d943-ae65-4d8e-8909-a40515f3ef98",
   "metadata": {
    "slideshow": {
     "slide_type": "slide"
    }
   },
   "source": [
    "Let's rename our columns!"
   ]
  },
  {
   "cell_type": "code",
   "execution_count": null,
   "id": "c679b2f3-e149-4d00-9e17-cac5cb801d05",
   "metadata": {
    "slideshow": {
     "slide_type": "fragment"
    }
   },
   "outputs": [],
   "source": [
    "col_set = {}\n",
    "for column in mpf.columns:\n",
    "    if column != 'Year':\n",
    "        col_set.update({column: column.strip(\" '\")})\n",
    "mpf = mpf.rename(columns=col_set)\n",
    "mpf"
   ]
  },
  {
   "cell_type": "code",
   "execution_count": null,
   "id": "8cf10685-9271-4461-8838-414ae2a00e93",
   "metadata": {
    "slideshow": {
     "slide_type": "subslide"
    }
   },
   "outputs": [],
   "source": [
    "# Let's remove the Ms and replace them with NaNs, and strip the quotes\n",
    "import math\n",
    "def _process_data(x):\n",
    "    if type(x) == float:\n",
    "        return x\n",
    "    if type(x) != str and math.isnan(x):\n",
    "        return np.nan\n",
    "    x = x.strip(\"' \")\n",
    "    if x == 'M' or x == 'NA':\n",
    "        return np.nan\n",
    "    else:\n",
    "        return float(x)\n",
    "\n",
    "mpf = mpf[mpf['Year'] == 2002]\n",
    "for col in mpf.columns:\n",
    "    if col in [\"ID\", \"Location\"]:\n",
    "        print(col)\n",
    "        mpf[col] = mpf[col].map(lambda x: str(x).strip(\"'\"))\n",
    "    elif col != 'Year':\n",
    "        mpf[col] = mpf[col].map(lambda x: _process_data(x))\n",
    "mpf"
   ]
  }
 ],
 "metadata": {
  "kernelspec": {
   "display_name": "Python 3 (ipykernel)",
   "language": "python",
   "name": "python3"
  },
  "language_info": {
   "codemirror_mode": {
    "name": "ipython",
    "version": 3
   },
   "file_extension": ".py",
   "mimetype": "text/x-python",
   "name": "python",
   "nbconvert_exporter": "python",
   "pygments_lexer": "ipython3",
   "version": "3.11.0"
  }
 },
 "nbformat": 4,
 "nbformat_minor": 5
}
