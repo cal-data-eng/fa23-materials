{
 "cells": [
  {
   "cell_type": "markdown",
   "id": "e1965f10-45dd-4a3e-9e6a-eed93f77b286",
   "metadata": {},
   "source": [
    "# Lecture 04: Subqueries, Aggregation"
   ]
  },
  {
   "cell_type": "code",
   "execution_count": 1,
   "id": "fdf87ce0-abac-4be1-8cb8-d4116c964696",
   "metadata": {},
   "outputs": [],
   "source": [
    "# Run this cell to set up imports\n",
    "import numpy as np\n",
    "import pandas as pd"
   ]
  },
  {
   "cell_type": "markdown",
   "id": "da449c15-cefd-43e4-a34e-4a0b5f26ac6f",
   "metadata": {},
   "source": [
    "Today's database is a modified version of the Oakland police stops database as made public by the Stanford Open Policing Project: https://openpolicing.stanford.edu/data/ Read more about the database [here](https://openpolicing.stanford.edu/findings/).\n",
    "\n",
    "If you are looking for how we adjusted the data, contact us and we can share our source notebook."
   ]
  },
  {
   "cell_type": "code",
   "execution_count": 2,
   "id": "e3a7d00c-28e5-41a8-a654-c72fb6f54a12",
   "metadata": {},
   "outputs": [
    {
     "name": "stdout",
     "output_type": "stream",
     "text": [
      "DROP DATABASE\n",
      "CREATE DATABASE\n",
      "SET\n",
      "SET\n",
      "SET\n",
      "SET\n",
      "SET\n",
      " set_config \n",
      "------------\n",
      " \n",
      "(1 row)\n",
      "\n",
      "SET\n",
      "SET\n",
      "SET\n",
      "SET\n",
      "SET\n",
      "SET\n",
      "CREATE TABLE\n",
      "ALTER TABLE\n",
      "CREATE TABLE\n",
      "ALTER TABLE\n",
      "COPY 84779\n",
      "COPY 211\n",
      "CREATE INDEX\n",
      "CREATE INDEX\n"
     ]
    }
   ],
   "source": [
    "!psql -h localhost -c 'DROP DATABASE IF EXISTS stops_lecture'\n",
    "!psql -h localhost -c 'CREATE DATABASE stops_lecture' \n",
    "!psql -h localhost -d stops_lecture -f data/stops_lecture.sql"
   ]
  },
  {
   "cell_type": "markdown",
   "id": "8db20304-74e9-4601-ab2c-76493fcddc4f",
   "metadata": {},
   "source": [
    "## `jupysql`"
   ]
  },
  {
   "cell_type": "markdown",
   "id": "62ec59db-3be6-49ce-89e1-6448271aefbd",
   "metadata": {},
   "source": [
    "We are going to be using the `jupysql` library to connect our notebook to a PostgreSQL database server on your jupyterhub account. The next cell should do the trick; you should not see any error messages after it completes."
   ]
  },
  {
   "cell_type": "code",
   "execution_count": 3,
   "id": "051090a0",
   "metadata": {},
   "outputs": [],
   "source": [
    "%load_ext sql"
   ]
  },
  {
   "cell_type": "code",
   "execution_count": 4,
   "id": "9e044d01",
   "metadata": {
    "scrolled": true
   },
   "outputs": [],
   "source": [
    "%sql postgresql://127.0.0.1:5432/stops_lecture"
   ]
  },
  {
   "cell_type": "code",
   "execution_count": 5,
   "id": "00bb587f-9466-4de0-afa7-8fd900a954d9",
   "metadata": {},
   "outputs": [
    {
     "data": {
      "text/html": [
       "<span style=\"None\">Running query in &#x27;postgresql://127.0.0.1:5432/stops_lecture&#x27;</span>"
      ],
      "text/plain": [
       "Running query in 'postgresql://127.0.0.1:5432/stops_lecture'"
      ]
     },
     "metadata": {},
     "output_type": "display_data"
    },
    {
     "data": {
      "text/html": [
       "<span style=\"color: green\">10 rows affected.</span>"
      ],
      "text/plain": [
       "10 rows affected."
      ]
     },
     "metadata": {},
     "output_type": "display_data"
    },
    {
     "data": {
      "text/html": [
       "<table>\n",
       "    <thead>\n",
       "        <tr>\n",
       "            <th>zip_id</th>\n",
       "            <th>location</th>\n",
       "            <th>zipcode</th>\n",
       "        </tr>\n",
       "    </thead>\n",
       "    <tbody>\n",
       "        <tr>\n",
       "            <td>0</td>\n",
       "            <td>None</td>\n",
       "            <td>94546</td>\n",
       "        </tr>\n",
       "        <tr>\n",
       "            <td>1</td>\n",
       "            <td>Chabot Park</td>\n",
       "            <td>94546</td>\n",
       "        </tr>\n",
       "        <tr>\n",
       "            <td>2</td>\n",
       "            <td>Panoramic Hill</td>\n",
       "            <td>94563</td>\n",
       "        </tr>\n",
       "        <tr>\n",
       "            <td>3</td>\n",
       "            <td>None</td>\n",
       "            <td>94577</td>\n",
       "        </tr>\n",
       "        <tr>\n",
       "            <td>4</td>\n",
       "            <td>North Stonehurst</td>\n",
       "            <td>94577</td>\n",
       "        </tr>\n",
       "        <tr>\n",
       "            <td>5</td>\n",
       "            <td>Arrowhead Marsh</td>\n",
       "            <td>94601</td>\n",
       "        </tr>\n",
       "        <tr>\n",
       "            <td>6</td>\n",
       "            <td>Bartlett</td>\n",
       "            <td>94601</td>\n",
       "        </tr>\n",
       "        <tr>\n",
       "            <td>7</td>\n",
       "            <td>Coliseum Industrial</td>\n",
       "            <td>94601</td>\n",
       "        </tr>\n",
       "        <tr>\n",
       "            <td>8</td>\n",
       "            <td>Fairfax</td>\n",
       "            <td>94601</td>\n",
       "        </tr>\n",
       "        <tr>\n",
       "            <td>9</td>\n",
       "            <td>Fairfax Business-Wentworth-Holland</td>\n",
       "            <td>94601</td>\n",
       "        </tr>\n",
       "    </tbody>\n",
       "</table>\n",
       "<span style=\"font-style:italic;text-align:center;\">Truncated to <a href=\"https://jupysql.ploomber.io/en/latest/api/configuration.html#displaylimit\">displaylimit</a> of 10.</span>"
      ],
      "text/plain": [
       "+--------+------------------------------------+---------+\n",
       "| zip_id |              location              | zipcode |\n",
       "+--------+------------------------------------+---------+\n",
       "|   0    |                None                |  94546  |\n",
       "|   1    |            Chabot Park             |  94546  |\n",
       "|   2    |           Panoramic Hill           |  94563  |\n",
       "|   3    |                None                |  94577  |\n",
       "|   4    |          North Stonehurst          |  94577  |\n",
       "|   5    |          Arrowhead Marsh           |  94601  |\n",
       "|   6    |              Bartlett              |  94601  |\n",
       "|   7    |        Coliseum Industrial         |  94601  |\n",
       "|   8    |              Fairfax               |  94601  |\n",
       "|   9    | Fairfax Business-Wentworth-Holland |  94601  |\n",
       "+--------+------------------------------------+---------+\n",
       "Truncated to displaylimit of 10."
      ]
     },
     "execution_count": 5,
     "metadata": {},
     "output_type": "execute_result"
    }
   ],
   "source": [
    "%sql SELECT * FROM Zips LIMIT 10;"
   ]
  },
  {
   "cell_type": "markdown",
   "id": "09424e42-9adf-40d9-8655-71cf09b8d352",
   "metadata": {},
   "source": [
    "With cell magic (`%%sql`), we can also assign the result to a variable. Try adding `result <<` to the top line of the below cell, i.e., replace the first line with\n",
    "\n",
    "``%%sql result <<``"
   ]
  },
  {
   "cell_type": "code",
   "execution_count": null,
   "id": "c4fa4d74",
   "metadata": {},
   "outputs": [],
   "source": [
    "%%sql\n",
    "SELECT *\n",
    "FROM Stops\n",
    "ORDER BY RANDOM()\n",
    "LIMIT 10;"
   ]
  },
  {
   "cell_type": "code",
   "execution_count": null,
   "id": "8825644a-86fd-4e37-9345-656e2805f82d",
   "metadata": {},
   "outputs": [],
   "source": [
    "result"
   ]
  },
  {
   "cell_type": "markdown",
   "id": "9214a26c-06d6-469e-b28f-d54bf1bac558",
   "metadata": {},
   "source": [
    "## Exercise \\#1"
   ]
  },
  {
   "cell_type": "code",
   "execution_count": null,
   "id": "24713615-4936-4924-9ff9-79f16947b53b",
   "metadata": {},
   "outputs": [],
   "source": [
    "%%sql\n",
    "SELECT *\n",
    "FROM Stops\n",
    "WHERE id = 123;"
   ]
  },
  {
   "cell_type": "code",
   "execution_count": null,
   "id": "8172eee5-4541-406f-b7af-9d14ceeddde8",
   "metadata": {},
   "outputs": [],
   "source": [
    "%%sql\n",
    "SELECT S1.id, S1.race,\n",
    "       S1.location\n",
    "FROM Stops as S1,\n",
    "     Stops as S2\n",
    "WHERE S1.location = S2.location \n",
    "      AND S2.id = 123;"
   ]
  },
  {
   "cell_type": "markdown",
   "id": "957008b1-b9da-4df0-9bb4-c5eff2f09a94",
   "metadata": {},
   "source": [
    "<br/>\n",
    "\n",
    "Approach \\#2 with CTE:"
   ]
  },
  {
   "cell_type": "code",
   "execution_count": null,
   "id": "cdcddc9b-ad65-4433-b397-64158521e942",
   "metadata": {},
   "outputs": [],
   "source": [
    "%%sql\n",
    "WITH Location123 AS (\n",
    "    SELECT location\n",
    "    FROM Stops\n",
    "    WHERE id = 123\n",
    ")\n",
    "SELECT S.id, S.race,\n",
    "       S.location\n",
    "FROM Stops as S,\n",
    "    Location123\n",
    "WHERE S.location = Location123.location;"
   ]
  },
  {
   "cell_type": "markdown",
   "id": "aa6c94e0-2566-492b-96aa-66a306aac59e",
   "metadata": {},
   "source": [
    "<br/>\n",
    "\n",
    "Approach \\#3 with scalar subquery:"
   ]
  },
  {
   "cell_type": "code",
   "execution_count": null,
   "id": "24f7b0aa-935f-4dc6-b395-45ffc2226855",
   "metadata": {},
   "outputs": [],
   "source": [
    "%%sql\n",
    "SELECT S1.id, S1.race, S1.location\n",
    "FROM Stops S1\n",
    "WHERE S1.location = (\n",
    "         SELECT S2.location\n",
    "         FROM Stops\n",
    "         S2 WHERE S2.id = 123);"
   ]
  },
  {
   "cell_type": "markdown",
   "id": "9f9767a9-96ae-4644-be63-76bacbc169e6",
   "metadata": {},
   "source": [
    "## `EXISTS` Subquery (and `NOT EXISTS`)"
   ]
  },
  {
   "cell_type": "code",
   "execution_count": null,
   "id": "a8ddd8ce-f023-4887-aa96-1d80e2113433",
   "metadata": {},
   "outputs": [],
   "source": [
    "%%sql\n",
    "SELECT DISTINCT Stops.location FROM Stops\n",
    "WHERE NOT EXISTS (\n",
    "  SELECT * FROM Zips\n",
    "  WHERE Zips.location = \n",
    "          Stops.location);"
   ]
  },
  {
   "cell_type": "markdown",
   "id": "ff273b90-641f-45bb-9b41-3a4964b8ce2f",
   "metadata": {},
   "source": [
    "# Exercise \\#2"
   ]
  },
  {
   "cell_type": "code",
   "execution_count": null,
   "id": "ce03ccb0-445c-4133-8f3d-f24386bf92fd",
   "metadata": {
    "scrolled": true
   },
   "outputs": [],
   "source": [
    "%%sql\n",
    "WITH StopZips AS (\n",
    "    SELECT * FROM Stops NATURAL JOIN Zips\n",
    ")\n",
    "SELECT *\n",
    "FROM StopZips SZ1\n",
    "WHERE NOT EXISTS (\n",
    "    ...\n",
    ");\n"
   ]
  },
  {
   "cell_type": "markdown",
   "id": "b15815e6-fba4-40a5-ae39-5725518840c7",
   "metadata": {},
   "source": [
    "Note -- there are no stops that re the only one in their zipcode:"
   ]
  },
  {
   "cell_type": "code",
   "execution_count": null,
   "id": "8de05a50-026d-476e-a983-b4ac3f962225",
   "metadata": {},
   "outputs": [],
   "source": [
    "%%sql\n",
    "SELECT COUNT(*) as count\n",
    "FROM Stops S1\n",
    "  NATURAL JOIN Zips Z1\n",
    "GROUP BY Z1.zipcode\n",
    "ORDER BY count ASC;"
   ]
  },
  {
   "cell_type": "markdown",
   "id": "6a98a4e9-a522-4bb1-9a10-00e43d1a3026",
   "metadata": {},
   "source": [
    "# Exercise \\#3"
   ]
  },
  {
   "cell_type": "code",
   "execution_count": null,
   "id": "bfd4755d-3b85-40c6-9478-0076d6952f2a",
   "metadata": {},
   "outputs": [],
   "source": [
    "%%sql\n",
    "SELECT S1.id\n",
    "FROM Stops S1 \n",
    "WHERE S1.age >= \n",
    "\t(...);"
   ]
  },
  {
   "cell_type": "markdown",
   "id": "3ee6478e-c36d-4867-a4e2-591cf496067f",
   "metadata": {},
   "source": [
    "# Exercise \\#4"
   ]
  },
  {
   "cell_type": "code",
   "execution_count": null,
   "id": "17fa404b-67ef-4b13-a961-e7c6c620e224",
   "metadata": {},
   "outputs": [],
   "source": [
    "%%sql\n",
    "SELECT race, \n",
    "AVG (...) AS west_oakland_avg, \n",
    "AVG (...) AS rockridge_avg \n",
    "FROM ...\n",
    "...;"
   ]
  }
 ],
 "metadata": {
  "kernelspec": {
   "display_name": "Python 3 (ipykernel)",
   "language": "python",
   "name": "python3"
  },
  "language_info": {
   "codemirror_mode": {
    "name": "ipython",
    "version": 3
   },
   "file_extension": ".py",
   "mimetype": "text/x-python",
   "name": "python",
   "nbconvert_exporter": "python",
   "pygments_lexer": "ipython3",
   "version": "3.11.0"
  }
 },
 "nbformat": 4,
 "nbformat_minor": 5
}
